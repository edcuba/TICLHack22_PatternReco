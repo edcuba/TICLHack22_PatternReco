{
 "cells": [
  {
   "cell_type": "code",
   "execution_count": null,
   "metadata": {},
   "outputs": [],
   "source": [
    "import uproot\n",
    "import awkward as ak\n",
    "import numpy as np\n",
    "from utils.plotting_utils import plot_event\n",
    "from evaluation.bcubed import bcubed, get_E_map, get_map, f_score\n",
    "\n",
    "# %matplotlib widget\n",
    "%matplotlib inline\n",
    "\n",
    "file_name = \"~/data/photon/new_ntuples_13872546_22.root\"\n",
    "# file_name = \"~/data/multiparticle/new_ntuples_14132277_842.root\"\n",
    "# file_name = \"~/data/data_fix_1.9/close_by_two_pions_15cm/new_ntuples_14955802_28.root\"\n",
    "\n",
    "tracksters = uproot.open({file_name: \"ticlNtuplizer/tracksters\"})\n",
    "simtracksters = uproot.open({file_name: \"ticlNtuplizer/simtrackstersSC\"})\n",
    "associations = uproot.open({file_name: \"ticlNtuplizer/associations\"})"
   ]
  }
 ],
 "metadata": {
  "kernelspec": {
   "display_name": "Python 3.8.9 ('ve': venv)",
   "language": "python",
   "name": "python3"
  },
  "language_info": {
   "name": "python",
   "version": "3.8.9"
  },
  "orig_nbformat": 4,
  "vscode": {
   "interpreter": {
    "hash": "75d0e37245d408f3d59eb152d126431f02f862b5012558b3df6d65a37ffc466c"
   }
  }
 },
 "nbformat": 4,
 "nbformat_minor": 2
}
