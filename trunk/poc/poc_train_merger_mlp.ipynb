{
 "cells": [
  {
   "cell_type": "markdown",
   "metadata": {},
   "source": [
    "## MLP Smoothing / Merging Baseline\n",
    "\n",
    "Train a baseline MLP model for smoothing using graph-level features.\n",
    "\n",
    "Features:\n",
    "- Number of nodes\n",
    "- Energy\n",
    "- Barycenters"
   ]
  },
  {
   "cell_type": "code",
   "execution_count": 22,
   "metadata": {},
   "outputs": [],
   "source": [
    "import torch\n",
    "import torch.nn as nn\n",
    "from torch_geometric.loader import DataLoader\n",
    "from torch.optim.lr_scheduler import StepLR\n",
    "\n",
    "from reco.data_utils import BaseTracksterPairs"
   ]
  },
  {
   "cell_type": "code",
   "execution_count": 12,
   "metadata": {},
   "outputs": [
    {
     "name": "stdout",
     "output_type": "stream",
     "text": [
      "Using device: cpu\n"
     ]
    }
   ],
   "source": [
    "device = torch.device('cuda' if torch.cuda.is_available() else 'cpu')\n",
    "print(f\"Using device: {device}\")"
   ]
  },
  {
   "cell_type": "code",
   "execution_count": 36,
   "metadata": {},
   "outputs": [],
   "source": [
    "# pions do not have negative samples for now\n",
    "ds = BaseTracksterPairs(\"data\", kind=\"photon\")\n",
    "\n",
    "# normalize features column-wise\n",
    "ds.data.x = torch.nn.functional.normalize(ds.data.x, p=torch.inf, dim=0)"
   ]
  },
  {
   "cell_type": "code",
   "execution_count": 37,
   "metadata": {},
   "outputs": [
    {
     "data": {
      "text/plain": [
       "tensor([0.0645, 0.0121, 0.1608, 0.0933, 0.1663, 0.2418])"
      ]
     },
     "execution_count": 37,
     "metadata": {},
     "output_type": "execute_result"
    }
   ],
   "source": [
    "ds.data.x[0]"
   ]
  },
  {
   "cell_type": "code",
   "execution_count": 38,
   "metadata": {},
   "outputs": [
    {
     "name": "stdout",
     "output_type": "stream",
     "text": [
      "Positive: 7060, Negative 10784\n"
     ]
    }
   ],
   "source": [
    "# balance the dataset\n",
    "pos = ds[ds.data.y == 1]\n",
    "neg = ds[ds.data.y == 0]\n",
    "len_neg = len(neg)\n",
    "len_pos = len(pos)\n",
    "print(f\"Positive: {len_pos}, Negative {len_neg}\")\n",
    "shorter = min(len_neg, len_pos)\n",
    "test_n = int(shorter / 10)"
   ]
  },
  {
   "cell_type": "code",
   "execution_count": 39,
   "metadata": {},
   "outputs": [
    {
     "name": "stdout",
     "output_type": "stream",
     "text": [
      "Train samples: 12708, Test samples: 1412\n"
     ]
    }
   ],
   "source": [
    "train_set = pos[:shorter - test_n] + neg[:shorter - test_n]\n",
    "test_set = pos[shorter - test_n:shorter] + neg[shorter - test_n:shorter]\n",
    "print(f\"Train samples: {len(train_set)}, Test samples: {len(test_set)}\")\n",
    "train_dl = DataLoader(train_set, batch_size=16, shuffle=True)\n",
    "test_dl = DataLoader(test_set, batch_size=16, shuffle=True)"
   ]
  },
  {
   "cell_type": "code",
   "execution_count": 40,
   "metadata": {},
   "outputs": [],
   "source": [
    "class BaselineMerger(torch.nn.Module):\n",
    "    def __init__(self, num_inputs, num_hidden=10):\n",
    "        super(BaselineMerger, self).__init__()\n",
    "\n",
    "        self.W1 = nn.Linear(num_inputs, num_hidden)\n",
    "        self.activation = nn.Sigmoid()\n",
    "\n",
    "        self.W2 = nn.Linear(num_hidden, 1)\n",
    "        self.output = nn.Sigmoid()\n",
    "\n",
    "    def forward(self, data):\n",
    "        x = self.W1(data.x)\n",
    "        x = self.activation(x)\n",
    "        x = self.W2(x)\n",
    "        return self.output(x)\n"
   ]
  },
  {
   "cell_type": "code",
   "execution_count": 41,
   "metadata": {},
   "outputs": [],
   "source": [
    "loss_obj = torch.nn.BCELoss()\n",
    "\n",
    "def train(model, opt, loader):\n",
    "    epoch_loss = 0\n",
    "    for batch in loader:\n",
    "        model.train()\n",
    "        batch = batch.to(device)\n",
    "        opt.zero_grad()\n",
    "        z = model(batch).reshape(-1)\n",
    "        loss = loss_obj(z, batch.y.type(torch.float))\n",
    "        epoch_loss += loss\n",
    "        loss.backward()\n",
    "        opt.step()\n",
    "    return float(epoch_loss)\n",
    "\n",
    "@torch.no_grad()\n",
    "def test(model, data):\n",
    "    total = 0\n",
    "    correct = 0\n",
    "    for batch in data:\n",
    "        model.eval()\n",
    "        label = batch.y\n",
    "        batch = batch.to(device)\n",
    "        z = model(batch).reshape(-1).to(\"cpu\")\n",
    "        prediction = (z > 0.5).type(torch.int)\n",
    "        total += len(prediction) \n",
    "        correct += sum(prediction == label)\n",
    "    return (correct / total)"
   ]
  },
  {
   "cell_type": "code",
   "execution_count": null,
   "metadata": {},
   "outputs": [],
   "source": [
    "model = BaselineMerger(ds.data.x.shape[1], 128)\n",
    "model = model.to(device)\n",
    "optimizer = torch.optim.Adam(model.parameters(), lr=0.01)\n",
    "scheduler = StepLR(optimizer, step_size=50, gamma=0.5)\n",
    "test_acc = test(model, test_dl)\n",
    "print(f\"Initial acc: {test_acc:.4f}\")\n",
    "\n",
    "for epoch in range(1, 201):\n",
    "    loss = train(model, optimizer, train_dl)\n",
    "    scheduler.step()\n",
    "    if epoch % 10 == 0:\n",
    "        train_acc = test(model, train_dl)\n",
    "        test_acc = test(model, test_dl)\n",
    "        print(f'Epoch: {epoch}, loss: {loss:.4f}, train acc: {train_acc:.4f}, test acc: {test_acc:.4f}')"
   ]
  },
  {
   "cell_type": "code",
   "execution_count": 28,
   "metadata": {},
   "outputs": [
    {
     "name": "stdout",
     "output_type": "stream",
     "text": [
      "TP: 628, TN: 554, FP: 152, FN: 78\n",
      "Accuracy: 0.8371\n",
      "Precision: 0.8051\n",
      "Recall: 0.8895\n"
     ]
    }
   ],
   "source": [
    "from sklearn.metrics import confusion_matrix\n",
    "from sklearn.metrics import accuracy_score, precision_score, recall_score\n",
    "\n",
    "pred = []\n",
    "lab = []\n",
    "for b in test_dl:\n",
    "    pred += (model(b) > 0.5).type(torch.int).tolist()\n",
    "    lab += b.y.tolist()\n",
    "\n",
    "tn, fp, fn, tp = confusion_matrix(lab, pred).ravel()\n",
    "print(f\"TP: {tp}, TN: {tn}, FP: {fp}, FN: {fn}\")\n",
    "print(f'Accuracy: {accuracy_score(lab, pred):.4f}')\n",
    "print(f'Precision: {precision_score(lab, pred):.4f}')\n",
    "print(f'Recall: {recall_score(lab, pred):.4f}')"
   ]
  }
 ],
 "metadata": {
  "kernelspec": {
   "display_name": "Python 3.8.9 ('ve': venv)",
   "language": "python",
   "name": "python3"
  },
  "language_info": {
   "codemirror_mode": {
    "name": "ipython",
    "version": 3
   },
   "file_extension": ".py",
   "mimetype": "text/x-python",
   "name": "python",
   "nbconvert_exporter": "python",
   "pygments_lexer": "ipython3",
   "version": "3.8.9"
  },
  "orig_nbformat": 4,
  "vscode": {
   "interpreter": {
    "hash": "75d0e37245d408f3d59eb152d126431f02f862b5012558b3df6d65a37ffc466c"
   }
  }
 },
 "nbformat": 4,
 "nbformat_minor": 2
}
