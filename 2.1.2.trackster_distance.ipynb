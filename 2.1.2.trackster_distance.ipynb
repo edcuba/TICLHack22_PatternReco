{
 "cells": [
  {
   "cell_type": "markdown",
   "metadata": {},
   "source": [
    "# Problem description\n",
    "\n",
    "Plot energy profiles of reco and sim tracksters.\n",
    "\n",
    "The task gets much more difficult with the increasing overlap.\n",
    "\n",
    "Two approaches for matching are possible:\n",
    "- simtrackster that has the largest fraction of the reco trackster energy\n",
    "- simtrackster in which the reco trackster makes up the largest fraction"
   ]
  },
  {
   "cell_type": "code",
   "execution_count": 1,
   "metadata": {},
   "outputs": [
    {
     "name": "stdout",
     "output_type": "stream",
     "text": [
      "Events per file: 100\n"
     ]
    }
   ],
   "source": [
    "import uproot\n",
    "import awkward as ak\n",
    "import numpy as np\n",
    "\n",
    "import matplotlib.pyplot as plt\n",
    "\n",
    "from reco.plotting import plot_sim_reco, plot_tracksters\n",
    "from reco.dataset import match_trackster_pairs, get_ground_truth\n",
    "from reco.evaluation import evaluate\n",
    "\n",
    "\n",
    "# %matplotlib widget\n",
    "%matplotlib inline\n",
    "\n",
    "ds_name = \"MultiParticle\"\n",
    "file_name = \"new_ntuples_15163313_8.root\"\n",
    "\n",
    "data_root = \"data\"\n",
    "raw_dir = f\"/Users/ecuba/data/{ds_name}\"\n",
    "\n",
    "plt.style.use('seaborn-whitegrid')\n",
    "\n",
    "file_path = f\"{raw_dir}/{file_name}\"\n",
    "tracksters = uproot.open({file_path: \"ticlNtuplizer/tracksters\"})\n",
    "simtracksters = uproot.open({file_path: \"ticlNtuplizer/simtrackstersSC\"})\n",
    "graphs = uproot.open({file_path: \"ticlNtuplizer/graph\"})\n",
    "associations = uproot.open({file_path: \"ticlNtuplizer/associations\"})\n",
    "\n",
    "ev_per_file = len(tracksters[\"raw_em_energy\"].array())\n",
    "print(\"Events per file:\", ev_per_file)\n",
    "\n",
    "E_TH = 10 # from energy_profile"
   ]
  },
  {
   "cell_type": "code",
   "execution_count": null,
   "metadata": {},
   "outputs": [],
   "source": [
    "e_pairs = [match_trackster_pairs(\n",
    "    tracksters,\n",
    "    simtracksters,\n",
    "    associations,\n",
    "    eid,\n",
    "    energy_threshold=E_TH,\n",
    "    distance_threshold=100,\n",
    "    distance_type=\"bary\",\n",
    "    confidence_threshold=0.5\n",
    ") for eid in range(10)]\n",
    "\n",
    "e_lc_pairs = [match_trackster_pairs(\n",
    "    tracksters,\n",
    "    simtracksters,\n",
    "    associations,\n",
    "    eid,\n",
    "    energy_threshold=E_TH,\n",
    "    distance_threshold=100,\n",
    "    distance_type=\"pairwise\",\n",
    "    confidence_threshold=0.5\n",
    ") for eid in range(10)]"
   ]
  }
 ],
 "metadata": {
  "kernelspec": {
   "display_name": "Python 3.8.9 ('ve': venv)",
   "language": "python",
   "name": "python3"
  },
  "language_info": {
   "codemirror_mode": {
    "name": "ipython",
    "version": 3
   },
   "file_extension": ".py",
   "mimetype": "text/x-python",
   "name": "python",
   "nbconvert_exporter": "python",
   "pygments_lexer": "ipython3",
   "version": "3.8.9"
  },
  "vscode": {
   "interpreter": {
    "hash": "75d0e37245d408f3d59eb152d126431f02f862b5012558b3df6d65a37ffc466c"
   }
  }
 },
 "nbformat": 4,
 "nbformat_minor": 4
}
