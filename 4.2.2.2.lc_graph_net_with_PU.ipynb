{
 "cells": [
  {
   "cell_type": "markdown",
   "id": "6c07744a",
   "metadata": {},
   "source": [
    "# LC-level graph net with PU"
   ]
  },
  {
   "cell_type": "code",
   "execution_count": 27,
   "id": "e3962d51",
   "metadata": {},
   "outputs": [],
   "source": [
    "import numpy as np\n",
    "import torch\n",
    "\n",
    "import sys\n",
    "import torch.nn as nn\n",
    "from torch.optim import SGD\n",
    "from torch_cluster import knn_graph\n",
    "from torch.optim.lr_scheduler import CosineAnnealingLR\n",
    "\n",
    "from torch.utils.data import random_split\n",
    "from torch_geometric.loader import DataLoader\n",
    "import torch_geometric.transforms as T\n",
    "\n",
    "from reco.model import EdgeConvBlock\n",
    "\n",
    "import sklearn.metrics as metrics\n",
    "\n",
    "from reco.training import train_edge_pred, test_edge_pred, precision_recall_curve, roc_auc\n",
    "from reco.loss import FocalLoss\n",
    "from reco.datasetLCPU import LCGraphPU\n",
    "\n",
    "ds_name = \"CloseByGamma200PUFull\"\n",
    "\n",
    "data_root = \"data\"\n",
    "raw_dir = f\"/Users/ecuba/data/{ds_name}\"\n",
    "\n",
    "# data_root = \"/mnt/ceph/users/ecuba/processed\"\n",
    "# raw_dir = f\"/mnt/ceph/users/ecuba/{ds_name}\""
   ]
  },
  {
   "cell_type": "code",
   "execution_count": 28,
   "id": "02f59304-76e4-4132-a379-978a46a042fd",
   "metadata": {},
   "outputs": [
    {
     "name": "stdout",
     "output_type": "stream",
     "text": [
      "Using device: cpu\n"
     ]
    }
   ],
   "source": [
    "# CUDA Setup\n",
    "device = torch.device('cuda' if torch.cuda.is_available() else \"cpu\")\n",
    "print(f\"Using device: {device}\")"
   ]
  },
  {
   "cell_type": "code",
   "execution_count": 12,
   "id": "ea9ca40d",
   "metadata": {},
   "outputs": [],
   "source": [
    "def knn_transform(data):\n",
    "    data.edge_index = knn_graph(data.x[:,1:4], k=8, loop=False)\n",
    "    return data"
   ]
  },
  {
   "cell_type": "code",
   "execution_count": 19,
   "id": "ecf4c091",
   "metadata": {},
   "outputs": [
    {
     "data": {
      "text/plain": [
       "['LCGraphPU_CloseByGamma200PUFull.2_f464_r10_s0.2.pt']"
      ]
     },
     "execution_count": 19,
     "metadata": {},
     "output_type": "execute_result"
    }
   ],
   "source": [
    "ds = LCGraphPU(\n",
    "    ds_name + \".2\",\n",
    "    data_root,\n",
    "    raw_dir,\n",
    "    transform=knn_transform,\n",
    "    N_FILES=464,\n",
    "    radius=10,\n",
    ")\n",
    "\n",
    "ds.processed_file_names"
   ]
  },
  {
   "cell_type": "code",
   "execution_count": 20,
   "id": "604298f4",
   "metadata": {},
   "outputs": [
    {
     "name": "stdout",
     "output_type": "stream",
     "text": [
      "Train graphs: 4724, Test graphs: 524\n"
     ]
    }
   ],
   "source": [
    "ds_size = len(ds)\n",
    "test_set_size = ds_size // 10\n",
    "train_set_size = ds_size - test_set_size\n",
    "train_set, test_set = random_split(ds, [train_set_size, test_set_size])\n",
    "print(f\"Train graphs: {len(train_set)}, Test graphs: {len(test_set)}\")\n",
    "\n",
    "# this is very nice - handles the dimensions automatically\n",
    "train_dl = DataLoader(train_set, batch_size=32, shuffle=True)\n",
    "test_dl = DataLoader(test_set, batch_size=32, shuffle=True)"
   ]
  },
  {
   "cell_type": "code",
   "execution_count": 21,
   "id": "7e9f24ba-0c3c-4793-ab31-e2b699e69a77",
   "metadata": {},
   "outputs": [
    {
     "name": "stdout",
     "output_type": "stream",
     "text": [
      "Labels (one per layer-cluster): 3206767\n"
     ]
    }
   ],
   "source": [
    "print(\"Labels (one per layer-cluster):\", len(ds.data.y))"
   ]
  },
  {
   "cell_type": "code",
   "execution_count": 22,
   "id": "1c217aff-c1a6-4fa9-9f17-2a03f9aa93bd",
   "metadata": {},
   "outputs": [
    {
     "name": "stdout",
     "output_type": "stream",
     "text": [
      "dataset balance: 9.22%\n"
     ]
    }
   ],
   "source": [
    "balance = float(sum(ds.data.y > 0.8) / len(ds.data.y))\n",
    "print(f\"dataset balance: {balance * 100:.2f}%\") "
   ]
  },
  {
   "cell_type": "code",
   "execution_count": 29,
   "id": "3f4a0b99-bef3-4c82-a0ac-d88e1521382b",
   "metadata": {},
   "outputs": [],
   "source": [
    "class LCGraphNet(nn.Module):\n",
    "    def __init__(self, input_dim, output_dim=1, dropout=0.2):\n",
    "        super(LCGraphNet, self).__init__()\n",
    "        # particlenet light\n",
    "        \n",
    "        hdim1 = 64\n",
    "        hdim2 = 128\n",
    "        hdim3 = 256\n",
    "\n",
    "        # EdgeConv\n",
    "        self.graphconv1 = EdgeConvBlock(input_dim, hdim1)\n",
    "        self.graphconv2 = EdgeConvBlock(hdim1, hdim2)\n",
    "        \n",
    "        self.edgenetwork = nn.Sequential(\n",
    "            nn.Linear(hdim2, hdim3),\n",
    "            nn.ReLU(),\n",
    "            nn.Dropout(dropout),\n",
    "            nn.Linear(hdim3, output_dim),\n",
    "            nn.Sigmoid()\n",
    "        )\n",
    "            \n",
    "    def forward(self, X, edge_index):   \n",
    "        H = self.graphconv1(X, edge_index)\n",
    "        H = self.graphconv2(H, edge_index)\n",
    "        return self.edgenetwork(H).squeeze(-1)"
   ]
  },
  {
   "cell_type": "code",
   "execution_count": 30,
   "id": "8fc99ea2-4619-4a95-a02f-ad6a8d1c3123",
   "metadata": {},
   "outputs": [],
   "source": [
    "model = LCGraphNet(input_dim=ds.data.x.shape[1])\n",
    "epochs = 201\n",
    "model_path = f\"models/LCGraphNetKNN.64.128.256.ns.{epochs}e-{ds_name}.{ds.RADIUS}.{ds.SCORE_THRESHOLD}.{ds.N_FILES}f.pt\""
   ]
  },
  {
   "cell_type": "code",
   "execution_count": null,
   "id": "2d3f1e82-74c5-4629-9b20-f05d7662aaf1",
   "metadata": {},
   "outputs": [],
   "source": [
    "# %%script echo skipping\n",
    "\n",
    "# alpha - percentage of negative edges\n",
    "loss_func = FocalLoss(alpha=balance, gamma=2)\n",
    "\n",
    "model = model.to(device)\n",
    "optimizer = SGD(model.parameters(), lr=0.001, momentum=0.9, weight_decay=1e-4)\n",
    "scheduler = CosineAnnealingLR(optimizer, epochs, eta_min=1e-3)\n",
    "\n",
    "for epoch in range(epochs):\n",
    "\n",
    "    train_loss, train_true, train_pred = train_edge_pred(\n",
    "        model,\n",
    "        device,\n",
    "        optimizer,\n",
    "        loss_func,\n",
    "        train_dl\n",
    "    )\n",
    "    \n",
    "    train_auc = metrics.roc_auc_score((train_true > 0.8).astype(int), train_pred)\n",
    "    scheduler.step()\n",
    "\n",
    "    if epoch % 5 == 0:\n",
    "        test_loss, test_true, test_pred = test_edge_pred(model, device, loss_func, test_dl)\n",
    "        test_auc = metrics.roc_auc_score((test_true > 0.8).astype(int), test_pred)\n",
    "        print(\n",
    "            f\"Epoch {epoch}:\",\n",
    "            f\"\\ttrain loss:{train_loss:.2f}\\ttrain auc: {train_auc:.3f}\",\n",
    "            f\"\\t test loss:{test_loss:.2f} \\t test auc: {test_auc:.3f}\",\n",
    "            file=sys.stderr\n",
    "        )\n",
    "        \n",
    "torch.save(model.state_dict(), model_path)"
   ]
  },
  {
   "cell_type": "code",
   "execution_count": 14,
   "id": "c778e95b",
   "metadata": {},
   "outputs": [],
   "source": [
    "model.load_state_dict(torch.load(\n",
    "    model_path,\n",
    "    map_location=device\n",
    "))\n",
    "model = model.to(device)"
   ]
  },
  {
   "cell_type": "code",
   "execution_count": 18,
   "id": "f2e14bc7-4d33-485b-9075-348fa0bd284e",
   "metadata": {},
   "outputs": [
    {
     "data": {
      "image/png": "[encoded data removed]",
      "text/plain": [
       "<Figure size 432x288 with 1 Axes>"
      ]
     },
     "metadata": {
      "needs_background": "light"
     },
     "output_type": "display_data"
    },
    {
     "name": "stdout",
     "output_type": "stream",
     "text": [
      "TP: 22433, TN: 291361, FP: 11, FN: 7273\n",
      "TH: 0.81 precision: 1.000 recall: 0.755 fbeta: 0.939 b_acc: 0.878\n"
     ]
    }
   ],
   "source": [
    "precision_recall_curve(model, device, test_dl, focus_metric=\"fbeta\", step=10)"
   ]
  },
  {
   "cell_type": "code",
   "execution_count": 17,
   "id": "a0a5fff9-d0c4-4669-b047-1079bc27c893",
   "metadata": {},
   "outputs": [
    {
     "name": "stdout",
     "output_type": "stream",
     "text": [
      "0.9725739756951244\n"
     ]
    }
   ],
   "source": [
    "print(roc_auc(model, device, test_dl))"
   ]
  },
  {
   "cell_type": "code",
   "execution_count": 16,
   "id": "c7cd61d4",
   "metadata": {},
   "outputs": [
    {
     "name": "stdout",
     "output_type": "stream",
     "text": [
      "models/LCGraphNet.64.128.256.ns.201e-CloseByGamma200PUFull.10.0.2.464f.pt\n"
     ]
    }
   ],
   "source": [
    "print(model_path)"
   ]
  },
  {
   "cell_type": "markdown",
   "id": "96ff0513-9795-4cfd-862e-f85a3f5777f4",
   "metadata": {},
   "source": [
    "## Results\n",
    "- LCGraphNet.64.128.256.ns.201e-CloseByGamma200PUFull.10.0.2.464f.pt\n",
    "    - AUC: 0.9726\n",
    "    - TH: 0.81 precision: 1.000 recall: 0.755 fbeta: 0.939 b_acc: 0.878\n",
    "    - probably SOTA, but might need to remove \"1\" edges from the evaluation to make this fair"
   ]
  },
  {
   "cell_type": "code",
   "execution_count": 23,
   "id": "bd46efbb-8b7d-4dda-8bfa-0568f0c237fd",
   "metadata": {},
   "outputs": [],
   "source": [
    "from sklearn.metrics import confusion_matrix, precision_score, recall_score, fbeta_score, balanced_accuracy_score, roc_auc_score\n",
    "import matplotlib.pyplot as plt"
   ]
  },
  {
   "cell_type": "code",
   "execution_count": 21,
   "id": "fffed192-250a-436d-a42a-31c82ffe2020",
   "metadata": {},
   "outputs": [
    {
     "data": {
      "image/png": "[encoded data removed]",
      "text/plain": [
       "<Figure size 432x288 with 1 Axes>"
      ]
     },
     "metadata": {
      "needs_background": "light"
     },
     "output_type": "display_data"
    },
    {
     "name": "stdout",
     "output_type": "stream",
     "text": [
      "TP: 546, TN: 16723, FP: 8, FN: 592\n",
      "TH: 0.71 precision: 0.986 recall: 0.480 fbeta: 0.814 b_acc: 0.740\n"
     ]
    }
   ],
   "source": [
    "th_values = [i / 100. for i in range(1, 100, 10)]\n",
    "\n",
    "focus_metric = \"fbeta\"\n",
    "\n",
    "beta = 0.5\n",
    "\n",
    "result = {\n",
    "    \"precision\": [],\n",
    "    \"recall\": [],\n",
    "    \"fbeta\": [],\n",
    "    \"b_acc\": [],\n",
    "}\n",
    "cm = []\n",
    "\n",
    "for th in th_values:\n",
    "    pred = []\n",
    "    y_true = []\n",
    "    pred_means = []\n",
    "    for data in test_dl:\n",
    "\n",
    "        b = data.x\n",
    "        l = data.y\n",
    "        \n",
    "        tracksters = set(data.trackster_index.tolist())\n",
    "        \n",
    "        b = b.to(device)\n",
    "        l = l.reshape(-1)\n",
    "\n",
    "        model_pred = model(b).detach().cpu().reshape(-1)\n",
    "        \n",
    "        for trackster in tracksters:\n",
    "            idx = np.where(trackster == data.trackster_index)\n",
    "            pr = model_pred[idx]\n",
    "            gt = l[idx]\n",
    "\n",
    "            pred.append((pr.mean() > th).type(torch.int).item())\n",
    "            y_true.append((gt.mean() > 0.8).type(torch.int).item())\n",
    "            pred_means.append(pr.mean())\n",
    "\n",
    "    result[\"precision\"].append(precision_score(y_true, pred, zero_division=0))\n",
    "    result[\"recall\"].append(recall_score(y_true, pred))\n",
    "    result[\"fbeta\"].append(fbeta_score(y_true, pred, beta=beta))\n",
    "    result[\"b_acc\"].append(balanced_accuracy_score(y_true, pred))\n",
    "    cm.append(confusion_matrix(y_true, pred).ravel())\n",
    "\n",
    "plt.figure()\n",
    "for k, v in result.items():\n",
    "    plt.plot(th_values, v, label=k)\n",
    "\n",
    "plt.xlabel(\"Threshold\")\n",
    "plt.legend()\n",
    "plt.show()\n",
    "\n",
    "bi = np.argmax(result[focus_metric])\n",
    "decision_th = th_values[bi]\n",
    "\n",
    "tn, fp, fn, tp = cm[bi]\n",
    "print(f\"TP: {tp}, TN: {tn}, FP: {fp}, FN: {fn}\")\n",
    "print(f\"TH: {decision_th}\", \" \".join([f\"{k}: {v[bi]:.3f}\" for k, v in result.items()]))"
   ]
  },
  {
   "cell_type": "code",
   "execution_count": 24,
   "id": "00349252",
   "metadata": {},
   "outputs": [
    {
     "data": {
      "text/plain": [
       "0.9428028898084326"
      ]
     },
     "execution_count": 24,
     "metadata": {},
     "output_type": "execute_result"
    }
   ],
   "source": [
    "roc_auc_score(y_true, pred_means)"
   ]
  },
  {
   "cell_type": "markdown",
   "id": "1f14b677-3b30-4802-b217-19567b5ec688",
   "metadata": {},
   "source": [
    "## Conclusion\n",
    "- k-nn if very slow, need to introduce a smarter way to deal with the edges\n",
    "- the performance is actually competitive!"
   ]
  },
  {
   "cell_type": "code",
   "execution_count": null,
   "id": "8406c8b9-221d-4921-bb9a-0e425b5420ea",
   "metadata": {},
   "outputs": [],
   "source": []
  }
 ],
 "metadata": {
  "kernelspec": {
   "display_name": "Python 3.8.9 ('ve': venv)",
   "language": "python",
   "name": "python3"
  },
  "language_info": {
   "codemirror_mode": {
    "name": "ipython",
    "version": 3
   },
   "file_extension": ".py",
   "mimetype": "text/x-python",
   "name": "python",
   "nbconvert_exporter": "python",
   "pygments_lexer": "ipython3",
   "version": "3.8.9"
  },
  "vscode": {
   "interpreter": {
    "hash": "75d0e37245d408f3d59eb152d126431f02f862b5012558b3df6d65a37ffc466c"
   }
  }
 },
 "nbformat": 4,
 "nbformat_minor": 5
}
