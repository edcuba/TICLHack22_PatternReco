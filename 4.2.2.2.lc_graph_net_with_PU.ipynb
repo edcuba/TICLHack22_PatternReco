{
 "cells": [
  {
   "cell_type": "markdown",
   "id": "6c07744a",
   "metadata": {},
   "source": [
    "# Dataset: LC-level graph net with PU\n",
    "\n",
    "Now this gets interesting!\n",
    "\n",
    "As we only have a single particle we care about, the decisions whether the given layercluster belongs to the reco trackster is binary.\n",
    "This enables node-based prediction with simple labels."
   ]
  },
  {
   "cell_type": "code",
   "execution_count": 8,
   "id": "e3962d51",
   "metadata": {},
   "outputs": [],
   "source": [
    "from reco.LC_dataset_PU import LCGraphPU\n",
    "\n",
    "ds_name = \"CloseByGamma200PU\"\n",
    "data_root = \"data\"\n",
    "raw_dir = f\"/Users/ecuba/data/{ds_name}\""
   ]
  },
  {
   "cell_type": "code",
   "execution_count": 9,
   "id": "ecf4c091",
   "metadata": {},
   "outputs": [
    {
     "name": "stderr",
     "output_type": "stream",
     "text": [
      "Processing...\n",
      "/Users/ecuba/data/CloseByGamma200PU/new_ntuples_15295178_26.root\n"
     ]
    }
   ],
   "source": [
    "ds = LCGraphPU(\n",
    "    ds_name,\n",
    "    data_root,\n",
    "    raw_dir,\n",
    "    radius=10,\n",
    "    N_FILES=10,\n",
    ")"
   ]
  }
 ],
 "metadata": {
  "kernelspec": {
   "display_name": "Python 3.8.9 ('ve': venv)",
   "language": "python",
   "name": "python3"
  },
  "language_info": {
   "codemirror_mode": {
    "name": "ipython",
    "version": 3
   },
   "file_extension": ".py",
   "mimetype": "text/x-python",
   "name": "python",
   "nbconvert_exporter": "python",
   "pygments_lexer": "ipython3",
   "version": "3.8.9"
  },
  "vscode": {
   "interpreter": {
    "hash": "75d0e37245d408f3d59eb152d126431f02f862b5012558b3df6d65a37ffc466c"
   }
  }
 },
 "nbformat": 4,
 "nbformat_minor": 5
}
