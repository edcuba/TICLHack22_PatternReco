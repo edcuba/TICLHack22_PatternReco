{
 "cells": [
  {
   "cell_type": "markdown",
   "id": "6c07744a",
   "metadata": {},
   "source": [
    "# Dataset: LC-level graph net with PU\n",
    "\n",
    "Now this gets interesting!\n",
    "\n",
    "As we only have a single particle we care about, the decisions whether the given layercluster belongs to the reco trackster is binary.\n",
    "This enables node-based prediction with simple labels."
   ]
  },
  {
   "cell_type": "code",
   "execution_count": 1,
   "id": "e3962d51",
   "metadata": {},
   "outputs": [],
   "source": [
    "import torch\n",
    "import torch.nn as nn\n",
    "from torch.optim import SGD\n",
    "from torch.optim.lr_scheduler import CosineAnnealingLR\n",
    "\n",
    "from torch.utils.data import random_split\n",
    "from torch_geometric.nn import DynamicEdgeConv\n",
    "from torch_geometric.loader import DataLoader\n",
    "import torch_geometric.transforms as T\n",
    "\n",
    "import sklearn.metrics as metrics\n",
    "\n",
    "from reco.learn import train_edge_pred, test_edge_pred\n",
    "from reco.training import precision_recall_curve\n",
    "from reco.loss import FocalLoss\n",
    "from reco.LC_dataset_PU import LCGraphPU\n",
    "\n",
    "\n",
    "ds_name = \"CloseByGamma200PUFull\"\n",
    "data_root = \"data\"\n",
    "raw_dir = f\"/Users/ecuba/data/{ds_name}\"\n",
    "\n",
    "# data_root = \"/mnt/ceph/users/ecuba/processed\"\n",
    "# ds_name = \"CloseByGamma200PUFull\"\n",
    "# raw_dir = f\"/mnt/ceph/users/ecuba/{ds_name}\""
   ]
  },
  {
   "cell_type": "code",
   "execution_count": 2,
   "id": "02f59304-76e4-4132-a379-978a46a042fd",
   "metadata": {},
   "outputs": [
    {
     "name": "stdout",
     "output_type": "stream",
     "text": [
      "Using device: cpu\n"
     ]
    }
   ],
   "source": [
    "# CUDA Setup\n",
    "device = torch.device('cuda' if torch.cuda.is_available() else \"cpu\")\n",
    "print(f\"Using device: {device}\")"
   ]
  },
  {
   "cell_type": "code",
   "execution_count": 3,
   "id": "ecf4c091",
   "metadata": {},
   "outputs": [
    {
     "data": {
      "text/plain": [
       "['LCGraphPU_CloseByGamma200PUFull_f250_r10_s0.2.pt']"
      ]
     },
     "execution_count": 3,
     "metadata": {},
     "output_type": "execute_result"
    }
   ],
   "source": [
    "transform = T.Compose([T.NormalizeFeatures()])\n",
    "\n",
    "ds = LCGraphPU(\n",
    "    ds_name,\n",
    "    data_root,\n",
    "    raw_dir,\n",
    "    transform=transform,\n",
    "    N_FILES=250,\n",
    "    radius=10,\n",
    ")\n",
    "\n",
    "ds.processed_file_names"
   ]
  },
  {
   "cell_type": "code",
   "execution_count": 6,
   "id": "604298f4",
   "metadata": {},
   "outputs": [
    {
     "name": "stdout",
     "output_type": "stream",
     "text": [
      "Train graphs: 2582, Test graphs: 286\n"
     ]
    }
   ],
   "source": [
    "ds_size = len(ds)\n",
    "test_set_size = ds_size // 10\n",
    "train_set_size = ds_size - test_set_size\n",
    "train_set, test_set = random_split(ds, [train_set_size, test_set_size])\n",
    "print(f\"Train graphs: {len(train_set)}, Test graphs: {len(test_set)}\")\n",
    "\n",
    "# this is very nice - handles the dimensions automatically\n",
    "train_dl = DataLoader(train_set, batch_size=64, shuffle=True)\n",
    "test_dl = DataLoader(test_set, batch_size=64, shuffle=True)"
   ]
  },
  {
   "cell_type": "code",
   "execution_count": 7,
   "id": "7e9f24ba-0c3c-4793-ab31-e2b699e69a77",
   "metadata": {},
   "outputs": [
    {
     "name": "stdout",
     "output_type": "stream",
     "text": [
      "Labels (one per layer-cluster): 1727339\n"
     ]
    }
   ],
   "source": [
    "print(\"Labels (one per layer-cluster):\", len(ds.data.y))"
   ]
  },
  {
   "cell_type": "code",
   "execution_count": 8,
   "id": "1c217aff-c1a6-4fa9-9f17-2a03f9aa93bd",
   "metadata": {},
   "outputs": [
    {
     "name": "stdout",
     "output_type": "stream",
     "text": [
      "dataset balance: 0.152\n"
     ]
    }
   ],
   "source": [
    "balance = float(sum(ds.data.y) / len(ds.data.y))\n",
    "print(f\"dataset balance: {balance:.3f}\") "
   ]
  },
  {
   "cell_type": "code",
   "execution_count": 11,
   "id": "3f4a0b99-bef3-4c82-a0ac-d88e1521382b",
   "metadata": {},
   "outputs": [],
   "source": [
    "class EdgeConvBlock(nn.Module):\n",
    "\n",
    "    def __init__(self, input_dim, hidden_dim, aggr=\"add\", skip_link=False, k=8):\n",
    "        super(EdgeConvBlock, self).__init__()\n",
    "\n",
    "        convnetwork = nn.Sequential(\n",
    "            nn.Linear(2 * input_dim, hidden_dim),\n",
    "            nn.BatchNorm1d(hidden_dim),\n",
    "            nn.ReLU(),\n",
    "            nn.Linear(hidden_dim, hidden_dim),\n",
    "            nn.BatchNorm1d(hidden_dim),\n",
    "            nn.ReLU(),\n",
    "            nn.Linear(hidden_dim, hidden_dim),\n",
    "            nn.BatchNorm1d(hidden_dim),\n",
    "            nn.ReLU()\n",
    "        )\n",
    "\n",
    "        self.dynamicgraphconv = DynamicEdgeConv(nn=convnetwork, aggr=aggr, k=k)\n",
    "        self.skip_link = skip_link\n",
    "        \n",
    "    def forward(self, X, edge_index=None):\n",
    "        H = self.dynamicgraphconv(X)\n",
    "\n",
    "        if self.skip_link:\n",
    "            return torch.hstack((H, X))\n",
    "\n",
    "        return H    \n",
    "\n",
    "\n",
    "class LCGraphNet(nn.Module):\n",
    "    def __init__(self, input_dim, output_dim=1, dropout=0.2, skip_link=False):\n",
    "        super(LCGraphNet, self).__init__()\n",
    "\n",
    "        hdim1 = 64\n",
    "        in_dim2 = hdim1 + input_dim if skip_link else hdim1\n",
    "        \n",
    "        hdim2 = 64\n",
    "        in_dim3 = hdim2 + in_dim2 if skip_link else hdim2\n",
    "\n",
    "        hdim3 = 64\n",
    "        in_dim4 = hdim3 + in_dim3 if skip_link else hdim3\n",
    "\n",
    "        # EdgeConv\n",
    "        self.graphconv1 = EdgeConvBlock(input_dim, hdim1, skip_link=skip_link)\n",
    "        self.graphconv2 = EdgeConvBlock(in_dim2, hdim2, skip_link=skip_link)\n",
    "        self.graphconv3 = EdgeConvBlock(in_dim3, hdim3, skip_link=skip_link)\n",
    "\n",
    "        # Edge features from node embeddings for classification\n",
    "        self.edgenetwork = nn.Sequential(\n",
    "            nn.Linear(in_dim4, hdim3),\n",
    "            nn.ReLU(),\n",
    "            nn.Dropout(dropout),\n",
    "            nn.Linear(hdim3, output_dim),\n",
    "            nn.Sigmoid()\n",
    "        )\n",
    "            \n",
    "    def forward(self, X, _edge_index=None):   \n",
    "        \n",
    "        H = self.graphconv1(X)\n",
    "        H = self.graphconv2(H)\n",
    "        H = self.graphconv3(H)\n",
    "        \n",
    "        return self.edgenetwork(H).squeeze(-1)"
   ]
  },
  {
   "cell_type": "code",
   "execution_count": 12,
   "id": "2d3f1e82-74c5-4629-9b20-f05d7662aaf1",
   "metadata": {},
   "outputs": [
    {
     "name": "stdout",
     "output_type": "stream",
     "text": [
      "Epoch 0: \ttrain loss:156.66\ttrain acc: 0.830 \t test loss:12.79 \t test acc: 0.874\n",
      "Epoch 1: \ttrain loss:104.29\ttrain acc: 0.874 \t test loss:11.71 \t test acc: 0.876\n",
      "Epoch 2: \ttrain loss:98.41\ttrain acc: 0.876 \t test loss:9.51 \t test acc: 0.880\n"
     ]
    },
    {
     "ename": "KeyboardInterrupt",
     "evalue": "",
     "output_type": "error",
     "traceback": [
      "\u001b[0;31m---------------------------------------------------------------------------\u001b[0m",
      "\u001b[0;31mKeyboardInterrupt\u001b[0m                         Traceback (most recent call last)",
      "\u001b[1;32m/Users/ecuba/devel/pattern-reco/4.2.2.2.lc_graph_net_with_PU.ipynb Cell 9\u001b[0m in \u001b[0;36m<cell line: 11>\u001b[0;34m()\u001b[0m\n\u001b[1;32m      <a href='vscode-notebook-cell:/Users/ecuba/devel/pattern-reco/4.2.2.2.lc_graph_net_with_PU.ipynb#X11sZmlsZQ%3D%3D?line=8'>9</a>\u001b[0m scheduler \u001b[39m=\u001b[39m CosineAnnealingLR(optimizer, epochs, eta_min\u001b[39m=\u001b[39m\u001b[39m1e-3\u001b[39m)\n\u001b[1;32m     <a href='vscode-notebook-cell:/Users/ecuba/devel/pattern-reco/4.2.2.2.lc_graph_net_with_PU.ipynb#X11sZmlsZQ%3D%3D?line=10'>11</a>\u001b[0m \u001b[39mfor\u001b[39;00m epoch \u001b[39min\u001b[39;00m \u001b[39mrange\u001b[39m(epochs):\n\u001b[0;32m---> <a href='vscode-notebook-cell:/Users/ecuba/devel/pattern-reco/4.2.2.2.lc_graph_net_with_PU.ipynb#X11sZmlsZQ%3D%3D?line=12'>13</a>\u001b[0m     train_loss, train_true, train_pred \u001b[39m=\u001b[39m train_edge_pred(\n\u001b[1;32m     <a href='vscode-notebook-cell:/Users/ecuba/devel/pattern-reco/4.2.2.2.lc_graph_net_with_PU.ipynb#X11sZmlsZQ%3D%3D?line=13'>14</a>\u001b[0m         model,\n\u001b[1;32m     <a href='vscode-notebook-cell:/Users/ecuba/devel/pattern-reco/4.2.2.2.lc_graph_net_with_PU.ipynb#X11sZmlsZQ%3D%3D?line=14'>15</a>\u001b[0m         device,\n\u001b[1;32m     <a href='vscode-notebook-cell:/Users/ecuba/devel/pattern-reco/4.2.2.2.lc_graph_net_with_PU.ipynb#X11sZmlsZQ%3D%3D?line=15'>16</a>\u001b[0m         optimizer,\n\u001b[1;32m     <a href='vscode-notebook-cell:/Users/ecuba/devel/pattern-reco/4.2.2.2.lc_graph_net_with_PU.ipynb#X11sZmlsZQ%3D%3D?line=16'>17</a>\u001b[0m         loss_func,\n\u001b[1;32m     <a href='vscode-notebook-cell:/Users/ecuba/devel/pattern-reco/4.2.2.2.lc_graph_net_with_PU.ipynb#X11sZmlsZQ%3D%3D?line=17'>18</a>\u001b[0m         train_dl\n\u001b[1;32m     <a href='vscode-notebook-cell:/Users/ecuba/devel/pattern-reco/4.2.2.2.lc_graph_net_with_PU.ipynb#X11sZmlsZQ%3D%3D?line=18'>19</a>\u001b[0m     )\n\u001b[1;32m     <a href='vscode-notebook-cell:/Users/ecuba/devel/pattern-reco/4.2.2.2.lc_graph_net_with_PU.ipynb#X11sZmlsZQ%3D%3D?line=20'>21</a>\u001b[0m     train_acc \u001b[39m=\u001b[39m metrics\u001b[39m.\u001b[39maccuracy_score((train_true \u001b[39m>\u001b[39m \u001b[39m0.5\u001b[39m)\u001b[39m.\u001b[39mastype(\u001b[39mint\u001b[39m), (train_pred \u001b[39m>\u001b[39m \u001b[39m0.5\u001b[39m)\u001b[39m.\u001b[39mastype(\u001b[39mint\u001b[39m))\n\u001b[1;32m     <a href='vscode-notebook-cell:/Users/ecuba/devel/pattern-reco/4.2.2.2.lc_graph_net_with_PU.ipynb#X11sZmlsZQ%3D%3D?line=21'>22</a>\u001b[0m     scheduler\u001b[39m.\u001b[39mstep()\n",
      "File \u001b[0;32m~/devel/pattern-reco/reco/learn.py:22\u001b[0m, in \u001b[0;36mtrain_edge_pred\u001b[0;34m(model, device, optimizer, loss_func, train_dl, obj_cond)\u001b[0m\n\u001b[1;32m     20\u001b[0m     seg_pred \u001b[39m=\u001b[39m model(data\u001b[39m.\u001b[39mx, data\u001b[39m.\u001b[39medge_index, data\u001b[39m.\u001b[39mtrackster_index)\n\u001b[1;32m     21\u001b[0m \u001b[39melse\u001b[39;00m:\n\u001b[0;32m---> 22\u001b[0m     seg_pred \u001b[39m=\u001b[39m model(data\u001b[39m.\u001b[39;49mx, data\u001b[39m.\u001b[39;49medge_index)\n\u001b[1;32m     24\u001b[0m loss \u001b[39m=\u001b[39m loss_func(seg_pred\u001b[39m.\u001b[39mview(\u001b[39m-\u001b[39m\u001b[39m1\u001b[39m, \u001b[39m1\u001b[39m), data\u001b[39m.\u001b[39my\u001b[39m.\u001b[39mview(\u001b[39m-\u001b[39m\u001b[39m1\u001b[39m, \u001b[39m1\u001b[39m)\u001b[39m.\u001b[39mtype(torch\u001b[39m.\u001b[39mfloat))\n\u001b[1;32m     26\u001b[0m loss\u001b[39m.\u001b[39mbackward()\n",
      "File \u001b[0;32m~/devel/ve/lib/python3.8/site-packages/torch/nn/modules/module.py:1130\u001b[0m, in \u001b[0;36mModule._call_impl\u001b[0;34m(self, *input, **kwargs)\u001b[0m\n\u001b[1;32m   1126\u001b[0m \u001b[39m# If we don't have any hooks, we want to skip the rest of the logic in\u001b[39;00m\n\u001b[1;32m   1127\u001b[0m \u001b[39m# this function, and just call forward.\u001b[39;00m\n\u001b[1;32m   1128\u001b[0m \u001b[39mif\u001b[39;00m \u001b[39mnot\u001b[39;00m (\u001b[39mself\u001b[39m\u001b[39m.\u001b[39m_backward_hooks \u001b[39mor\u001b[39;00m \u001b[39mself\u001b[39m\u001b[39m.\u001b[39m_forward_hooks \u001b[39mor\u001b[39;00m \u001b[39mself\u001b[39m\u001b[39m.\u001b[39m_forward_pre_hooks \u001b[39mor\u001b[39;00m _global_backward_hooks\n\u001b[1;32m   1129\u001b[0m         \u001b[39mor\u001b[39;00m _global_forward_hooks \u001b[39mor\u001b[39;00m _global_forward_pre_hooks):\n\u001b[0;32m-> 1130\u001b[0m     \u001b[39mreturn\u001b[39;00m forward_call(\u001b[39m*\u001b[39;49m\u001b[39minput\u001b[39;49m, \u001b[39m*\u001b[39;49m\u001b[39m*\u001b[39;49mkwargs)\n\u001b[1;32m   1131\u001b[0m \u001b[39m# Do not call functions when jit is used\u001b[39;00m\n\u001b[1;32m   1132\u001b[0m full_backward_hooks, non_full_backward_hooks \u001b[39m=\u001b[39m [], []\n",
      "\u001b[1;32m/Users/ecuba/devel/pattern-reco/4.2.2.2.lc_graph_net_with_PU.ipynb Cell 9\u001b[0m in \u001b[0;36mLCGraphNet.forward\u001b[0;34m(self, X, _edge_index)\u001b[0m\n\u001b[1;32m     <a href='vscode-notebook-cell:/Users/ecuba/devel/pattern-reco/4.2.2.2.lc_graph_net_with_PU.ipynb#X11sZmlsZQ%3D%3D?line=56'>57</a>\u001b[0m \u001b[39mdef\u001b[39;00m \u001b[39mforward\u001b[39m(\u001b[39mself\u001b[39m, X, _edge_index\u001b[39m=\u001b[39m\u001b[39mNone\u001b[39;00m):   \n\u001b[1;32m     <a href='vscode-notebook-cell:/Users/ecuba/devel/pattern-reco/4.2.2.2.lc_graph_net_with_PU.ipynb#X11sZmlsZQ%3D%3D?line=58'>59</a>\u001b[0m     H \u001b[39m=\u001b[39m \u001b[39mself\u001b[39m\u001b[39m.\u001b[39mgraphconv1(X)\n\u001b[0;32m---> <a href='vscode-notebook-cell:/Users/ecuba/devel/pattern-reco/4.2.2.2.lc_graph_net_with_PU.ipynb#X11sZmlsZQ%3D%3D?line=59'>60</a>\u001b[0m     H \u001b[39m=\u001b[39m \u001b[39mself\u001b[39;49m\u001b[39m.\u001b[39;49mgraphconv2(H)\n\u001b[1;32m     <a href='vscode-notebook-cell:/Users/ecuba/devel/pattern-reco/4.2.2.2.lc_graph_net_with_PU.ipynb#X11sZmlsZQ%3D%3D?line=60'>61</a>\u001b[0m     H \u001b[39m=\u001b[39m \u001b[39mself\u001b[39m\u001b[39m.\u001b[39mgraphconv3(H)\n\u001b[1;32m     <a href='vscode-notebook-cell:/Users/ecuba/devel/pattern-reco/4.2.2.2.lc_graph_net_with_PU.ipynb#X11sZmlsZQ%3D%3D?line=62'>63</a>\u001b[0m     \u001b[39mreturn\u001b[39;00m \u001b[39mself\u001b[39m\u001b[39m.\u001b[39medgenetwork(H)\u001b[39m.\u001b[39msqueeze(\u001b[39m-\u001b[39m\u001b[39m1\u001b[39m)\n",
      "File \u001b[0;32m~/devel/ve/lib/python3.8/site-packages/torch/nn/modules/module.py:1130\u001b[0m, in \u001b[0;36mModule._call_impl\u001b[0;34m(self, *input, **kwargs)\u001b[0m\n\u001b[1;32m   1126\u001b[0m \u001b[39m# If we don't have any hooks, we want to skip the rest of the logic in\u001b[39;00m\n\u001b[1;32m   1127\u001b[0m \u001b[39m# this function, and just call forward.\u001b[39;00m\n\u001b[1;32m   1128\u001b[0m \u001b[39mif\u001b[39;00m \u001b[39mnot\u001b[39;00m (\u001b[39mself\u001b[39m\u001b[39m.\u001b[39m_backward_hooks \u001b[39mor\u001b[39;00m \u001b[39mself\u001b[39m\u001b[39m.\u001b[39m_forward_hooks \u001b[39mor\u001b[39;00m \u001b[39mself\u001b[39m\u001b[39m.\u001b[39m_forward_pre_hooks \u001b[39mor\u001b[39;00m _global_backward_hooks\n\u001b[1;32m   1129\u001b[0m         \u001b[39mor\u001b[39;00m _global_forward_hooks \u001b[39mor\u001b[39;00m _global_forward_pre_hooks):\n\u001b[0;32m-> 1130\u001b[0m     \u001b[39mreturn\u001b[39;00m forward_call(\u001b[39m*\u001b[39;49m\u001b[39minput\u001b[39;49m, \u001b[39m*\u001b[39;49m\u001b[39m*\u001b[39;49mkwargs)\n\u001b[1;32m   1131\u001b[0m \u001b[39m# Do not call functions when jit is used\u001b[39;00m\n\u001b[1;32m   1132\u001b[0m full_backward_hooks, non_full_backward_hooks \u001b[39m=\u001b[39m [], []\n",
      "\u001b[1;32m/Users/ecuba/devel/pattern-reco/4.2.2.2.lc_graph_net_with_PU.ipynb Cell 9\u001b[0m in \u001b[0;36mEdgeConvBlock.forward\u001b[0;34m(self, X, edge_index)\u001b[0m\n\u001b[1;32m     <a href='vscode-notebook-cell:/Users/ecuba/devel/pattern-reco/4.2.2.2.lc_graph_net_with_PU.ipynb#X11sZmlsZQ%3D%3D?line=20'>21</a>\u001b[0m \u001b[39mdef\u001b[39;00m \u001b[39mforward\u001b[39m(\u001b[39mself\u001b[39m, X, edge_index\u001b[39m=\u001b[39m\u001b[39mNone\u001b[39;00m):\n\u001b[0;32m---> <a href='vscode-notebook-cell:/Users/ecuba/devel/pattern-reco/4.2.2.2.lc_graph_net_with_PU.ipynb#X11sZmlsZQ%3D%3D?line=21'>22</a>\u001b[0m     H \u001b[39m=\u001b[39m \u001b[39mself\u001b[39;49m\u001b[39m.\u001b[39;49mdynamicgraphconv(X)\n\u001b[1;32m     <a href='vscode-notebook-cell:/Users/ecuba/devel/pattern-reco/4.2.2.2.lc_graph_net_with_PU.ipynb#X11sZmlsZQ%3D%3D?line=23'>24</a>\u001b[0m     \u001b[39mif\u001b[39;00m \u001b[39mself\u001b[39m\u001b[39m.\u001b[39mskip_link:\n\u001b[1;32m     <a href='vscode-notebook-cell:/Users/ecuba/devel/pattern-reco/4.2.2.2.lc_graph_net_with_PU.ipynb#X11sZmlsZQ%3D%3D?line=24'>25</a>\u001b[0m         \u001b[39mreturn\u001b[39;00m torch\u001b[39m.\u001b[39mhstack((H, X))\n",
      "File \u001b[0;32m~/devel/ve/lib/python3.8/site-packages/torch/nn/modules/module.py:1130\u001b[0m, in \u001b[0;36mModule._call_impl\u001b[0;34m(self, *input, **kwargs)\u001b[0m\n\u001b[1;32m   1126\u001b[0m \u001b[39m# If we don't have any hooks, we want to skip the rest of the logic in\u001b[39;00m\n\u001b[1;32m   1127\u001b[0m \u001b[39m# this function, and just call forward.\u001b[39;00m\n\u001b[1;32m   1128\u001b[0m \u001b[39mif\u001b[39;00m \u001b[39mnot\u001b[39;00m (\u001b[39mself\u001b[39m\u001b[39m.\u001b[39m_backward_hooks \u001b[39mor\u001b[39;00m \u001b[39mself\u001b[39m\u001b[39m.\u001b[39m_forward_hooks \u001b[39mor\u001b[39;00m \u001b[39mself\u001b[39m\u001b[39m.\u001b[39m_forward_pre_hooks \u001b[39mor\u001b[39;00m _global_backward_hooks\n\u001b[1;32m   1129\u001b[0m         \u001b[39mor\u001b[39;00m _global_forward_hooks \u001b[39mor\u001b[39;00m _global_forward_pre_hooks):\n\u001b[0;32m-> 1130\u001b[0m     \u001b[39mreturn\u001b[39;00m forward_call(\u001b[39m*\u001b[39;49m\u001b[39minput\u001b[39;49m, \u001b[39m*\u001b[39;49m\u001b[39m*\u001b[39;49mkwargs)\n\u001b[1;32m   1131\u001b[0m \u001b[39m# Do not call functions when jit is used\u001b[39;00m\n\u001b[1;32m   1132\u001b[0m full_backward_hooks, non_full_backward_hooks \u001b[39m=\u001b[39m [], []\n",
      "File \u001b[0;32m~/devel/ve/lib/python3.8/site-packages/torch_geometric/nn/conv/edge_conv.py:135\u001b[0m, in \u001b[0;36mDynamicEdgeConv.forward\u001b[0;34m(self, x, batch)\u001b[0m\n\u001b[1;32m    132\u001b[0m     \u001b[39massert\u001b[39;00m batch \u001b[39mis\u001b[39;00m \u001b[39mnot\u001b[39;00m \u001b[39mNone\u001b[39;00m\n\u001b[1;32m    133\u001b[0m     b \u001b[39m=\u001b[39m (batch[\u001b[39m0\u001b[39m], batch[\u001b[39m1\u001b[39m])\n\u001b[0;32m--> 135\u001b[0m edge_index \u001b[39m=\u001b[39m knn(x[\u001b[39m0\u001b[39;49m], x[\u001b[39m1\u001b[39;49m], \u001b[39mself\u001b[39;49m\u001b[39m.\u001b[39;49mk, b[\u001b[39m0\u001b[39;49m], b[\u001b[39m1\u001b[39;49m])\u001b[39m.\u001b[39mflip([\u001b[39m0\u001b[39m])\n\u001b[1;32m    137\u001b[0m \u001b[39m# propagate_type: (x: PairTensor)\u001b[39;00m\n\u001b[1;32m    138\u001b[0m \u001b[39mreturn\u001b[39;00m \u001b[39mself\u001b[39m\u001b[39m.\u001b[39mpropagate(edge_index, x\u001b[39m=\u001b[39mx, size\u001b[39m=\u001b[39m\u001b[39mNone\u001b[39;00m)\n",
      "\u001b[0;31mKeyboardInterrupt\u001b[0m: "
     ]
    }
   ],
   "source": [
    "model = LCGraphNet(input_dim=ds.data.x.shape[1], skip_link=False)\n",
    "epochs = 50\n",
    "\n",
    "# alpha - percentage of negative edges\n",
    "loss_func = FocalLoss(alpha=balance, gamma=2)\n",
    "\n",
    "model = model.to(device)\n",
    "optimizer = SGD(model.parameters(), lr=0.001, momentum=0.9, weight_decay=1e-4)\n",
    "scheduler = CosineAnnealingLR(optimizer, epochs, eta_min=1e-3)\n",
    "\n",
    "for epoch in range(epochs):\n",
    "\n",
    "    train_loss, train_true, train_pred = train_edge_pred(\n",
    "        model,\n",
    "        device,\n",
    "        optimizer,\n",
    "        loss_func,\n",
    "        train_dl\n",
    "    )\n",
    "    \n",
    "    train_acc = metrics.accuracy_score((train_true > 0.5).astype(int), (train_pred > 0.5).astype(int))\n",
    "    scheduler.step()\n",
    "\n",
    "    if epoch % 1 == 0:\n",
    "        test_loss, test_true, test_pred = test_edge_pred(model, device, loss_func, test_dl)\n",
    "        test_acc = metrics.accuracy_score((test_true > 0.5).astype(int), (test_pred > 0.5).astype(int))\n",
    "        print(\n",
    "            f\"Epoch {epoch}:\",\n",
    "            f\"\\ttrain loss:{train_loss:.2f}\\ttrain acc: {train_acc:.3f}\",\n",
    "            f\"\\t test loss:{test_loss:.2f} \\t test acc: {test_acc:.3f}\",\n",
    "            file=sys.stderr\n",
    "        )"
   ]
  },
  {
   "cell_type": "code",
   "execution_count": null,
   "id": "f2e14bc7-4d33-485b-9075-348fa0bd284e",
   "metadata": {},
   "outputs": [],
   "source": [
    "precision_recall_curve(model, device, test_dl)"
   ]
  },
  {
   "cell_type": "code",
   "execution_count": null,
   "id": "c9993b5b",
   "metadata": {},
   "outputs": [],
   "source": [
    "torch.save(model.state_dict(), f\"models/LCGraphNet.64.64.64.ns.{epochs}e-{ds_name}.{ds.RADIUS}.{ds.SCORE_THRESHOLD}.{ds.N_FILES}f.pt\")"
   ]
  }
 ],
 "metadata": {
  "kernelspec": {
   "display_name": "Python 3.8.9 ('ve': venv)",
   "language": "python",
   "name": "python3"
  },
  "language_info": {
   "codemirror_mode": {
    "name": "ipython",
    "version": 3
   },
   "file_extension": ".py",
   "mimetype": "text/x-python",
   "name": "python",
   "nbconvert_exporter": "python",
   "pygments_lexer": "ipython3",
   "version": "3.8.9"
  },
  "vscode": {
   "interpreter": {
    "hash": "75d0e37245d408f3d59eb152d126431f02f862b5012558b3df6d65a37ffc466c"
   }
  }
 },
 "nbformat": 4,
 "nbformat_minor": 5
}
