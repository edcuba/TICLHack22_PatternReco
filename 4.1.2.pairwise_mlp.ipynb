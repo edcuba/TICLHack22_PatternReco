{
 "cells": [
  {
   "cell_type": "markdown",
   "id": "6c07744a",
   "metadata": {},
   "source": [
    "# Pairwise MLP approach\n",
    "\n",
    "Get tracksters from a certain neighbourhood.\n",
    "\n",
    "Train a NN to decide whether two tracksters should be joined.\n",
    "\n",
    "Neighbourhood:\n",
    "- get links from ticlNtuplizer/graph\n",
    "- convert the tracksters into some latent space and predict a link between them\n",
    "\n",
    "Graph:\n",
    "- linked_inners\n",
    "    - nodes linked to the given tracksters within its cone\n"
   ]
  },
  {
   "cell_type": "markdown",
   "id": "e3247338",
   "metadata": {},
   "source": [
    "## MLP"
   ]
  },
  {
   "cell_type": "code",
   "execution_count": 1,
   "id": "81ffdcce",
   "metadata": {},
   "outputs": [],
   "source": [
    "import torch\n",
    "import matplotlib.pyplot as plt\n",
    "import torch.nn as nn\n",
    "from torch.optim.lr_scheduler import StepLR\n",
    "from torch.utils.data import random_split, DataLoader\n",
    "from sklearn.preprocessing import StandardScaler\n",
    "from sklearn.metrics import confusion_matrix, accuracy_score, precision_score, recall_score, roc_curve, auc, f1_score, fbeta_score\n",
    "\n",
    "from reco.dataset import TracksterPairs\n",
    "\n",
    "# data_root = \"/mnt/ceph/users/ecuba/processed\"\n",
    "# raw_dir = \"/mnt/ceph/users/ecuba/multiparticle_10/\"\n",
    "\n",
    "data_root = \"data\"\n",
    "ds_name = \"CloseByTwoPion\"\n",
    "raw_dir = f\"/Users/ecuba/data/{ds_name}\"\n",
    "file_name = f\"{raw_dir}/new_ntuples_15101852_191.root\""
   ]
  },
  {
   "cell_type": "code",
   "execution_count": 4,
   "id": "b2dc29a6",
   "metadata": {},
   "outputs": [
    {
     "name": "stdout",
     "output_type": "stream",
     "text": [
      "Using device: cpu\n"
     ]
    }
   ],
   "source": [
    "# CUDA Setup\n",
    "device = torch.device('cuda' if torch.cuda.is_available() else \"cpu\")\n",
    "print(f\"Using device: {device}\")"
   ]
  },
  {
   "cell_type": "code",
   "execution_count": 5,
   "id": "219c077d",
   "metadata": {},
   "outputs": [
    {
     "name": "stdout",
     "output_type": "stream",
     "text": [
      "Processing: /Users/ecuba/data/CloseByTwoPion/new_ntuples_15101852_157.root\n",
      "Processing: /Users/ecuba/data/CloseByTwoPion/new_ntuples_15101852_229.root\n",
      "Processing: /Users/ecuba/data/CloseByTwoPion/new_ntuples_15101852_100.root\n",
      "Processing: /Users/ecuba/data/CloseByTwoPion/new_ntuples_15101852_11.root\n",
      "Processing: /Users/ecuba/data/CloseByTwoPion/new_ntuples_15101852_116.root\n",
      "Processing: /Users/ecuba/data/CloseByTwoPion/new_ntuples_15101852_141.root\n",
      "Processing: /Users/ecuba/data/CloseByTwoPion/new_ntuples_15101852_213.root\n",
      "Processing: /Users/ecuba/data/CloseByTwoPion/new_ntuples_15101852_244.root\n",
      "Processing: /Users/ecuba/data/CloseByTwoPion/new_ntuples_15101852_182.root\n",
      "Processing: /Users/ecuba/data/CloseByTwoPion/new_ntuples_15101852_194.root\n",
      "Processing: /Users/ecuba/data/CloseByTwoPion/new_ntuples_15101852_205.root\n",
      "Processing: /Users/ecuba/data/CloseByTwoPion/new_ntuples_15101852_225.root\n",
      "Processing: /Users/ecuba/data/CloseByTwoPion/new_ntuples_15101852_136.root\n",
      "Processing: /Users/ecuba/data/CloseByTwoPion/new_ntuples_15101852_161.root\n",
      "Processing: /Users/ecuba/data/CloseByTwoPion/new_ntuples_15101852_248.root\n",
      "Processing: /Users/ecuba/data/CloseByTwoPion/new_ntuples_15101852_198.root\n",
      "Processing: /Users/ecuba/data/CloseByTwoPion/new_ntuples_15101852_177.root\n",
      "Processing: /Users/ecuba/data/CloseByTwoPion/new_ntuples_15101852_120.root\n",
      "Processing: /Users/ecuba/data/CloseByTwoPion/new_ntuples_15101852_209.root\n",
      "Processing: /Users/ecuba/data/CloseByTwoPion/new_ntuples_15101852_208.root\n"
     ]
    },
    {
     "data": {
      "text/plain": [
       "torch.Size([74974, 43])"
      ]
     },
     "execution_count": 5,
     "metadata": {},
     "output_type": "execute_result"
    }
   ],
   "source": [
    "ds = TracksterPairs(\n",
    "    ds_name,\n",
    "    data_root,\n",
    "    raw_dir,\n",
    "    N_FILES=20,\n",
    "    balanced=True,\n",
    "    include_neutral=False,\n",
    "    MAX_DISTANCE=10,\n",
    "    ENERGY_THRESHOLD=10\n",
    ")\n",
    "ds.x.shape"
   ]
  },
  {
   "cell_type": "code",
   "execution_count": 6,
   "id": "496f699c",
   "metadata": {},
   "outputs": [],
   "source": [
    "scaler = StandardScaler()\n",
    "scaler.fit(ds.x)\n",
    "ds.x = torch.tensor(scaler.transform(ds.x)).type(torch.float)"
   ]
  },
  {
   "cell_type": "code",
   "execution_count": 7,
   "id": "75c3ffff",
   "metadata": {},
   "outputs": [
    {
     "name": "stdout",
     "output_type": "stream",
     "text": [
      "torch.Size([74974, 43])\n",
      "Positive: 37487\n",
      "Neutral: 0\n",
      "Negative: 37487\n"
     ]
    }
   ],
   "source": [
    "print(ds.x.shape)\n",
    "print(\"Positive:\", int((ds.y == 1).type(torch.int).sum()))\n",
    "print(\"Neutral:\", int((ds.y == 0.5).type(torch.int).sum()))\n",
    "print(\"Negative:\", int((ds.y == 0).type(torch.int).sum()))"
   ]
  },
  {
   "cell_type": "code",
   "execution_count": 8,
   "id": "84179ef3",
   "metadata": {},
   "outputs": [
    {
     "name": "stdout",
     "output_type": "stream",
     "text": [
      "dataset balance: 0.5\n"
     ]
    }
   ],
   "source": [
    "print(\"dataset balance:\", float(sum(ds.y) / len(ds.y))) "
   ]
  },
  {
   "cell_type": "code",
   "execution_count": 9,
   "id": "5d3700ac",
   "metadata": {},
   "outputs": [],
   "source": [
    "loss_obj = torch.nn.BCELoss()\n",
    "\n",
    "def train(model, opt, loader):\n",
    "    epoch_loss = 0\n",
    "    for batch, labels in loader:\n",
    "        # reset optimizer and enable training mode\n",
    "        opt.zero_grad()\n",
    "        model.train()\n",
    "\n",
    "        # move data to the device\n",
    "        batch = batch.to(device)\n",
    "        labels = labels.to(device)\n",
    "        \n",
    "        # get the prediction tensor\n",
    "        z = model(batch).reshape(-1)\n",
    "\n",
    "        # compute the loss\n",
    "        loss = loss_obj(z, labels)\n",
    "        epoch_loss += loss\n",
    "\n",
    "        # back-propagate and update the weight\n",
    "        loss.backward()\n",
    "        opt.step()\n",
    "\n",
    "    return float(epoch_loss)\n",
    "\n",
    "@torch.no_grad()\n",
    "def test(model, data):\n",
    "    total = 0\n",
    "    correct = 0\n",
    "    for batch, labels in data:\n",
    "        model.eval()\n",
    "        batch = batch.to(device)\n",
    "        labels = labels.to(device)\n",
    "        z = model(batch).reshape(-1)\n",
    "        prediction = (z > 0.5).type(torch.int)\n",
    "        total += len(prediction) \n",
    "        correct += sum(prediction == labels.type(torch.int))\n",
    "    return (correct / total)"
   ]
  },
  {
   "cell_type": "code",
   "execution_count": 10,
   "id": "c1e8002b",
   "metadata": {},
   "outputs": [
    {
     "name": "stdout",
     "output_type": "stream",
     "text": [
      "Train samples: 67477, Test samples: 7497\n"
     ]
    }
   ],
   "source": [
    "ds_size = len(ds)\n",
    "test_set_size = ds_size // 10\n",
    "train_set_size = ds_size - test_set_size\n",
    "train_set, test_set = random_split(ds, [train_set_size, test_set_size])\n",
    "print(f\"Train samples: {len(train_set)}, Test samples: {len(test_set)}\")\n",
    "\n",
    "train_dl = DataLoader(train_set, batch_size=128, shuffle=True)\n",
    "test_dl = DataLoader(test_set, batch_size=128, shuffle=True)"
   ]
  },
  {
   "cell_type": "code",
   "execution_count": 11,
   "id": "c1bdabc9",
   "metadata": {},
   "outputs": [
    {
     "name": "stdout",
     "output_type": "stream",
     "text": [
      "Epoch: 0, loss: 195.4405, train acc: 0.8870, test acc: 0.8884\n",
      "Epoch: 20, loss: 127.5134, train acc: 0.9263, test acc: 0.9142\n",
      "Epoch: 40, loss: 108.8356, train acc: 0.9426, test acc: 0.9117\n",
      "Epoch: 60, loss: 97.5650, train acc: 0.9539, test acc: 0.9072\n",
      "Epoch: 80, loss: 91.0963, train acc: 0.9591, test acc: 0.9074\n",
      "Epoch: 100, loss: 88.8824, train acc: 0.9616, test acc: 0.9050\n"
     ]
    }
   ],
   "source": [
    "model = nn.Sequential(\n",
    "    nn.Linear(ds.x.shape[1], 256),\n",
    "    nn.ReLU(),\n",
    "    nn.Linear(256, 128),\n",
    "    nn.ReLU(),\n",
    "    nn.Linear(128, 1),\n",
    "    nn.Dropout(p=0.1),\n",
    "    nn.Sigmoid()\n",
    ")\n",
    "model = model.to(device)\n",
    "optimizer = torch.optim.Adam(model.parameters(), lr=0.001)\n",
    "scheduler = StepLR(optimizer, step_size=20, gamma=0.5)\n",
    "\n",
    "for epoch in range(0, 101):\n",
    "    loss = train(model, optimizer, train_dl)\n",
    "    scheduler.step()\n",
    "    if epoch % 20 == 0:\n",
    "        train_acc = test(model, train_dl)\n",
    "        test_acc = test(model, test_dl)\n",
    "        print(f'Epoch: {epoch}, loss: {loss:.4f}, train acc: {train_acc:.4f}, test acc: {test_acc:.4f}')"
   ]
  },
  {
   "cell_type": "code",
   "execution_count": 12,
   "id": "06340e49",
   "metadata": {},
   "outputs": [
    {
     "data": {
      "image/png": "[encoded data removed]",
      "text/plain": [
       "<Figure size 432x288 with 1 Axes>"
      ]
     },
     "metadata": {
      "needs_background": "light"
     },
     "output_type": "display_data"
    }
   ],
   "source": [
    "pred = []\n",
    "lab = []\n",
    "for b, l in test_dl:\n",
    "    b = b.to(device)\n",
    "    l = l.to(device)\n",
    "    pred += model(b).tolist()\n",
    "    lab += l.tolist()\n",
    "\n",
    "fpr, tpr, _ = roc_curve(lab, pred)\n",
    "roc_auc = auc(fpr, tpr)\n",
    "\n",
    "plt.figure()\n",
    "plt.plot(fpr, tpr, color=\"darkorange\", label=\"ROC curve (area = %0.2f)\" % roc_auc)\n",
    "plt.plot([0, 1], [0, 1], color=\"navy\", linestyle=\"--\")\n",
    "plt.xlim([0.0, 1.0])\n",
    "plt.ylim([0.0, 1.05])\n",
    "plt.xlabel(\"False Positive Rate\")\n",
    "plt.ylabel(\"True Positive Rate\")\n",
    "plt.title(\"Receiver operating characteristic example\")\n",
    "plt.legend(loc=\"lower right\")\n",
    "plt.show()"
   ]
  },
  {
   "cell_type": "code",
   "execution_count": 13,
   "id": "849a1318",
   "metadata": {},
   "outputs": [
    {
     "data": {
      "image/png": "[encoded data removed]",
      "text/plain": [
       "<Figure size 432x288 with 1 Axes>"
      ]
     },
     "metadata": {
      "needs_background": "light"
     },
     "output_type": "display_data"
    }
   ],
   "source": [
    "th_values = [i / 100. for i in range(1, 100)]\n",
    "precision = []\n",
    "recall = []\n",
    "f1scores = []\n",
    "fbeta = []\n",
    "\n",
    "for th in th_values:\n",
    "    pred = []\n",
    "    lab = []\n",
    "    for b, l in test_dl:\n",
    "        b = b.to(device)\n",
    "        l = l.to(device)\n",
    "        pred += (model(b) > th).type(torch.int).tolist()\n",
    "        lab += l.tolist()\n",
    "    precision.append(precision_score(lab, pred))\n",
    "    recall.append(recall_score(lab, pred))\n",
    "    f1scores.append(f1_score(lab, pred))\n",
    "    fbeta.append(fbeta_score(lab, pred, beta=0.5))\n",
    "\n",
    "plt.figure()\n",
    "plt.plot(th_values, precision, label=\"precision\")\n",
    "plt.plot(th_values, recall, label=\"recall\")\n",
    "plt.plot(th_values, f1scores, label=\"f1\")\n",
    "plt.plot(th_values, fbeta, label=\"fbeta\")\n",
    "plt.xlabel(\"Threshold\")\n",
    "plt.legend()\n",
    "plt.show()"
   ]
  },
  {
   "cell_type": "code",
   "execution_count": 14,
   "id": "92dc57f8",
   "metadata": {},
   "outputs": [
    {
     "name": "stdout",
     "output_type": "stream",
     "text": [
      "TP: 3213, TN: 3447, FP: 340, FN: 497\n",
      "Acc: 0.8884 P: 0.9043 R: 0.8660 F1: 0.88 FB: 0.90\n"
     ]
    }
   ],
   "source": [
    "decision_th = 0.7\n",
    "\n",
    "pred = []\n",
    "lab = []\n",
    "for b, l in test_dl:\n",
    "    b = b.to(device)\n",
    "    l = l.to(device)\n",
    "    pred += (model(b) > decision_th).type(torch.int).tolist()\n",
    "    lab += l.tolist()\n",
    "\n",
    "tn, fp, fn, tp = confusion_matrix(lab, pred).ravel()\n",
    "print(f\"TP: {tp}, TN: {tn}, FP: {fp}, FN: {fn}\")\n",
    "acc = accuracy_score(lab, pred)\n",
    "precision = precision_score(lab, pred)\n",
    "recall = recall_score(lab, pred)\n",
    "f1 = f1_score(lab, pred)\n",
    "fb = fbeta_score(lab, pred, beta=0.5)\n",
    "print(f'Acc: {acc:.4f} P: {precision:.4f} R: {recall:.4f} F1: {f1:.2f} FB: {fb:.2f}')"
   ]
  },
  {
   "cell_type": "markdown",
   "id": "951d1251",
   "metadata": {},
   "source": [
    "# Evaluation\n",
    "\n",
    "Give the model a list of candidate edges to evaluate.\n",
    "Reconstruct the event and evaluate against ground truth. "
   ]
  },
  {
   "cell_type": "code",
   "execution_count": 42,
   "id": "d877b173",
   "metadata": {},
   "outputs": [],
   "source": [
    "import uproot\n",
    "import numpy as np\n",
    "from reco.evaluation import pairwise_model_evaluation\n",
    "\n",
    "file_name = f\"{raw_dir}/new_ntuples_14992862_101.root\"\n",
    "tracksters = uproot.open({file_name: \"ticlNtuplizer/tracksters\"})\n",
    "simtracksters = uproot.open({file_name: \"ticlNtuplizer/simtrackstersSC\"})\n",
    "graphs = uproot.open({file_name: \"ticlNtuplizer/graph\"})\n",
    "associations = uproot.open({file_name: \"ticlNtuplizer/associations\"})"
   ]
  },
  {
   "cell_type": "code",
   "execution_count": null,
   "id": "5212be61",
   "metadata": {},
   "outputs": [
    {
     "name": "stdout",
     "output_type": "stream",
     "text": [
      "Event 0:\n",
      "\tclue3d_to_sim:\tP: 1.00 R: 0.63 F: 0.68\n",
      "\ttarget_to_sim:\tP: 1.00 R: 0.91 F: 0.93\n",
      "\treco_to_target:\tP: 0.95 R: 0.83 F: 0.86\n",
      "\treco_to_sim:\tP: 1.00 R: 0.78 F: 0.82\n",
      "Event 1:\n",
      "\tclue3d_to_sim:\tP: 1.00 R: 0.53 F: 0.58\n",
      "\ttarget_to_sim:\tP: 1.00 R: 0.76 F: 0.80\n",
      "\treco_to_target:\tP: 0.94 R: 0.85 F: 0.87\n",
      "\treco_to_sim:\tP: 1.00 R: 0.70 F: 0.75\n",
      "Event 2:\n",
      "\tclue3d_to_sim:\tP: 0.94 R: 0.20 F: 0.24\n",
      "\ttarget_to_sim:\tP: 0.95 R: 0.52 F: 0.57\n",
      "\treco_to_target:\tP: 0.85 R: 0.77 F: 0.78\n",
      "\treco_to_sim:\tP: 0.95 R: 0.44 F: 0.49\n",
      "Event 3:\n",
      "\tclue3d_to_sim:\tP: 0.97 R: 0.21 F: 0.24\n",
      "\ttarget_to_sim:\tP: 0.98 R: 0.59 F: 0.64\n",
      "\treco_to_target:\tP: 0.94 R: 0.79 F: 0.82\n",
      "\treco_to_sim:\tP: 0.97 R: 0.52 F: 0.58\n",
      "Event 4:\n",
      "\tclue3d_to_sim:\tP: 0.96 R: 0.16 F: 0.19\n",
      "\ttarget_to_sim:\tP: 0.97 R: 0.55 F: 0.60\n",
      "\treco_to_target:\tP: 0.96 R: 0.84 F: 0.86\n",
      "\treco_to_sim:\tP: 0.97 R: 0.47 F: 0.52\n",
      "Event 5:\n",
      "\tclue3d_to_sim:\tP: 0.98 R: 0.34 F: 0.39\n",
      "\ttarget_to_sim:\tP: 0.97 R: 0.69 F: 0.74\n",
      "\treco_to_target:\tP: 0.93 R: 0.87 F: 0.88\n",
      "\treco_to_sim:\tP: 0.97 R: 0.64 F: 0.68\n",
      "Event 6:\n",
      "\tclue3d_to_sim:\tP: 0.98 R: 0.30 F: 0.35\n",
      "\ttarget_to_sim:\tP: 0.98 R: 0.65 F: 0.70\n",
      "\treco_to_target:\tP: 0.94 R: 0.75 F: 0.78\n",
      "\treco_to_sim:\tP: 0.98 R: 0.53 F: 0.58\n",
      "Event 7:\n",
      "\tclue3d_to_sim:\tP: 0.95 R: 0.27 F: 0.32\n",
      "\ttarget_to_sim:\tP: 0.95 R: 0.48 F: 0.53\n",
      "\treco_to_target:\tP: 0.79 R: 0.85 F: 0.84\n",
      "\treco_to_sim:\tP: 0.95 R: 0.48 F: 0.53\n",
      "Event 8:\n",
      "\tclue3d_to_sim:\tP: 0.96 R: 0.29 F: 0.34\n",
      "\ttarget_to_sim:\tP: 0.97 R: 0.64 F: 0.68\n",
      "\treco_to_target:\tP: 0.90 R: 0.86 F: 0.87\n",
      "\treco_to_sim:\tP: 0.97 R: 0.64 F: 0.68\n"
     ]
    }
   ],
   "source": [
    "result = pairwise_model_evaluation(\n",
    "    tracksters,\n",
    "    simtracksters,\n",
    "    associations,\n",
    "    graphs,\n",
    "    model.to(\"cpu\"),\n",
    "    scaler,\n",
    "    decision_th,\n",
    "    max_distance=15,\n",
    "    energy_threshold=20,\n",
    ")"
   ]
  },
  {
   "cell_type": "code",
   "execution_count": null,
   "id": "7344b6e1",
   "metadata": {},
   "outputs": [],
   "source": []
  }
 ],
 "metadata": {
  "kernelspec": {
   "display_name": "Python 3.8.9 ('ve': venv)",
   "language": "python",
   "name": "python3"
  },
  "language_info": {
   "codemirror_mode": {
    "name": "ipython",
    "version": 3
   },
   "file_extension": ".py",
   "mimetype": "text/x-python",
   "name": "python",
   "nbconvert_exporter": "python",
   "pygments_lexer": "ipython3",
   "version": "3.8.9"
  },
  "vscode": {
   "interpreter": {
    "hash": "75d0e37245d408f3d59eb152d126431f02f862b5012558b3df6d65a37ffc466c"
   }
  }
 },
 "nbformat": 4,
 "nbformat_minor": 5
}
