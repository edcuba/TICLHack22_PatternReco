{
 "cells": [
  {
   "cell_type": "markdown",
   "id": "6c07744a",
   "metadata": {},
   "source": [
    "# Pairwise MLP approach\n",
    "\n",
    "Get tracksters from a certain neighbourhood.\n",
    "\n",
    "Train a NN to decide whether two tracksters should be joined.\n",
    "\n",
    "Neighbourhood:\n",
    "- get links from ticlNtuplizer/graph\n",
    "    - figure out how these links are formed\n",
    "- convert the tracksters into some latent space and predict a link between them\n",
    "- later extend this using edgeconv or sageconf to add information from the neighbourhood\n",
    "\n",
    "Graph:\n",
    "- linked_inners\n",
    "    - nodes linked to the given tracksters within its cone\n"
   ]
  },
  {
   "cell_type": "markdown",
   "id": "e3247338",
   "metadata": {},
   "source": [
    "## MLP"
   ]
  },
  {
   "cell_type": "code",
   "execution_count": 1,
   "id": "81ffdcce",
   "metadata": {},
   "outputs": [],
   "source": [
    "import torch\n",
    "import torch.nn as nn\n",
    "from torch.optim.lr_scheduler import StepLR\n",
    "from torch.utils.data import random_split, DataLoader\n",
    "\n",
    "\n",
    "from sklearn.metrics import confusion_matrix\n",
    "from sklearn.metrics import accuracy_score, precision_score, recall_score\n",
    "\n",
    "from reco.dataset import TracksterPairs"
   ]
  },
  {
   "cell_type": "code",
   "execution_count": 2,
   "id": "7af3ed93",
   "metadata": {},
   "outputs": [
    {
     "name": "stdout",
     "output_type": "stream",
     "text": [
      "True\n"
     ]
    }
   ],
   "source": [
    "# Apple silicon setup\n",
    "# this ensures that the current MacOS version is at least 12.3+\n",
    "print(torch.backends.mps.is_available())"
   ]
  },
  {
   "cell_type": "code",
   "execution_count": 3,
   "id": "b2dc29a6",
   "metadata": {},
   "outputs": [
    {
     "name": "stdout",
     "output_type": "stream",
     "text": [
      "Using device: cpu\n"
     ]
    }
   ],
   "source": [
    "# device = torch.device('mps' if torch.backends.mps.is_available() else 'cpu')\n",
    "device = \"cpu\"    # torch mps implementation sucks\n",
    "print(f\"Using device: {device}\")"
   ]
  },
  {
   "cell_type": "code",
   "execution_count": 27,
   "id": "219c077d",
   "metadata": {},
   "outputs": [
    {
     "data": {
      "text/plain": [
       "(tensor([ 3.4465e+01, -8.5131e+01,  3.6889e+02,  5.3535e+00,  1.3882e+00,\n",
       "          1.4811e+02,  9.5811e-01,  1.4442e-01,  1.0263e-01, -1.9299e-01,\n",
       "          9.7582e-01,  4.1557e+01, -7.9505e+01,  3.5487e+02,  2.9358e+00,\n",
       "          2.9358e+00,  3.3207e+01,  2.7202e+00,  5.3345e-01,  1.2542e-01,\n",
       "         -2.0203e-01,  9.7132e-01]),\n",
       " tensor(1.))"
      ]
     },
     "execution_count": 27,
     "metadata": {},
     "output_type": "execute_result"
    }
   ],
   "source": [
    "ds = TracksterPairs(\"data\", N_FILES=5)\n",
    "ds[0]"
   ]
  },
  {
   "cell_type": "code",
   "execution_count": 45,
   "id": "10f015a8",
   "metadata": {},
   "outputs": [
    {
     "data": {
      "text/plain": [
       "tensor([[ 0.1578, -0.4362,  0.7193,  ...,  0.1288, -0.2052,  0.9713],\n",
       "        [ 0.1449, -0.4608,  0.8003,  ...,  0.1619, -0.1848,  0.9706],\n",
       "        [ 0.4275, -0.5957,  0.8044,  ...,  0.2237, -0.1173,  0.9691],\n",
       "        ...,\n",
       "        [-0.1268, -0.2916,  0.7328,  ...,  0.3227, -0.0717,  0.9467],\n",
       "        [-0.1150, -0.3350,  0.8049,  ...,  0.0397, -0.2202,  0.9754],\n",
       "        [-0.6361, -0.0812,  0.7855,  ..., -0.3802,  0.0235,  0.9286]])"
      ]
     },
     "execution_count": 45,
     "metadata": {},
     "output_type": "execute_result"
    }
   ],
   "source": [
    "ds.x = torch.nn.functional.normalize(ds.x, p=torch.inf, dim=0)\n",
    "ds.x"
   ]
  },
  {
   "cell_type": "code",
   "execution_count": 46,
   "id": "84179ef3",
   "metadata": {},
   "outputs": [
    {
     "name": "stdout",
     "output_type": "stream",
     "text": [
      "dataset balance: 0.5\n"
     ]
    }
   ],
   "source": [
    "print(\"dataset balance:\", float(sum(ds.y) / len(ds.y))) "
   ]
  },
  {
   "cell_type": "code",
   "execution_count": 47,
   "id": "27159145",
   "metadata": {},
   "outputs": [],
   "source": [
    "class PairWiseMLP(torch.nn.Module):\n",
    "    def __init__(self, num_inputs, num_hidden=10):\n",
    "        super(PairWiseMLP, self).__init__()\n",
    "\n",
    "        self.W1 = nn.Linear(num_inputs, num_hidden)\n",
    "        self.activation = nn.ReLU()\n",
    "        self.W2 = nn.Linear(num_hidden, num_hidden)\n",
    "        self.W3 = nn.Linear(num_hidden, 1)\n",
    "        self.output = nn.Sigmoid()\n",
    "\n",
    "    def forward(self, data):\n",
    "        x = self.W1(data)\n",
    "        x = self.activation(x)\n",
    "        x = self.W2(x)\n",
    "        x = self.activation(x)\n",
    "        x = self.W3(x)\n",
    "        return self.output(x)"
   ]
  },
  {
   "cell_type": "code",
   "execution_count": 48,
   "id": "5d3700ac",
   "metadata": {},
   "outputs": [],
   "source": [
    "loss_obj = torch.nn.BCELoss()\n",
    "\n",
    "def train(model, opt, loader):\n",
    "    epoch_loss = 0\n",
    "    for batch, labels in loader:\n",
    "        model.train()\n",
    "        batch = batch.to(device)\n",
    "        labels = labels.to(device)\n",
    "        opt.zero_grad()\n",
    "        z = model(batch).reshape(-1)\n",
    "        loss = loss_obj(z, labels)\n",
    "        epoch_loss += loss\n",
    "        loss.backward()\n",
    "        opt.step()\n",
    "    return float(epoch_loss)\n",
    "\n",
    "@torch.no_grad()\n",
    "def test(model, data):\n",
    "    total = 0\n",
    "    correct = 0\n",
    "    for batch, labels in data:\n",
    "        model.eval()\n",
    "        batch = batch.to(device)\n",
    "        labels = labels.to(device)\n",
    "        z = model(batch).reshape(-1)\n",
    "        prediction = (z > 0.5).type(torch.int)\n",
    "        total += len(prediction) \n",
    "        correct += sum(prediction == labels.type(torch.int))\n",
    "    return (correct / total)"
   ]
  },
  {
   "cell_type": "code",
   "execution_count": 49,
   "id": "c1e8002b",
   "metadata": {},
   "outputs": [
    {
     "name": "stdout",
     "output_type": "stream",
     "text": [
      "Train samples: 9470, Test samples: 1052\n"
     ]
    }
   ],
   "source": [
    "ds_size = len(ds)\n",
    "test_set_size = ds_size // 10\n",
    "train_set_size = ds_size - test_set_size\n",
    "train_set, test_set = random_split(ds, [train_set_size, test_set_size])\n",
    "print(f\"Train samples: {len(train_set)}, Test samples: {len(test_set)}\")\n",
    "\n",
    "train_dl = DataLoader(train_set, batch_size=32, shuffle=True)\n",
    "test_dl = DataLoader(test_set, batch_size=32, shuffle=True)"
   ]
  },
  {
   "cell_type": "code",
   "execution_count": 50,
   "id": "c1bdabc9",
   "metadata": {},
   "outputs": [
    {
     "name": "stdout",
     "output_type": "stream",
     "text": [
      "Initial acc: 0.5019\n",
      "Epoch: 50, loss: 205.2773, train acc: 0.5020, test acc: 0.4876\n",
      "Epoch: 100, loss: 204.9308, train acc: 0.5051, test acc: 0.5095\n",
      "Epoch: 150, loss: 204.6276, train acc: 0.5045, test acc: 0.5067\n",
      "Epoch: 200, loss: 204.3797, train acc: 0.5026, test acc: 0.4886\n"
     ]
    }
   ],
   "source": [
    "model = PairWiseMLP(ds.x.shape[1], 10)\n",
    "model = model.to(device)\n",
    "optimizer = torch.optim.Adam(model.parameters(), lr=0.01)\n",
    "scheduler = StepLR(optimizer, step_size=50, gamma=0.5)\n",
    "test_acc = test(model, test_dl)\n",
    "print(f\"Initial acc: {test_acc:.4f}\")\n",
    "\n",
    "for epoch in range(1, 201):\n",
    "    loss = train(model, optimizer, train_dl)\n",
    "    # scheduler.step()\n",
    "    if epoch % 50 == 0:\n",
    "        train_acc = test(model, train_dl)\n",
    "        test_acc = test(model, test_dl)\n",
    "        print(f'Epoch: {epoch}, loss: {loss:.4f}, train acc: {train_acc:.4f}, test acc: {test_acc:.4f}')"
   ]
  },
  {
   "cell_type": "code",
   "execution_count": 51,
   "id": "849a1318",
   "metadata": {},
   "outputs": [
    {
     "name": "stdout",
     "output_type": "stream",
     "text": [
      "TP: 2, TN: 512, FP: 2, FN: 536\n",
      "Accuracy: 0.4886\n",
      "Precision: 0.5000\n",
      "Recall: 0.0037\n"
     ]
    }
   ],
   "source": [
    "pred = []\n",
    "lab = []\n",
    "for b, l in test_dl:\n",
    "    pred += (model(b) > 0.5).type(torch.int).tolist()\n",
    "    lab += l.tolist()\n",
    "\n",
    "tn, fp, fn, tp = confusion_matrix(lab, pred).ravel()\n",
    "print(f\"TP: {tp}, TN: {tn}, FP: {fp}, FN: {fn}\")\n",
    "print(f'Accuracy: {accuracy_score(lab, pred):.4f}')\n",
    "print(f'Precision: {precision_score(lab, pred):.4f}')\n",
    "print(f'Recall: {recall_score(lab, pred):.4f}')"
   ]
  },
  {
   "cell_type": "code",
   "execution_count": null,
   "id": "d877b173",
   "metadata": {},
   "outputs": [],
   "source": []
  }
 ],
 "metadata": {
  "kernelspec": {
   "display_name": "Python 3.8.9 ('ve': venv)",
   "language": "python",
   "name": "python3"
  },
  "language_info": {
   "codemirror_mode": {
    "name": "ipython",
    "version": 3
   },
   "file_extension": ".py",
   "mimetype": "text/x-python",
   "name": "python",
   "nbconvert_exporter": "python",
   "pygments_lexer": "ipython3",
   "version": "3.8.9"
  },
  "vscode": {
   "interpreter": {
    "hash": "75d0e37245d408f3d59eb152d126431f02f862b5012558b3df6d65a37ffc466c"
   }
  }
 },
 "nbformat": 4,
 "nbformat_minor": 5
}
