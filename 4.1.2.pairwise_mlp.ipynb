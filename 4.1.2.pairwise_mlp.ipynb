{
 "cells": [
  {
   "cell_type": "markdown",
   "id": "6c07744a",
   "metadata": {},
   "source": [
    "# Pairwise MLP approach\n",
    "\n",
    "Get tracksters from a certain neighbourhood.\n",
    "\n",
    "Train a NN to decide whether two tracksters should be joined.\n",
    "\n",
    "Neighbourhood:\n",
    "- get links from ticlNtuplizer/graph\n",
    "    - figure out how these links are formed\n",
    "- convert the tracksters into some latent space and predict a link between them\n",
    "- later extend this using edgeconv or sageconf to add information from the neighbourhood\n",
    "\n",
    "Graph:\n",
    "- linked_inners\n",
    "    - nodes linked to the given tracksters within its cone\n"
   ]
  },
  {
   "cell_type": "markdown",
   "id": "e3247338",
   "metadata": {},
   "source": [
    "## MLP"
   ]
  },
  {
   "cell_type": "code",
   "execution_count": 1,
   "id": "81ffdcce",
   "metadata": {},
   "outputs": [],
   "source": [
    "import torch\n",
    "import torch.nn as nn\n",
    "from torch.optim.lr_scheduler import StepLR\n",
    "from torch.utils.data import random_split, DataLoader\n",
    "\n",
    "\n",
    "from sklearn.metrics import confusion_matrix\n",
    "from sklearn.metrics import accuracy_score, precision_score, recall_score\n",
    "\n",
    "from reco.dataset import TracksterPairs"
   ]
  },
  {
   "cell_type": "code",
   "execution_count": 2,
   "id": "7af3ed93",
   "metadata": {},
   "outputs": [],
   "source": [
    "# Apple silicon setup\n",
    "# this ensures that the current MacOS version is at least 12.3+\n",
    "# print(torch.backends.mps.is_available())\n",
    "# device = torch.device('mps' if torch.backends.mps.is_available() else 'cpu')"
   ]
  },
  {
   "cell_type": "code",
   "execution_count": 3,
   "id": "b2dc29a6",
   "metadata": {},
   "outputs": [
    {
     "name": "stdout",
     "output_type": "stream",
     "text": [
      "Using device: cpu\n"
     ]
    }
   ],
   "source": [
    "# CUDA Setup\n",
    "device = torch.device('cuda' if torch.cuda.is_available() else \"cpu\")\n",
    "print(f\"Using device: {device}\")"
   ]
  },
  {
   "cell_type": "code",
   "execution_count": 4,
   "id": "219c077d",
   "metadata": {},
   "outputs": [
    {
     "name": "stdout",
     "output_type": "stream",
     "text": [
      "Processing: /Users/ecuba/data/multiparticle_complet/new_ntuples_14992862_2834.root\n",
      "Processing: /Users/ecuba/data/multiparticle_complet/new_ntuples_14992862_542.root\n",
      "Processing: /Users/ecuba/data/multiparticle_complet/new_ntuples_14992862_112.root\n",
      "Processing: /Users/ecuba/data/multiparticle_complet/new_ntuples_14992862_2137.root\n",
      "Processing: /Users/ecuba/data/multiparticle_complet/new_ntuples_14992862_10.root\n",
      "Processing: /Users/ecuba/data/multiparticle_complet/new_ntuples_14992862_2567.root\n",
      "Processing: /Users/ecuba/data/multiparticle_complet/new_ntuples_14992862_2588.root\n",
      "Processing: /Users/ecuba/data/multiparticle_complet/new_ntuples_14992862_2072.root\n",
      "Processing: /Users/ecuba/data/multiparticle_complet/new_ntuples_14992862_954.root\n",
      "Processing: /Users/ecuba/data/multiparticle_complet/new_ntuples_14992862_2422.root\n"
     ]
    },
    {
     "data": {
      "text/plain": [
       "<TracksterPairs len=20938 balanced=True max_distance=10 energy_threshold=10>"
      ]
     },
     "execution_count": 4,
     "metadata": {},
     "output_type": "execute_result"
    }
   ],
   "source": [
    "ds = TracksterPairs(\"data\", N_FILES=10, balanced=True)\n",
    "ds"
   ]
  },
  {
   "cell_type": "code",
   "execution_count": 5,
   "id": "10f015a8",
   "metadata": {},
   "outputs": [
    {
     "data": {
      "text/plain": [
       "tensor([[0.1667, 0.0833],\n",
       "        [0.0833, 0.1667],\n",
       "        [0.2500, 0.7500],\n",
       "        ...,\n",
       "        [0.0833, 0.0833],\n",
       "        [0.0833, 0.0833],\n",
       "        [0.0833, 0.0833]])"
      ]
     },
     "execution_count": 5,
     "metadata": {},
     "output_type": "execute_result"
    }
   ],
   "source": [
    "ds.x = torch.nn.functional.normalize(ds.x, p=torch.inf, dim=0)\n",
    "ds.x"
   ]
  },
  {
   "cell_type": "code",
   "execution_count": 6,
   "id": "84179ef3",
   "metadata": {},
   "outputs": [
    {
     "name": "stdout",
     "output_type": "stream",
     "text": [
      "dataset balance: 0.5\n"
     ]
    }
   ],
   "source": [
    "print(\"dataset balance:\", float(sum(ds.y) / len(ds.y))) "
   ]
  },
  {
   "cell_type": "code",
   "execution_count": 7,
   "id": "5d3700ac",
   "metadata": {},
   "outputs": [],
   "source": [
    "loss_obj = torch.nn.BCEWithLogitsLoss()\n",
    "\n",
    "def train(model, opt, loader):\n",
    "    epoch_loss = 0\n",
    "    for batch, labels in loader:\n",
    "        # reset optimizer and enable training mode\n",
    "        opt.zero_grad()\n",
    "        model.train()\n",
    "\n",
    "        # move data to the device\n",
    "        batch = batch.to(device)\n",
    "        labels = labels.to(device)\n",
    "        \n",
    "        # get the prediction tensor\n",
    "        z = model(batch).reshape(-1)\n",
    "\n",
    "        # compute the loss\n",
    "        loss = loss_obj(z, labels)\n",
    "        epoch_loss += loss\n",
    "\n",
    "        # back-propagate and update the weight\n",
    "        loss.backward()\n",
    "        opt.step()\n",
    "\n",
    "    return float(epoch_loss)\n",
    "\n",
    "@torch.no_grad()\n",
    "def test(model, data):\n",
    "    total = 0\n",
    "    correct = 0\n",
    "    for batch, labels in data:\n",
    "        model.eval()\n",
    "        batch = batch.to(device)\n",
    "        labels = labels.to(device)\n",
    "        z = model(batch).reshape(-1)\n",
    "        prediction = (z > 0.5).type(torch.int)\n",
    "        total += len(prediction) \n",
    "        correct += sum(prediction == labels.type(torch.int))\n",
    "    return (correct / total)"
   ]
  },
  {
   "cell_type": "code",
   "execution_count": 8,
   "id": "c1e8002b",
   "metadata": {},
   "outputs": [
    {
     "name": "stdout",
     "output_type": "stream",
     "text": [
      "Train samples: 18845, Test samples: 2093\n"
     ]
    }
   ],
   "source": [
    "ds_size = len(ds)\n",
    "test_set_size = ds_size // 10\n",
    "train_set_size = ds_size - test_set_size\n",
    "train_set, test_set = random_split(ds, [train_set_size, test_set_size])\n",
    "print(f\"Train samples: {len(train_set)}, Test samples: {len(test_set)}\")\n",
    "\n",
    "train_dl = DataLoader(train_set, batch_size=64, shuffle=True)\n",
    "test_dl = DataLoader(test_set, batch_size=64, shuffle=True)"
   ]
  },
  {
   "cell_type": "code",
   "execution_count": 9,
   "id": "c1bdabc9",
   "metadata": {},
   "outputs": [
    {
     "name": "stdout",
     "output_type": "stream",
     "text": [
      "Epoch: 0, loss: 186.5649, train acc: 0.6482, test acc: 0.6441\n",
      "Epoch: 20, loss: 178.8527, train acc: 0.6993, test acc: 0.6980\n",
      "Epoch: 40, loss: 178.7077, train acc: 0.6993, test acc: 0.6980\n",
      "Epoch: 60, loss: 177.9001, train acc: 0.6993, test acc: 0.6980\n",
      "Epoch: 80, loss: 179.0440, train acc: 0.6993, test acc: 0.6980\n",
      "Epoch: 100, loss: 178.6754, train acc: 0.6993, test acc: 0.6980\n"
     ]
    }
   ],
   "source": [
    "model = nn.Sequential(\n",
    "    nn.Linear(ds.x.shape[1], 128),\n",
    "    nn.ReLU(),\n",
    "    nn.Linear(128, 64),\n",
    "    nn.ReLU(),\n",
    "    nn.Linear(64, 1),\n",
    "    nn.Dropout()\n",
    ")\n",
    "model = model.to(device)\n",
    "optimizer = torch.optim.Adam(model.parameters(), lr=0.001)\n",
    "scheduler = StepLR(optimizer, step_size=20, gamma=0.5)\n",
    "\n",
    "for epoch in range(0, 101):\n",
    "    loss = train(model, optimizer, train_dl)\n",
    "    scheduler.step()\n",
    "    if epoch % 20 == 0:\n",
    "        train_acc = test(model, train_dl)\n",
    "        test_acc = test(model, test_dl)\n",
    "        print(f'Epoch: {epoch}, loss: {loss:.4f}, train acc: {train_acc:.4f}, test acc: {test_acc:.4f}')"
   ]
  },
  {
   "cell_type": "code",
   "execution_count": 10,
   "id": "849a1318",
   "metadata": {},
   "outputs": [
    {
     "name": "stdout",
     "output_type": "stream",
     "text": [
      "TP: 521, TN: 940, FP: 101, FN: 531\n",
      "Accuracy: 0.6980\n",
      "Precision: 0.8376\n",
      "Recall: 0.4952\n"
     ]
    }
   ],
   "source": [
    "pred = []\n",
    "lab = []\n",
    "for b, l in test_dl:\n",
    "    pred += (model(b) > 0.5).type(torch.int).tolist()\n",
    "    lab += l.tolist()\n",
    "\n",
    "tn, fp, fn, tp = confusion_matrix(lab, pred).ravel()\n",
    "print(f\"TP: {tp}, TN: {tn}, FP: {fp}, FN: {fn}\")\n",
    "print(f'Accuracy: {accuracy_score(lab, pred):.4f}')\n",
    "print(f'Precision: {precision_score(lab, pred):.4f}')\n",
    "print(f'Recall: {recall_score(lab, pred):.4f}')"
   ]
  },
  {
   "cell_type": "code",
   "execution_count": null,
   "id": "d877b173",
   "metadata": {},
   "outputs": [],
   "source": []
  }
 ],
 "metadata": {
  "kernelspec": {
   "display_name": "Python 3.8.9 ('ve': venv)",
   "language": "python",
   "name": "python3"
  },
  "language_info": {
   "codemirror_mode": {
    "name": "ipython",
    "version": 3
   },
   "file_extension": ".py",
   "mimetype": "text/x-python",
   "name": "python",
   "nbconvert_exporter": "python",
   "pygments_lexer": "ipython3",
   "version": "3.8.9"
  },
  "vscode": {
   "interpreter": {
    "hash": "75d0e37245d408f3d59eb152d126431f02f862b5012558b3df6d65a37ffc466c"
   }
  }
 },
 "nbformat": 4,
 "nbformat_minor": 5
}
