{
 "cells": [
  {
   "cell_type": "markdown",
   "id": "6c07744a",
   "metadata": {},
   "source": [
    "# Pairwise MLP approach\n",
    "\n",
    "Get tracksters from a certain neighbourhood.\n",
    "\n",
    "Train a NN to decide whether two tracksters should be joined.\n",
    "\n",
    "Neighbourhood:\n",
    "- get links from ticlNtuplizer/graph\n",
    "    - figure out how these links are formed\n",
    "- convert the tracksters into some latent space and predict a link between them\n",
    "- later extend this using edgeconv or sageconf to add information from the neighbourhood\n",
    "\n",
    "Graph:\n",
    "- linked_inners\n",
    "    - nodes linked to the given tracksters within its cone\n"
   ]
  },
  {
   "cell_type": "markdown",
   "id": "e3247338",
   "metadata": {},
   "source": [
    "## MLP"
   ]
  },
  {
   "cell_type": "code",
   "execution_count": 1,
   "id": "81ffdcce",
   "metadata": {},
   "outputs": [],
   "source": [
    "import torch\n",
    "import torch.nn as nn\n",
    "from torch.optim.lr_scheduler import StepLR\n",
    "from torch.utils.data import random_split, DataLoader\n",
    "\n",
    "\n",
    "from sklearn.metrics import confusion_matrix\n",
    "from sklearn.metrics import accuracy_score, precision_score, recall_score\n",
    "\n",
    "from reco.dataset import TracksterPairs"
   ]
  },
  {
   "cell_type": "code",
   "execution_count": 11,
   "id": "7af3ed93",
   "metadata": {},
   "outputs": [
    {
     "name": "stdout",
     "output_type": "stream",
     "text": [
      "True\n"
     ]
    }
   ],
   "source": [
    "# Apple silicon setup\n",
    "# this ensures that the current MacOS version is at least 12.3+\n",
    "print(torch.backends.mps.is_available())"
   ]
  },
  {
   "cell_type": "code",
   "execution_count": 12,
   "id": "b2dc29a6",
   "metadata": {},
   "outputs": [
    {
     "name": "stdout",
     "output_type": "stream",
     "text": [
      "Using device: cpu\n"
     ]
    }
   ],
   "source": [
    "# device = torch.device('mps' if torch.backends.mps.is_available() else 'cpu')\n",
    "device = \"cpu\"    # torch mps implementation sucks\n",
    "print(f\"Using device: {device}\")"
   ]
  },
  {
   "cell_type": "code",
   "execution_count": 13,
   "id": "219c077d",
   "metadata": {},
   "outputs": [
    {
     "name": "stdout",
     "output_type": "stream",
     "text": [
      "Processing: /Users/ecuba/data/multiparticle_complet/new_ntuples_14992862_2834.root\n",
      "Processing: /Users/ecuba/data/multiparticle_complet/new_ntuples_14992862_542.root\n",
      "Processing: /Users/ecuba/data/multiparticle_complet/new_ntuples_14992862_112.root\n",
      "Processing: /Users/ecuba/data/multiparticle_complet/new_ntuples_14992862_2137.root\n",
      "Processing: /Users/ecuba/data/multiparticle_complet/new_ntuples_14992862_10.root\n",
      "Processing: /Users/ecuba/data/multiparticle_complet/new_ntuples_14992862_2567.root\n",
      "Processing: /Users/ecuba/data/multiparticle_complet/new_ntuples_14992862_2588.root\n",
      "Processing: /Users/ecuba/data/multiparticle_complet/new_ntuples_14992862_2072.root\n",
      "Processing: /Users/ecuba/data/multiparticle_complet/new_ntuples_14992862_954.root\n",
      "Processing: /Users/ecuba/data/multiparticle_complet/new_ntuples_14992862_2422.root\n"
     ]
    },
    {
     "data": {
      "text/plain": [
       "(tensor([ 4.8522e+01, -8.2125e+01,  3.6825e+02,  1.5845e+00,  3.9181e-01,\n",
       "          3.6443e+01,  2.6332e+00,  2.1716e-01,  1.0894e-01, -1.3928e-01,\n",
       "          9.8424e-01,  4.2209e+01, -8.8453e+01,  3.6038e+02,  2.7677e+00,\n",
       "          2.7677e+00,  1.3071e+01,  1.9458e+00,  1.0452e+00,  3.4449e-01,\n",
       "          8.5402e-02,  9.3490e-01,  9.4797e+00]),\n",
       " tensor(1.))"
      ]
     },
     "execution_count": 13,
     "metadata": {},
     "output_type": "execute_result"
    }
   ],
   "source": [
    "ds = TracksterPairs(\"data\", N_FILES=10)\n",
    "ds[0]"
   ]
  },
  {
   "cell_type": "code",
   "execution_count": 14,
   "id": "10f015a8",
   "metadata": {},
   "outputs": [
    {
     "data": {
      "text/plain": [
       "tensor([[ 2.2209e-01, -4.2084e-01,  7.1810e-01,  ...,  8.6727e-02,\n",
       "          9.3490e-01,  9.4800e-01],\n",
       "        [ 1.8108e-01, -4.2039e-01,  7.5715e-01,  ..., -2.0122e-01,\n",
       "          9.8001e-01,  3.8386e-01],\n",
       "        [ 2.5283e-01, -5.1010e-01,  7.9072e-01,  ..., -1.0279e-01,\n",
       "          9.7088e-01,  8.0178e-01],\n",
       "        ...,\n",
       "        [ 1.7773e-02,  4.1718e-01,  8.2109e-01,  ...,  1.4606e-01,\n",
       "          9.8944e-01,  9.7887e-01],\n",
       "        [-9.7574e-03,  4.2095e-01,  7.4703e-01,  ..., -6.9531e-02,\n",
       "          9.4099e-01,  3.7493e-01],\n",
       "        [-6.8441e-04,  3.8074e-01,  6.9604e-01,  ...,  3.1176e-01,\n",
       "          8.6479e-01,  5.7305e-01]])"
      ]
     },
     "execution_count": 14,
     "metadata": {},
     "output_type": "execute_result"
    }
   ],
   "source": [
    "ds.x = torch.nn.functional.normalize(ds.x, p=torch.inf, dim=0)\n",
    "ds.x"
   ]
  },
  {
   "cell_type": "code",
   "execution_count": 15,
   "id": "84179ef3",
   "metadata": {},
   "outputs": [
    {
     "name": "stdout",
     "output_type": "stream",
     "text": [
      "dataset balance: 0.5\n"
     ]
    }
   ],
   "source": [
    "print(\"dataset balance:\", float(sum(ds.y) / len(ds.y))) "
   ]
  },
  {
   "cell_type": "code",
   "execution_count": 16,
   "id": "27159145",
   "metadata": {},
   "outputs": [],
   "source": [
    "class PairWiseMLP(torch.nn.Module):\n",
    "    def __init__(self, num_inputs, num_hidden=10):\n",
    "        super(PairWiseMLP, self).__init__()\n",
    "\n",
    "        self.W1 = nn.Linear(num_inputs, num_hidden)\n",
    "        self.activation = nn.ReLU()\n",
    "        self.W2 = nn.Linear(num_hidden, num_hidden)\n",
    "        self.W3 = nn.Linear(num_hidden, 1)\n",
    "        self.output = nn.Sigmoid()\n",
    "\n",
    "    def forward(self, data):\n",
    "        x = self.W1(data)\n",
    "        x = self.activation(x)\n",
    "        x = self.W2(x)\n",
    "        x = self.activation(x)\n",
    "        x = self.W3(x)\n",
    "        return self.output(x)"
   ]
  },
  {
   "cell_type": "code",
   "execution_count": 17,
   "id": "5d3700ac",
   "metadata": {},
   "outputs": [],
   "source": [
    "loss_obj = torch.nn.BCELoss()\n",
    "\n",
    "def train(model, opt, loader):\n",
    "    epoch_loss = 0\n",
    "    for batch, labels in loader:\n",
    "        model.train()\n",
    "        batch = batch.to(device)\n",
    "        labels = labels.to(device)\n",
    "        opt.zero_grad()\n",
    "        z = model(batch).reshape(-1)\n",
    "        loss = loss_obj(z, labels)\n",
    "        epoch_loss += loss\n",
    "        loss.backward()\n",
    "        opt.step()\n",
    "    return float(epoch_loss)\n",
    "\n",
    "@torch.no_grad()\n",
    "def test(model, data):\n",
    "    total = 0\n",
    "    correct = 0\n",
    "    for batch, labels in data:\n",
    "        model.eval()\n",
    "        batch = batch.to(device)\n",
    "        labels = labels.to(device)\n",
    "        z = model(batch).reshape(-1)\n",
    "        prediction = (z > 0.5).type(torch.int)\n",
    "        total += len(prediction) \n",
    "        correct += sum(prediction == labels.type(torch.int))\n",
    "    return (correct / total)"
   ]
  },
  {
   "cell_type": "code",
   "execution_count": 18,
   "id": "c1e8002b",
   "metadata": {},
   "outputs": [
    {
     "name": "stdout",
     "output_type": "stream",
     "text": [
      "Train samples: 18845, Test samples: 2093\n"
     ]
    }
   ],
   "source": [
    "ds_size = len(ds)\n",
    "test_set_size = ds_size // 10\n",
    "train_set_size = ds_size - test_set_size\n",
    "train_set, test_set = random_split(ds, [train_set_size, test_set_size])\n",
    "print(f\"Train samples: {len(train_set)}, Test samples: {len(test_set)}\")\n",
    "\n",
    "train_dl = DataLoader(train_set, batch_size=32, shuffle=True)\n",
    "test_dl = DataLoader(test_set, batch_size=32, shuffle=True)"
   ]
  },
  {
   "cell_type": "code",
   "execution_count": 21,
   "id": "c1bdabc9",
   "metadata": {},
   "outputs": [
    {
     "name": "stdout",
     "output_type": "stream",
     "text": [
      "Initial acc: 0.5088\n",
      "Epoch: 50, loss: 407.5300, train acc: 0.5147, test acc: 0.4864\n",
      "Epoch: 100, loss: 406.4890, train acc: 0.5219, test acc: 0.4849\n",
      "Epoch: 150, loss: 406.0963, train acc: 0.5296, test acc: 0.5021\n",
      "Epoch: 200, loss: 405.3450, train acc: 0.5301, test acc: 0.4921\n",
      "Epoch: 250, loss: 404.9729, train acc: 0.5356, test acc: 0.4950\n"
     ]
    }
   ],
   "source": [
    "model = PairWiseMLP(ds.x.shape[1], 10)\n",
    "model = model.to(device)\n",
    "optimizer = torch.optim.Adam(model.parameters(), lr=0.001)\n",
    "scheduler = StepLR(optimizer, step_size=50, gamma=0.5)\n",
    "test_acc = test(model, test_dl)\n",
    "print(f\"Initial acc: {test_acc:.4f}\")\n",
    "\n",
    "for epoch in range(1, 1001):\n",
    "    loss = train(model, optimizer, train_dl)\n",
    "    # scheduler.step()\n",
    "    if epoch % 50 == 0:\n",
    "        train_acc = test(model, train_dl)\n",
    "        test_acc = test(model, test_dl)\n",
    "        print(f'Epoch: {epoch}, loss: {loss:.4f}, train acc: {train_acc:.4f}, test acc: {test_acc:.4f}')"
   ]
  },
  {
   "cell_type": "code",
   "execution_count": 51,
   "id": "849a1318",
   "metadata": {},
   "outputs": [
    {
     "name": "stdout",
     "output_type": "stream",
     "text": [
      "TP: 2, TN: 512, FP: 2, FN: 536\n",
      "Accuracy: 0.4886\n",
      "Precision: 0.5000\n",
      "Recall: 0.0037\n"
     ]
    }
   ],
   "source": [
    "pred = []\n",
    "lab = []\n",
    "for b, l in test_dl:\n",
    "    pred += (model(b) > 0.5).type(torch.int).tolist()\n",
    "    lab += l.tolist()\n",
    "\n",
    "tn, fp, fn, tp = confusion_matrix(lab, pred).ravel()\n",
    "print(f\"TP: {tp}, TN: {tn}, FP: {fp}, FN: {fn}\")\n",
    "print(f'Accuracy: {accuracy_score(lab, pred):.4f}')\n",
    "print(f'Precision: {precision_score(lab, pred):.4f}')\n",
    "print(f'Recall: {recall_score(lab, pred):.4f}')"
   ]
  },
  {
   "cell_type": "code",
   "execution_count": null,
   "id": "d877b173",
   "metadata": {},
   "outputs": [],
   "source": []
  }
 ],
 "metadata": {
  "kernelspec": {
   "display_name": "Python 3.8.9 ('ve': venv)",
   "language": "python",
   "name": "python3"
  },
  "language_info": {
   "codemirror_mode": {
    "name": "ipython",
    "version": 3
   },
   "file_extension": ".py",
   "mimetype": "text/x-python",
   "name": "python",
   "nbconvert_exporter": "python",
   "pygments_lexer": "ipython3",
   "version": "3.8.9"
  },
  "vscode": {
   "interpreter": {
    "hash": "75d0e37245d408f3d59eb152d126431f02f862b5012558b3df6d65a37ffc466c"
   }
  }
 },
 "nbformat": 4,
 "nbformat_minor": 5
}
