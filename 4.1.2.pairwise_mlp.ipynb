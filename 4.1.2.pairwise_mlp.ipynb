{
 "cells": [
  {
   "cell_type": "markdown",
   "id": "6c07744a",
   "metadata": {},
   "source": [
    "# Pairwise MLP approach\n",
    "\n",
    "Get tracksters from a certain neighbourhood.\n",
    "\n",
    "Train a NN to decide whether two tracksters should be joined.\n",
    "\n",
    "Neighbourhood:\n",
    "- get links from ticlNtuplizer/graph\n",
    "- convert the tracksters into some latent space and predict a link between them\n",
    "\n",
    "Graph:\n",
    "- linked_inners\n",
    "    - nodes linked to the given tracksters within its cone\n"
   ]
  },
  {
   "cell_type": "markdown",
   "id": "e3247338",
   "metadata": {},
   "source": [
    "## MLP"
   ]
  },
  {
   "cell_type": "code",
   "execution_count": 8,
   "id": "81ffdcce",
   "metadata": {},
   "outputs": [],
   "source": [
    "import torch\n",
    "import matplotlib.pyplot as plt\n",
    "import torch.nn as nn\n",
    "from torch.optim.lr_scheduler import StepLR\n",
    "from torch.utils.data import random_split, DataLoader\n",
    "from sklearn.preprocessing import StandardScaler\n",
    "from sklearn.metrics import confusion_matrix, accuracy_score, precision_score, recall_score, roc_curve, auc, f1_score, fbeta_score\n",
    "\n",
    "from reco.dataset import TracksterPairs\n",
    "\n",
    "data_root = \"/mnt/ceph/users/ecuba/processed\"\n",
    "raw_dir = \"/mnt/ceph/users/ecuba/multiparticle_10/\""
   ]
  },
  {
   "cell_type": "code",
   "execution_count": 9,
   "id": "7af3ed93",
   "metadata": {},
   "outputs": [],
   "source": [
    "# Apple silicon setup\n",
    "# this ensures that the current MacOS version is at least 12.3+\n",
    "# print(torch.backends.mps.is_available())\n",
    "# device = torch.device('mps' if torch.backends.mps.is_available() else 'cpu')"
   ]
  },
  {
   "cell_type": "code",
   "execution_count": 10,
   "id": "b2dc29a6",
   "metadata": {},
   "outputs": [
    {
     "name": "stdout",
     "output_type": "stream",
     "text": [
      "Using device: cuda\n"
     ]
    }
   ],
   "source": [
    "# CUDA Setup\n",
    "device = torch.device('cuda' if torch.cuda.is_available() else \"cpu\")\n",
    "print(f\"Using device: {device}\")"
   ]
  },
  {
   "cell_type": "code",
   "execution_count": 30,
   "id": "219c077d",
   "metadata": {},
   "outputs": [
    {
     "name": "stdout",
     "output_type": "stream",
     "text": [
      "Processing: /mnt/ceph/users/ecuba/multiparticle_10/new_ntuples_14992862_137.root\n",
      "Processing: /mnt/ceph/users/ecuba/multiparticle_10/new_ntuples_14992862_1230.root\n",
      "Processing: /mnt/ceph/users/ecuba/multiparticle_10/new_ntuples_14992862_1387.root\n",
      "Processing: /mnt/ceph/users/ecuba/multiparticle_10/new_ntuples_14992862_1333.root\n",
      "Processing: /mnt/ceph/users/ecuba/multiparticle_10/new_ntuples_14992862_1233.root\n",
      "Processing: /mnt/ceph/users/ecuba/multiparticle_10/new_ntuples_14992862_1364.root\n",
      "Processing: /mnt/ceph/users/ecuba/multiparticle_10/new_ntuples_14992862_1142.root\n",
      "Processing: /mnt/ceph/users/ecuba/multiparticle_10/new_ntuples_14992862_1030.root\n",
      "Processing: /mnt/ceph/users/ecuba/multiparticle_10/new_ntuples_14992862_1152.root\n",
      "Processing: /mnt/ceph/users/ecuba/multiparticle_10/new_ntuples_14992862_1131.root\n",
      "Processing: /mnt/ceph/users/ecuba/multiparticle_10/new_ntuples_14992862_1092.root\n",
      "Processing: /mnt/ceph/users/ecuba/multiparticle_10/new_ntuples_14992862_1026.root\n",
      "Processing: /mnt/ceph/users/ecuba/multiparticle_10/new_ntuples_14992862_1410.root\n",
      "Processing: /mnt/ceph/users/ecuba/multiparticle_10/new_ntuples_14992862_1217.root\n",
      "Processing: /mnt/ceph/users/ecuba/multiparticle_10/new_ntuples_14992862_1375.root\n",
      "Processing: /mnt/ceph/users/ecuba/multiparticle_10/new_ntuples_14992862_1416.root\n",
      "Processing: /mnt/ceph/users/ecuba/multiparticle_10/new_ntuples_14992862_142.root\n",
      "Processing: /mnt/ceph/users/ecuba/multiparticle_10/new_ntuples_14992862_1073.root\n",
      "Processing: /mnt/ceph/users/ecuba/multiparticle_10/new_ntuples_14992862_1172.root\n",
      "Processing: /mnt/ceph/users/ecuba/multiparticle_10/new_ntuples_14992862_1293.root\n"
     ]
    },
    {
     "data": {
      "text/plain": [
       "torch.Size([42892, 31])"
      ]
     },
     "execution_count": 30,
     "metadata": {},
     "output_type": "execute_result"
    }
   ],
   "source": [
    "ds = TracksterPairs(\n",
    "    data_root,\n",
    "    raw_dir,\n",
    "    N_FILES=20,\n",
    "    balanced=True,\n",
    "    include_neutral=False,\n",
    "    MAX_DISTANCE=15,\n",
    "    ENERGY_THRESHOLD=20\n",
    ")\n",
    "ds.x.shape"
   ]
  },
  {
   "cell_type": "code",
   "execution_count": 31,
   "id": "496f699c",
   "metadata": {},
   "outputs": [],
   "source": [
    "scaler = StandardScaler()\n",
    "scaler.fit(ds.x)\n",
    "ds.x = torch.tensor(scaler.transform(ds.x)).type(torch.float)"
   ]
  },
  {
   "cell_type": "code",
   "execution_count": 32,
   "id": "75c3ffff",
   "metadata": {},
   "outputs": [
    {
     "name": "stdout",
     "output_type": "stream",
     "text": [
      "torch.Size([42892, 31])\n",
      "Positive: 21446\n",
      "Neutral: 0\n",
      "Negative: 21446\n"
     ]
    }
   ],
   "source": [
    "print(ds.x.shape)\n",
    "print(\"Positive:\", int((ds.y == 1).type(torch.int).sum()))\n",
    "print(\"Neutral:\", int((ds.y == 0.5).type(torch.int).sum()))\n",
    "print(\"Negative:\", int((ds.y == 0).type(torch.int).sum()))"
   ]
  },
  {
   "cell_type": "code",
   "execution_count": 33,
   "id": "84179ef3",
   "metadata": {},
   "outputs": [
    {
     "name": "stdout",
     "output_type": "stream",
     "text": [
      "dataset balance: 0.5\n"
     ]
    }
   ],
   "source": [
    "print(\"dataset balance:\", float(sum(ds.y) / len(ds.y))) "
   ]
  },
  {
   "cell_type": "code",
   "execution_count": 34,
   "id": "5d3700ac",
   "metadata": {},
   "outputs": [],
   "source": [
    "loss_obj = torch.nn.BCELoss()\n",
    "\n",
    "def train(model, opt, loader):\n",
    "    epoch_loss = 0\n",
    "    for batch, labels in loader:\n",
    "        # reset optimizer and enable training mode\n",
    "        opt.zero_grad()\n",
    "        model.train()\n",
    "\n",
    "        # move data to the device\n",
    "        batch = batch.to(device)\n",
    "        labels = labels.to(device)\n",
    "        \n",
    "        # get the prediction tensor\n",
    "        z = model(batch).reshape(-1)\n",
    "\n",
    "        # compute the loss\n",
    "        loss = loss_obj(z, labels)\n",
    "        epoch_loss += loss\n",
    "\n",
    "        # back-propagate and update the weight\n",
    "        loss.backward()\n",
    "        opt.step()\n",
    "\n",
    "    return float(epoch_loss)\n",
    "\n",
    "@torch.no_grad()\n",
    "def test(model, data):\n",
    "    total = 0\n",
    "    correct = 0\n",
    "    for batch, labels in data:\n",
    "        model.eval()\n",
    "        batch = batch.to(device)\n",
    "        labels = labels.to(device)\n",
    "        z = model(batch).reshape(-1)\n",
    "        prediction = (z > 0.5).type(torch.int)\n",
    "        total += len(prediction) \n",
    "        correct += sum(prediction == labels.type(torch.int))\n",
    "    return (correct / total)"
   ]
  },
  {
   "cell_type": "code",
   "execution_count": 35,
   "id": "c1e8002b",
   "metadata": {},
   "outputs": [
    {
     "name": "stdout",
     "output_type": "stream",
     "text": [
      "Train samples: 38603, Test samples: 4289\n"
     ]
    }
   ],
   "source": [
    "ds_size = len(ds)\n",
    "test_set_size = ds_size // 10\n",
    "train_set_size = ds_size - test_set_size\n",
    "train_set, test_set = random_split(ds, [train_set_size, test_set_size])\n",
    "print(f\"Train samples: {len(train_set)}, Test samples: {len(test_set)}\")\n",
    "\n",
    "train_dl = DataLoader(train_set, batch_size=64, shuffle=True)\n",
    "test_dl = DataLoader(test_set, batch_size=64, shuffle=True)"
   ]
  },
  {
   "cell_type": "code",
   "execution_count": 36,
   "id": "c1bdabc9",
   "metadata": {},
   "outputs": [
    {
     "name": "stdout",
     "output_type": "stream",
     "text": [
      "Epoch: 0, loss: 301.1310, train acc: 0.9072, test acc: 0.9121\n",
      "Epoch: 20, loss: 251.0861, train acc: 0.9510, test acc: 0.9389\n",
      "Epoch: 40, loss: 240.7382, train acc: 0.9621, test acc: 0.9412\n",
      "Epoch: 60, loss: 235.7302, train acc: 0.9695, test acc: 0.9377\n",
      "Epoch: 80, loss: 230.5516, train acc: 0.9753, test acc: 0.9370\n",
      "Epoch: 100, loss: 229.6968, train acc: 0.9781, test acc: 0.9375\n"
     ]
    }
   ],
   "source": [
    "model = nn.Sequential(\n",
    "    nn.Linear(ds.x.shape[1], 256),\n",
    "    nn.ReLU(),\n",
    "    nn.Linear(256, 128),\n",
    "    nn.ReLU(),\n",
    "    nn.Linear(128, 1),\n",
    "    nn.Dropout(),\n",
    "    nn.Sigmoid()\n",
    ")\n",
    "model = model.to(device)\n",
    "optimizer = torch.optim.Adam(model.parameters(), lr=0.001)\n",
    "scheduler = StepLR(optimizer, step_size=20, gamma=0.5)\n",
    "\n",
    "for epoch in range(0, 101):\n",
    "    loss = train(model, optimizer, train_dl)\n",
    "    scheduler.step()\n",
    "    if epoch % 20 == 0:\n",
    "        train_acc = test(model, train_dl)\n",
    "        test_acc = test(model, test_dl)\n",
    "        print(f'Epoch: {epoch}, loss: {loss:.4f}, train acc: {train_acc:.4f}, test acc: {test_acc:.4f}')"
   ]
  },
  {
   "cell_type": "code",
   "execution_count": 37,
   "id": "06340e49",
   "metadata": {},
   "outputs": [
    {
     "data": {
      "image/png": "[encoded data removed]",
      "text/plain": [
       "<Figure size 640x480 with 1 Axes>"
      ]
     },
     "metadata": {},
     "output_type": "display_data"
    }
   ],
   "source": [
    "pred = []\n",
    "lab = []\n",
    "for b, l in test_dl:\n",
    "    b = b.to(device)\n",
    "    l = l.to(device)\n",
    "    pred += model(b).tolist()\n",
    "    lab += l.tolist()\n",
    "\n",
    "fpr, tpr, _ = roc_curve(lab, pred)\n",
    "roc_auc = auc(fpr, tpr)\n",
    "\n",
    "plt.figure()\n",
    "plt.plot(fpr, tpr, color=\"darkorange\", label=\"ROC curve (area = %0.2f)\" % roc_auc)\n",
    "plt.plot([0, 1], [0, 1], color=\"navy\", linestyle=\"--\")\n",
    "plt.xlim([0.0, 1.0])\n",
    "plt.ylim([0.0, 1.05])\n",
    "plt.xlabel(\"False Positive Rate\")\n",
    "plt.ylabel(\"True Positive Rate\")\n",
    "plt.title(\"Receiver operating characteristic example\")\n",
    "plt.legend(loc=\"lower right\")\n",
    "plt.show()"
   ]
  },
  {
   "cell_type": "code",
   "execution_count": 38,
   "id": "849a1318",
   "metadata": {},
   "outputs": [
    {
     "data": {
      "image/png": "[encoded data removed]",
      "text/plain": [
       "<Figure size 640x480 with 1 Axes>"
      ]
     },
     "metadata": {},
     "output_type": "display_data"
    }
   ],
   "source": [
    "th_values = [i / 100. for i in range(1, 100)]\n",
    "precision = []\n",
    "recall = []\n",
    "f1scores = []\n",
    "fbeta = []\n",
    "\n",
    "for th in th_values:\n",
    "    pred = []\n",
    "    lab = []\n",
    "    for b, l in test_dl:\n",
    "        b = b.to(device)\n",
    "        l = l.to(device)\n",
    "        pred += (model(b) > th).type(torch.int).tolist()\n",
    "        lab += l.tolist()\n",
    "    precision.append(precision_score(lab, pred))\n",
    "    recall.append(recall_score(lab, pred))\n",
    "    f1scores.append(f1_score(lab, pred))\n",
    "    fbeta.append(fbeta_score(lab, pred, beta=0.5))\n",
    "\n",
    "plt.figure()\n",
    "plt.plot(th_values, precision, label=\"precision\")\n",
    "plt.plot(th_values, recall, label=\"recall\")\n",
    "plt.plot(th_values, f1scores, label=\"f1\")\n",
    "plt.plot(th_values, fbeta, label=\"fbeta\")\n",
    "plt.xlabel(\"Threshold\")\n",
    "plt.legend()\n",
    "plt.show()"
   ]
  },
  {
   "cell_type": "code",
   "execution_count": 39,
   "id": "92dc57f8",
   "metadata": {},
   "outputs": [
    {
     "name": "stdout",
     "output_type": "stream",
     "text": [
      "TP: 1961, TN: 2001, FP: 163, FN: 164\n",
      "Acc: 0.9238 P: 0.9233 R: 0.9228 F1: 0.92 FB: 0.92\n"
     ]
    }
   ],
   "source": [
    "decision_th = 0.6\n",
    "\n",
    "pred = []\n",
    "lab = []\n",
    "for b, l in test_dl:\n",
    "    b = b.to(device)\n",
    "    l = l.to(device)\n",
    "    pred += (model(b) > decision_th).type(torch.int).tolist()\n",
    "    lab += l.tolist()\n",
    "\n",
    "tn, fp, fn, tp = confusion_matrix(lab, pred).ravel()\n",
    "print(f\"TP: {tp}, TN: {tn}, FP: {fp}, FN: {fn}\")\n",
    "acc = accuracy_score(lab, pred)\n",
    "precision = precision_score(lab, pred)\n",
    "recall = recall_score(lab, pred)\n",
    "f1 = f1_score(lab, pred)\n",
    "fb = fbeta_score(lab, pred, beta=0.5)\n",
    "print(f'Acc: {acc:.4f} P: {precision:.4f} R: {recall:.4f} F1: {f1:.2f} FB: {fb:.2f}')"
   ]
  },
  {
   "cell_type": "markdown",
   "id": "951d1251",
   "metadata": {},
   "source": [
    "# Evaluation\n",
    "\n",
    "Give the model a list of candidate edges to evaluate.\n",
    "Reconstruct the event and evaluate against ground truth. "
   ]
  },
  {
   "cell_type": "code",
   "execution_count": 42,
   "id": "d877b173",
   "metadata": {},
   "outputs": [],
   "source": [
    "import uproot\n",
    "import numpy as np\n",
    "from reco.evaluation import pairwise_model_evaluation\n",
    "\n",
    "file_name = f\"{raw_dir}/new_ntuples_14992862_101.root\"\n",
    "tracksters = uproot.open({file_name: \"ticlNtuplizer/tracksters\"})\n",
    "simtracksters = uproot.open({file_name: \"ticlNtuplizer/simtrackstersSC\"})\n",
    "graphs = uproot.open({file_name: \"ticlNtuplizer/graph\"})\n",
    "associations = uproot.open({file_name: \"ticlNtuplizer/associations\"})"
   ]
  },
  {
   "cell_type": "code",
   "execution_count": 15,
   "id": "5212be61",
   "metadata": {},
   "outputs": [
    {
     "name": "stdout",
     "output_type": "stream",
     "text": [
      "Event 0:\n",
      "\tclue3d_to_sim:\tP: 0.95 R: 0.32 F: 0.37\n",
      "\ttarget_to_sim:\tP: 0.97 R: 0.76 F: 0.79\n",
      "\treco_to_target:\tP: 0.99 R: 0.84 F: 0.87\n",
      "\treco_to_sim:\tP: 0.97 R: 0.65 F: 0.70\n",
      "Event 1:\n",
      "\tclue3d_to_sim:\tP: 0.97 R: 0.29 F: 0.34\n",
      "\ttarget_to_sim:\tP: 0.98 R: 0.66 F: 0.71\n",
      "\treco_to_target:\tP: 0.89 R: 0.86 F: 0.87\n",
      "\treco_to_sim:\tP: 0.97 R: 0.66 F: 0.71\n",
      "Event 2:\n",
      "\tclue3d_to_sim:\tP: 0.99 R: 0.20 F: 0.24\n",
      "\ttarget_to_sim:\tP: 0.99 R: 0.56 F: 0.61\n",
      "\treco_to_target:\tP: 0.89 R: 0.69 F: 0.72\n",
      "\treco_to_sim:\tP: 0.98 R: 0.45 F: 0.50\n",
      "Event 3:\n",
      "\tclue3d_to_sim:\tP: 0.96 R: 0.23 F: 0.27\n",
      "\ttarget_to_sim:\tP: 0.98 R: 0.61 F: 0.66\n",
      "\treco_to_target:\tP: 0.82 R: 0.70 F: 0.72\n",
      "\treco_to_sim:\tP: 0.97 R: 0.53 F: 0.58\n",
      "Event 4:\n",
      "\tclue3d_to_sim:\tP: 0.95 R: 0.19 F: 0.23\n",
      "\ttarget_to_sim:\tP: 0.97 R: 0.58 F: 0.63\n",
      "\treco_to_target:\tP: 0.92 R: 0.77 F: 0.79\n",
      "\treco_to_sim:\tP: 0.96 R: 0.52 F: 0.57\n",
      "Event 5:\n",
      "\tclue3d_to_sim:\tP: 0.99 R: 0.58 F: 0.63\n",
      "\ttarget_to_sim:\tP: 0.99 R: 0.79 F: 0.83\n",
      "\treco_to_target:\tP: 0.97 R: 0.90 F: 0.92\n",
      "\treco_to_sim:\tP: 0.99 R: 0.71 F: 0.76\n",
      "Event 6:\n",
      "\tclue3d_to_sim:\tP: 0.95 R: 0.36 F: 0.41\n",
      "\ttarget_to_sim:\tP: 0.96 R: 0.76 F: 0.80\n",
      "\treco_to_target:\tP: 0.95 R: 0.91 F: 0.92\n",
      "\treco_to_sim:\tP: 0.95 R: 0.71 F: 0.75\n",
      "Event 7:\n",
      "\tclue3d_to_sim:\tP: 0.94 R: 0.13 F: 0.16\n",
      "\ttarget_to_sim:\tP: 0.95 R: 0.44 F: 0.50\n",
      "\treco_to_target:\tP: 0.79 R: 0.77 F: 0.77\n",
      "\treco_to_sim:\tP: 0.94 R: 0.42 F: 0.48\n",
      "Event 8:\n",
      "\tclue3d_to_sim:\tP: 0.97 R: 0.30 F: 0.35\n",
      "\ttarget_to_sim:\tP: 0.97 R: 0.71 F: 0.75\n",
      "\treco_to_target:\tP: 0.92 R: 0.77 F: 0.80\n",
      "\treco_to_sim:\tP: 0.97 R: 0.58 F: 0.63\n",
      "Event 9:\n",
      "\tclue3d_to_sim:\tP: 0.96 R: 0.32 F: 0.37\n",
      "\ttarget_to_sim:\tP: 0.97 R: 0.71 F: 0.75\n",
      "\treco_to_target:\tP: 0.93 R: 0.86 F: 0.87\n",
      "\treco_to_sim:\tP: 0.96 R: 0.63 F: 0.68\n",
      "Event 10:\n",
      "\tclue3d_to_sim:\tP: 0.96 R: 0.27 F: 0.31\n",
      "\ttarget_to_sim:\tP: 0.96 R: 0.63 F: 0.68\n",
      "\treco_to_target:\tP: 0.89 R: 0.82 F: 0.83\n",
      "\treco_to_sim:\tP: 0.95 R: 0.56 F: 0.61\n",
      "Event 11:\n",
      "\tclue3d_to_sim:\tP: 0.98 R: 0.54 F: 0.60\n",
      "\ttarget_to_sim:\tP: 0.99 R: 0.81 F: 0.84\n",
      "\treco_to_target:\tP: 0.97 R: 0.93 F: 0.94\n",
      "\treco_to_sim:\tP: 0.99 R: 0.80 F: 0.83\n",
      "Event 12:\n",
      "\tclue3d_to_sim:\tP: 0.95 R: 0.18 F: 0.22\n",
      "\ttarget_to_sim:\tP: 0.96 R: 0.53 F: 0.59\n",
      "\treco_to_target:\tP: 0.86 R: 0.82 F: 0.83\n",
      "\treco_to_sim:\tP: 0.95 R: 0.47 F: 0.53\n",
      "Event 13:\n",
      "\tclue3d_to_sim:\tP: 0.99 R: 0.41 F: 0.46\n",
      "\ttarget_to_sim:\tP: 0.99 R: 0.58 F: 0.63\n",
      "\treco_to_target:\tP: 0.95 R: 0.92 F: 0.92\n",
      "\treco_to_sim:\tP: 0.99 R: 0.59 F: 0.64\n",
      "Event 14:\n",
      "\tclue3d_to_sim:\tP: 0.99 R: 0.18 F: 0.22\n",
      "\ttarget_to_sim:\tP: 0.99 R: 0.44 F: 0.50\n",
      "\treco_to_target:\tP: 0.92 R: 0.75 F: 0.78\n",
      "\treco_to_sim:\tP: 0.99 R: 0.40 F: 0.45\n",
      "Event 15:\n",
      "\tclue3d_to_sim:\tP: 0.95 R: 0.29 F: 0.34\n",
      "\ttarget_to_sim:\tP: 0.96 R: 0.62 F: 0.67\n",
      "\treco_to_target:\tP: 0.87 R: 0.79 F: 0.80\n",
      "\treco_to_sim:\tP: 0.95 R: 0.58 F: 0.63\n",
      "Event 16:\n",
      "\tclue3d_to_sim:\tP: 0.98 R: 0.45 F: 0.50\n",
      "\ttarget_to_sim:\tP: 0.98 R: 0.75 F: 0.79\n",
      "\treco_to_target:\tP: 0.93 R: 0.82 F: 0.84\n",
      "\treco_to_sim:\tP: 0.98 R: 0.68 F: 0.72\n",
      "Event 17:\n",
      "\tclue3d_to_sim:\tP: 0.96 R: 0.38 F: 0.43\n",
      "\ttarget_to_sim:\tP: 0.97 R: 0.75 F: 0.78\n",
      "\treco_to_target:\tP: 0.96 R: 0.82 F: 0.85\n",
      "\treco_to_sim:\tP: 0.95 R: 0.63 F: 0.68\n",
      "Event 18:\n",
      "\tclue3d_to_sim:\tP: 0.98 R: 0.26 F: 0.31\n",
      "\ttarget_to_sim:\tP: 0.99 R: 0.75 F: 0.78\n",
      "\treco_to_target:\tP: 0.95 R: 0.70 F: 0.74\n",
      "\treco_to_sim:\tP: 0.97 R: 0.56 F: 0.61\n",
      "Event 19:\n",
      "\tclue3d_to_sim:\tP: 0.98 R: 0.13 F: 0.16\n",
      "\ttarget_to_sim:\tP: 0.98 R: 0.53 F: 0.58\n",
      "\treco_to_target:\tP: 0.80 R: 0.66 F: 0.68\n",
      "\treco_to_sim:\tP: 0.97 R: 0.42 F: 0.48\n",
      "----------\n",
      "mean clue3d_to_sim:\tP: 0.97 R: 0.30 F: 0.35\n",
      "mean target_to_sim:\tP: 0.97 R: 0.65 F: 0.69\n",
      "mean reco_to_target:\tP: 0.91 R: 0.80 F: 0.82\n",
      "mean reco_to_sim:\tP: 0.97 R: 0.58 F: 0.63\n"
     ]
    }
   ],
   "source": [
    "result = pairwise_model_evaluation(\n",
    "    tracksters,\n",
    "    simtracksters,\n",
    "    associations,\n",
    "    graphs,\n",
    "    model,\n",
    "    scaler,\n",
    "    decision_th,\n",
    "    max_distance=15,\n",
    "    energy_threshold=20,\n",
    ")"
   ]
  },
  {
   "cell_type": "code",
   "execution_count": null,
   "id": "7344b6e1",
   "metadata": {},
   "outputs": [],
   "source": []
  }
 ],
 "metadata": {
  "kernelspec": {
   "display_name": "ve",
   "language": "python",
   "name": "ve"
  },
  "language_info": {
   "codemirror_mode": {
    "name": "ipython",
    "version": 3
   },
   "file_extension": ".py",
   "mimetype": "text/x-python",
   "name": "python",
   "nbconvert_exporter": "python",
   "pygments_lexer": "ipython3",
   "version": "3.9.12"
  },
  "vscode": {
   "interpreter": {
    "hash": "75d0e37245d408f3d59eb152d126431f02f862b5012558b3df6d65a37ffc466c"
   }
  }
 },
 "nbformat": 4,
 "nbformat_minor": 5
}
