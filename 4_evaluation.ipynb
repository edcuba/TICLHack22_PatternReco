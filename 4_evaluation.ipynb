{
 "cells": [
  {
   "cell_type": "markdown",
   "metadata": {},
   "source": [
    "# Metrics\n",
    "\n",
    "Implement metrics to evaluate clustering performance based on BCubed.\n",
    "\n",
    "$$\n",
    "P_b = \\frac{1}{N} \\sum_{i=1}^{N} \\frac{1}{|C(i)|} \\sum_{j \\in C(i)}B(i, j)\n",
    "\\\\\n",
    "R_b = \\frac{1}{N} \\sum_{i=1}^{N} \\frac{1}{|L(i)|} \\sum_{j \\in \n",
    "L(i)}B(i, j)\n",
    "$$\n",
    "\n",
    "Where $C(i)$ is the trackster that contains layercluster $i$, and $L(i)$ are all layerclusters of the same particle as layercluster $i$.\n",
    "\n",
    "Then the F-sore is computed as:\n",
    "\n",
    "$$\n",
    "F_p = \\frac{2P_bR_b}{P_b + R_b}\n",
    "$$"
   ]
  },
  {
   "cell_type": "code",
   "execution_count": null,
   "metadata": {},
   "outputs": [],
   "source": []
  }
 ],
 "metadata": {
  "language_info": {
   "name": "python"
  },
  "orig_nbformat": 4
 },
 "nbformat": 4,
 "nbformat_minor": 2
}
