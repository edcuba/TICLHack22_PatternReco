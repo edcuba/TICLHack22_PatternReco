{
 "cells": [
  {
   "cell_type": "markdown",
   "id": "6c07744a",
   "metadata": {},
   "source": [
    "##  ParticleNet for trackster-level graph\n",
    "\n",
    "Input:\n",
    "- graph of the full event\n",
    "- edges built between tracksters in a feasible neighborhood \n",
    "    - list of edges\n",
    "- label 1 or 0 for each edge\n",
    "\n",
    "Explored options:\n",
    "- GNN with EdgeConv operators to extract information from the neighborhood\n",
    "    - then predict binary output per edge\n",
    "- DGCNN/ParticleNet with DynamicEdgeConv\n",
    "    - let the network make its own edges in the latent space\n",
    "    - use the original edges as a query after the last conv layer\n",
    "\n",
    "Dimensionality:\n",
    "- Using the batch trick to encode multiple samples at once\n",
    "    - need to reindex edges\n",
    "    - automatically handled by torch-geometric dataloader"
   ]
  },
  {
   "cell_type": "code",
   "execution_count": 14,
   "id": "260b3597",
   "metadata": {},
   "outputs": [],
   "source": [
    "import torch\n",
    "import torch.nn as nn\n",
    "import torch.nn.functional as F\n",
    "from torch.optim import SGD\n",
    "from torch.utils.data import random_split\n",
    "from torch.optim.lr_scheduler import CosineAnnealingLR\n",
    "\n",
    "import numpy as np\n",
    "import matplotlib.pyplot as plt\n",
    "\n",
    "from torch_geometric.nn import EdgeConv, DynamicEdgeConv\n",
    "import torch_geometric.transforms as T\n",
    "from torch_geometric.loader import DataLoader\n",
    "import torch_geometric.utils as geo_utils\n",
    "\n",
    "import sklearn.metrics as metrics\n",
    "\n",
    "from reco.learn import train_edge_pred, test_edge_pred\n",
    "from reco.dataset import TracksterGraph\n",
    "from reco.loss import FocalLoss\n",
    "\n",
    "ds_name = \"CloseByTwoPion\"\n",
    "\n",
    "data_root = \"data\"\n",
    "raw_dir = f\"/Users/ecuba/data/{ds_name}\"\n",
    "\n",
    "# data_root = \"/mnt/ceph/users/ecuba/processed\"\n",
    "# raw_dir = f\"/mnt/ceph/users/ecuba/{ds_name}\""
   ]
  },
  {
   "cell_type": "code",
   "execution_count": 15,
   "id": "581fbd18",
   "metadata": {},
   "outputs": [
    {
     "data": {
      "text/plain": [
       "TrackstersGraph(graphs=999, nodes=28477, edges=102964, max_distance=10, energy_threshold=10, graph_features=False)"
      ]
     },
     "execution_count": 15,
     "metadata": {},
     "output_type": "execute_result"
    }
   ],
   "source": [
    "transform = T.Compose([T.NormalizeFeatures()])\n",
    "\n",
    "ds = TracksterGraph(\n",
    "    ds_name,\n",
    "    data_root,\n",
    "    raw_dir,\n",
    "    N_FILES=10,\n",
    "    MAX_DISTANCE=10,\n",
    "    ENERGY_THRESHOLD=10,\n",
    "    include_graph_features=False,\n",
    "    transform=transform,\n",
    ")\n",
    "ds"
   ]
  },
  {
   "cell_type": "code",
   "execution_count": 16,
   "id": "00cb5bdb",
   "metadata": {},
   "outputs": [
    {
     "name": "stdout",
     "output_type": "stream",
     "text": [
      "Train graphs: 900, Test graphs: 99\n"
     ]
    }
   ],
   "source": [
    "ds_size = len(ds)\n",
    "test_set_size = ds_size // 10\n",
    "train_set_size = ds_size - test_set_size\n",
    "train_set, test_set = random_split(ds, [train_set_size, test_set_size])\n",
    "print(f\"Train graphs: {len(train_set)}, Test graphs: {len(test_set)}\")\n",
    "\n",
    "# this is very nice - handles the dimensions automatically\n",
    "train_dl = DataLoader(train_set, batch_size=64, shuffle=True)\n",
    "test_dl = DataLoader(test_set, batch_size=64, shuffle=True)"
   ]
  },
  {
   "cell_type": "code",
   "execution_count": 17,
   "id": "c256bd03-3038-4161-9b2e-3de5ef8b0178",
   "metadata": {},
   "outputs": [
    {
     "name": "stdout",
     "output_type": "stream",
     "text": [
      "dataset balance: 0.302\n"
     ]
    }
   ],
   "source": [
    "print(f\"dataset balance: {float(sum(ds.data.y) / len(ds.data.y)):.3f}\") "
   ]
  },
  {
   "cell_type": "code",
   "execution_count": 18,
   "id": "efd04957",
   "metadata": {},
   "outputs": [
    {
     "name": "stdout",
     "output_type": "stream",
     "text": [
      "Using device: cpu\n"
     ]
    }
   ],
   "source": [
    "# CUDA Setup\n",
    "device = torch.device('cuda' if torch.cuda.is_available() else \"cpu\")\n",
    "print(f\"Using device: {device}\")"
   ]
  },
  {
   "cell_type": "code",
   "execution_count": 19,
   "id": "353ee579",
   "metadata": {},
   "outputs": [],
   "source": [
    "# ParticleNet\n",
    "\n",
    "class EdgeConvBlock(nn.Module):\n",
    "\n",
    "    def __init__(self, input_dim, hidden_dim, aggr=\"add\", skip_link=False, k=8):\n",
    "        super(EdgeConvBlock, self).__init__()\n",
    "\n",
    "        convnetwork = nn.Sequential(\n",
    "            nn.Linear(2 * input_dim, hidden_dim),\n",
    "            nn.BatchNorm1d(hidden_dim),\n",
    "            nn.ReLU(),\n",
    "            nn.Linear(hidden_dim, hidden_dim),\n",
    "            nn.BatchNorm1d(hidden_dim),\n",
    "            nn.ReLU(),\n",
    "            nn.Linear(hidden_dim, hidden_dim),\n",
    "            nn.BatchNorm1d(hidden_dim),\n",
    "            nn.ReLU()\n",
    "        )\n",
    "\n",
    "        self.graphconv = EdgeConv(nn=convnetwork, aggr=aggr)\n",
    "        # self.dynamicgraphconv = DynamicEdgeConv(nn=convnetwork, aggr=aggr, k=k)\n",
    "        self.skip_link = skip_link\n",
    "        \n",
    "    def forward(self, X, edge_index=None):\n",
    "        \n",
    "        if edge_index is None:\n",
    "            H = self.dynamicgraphconv(X)\n",
    "        else:\n",
    "            H = self.graphconv(X, edge_index)\n",
    "\n",
    "        if self.skip_link:\n",
    "            return torch.hstack((H, X))\n",
    "\n",
    "        return H    \n",
    "\n",
    "\n",
    "\n",
    "class GraphNet(nn.Module):\n",
    "    def __init__(self, input_dim, output_dim=1, aggr='add', dropout=0.2, skip_link=False):\n",
    "        \"\"\"\n",
    "        skip_link might not make so much difference if the edges are fixed\n",
    "        \"\"\"\n",
    "        \n",
    "        super(GraphNet, self).__init__()\n",
    "\n",
    "        hdim1 = 64\n",
    "        in_dim2 = hdim1 + input_dim if skip_link else hdim1\n",
    "        \n",
    "        hdim2 = 128\n",
    "        in_dim3 = hdim2 + in_dim2 if skip_link else hdim2\n",
    "\n",
    "        hdim3 = 256\n",
    "        in_dim4 = hdim3 + in_dim3 if skip_link else hdim3\n",
    "\n",
    "        # EdgeConv\n",
    "        self.graphconv1 = EdgeConvBlock(input_dim, hdim1, skip_link=skip_link)\n",
    "        self.graphconv2 = EdgeConvBlock(in_dim2, hdim2, skip_link=skip_link)\n",
    "        self.graphconv3 = EdgeConvBlock(in_dim3, hdim3, skip_link=skip_link)\n",
    "\n",
    "        # Edge features from node embeddings for classification\n",
    "        self.edgenetwork = nn.Sequential(\n",
    "            nn.Linear(2 * in_dim4, hdim3),\n",
    "            nn.ReLU(),\n",
    "            nn.Dropout(dropout),\n",
    "            nn.Linear(hdim3, output_dim),\n",
    "            nn.Sigmoid()\n",
    "        )\n",
    "            \n",
    "    def forward(self, X, edge_index):        \n",
    "        # (prepared_edges, _) = geo_utils.add_self_loops(edge_index)  \n",
    "        undirected_index = geo_utils.to_undirected(edge_index)\n",
    "\n",
    "        H = self.graphconv1(X, undirected_index)\n",
    "        H = self.graphconv2(H, undirected_index)\n",
    "        H = self.graphconv3(H, undirected_index)\n",
    "        \n",
    "        src, dst = edge_index\n",
    "        return self.edgenetwork(torch.cat([H[src], H[dst]], dim=-1)).squeeze(-1)"
   ]
  },
  {
   "cell_type": "code",
   "execution_count": 21,
   "id": "0b9be07a",
   "metadata": {},
   "outputs": [
    {
     "name": "stdout",
     "output_type": "stream",
     "text": [
      "Epoch 0: \ttrain loss:164.19\ttrain acc: 0.637 \t test loss:7.79 \t test acc: 0.703\n",
      "Epoch 2: \ttrain loss:80.39\ttrain acc: 0.757 \t test loss:6.96 \t test acc: 0.696\n",
      "Epoch 4: \ttrain loss:58.37\ttrain acc: 0.771 \t test loss:5.05 \t test acc: 0.758\n",
      "Epoch 6: \ttrain loss:51.34\ttrain acc: 0.778 \t test loss:4.76 \t test acc: 0.794\n",
      "Epoch 8: \ttrain loss:46.72\ttrain acc: 0.784 \t test loss:4.45 \t test acc: 0.796\n",
      "Epoch 10: \ttrain loss:42.53\ttrain acc: 0.792 \t test loss:4.30 \t test acc: 0.802\n",
      "Epoch 12: \ttrain loss:41.02\ttrain acc: 0.796 \t test loss:4.02 \t test acc: 0.812\n",
      "Epoch 14: \ttrain loss:38.60\ttrain acc: 0.800 \t test loss:4.03 \t test acc: 0.815\n",
      "Epoch 16: \ttrain loss:36.55\ttrain acc: 0.802 \t test loss:3.77 \t test acc: 0.815\n",
      "Epoch 18: \ttrain loss:35.26\ttrain acc: 0.806 \t test loss:3.55 \t test acc: 0.817\n",
      "Epoch 20: \ttrain loss:33.98\ttrain acc: 0.809 \t test loss:3.43 \t test acc: 0.816\n",
      "Epoch 22: \ttrain loss:32.25\ttrain acc: 0.814 \t test loss:3.40 \t test acc: 0.820\n",
      "Epoch 24: \ttrain loss:30.80\ttrain acc: 0.817 \t test loss:3.32 \t test acc: 0.820\n",
      "Epoch 26: \ttrain loss:30.79\ttrain acc: 0.817 \t test loss:3.19 \t test acc: 0.824\n",
      "Epoch 28: \ttrain loss:29.84\ttrain acc: 0.818 \t test loss:3.12 \t test acc: 0.826\n",
      "Epoch 30: \ttrain loss:28.69\ttrain acc: 0.822 \t test loss:3.00 \t test acc: 0.826\n",
      "Epoch 32: \ttrain loss:27.63\ttrain acc: 0.825 \t test loss:2.97 \t test acc: 0.828\n",
      "Epoch 34: \ttrain loss:27.04\ttrain acc: 0.828 \t test loss:2.89 \t test acc: 0.834\n",
      "Epoch 36: \ttrain loss:26.22\ttrain acc: 0.830 \t test loss:2.85 \t test acc: 0.834\n",
      "Epoch 38: \ttrain loss:25.77\ttrain acc: 0.830 \t test loss:2.80 \t test acc: 0.838\n",
      "Epoch 40: \ttrain loss:24.72\ttrain acc: 0.832 \t test loss:2.67 \t test acc: 0.836\n",
      "Epoch 42: \ttrain loss:24.25\ttrain acc: 0.833 \t test loss:2.68 \t test acc: 0.838\n",
      "Epoch 44: \ttrain loss:23.47\ttrain acc: 0.836 \t test loss:2.64 \t test acc: 0.841\n",
      "Epoch 46: \ttrain loss:23.03\ttrain acc: 0.839 \t test loss:2.60 \t test acc: 0.841\n",
      "Epoch 48: \ttrain loss:22.25\ttrain acc: 0.839 \t test loss:2.42 \t test acc: 0.843\n"
     ]
    }
   ],
   "source": [
    "model = GraphNet(input_dim=ds.data.x.shape[1], skip_link=False)\n",
    "epochs = 50\n",
    "\n",
    "# loss_func = F.binary_cross_entropy_with_logits\n",
    "# alpha - percentage of negative edges\n",
    "loss_func = FocalLoss(alpha=0.3, gamma=2)\n",
    "\n",
    "model = model.to(device)\n",
    "optimizer = SGD(model.parameters(), lr=0.001, momentum=0.9, weight_decay=1e-4)\n",
    "scheduler = CosineAnnealingLR(optimizer, epochs, eta_min=1e-3)\n",
    "\n",
    "for epoch in range(epochs):\n",
    "\n",
    "    train_loss, train_true, train_pred = train_edge_pred(\n",
    "        model,\n",
    "        device,\n",
    "        optimizer,\n",
    "        loss_func,\n",
    "        train_dl\n",
    "    )\n",
    "    \n",
    "    train_acc = metrics.accuracy_score(train_true, (train_pred > 0.5).astype(int))\n",
    "    scheduler.step()\n",
    "\n",
    "    if epoch % 2 == 0:\n",
    "        test_loss, test_true, test_pred = test_edge_pred(model, device, loss_func, test_dl)\n",
    "        test_acc = metrics.accuracy_score(test_true, (test_pred > 0.5).astype(int))\n",
    "        print(\n",
    "            f\"Epoch {epoch}:\",\n",
    "            f\"\\ttrain loss:{train_loss:.2f}\\ttrain acc: {train_acc:.3f}\",\n",
    "            f\"\\t test loss:{test_loss:.2f} \\t test acc: {test_acc:.3f}\"\n",
    "        )"
   ]
  },
  {
   "cell_type": "code",
   "execution_count": 22,
   "id": "2fdf4fdf",
   "metadata": {},
   "outputs": [
    {
     "data": {
      "image/png": "[encoded data removed]",
      "text/plain": [
       "<Figure size 432x288 with 1 Axes>"
      ]
     },
     "metadata": {
      "needs_background": "light"
     },
     "output_type": "display_data"
    },
    {
     "name": "stdout",
     "output_type": "stream",
     "text": [
      "Th: 0.33 | F-score: 0.747 | accuracy: 0.850\n"
     ]
    }
   ],
   "source": [
    "th_values = [i / 100. for i in range(1, 99)]\n",
    "precision = []\n",
    "recall = []\n",
    "fbeta = []\n",
    "accuracy = []\n",
    "\n",
    "for th in th_values:\n",
    "    test_loss, test_true, test_pred = test_edge_pred(model, device, loss_func, test_dl)\n",
    "\n",
    "    pred = (test_pred > th).astype(int)\n",
    "\n",
    "    if sum(pred) == 0:\n",
    "        precision.append(0)\n",
    "        recall.append(0)\n",
    "        fbeta.append(0)\n",
    "        accuracy.append(0)\n",
    "    else:\n",
    "        accuracy.append(metrics.accuracy_score(test_true, pred))\n",
    "        precision.append(metrics.precision_score(test_true, pred))\n",
    "        recall.append(metrics.recall_score(test_true, pred))\n",
    "        fbeta.append(metrics.fbeta_score(test_true, pred, beta=1))\n",
    "\n",
    "plt.figure()\n",
    "plt.plot(th_values, precision, label=\"precision\")\n",
    "plt.plot(th_values, recall, label=\"recall\")\n",
    "plt.plot(th_values, fbeta, label=\"fbeta\")\n",
    "plt.plot(th_values, accuracy, label=\"accuracy\")\n",
    "plt.xlabel(\"Threshold\")\n",
    "plt.legend()\n",
    "plt.show()\n",
    "\n",
    "decision_th = th_values[np.argmax(fbeta)]\n",
    "print(f\"Th: {decision_th} | F-score: {max(fbeta):.3f} | accuracy: {accuracy[np.argmax(fbeta)]:.3f}\")"
   ]
  },
  {
   "cell_type": "code",
   "execution_count": 23,
   "id": "5dcff687",
   "metadata": {},
   "outputs": [],
   "source": [
    "torch.save(model.state_dict(), f\"models/DynamicParticleNet_64_128_256_noskip-{epochs}e-CloseByTwoPion_10_10_ngf_{ds.N_FILES}f.pt\")"
   ]
  },
  {
   "cell_type": "markdown",
   "id": "a5e324e1-d77d-418f-9cbb-8c5f0e8d24f6",
   "metadata": {},
   "source": [
    "## Scoreboard\n",
    "\n",
    "### EdgeConv-based\n",
    "\n",
    "ParticleNet_64_128_256_skip\n",
    "- Best F-score: 0.902\n",
    "- Accuracy: 0.937\n",
    "    \n",
    "ParticleNet_64_128_256_noskip\n",
    "- Best F-score: 0.902\n",
    "- accuracy: 0.937\n",
    "\n",
    "### DynamicEdgeConv\n",
    "\n",
    "The knn search in the highly dimensional space makes the training much slower.\n",
    "\n",
    "DynamicParticleNet_64_128_256_skip\n",
    "- F-score: 0.880\n",
    "- accuracy: 0.922\n",
    "- TH: 0.45\n",
    "\n",
    "\n"
   ]
  },
  {
   "cell_type": "code",
   "execution_count": 7,
   "id": "7fee9c84-b14a-4f99-9fe7-3b5264fba82b",
   "metadata": {},
   "outputs": [],
   "source": [
    "import uproot\n",
    "import numpy as np\n",
    "from reco.evaluation import graph_model_evaluation\n",
    "\n",
    "file_name = f\"{raw_dir}/new_ntuples_15101852_158.root\"\n",
    "\n",
    "tracksters = uproot.open({file_name: \"ticlNtuplizer/tracksters\"})\n",
    "simtracksters = uproot.open({file_name: \"ticlNtuplizer/simtrackstersSC\"})\n",
    "graphs = uproot.open({file_name: \"ticlNtuplizer/graph\"})\n",
    "associations = uproot.open({file_name: \"ticlNtuplizer/associations\"})"
   ]
  },
  {
   "cell_type": "code",
   "execution_count": 12,
   "id": "471fa906",
   "metadata": {},
   "outputs": [
    {
     "data": {
      "text/plain": [
       "<All keys matched successfully>"
      ]
     },
     "execution_count": 12,
     "metadata": {},
     "output_type": "execute_result"
    }
   ],
   "source": [
    "model = GraphNet(input_dim=ds.data.x.shape[1], skip_link=True)\n",
    "\n",
    "model.load_state_dict(torch.load(\n",
    "    \"models/ParticleNet_64_128_256_skip-100e-CloseByTwoPion_10_10_ngf_500f.pt\",\n",
    "    map_location=torch.device('cpu')\n",
    "))"
   ]
  },
  {
   "cell_type": "code",
   "execution_count": 13,
   "id": "f7a88692-eada-4152-8ef9-e51cda092f3f",
   "metadata": {},
   "outputs": [
    {
     "name": "stdout",
     "output_type": "stream",
     "text": [
      "Event 0:\n",
      "\tclue3d_to_sim:\tP: 0.94 R: 0.13 F: 0.15\n",
      "\ttarget_to_sim:\tP: 0.95 R: 0.49 F: 0.54\n",
      "\treco_to_target:\tP: 0.99 R: 0.64 F: 0.69\n",
      "\treco_to_sim:\tP: 0.94 R: 0.24 F: 0.28\n",
      "Event 1:\n",
      "\tclue3d_to_sim:\tP: 0.90 R: 0.16 F: 0.20\n",
      "\ttarget_to_sim:\tP: 0.90 R: 0.26 F: 0.31\n",
      "\treco_to_target:\tP: 0.80 R: 0.74 F: 0.75\n",
      "\treco_to_sim:\tP: 0.90 R: 0.25 F: 0.29\n",
      "Event 2:\n",
      "\tclue3d_to_sim:\tP: 0.96 R: 0.14 F: 0.17\n",
      "\ttarget_to_sim:\tP: 0.96 R: 0.35 F: 0.40\n",
      "\treco_to_target:\tP: 0.83 R: 0.80 F: 0.81\n",
      "\treco_to_sim:\tP: 0.96 R: 0.34 F: 0.39\n",
      "Event 3:\n",
      "\tclue3d_to_sim:\tP: 1.00 R: 0.17 F: 0.20\n",
      "\ttarget_to_sim:\tP: 1.00 R: 0.62 F: 0.67\n",
      "\treco_to_target:\tP: 0.84 R: 0.76 F: 0.77\n",
      "\treco_to_sim:\tP: 1.00 R: 0.69 F: 0.74\n",
      "Event 4:\n",
      "\tclue3d_to_sim:\tP: 0.98 R: 0.48 F: 0.54\n",
      "\ttarget_to_sim:\tP: 0.98 R: 0.60 F: 0.65\n",
      "\treco_to_target:\tP: 0.84 R: 0.85 F: 0.85\n",
      "\treco_to_sim:\tP: 0.98 R: 0.74 F: 0.78\n",
      "-----\n",
      "mean clue3d_to_sim:\tP: 0.96 R: 0.22 F: 0.25\n",
      "mean target_to_sim:\tP: 0.96 R: 0.46 F: 0.51\n",
      "mean reco_to_target:\tP: 0.86 R: 0.76 F: 0.77\n",
      "mean reco_to_sim:\tP: 0.96 R: 0.45 F: 0.50\n"
     ]
    }
   ],
   "source": [
    "result = graph_model_evaluation(\n",
    "    tracksters,\n",
    "    simtracksters,\n",
    "    associations,\n",
    "    graphs,\n",
    "    model.to(\"cpu\"),\n",
    "    0.5,\n",
    "    max_distance=10,\n",
    "    energy_threshold=10,\n",
    "    max_events=5,\n",
    ")"
   ]
  },
  {
   "cell_type": "code",
   "execution_count": 11,
   "id": "3516b473",
   "metadata": {},
   "outputs": [
    {
     "name": "stdout",
     "output_type": "stream",
     "text": [
      "Event 0:\n",
      "\tclue3d_to_sim:\tP: 0.94 R: 0.13 F: 0.15\n",
      "\ttarget_to_sim:\tP: 0.95 R: 0.49 F: 0.54\n",
      "\treco_to_target:\tP: 0.86 R: 0.79 F: 0.81\n",
      "\treco_to_sim:\tP: 0.92 R: 0.40 F: 0.45\n",
      "Event 1:\n",
      "\tclue3d_to_sim:\tP: 0.90 R: 0.16 F: 0.20\n",
      "\ttarget_to_sim:\tP: 0.90 R: 0.26 F: 0.31\n",
      "\treco_to_target:\tP: 0.81 R: 0.75 F: 0.76\n",
      "\treco_to_sim:\tP: 0.90 R: 0.25 F: 0.29\n",
      "Event 2:\n",
      "\tclue3d_to_sim:\tP: 0.96 R: 0.14 F: 0.17\n",
      "\ttarget_to_sim:\tP: 0.96 R: 0.35 F: 0.40\n",
      "\treco_to_target:\tP: 0.83 R: 0.80 F: 0.81\n",
      "\treco_to_sim:\tP: 0.96 R: 0.34 F: 0.39\n",
      "Event 3:\n",
      "\tclue3d_to_sim:\tP: 1.00 R: 0.17 F: 0.20\n",
      "\ttarget_to_sim:\tP: 1.00 R: 0.62 F: 0.67\n",
      "\treco_to_target:\tP: 0.84 R: 0.76 F: 0.77\n",
      "\treco_to_sim:\tP: 1.00 R: 0.69 F: 0.74\n",
      "Event 4:\n",
      "\tclue3d_to_sim:\tP: 0.98 R: 0.48 F: 0.54\n",
      "\ttarget_to_sim:\tP: 0.98 R: 0.60 F: 0.65\n",
      "\treco_to_target:\tP: 0.84 R: 0.85 F: 0.85\n",
      "\treco_to_sim:\tP: 0.98 R: 0.74 F: 0.78\n",
      "-----\n",
      "mean clue3d_to_sim:\tP: 0.96 R: 0.22 F: 0.25\n",
      "mean target_to_sim:\tP: 0.96 R: 0.46 F: 0.51\n",
      "mean reco_to_target:\tP: 0.84 R: 0.79 F: 0.80\n",
      "mean reco_to_sim:\tP: 0.95 R: 0.48 F: 0.53\n"
     ]
    }
   ],
   "source": [
    "from reco.dummy import GraphNaiveDummy, GraphRandomDummy\n",
    "\n",
    "result = graph_model_evaluation(\n",
    "    tracksters,\n",
    "    simtracksters,\n",
    "    associations,\n",
    "    graphs,\n",
    "    GraphNaiveDummy(),\n",
    "    0.5,\n",
    "    max_distance=10,\n",
    "    energy_threshold=10,\n",
    "    max_events=5,\n",
    ")"
   ]
  },
  {
   "cell_type": "markdown",
   "id": "e5c27b92",
   "metadata": {},
   "source": [
    "## Results interpretation\n",
    "\n",
    "The network is doing a good job in reaching the reconstruction target.\n",
    "Recall is improved while the precision is kept.\n",
    "\n",
    "Network performance:\n",
    "```\n",
    "mean clue3d_to_sim:\tP: 0.96 R: 0.22 F: 0.25\n",
    "mean target_to_sim:\tP: 0.96 R: 0.46 F: 0.51\n",
    "mean reco_to_sim:\tP: 0.96 R: 0.45 F: 0.50\n",
    "```\n",
    "\n",
    "Yet, the dataset is too simple as connecting to all the tracksters in the small neighbourhood is feasible without a significant precision loss.\n",
    "\n",
    "Connecting all tracksters within a small neighborhood:\n",
    "```\n",
    "mean clue3d_to_sim:\tP: 0.96 R: 0.22 F: 0.25\n",
    "mean reco_to_sim:\tP: 0.95 R: 0.48 F: 0.53\n",
    "```"
   ]
  }
 ],
 "metadata": {
  "kernelspec": {
   "display_name": "Python 3.8.9 ('ve': venv)",
   "language": "python",
   "name": "python3"
  },
  "language_info": {
   "codemirror_mode": {
    "name": "ipython",
    "version": 3
   },
   "file_extension": ".py",
   "mimetype": "text/x-python",
   "name": "python",
   "nbconvert_exporter": "python",
   "pygments_lexer": "ipython3",
   "version": "3.8.9"
  },
  "vscode": {
   "interpreter": {
    "hash": "75d0e37245d408f3d59eb152d126431f02f862b5012558b3df6d65a37ffc466c"
   }
  }
 },
 "nbformat": 4,
 "nbformat_minor": 5
}
