{
 "cells": [
  {
   "cell_type": "markdown",
   "id": "6c07744a",
   "metadata": {},
   "source": [
    "# Model: Trackster neighborhood approach\n",
    "\n",
    "Input:\n",
    "- graph of tracksters in the cone neighbourhood.\n",
    "- list of edges\n",
    "- label 1 or 0 for each edge\n",
    "\n",
    "Options:\n",
    "- use EdgeConv operators to extract information from the neighborhood\n",
    "    - then predict binary output per edge\n",
    "- try: use DGCNN to let the network make its own edges in the latent space\n",
    "    - force the original edges in the last conv layer to get the same output?\n",
    "\n",
    "Use the batch trick to encode multiple samples at once (need to reindex edges).\n",
    "- start with batch size 1 to make this easier"
   ]
  },
  {
   "cell_type": "code",
   "execution_count": 1,
   "id": "260b3597",
   "metadata": {},
   "outputs": [],
   "source": [
    "import torch\n",
    "import numpy as np\n",
    "\n",
    "from reco.dataset import TracksterGraph\n",
    "\n",
    "# data_root = \"/mnt/ceph/users/ecuba/processed\"\n",
    "# raw_dir = \"/mnt/ceph/users/ecuba/multiparticle_10/\"\n",
    "\n",
    "data_root = \"data\"\n",
    "ds_name = \"CloseByTwoPion\"\n",
    "raw_dir = f\"/Users/ecuba/data/{ds_name}\"\n",
    "file_name = f\"{raw_dir}/new_ntuples_15101852_191.root\""
   ]
  },
  {
   "cell_type": "markdown",
   "id": "22ca5f54",
   "metadata": {},
   "source": [
    "## Dataset"
   ]
  },
  {
   "cell_type": "code",
   "execution_count": 2,
   "id": "581fbd18",
   "metadata": {},
   "outputs": [
    {
     "name": "stdout",
     "output_type": "stream",
     "text": [
      "Processing: /Users/ecuba/data/CloseByTwoPion/new_ntuples_15101852_157.root\n",
      "Processing: /Users/ecuba/data/CloseByTwoPion/new_ntuples_15101852_229.root\n"
     ]
    }
   ],
   "source": [
    "ds = TracksterGraph(\n",
    "    ds_name,\n",
    "    data_root,\n",
    "    raw_dir,\n",
    "    N_FILES=10,\n",
    "    MAX_DISTANCE=20,\n",
    "    ENERGY_THRESHOLD=15,\n",
    "    include_graph_features=False,\n",
    ")"
   ]
  },
  {
   "cell_type": "code",
   "execution_count": null,
   "id": "efd04957",
   "metadata": {},
   "outputs": [],
   "source": []
  }
 ],
 "metadata": {
  "kernelspec": {
   "display_name": "Python 3.8.9 ('ve': venv)",
   "language": "python",
   "name": "python3"
  },
  "language_info": {
   "codemirror_mode": {
    "name": "ipython",
    "version": 3
   },
   "file_extension": ".py",
   "mimetype": "text/x-python",
   "name": "python",
   "nbconvert_exporter": "python",
   "pygments_lexer": "ipython3",
   "version": "3.8.9"
  },
  "vscode": {
   "interpreter": {
    "hash": "75d0e37245d408f3d59eb152d126431f02f862b5012558b3df6d65a37ffc466c"
   }
  }
 },
 "nbformat": 4,
 "nbformat_minor": 5
}
