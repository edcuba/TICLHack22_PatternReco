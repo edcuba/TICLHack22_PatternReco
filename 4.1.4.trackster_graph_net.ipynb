{
 "cells": [
  {
   "cell_type": "markdown",
   "id": "6c07744a",
   "metadata": {},
   "source": [
    "# Model: Trackster neighborhood approach\n",
    "\n",
    "Input:\n",
    "- graph of tracksters in the cone neighbourhood.\n",
    "- list of edges\n",
    "- label 1 or 0 for each edge\n",
    "\n",
    "Options:\n",
    "- use EdgeConv operators to extract information from the neighborhood\n",
    "    - then predict binary output per edge\n",
    "- try: use DGCNN to let the network make its own edges in the latent space\n",
    "    - force the original edges in the last conv layer to get the same output?\n",
    "\n",
    "Use the batch trick to encode multiple samples at once (need to reindex edges).\n",
    "- start with batch size 1 to make this easier"
   ]
  },
  {
   "cell_type": "code",
   "execution_count": 1,
   "id": "260b3597",
   "metadata": {},
   "outputs": [],
   "source": [
    "import torch\n",
    "import torch.nn as nn\n",
    "\n",
    "import matplotlib.pyplot as plt\n",
    "\n",
    "from torch.optim.lr_scheduler import CosineAnnealingLR\n",
    "from torch.optim import SGD\n",
    "\n",
    "import torch.nn.functional as F\n",
    "\n",
    "import numpy as np\n",
    "\n",
    "from torch_geometric.nn import EdgeConv\n",
    "import torch_geometric.utils as geo_utils\n",
    "\n",
    "import sklearn.metrics as metrics\n",
    "\n",
    "from torch.utils.data import DataLoader, random_split\n",
    "from sklearn.preprocessing import StandardScaler\n",
    "\n",
    "from reco.learn import train_edge_pred, test_edge_pred\n",
    "from reco.dataset import TracksterGraph\n",
    "from reco.loss import FocalLoss\n",
    "\n",
    "import itertools\n",
    "\n",
    "\n",
    "# data_root = \"/mnt/ceph/users/ecuba/processed\"\n",
    "# raw_dir = \"/mnt/ceph/users/ecuba/multiparticle_10/\"\n",
    "\n",
    "data_root = \"data\"\n",
    "ds_name = \"CloseByTwoPion\"\n",
    "raw_dir = f\"/Users/ecuba/data/{ds_name}\"\n",
    "file_name = f\"{raw_dir}/new_ntuples_15101852_191.root\""
   ]
  },
  {
   "cell_type": "code",
   "execution_count": 2,
   "id": "581fbd18",
   "metadata": {},
   "outputs": [],
   "source": [
    "ds = TracksterGraph(\n",
    "    ds_name,\n",
    "    data_root,\n",
    "    raw_dir,\n",
    "    N_FILES=10,\n",
    "    MAX_DISTANCE=10,\n",
    "    ENERGY_THRESHOLD=10,\n",
    "    include_graph_features=False,\n",
    ")"
   ]
  },
  {
   "cell_type": "code",
   "execution_count": 3,
   "id": "efd04957",
   "metadata": {},
   "outputs": [
    {
     "name": "stdout",
     "output_type": "stream",
     "text": [
      "Using device: cpu\n"
     ]
    }
   ],
   "source": [
    "# CUDA Setup\n",
    "device = torch.device('cuda' if torch.cuda.is_available() else \"cpu\")\n",
    "print(f\"Using device: {device}\")"
   ]
  },
  {
   "cell_type": "code",
   "execution_count": 4,
   "id": "0094a485",
   "metadata": {},
   "outputs": [],
   "source": [
    "def get_graph_feature(x, edge_list):\n",
    "    batch_size = x.size(0)\n",
    "    num_points = x.size(2)\n",
    "\n",
    "    x = x.view(batch_size, -1, num_points)\n",
    "    idx_base = torch.arange(0, batch_size, device=device).view(-1, 1, 1)*num_points\n",
    "\n",
    "    idx = idx + idx_base\n",
    "\n",
    "    idx = idx.view(-1)\n",
    " \n",
    "    _, num_dims, _ = x.size()\n",
    "\n",
    "    x = x.transpose(2, 1).contiguous()   # (batch_size, num_points, num_dims)  -> (batch_size*num_points, num_dims) #   batch_size * num_points * k + range(0, batch_size*num_points)\n",
    "    feature = x.view(batch_size*num_points, -1)[idx, :]\n",
    "    feature = feature.view(batch_size, num_points, k, num_dims) \n",
    "    x = x.view(batch_size, num_points, 1, num_dims).repeat(1, 1, k, 1)\n",
    "    \n",
    "    feature = torch.cat((feature-x, x), dim=3).permute(0, 3, 1, 2).contiguous()\n",
    "  \n",
    "    return feature"
   ]
  },
  {
   "cell_type": "code",
   "execution_count": 146,
   "id": "353ee579",
   "metadata": {},
   "outputs": [],
   "source": [
    "class GraphNet(nn.Module):\n",
    "    def __init__(self, input_dim, hidden_dim=64, output_dim=1, aggr='add', dropout=0.2):\n",
    "        super(GraphNet, self).__init__()\n",
    "                \n",
    "        # Feature transformation to latent space\n",
    "        self.inputnetwork = nn.Sequential(\n",
    "            nn.Linear(input_dim, hidden_dim),\n",
    "            nn.BatchNorm1d(hidden_dim),\n",
    "            nn.Tanh(),\n",
    "            nn.Linear(hidden_dim, hidden_dim),\n",
    "            nn.ReLU()\n",
    "        )\n",
    "        \n",
    "        convnetwork1 = nn.Sequential(\n",
    "            nn.Linear(2* hidden_dim, 2 * hidden_dim),\n",
    "            nn.ReLU(),\n",
    "            nn.Dropout(dropout),\n",
    "            nn.Linear(2 * hidden_dim, hidden_dim),\n",
    "            nn.ReLU()\n",
    "        )\n",
    "        \n",
    "        convnetwork2 = nn.Sequential(\n",
    "            nn.Linear(2 * hidden_dim, 2 * hidden_dim),\n",
    "            nn.ReLU(),\n",
    "            nn.Dropout(dropout),\n",
    "            nn.Linear(2 * hidden_dim, hidden_dim),\n",
    "            nn.ReLU()\n",
    "        )\n",
    "        \n",
    "        # EdgeConv\n",
    "        self.graphconv1 = EdgeConv(nn=convnetwork1, aggr=aggr)\n",
    "        self.graphconv2 = EdgeConv(nn=convnetwork2, aggr=aggr)\n",
    "\n",
    "        # Edge features from node embeddings for classification\n",
    "        self.edgenetwork = nn.Sequential(\n",
    "            nn.Linear(2 * hidden_dim, hidden_dim),\n",
    "            nn.ReLU(),\n",
    "            nn.Dropout(dropout),\n",
    "            nn.Linear(hidden_dim, output_dim),\n",
    "            nn.Sigmoid()\n",
    "        )\n",
    "            \n",
    "    def forward(self, X, edge_index):        \n",
    "        H = self.inputnetwork(X)\n",
    "        (prepared_edges, _) = geo_utils.add_self_loops(edge_index)\n",
    "\n",
    "        H = self.graphconv1(H, geo_utils.to_undirected(prepared_edges))\n",
    "        H = self.graphconv2(H, geo_utils.to_undirected(prepared_edges))\n",
    "        \n",
    "        src, dst = edge_index\n",
    "        return self.edgenetwork(torch.cat([H[src], H[dst]], dim=-1)).squeeze(-1)"
   ]
  },
  {
   "cell_type": "code",
   "execution_count": 147,
   "id": "33d0b34d",
   "metadata": {},
   "outputs": [
    {
     "data": {
      "text/plain": [
       "(39, 15)"
      ]
     },
     "execution_count": 147,
     "metadata": {},
     "output_type": "execute_result"
    }
   ],
   "source": [
    "np.array(ds[0][0]).shape"
   ]
  },
  {
   "cell_type": "code",
   "execution_count": 148,
   "id": "c2bc203b",
   "metadata": {},
   "outputs": [
    {
     "name": "stdout",
     "output_type": "stream",
     "text": [
      "Train samples: 900, Test samples: 99\n"
     ]
    }
   ],
   "source": [
    "ds_size = len(ds)\n",
    "test_set_size = ds_size // 10\n",
    "train_set_size = ds_size - test_set_size\n",
    "train_set, test_set = random_split(ds, [train_set_size, test_set_size])\n",
    "print(f\"Train samples: {len(train_set)}, Test samples: {len(test_set)}\")"
   ]
  },
  {
   "cell_type": "code",
   "execution_count": 149,
   "id": "395d98fa",
   "metadata": {},
   "outputs": [
    {
     "name": "stdout",
     "output_type": "stream",
     "text": [
      "torch.Size([40, 15])\n"
     ]
    }
   ],
   "source": [
    "def flat_data_loader(dataset, batch_size):\n",
    "    gen = DataLoader(dataset, batch_size=1, shuffle=True)\n",
    "\n",
    "    buffer = []\n",
    "    for sample in gen:\n",
    "        buffer.append(sample)\n",
    "        \n",
    "        if len(buffer) != batch_size:\n",
    "            continue\n",
    "\n",
    "        datapoints = []\n",
    "        labels = []\n",
    "        edge_list = []\n",
    "\n",
    "        # loop over the batch\n",
    "        for X, edges, Y in buffer:\n",
    "\n",
    "            # offset the edge index\n",
    "            dp_len = len(datapoints)\n",
    "\n",
    "            # get rid of the batch dimension\n",
    "            datapoints.append(X[0])\n",
    "            labels.append(Y[0])\n",
    "\n",
    "            for (a, b) in edges[0]:\n",
    "                edge_list.append((a + dp_len, b + dp_len))\n",
    "        \n",
    "        buffer.clear()\n",
    "        yield torch.vstack(datapoints).type(torch.float), torch.tensor(edge_list), torch.hstack(labels)\n",
    "\n",
    "\n",
    "ds_shape = test_set[0][0].shape\n",
    "print(ds_shape)"
   ]
  },
  {
   "cell_type": "code",
   "execution_count": 150,
   "id": "82941f95",
   "metadata": {},
   "outputs": [],
   "source": [
    "scaler = StandardScaler()\n",
    "all_x = torch.concat([ts for ts, _, _ in train_set])\n",
    "scaler.fit(all_x)\n",
    "\n",
    "train_set_scaled = [(scaler.transform(ts), el, y) for ts, el, y in train_set]\n",
    "test_set_scaled = [(scaler.transform(ts), el, y) for ts, el, y in test_set]"
   ]
  },
  {
   "cell_type": "code",
   "execution_count": 151,
   "id": "0b9be07a",
   "metadata": {},
   "outputs": [
    {
     "name": "stdout",
     "output_type": "stream",
     "text": [
      "Epoch 0:\n",
      "\ttrain loss:\t49.08\ttrain acc: 0.79\n",
      "\t test loss:\t3.78\ttest acc: 0.83\n",
      "Epoch 1:\n",
      "\ttrain loss:\t32.89\ttrain acc: 0.83\n",
      "\t test loss:\t3.13\ttest acc: 0.85\n",
      "Epoch 2:\n",
      "\ttrain loss:\t26.46\ttrain acc: 0.85\n",
      "\t test loss:\t2.69\ttest acc: 0.86\n",
      "Epoch 3:\n",
      "\ttrain loss:\t23.06\ttrain acc: 0.86\n",
      "\t test loss:\t2.81\ttest acc: 0.86\n",
      "Epoch 4:\n",
      "\ttrain loss:\t20.33\ttrain acc: 0.87\n",
      "\t test loss:\t2.07\ttest acc: 0.87\n",
      "Epoch 5:\n",
      "\ttrain loss:\t18.65\ttrain acc: 0.88\n",
      "\t test loss:\t2.07\ttest acc: 0.88\n",
      "Epoch 6:\n",
      "\ttrain loss:\t16.89\ttrain acc: 0.88\n",
      "\t test loss:\t1.83\ttest acc: 0.87\n",
      "Epoch 7:\n",
      "\ttrain loss:\t15.44\ttrain acc: 0.89\n",
      "\t test loss:\t1.65\ttest acc: 0.87\n",
      "Epoch 8:\n",
      "\ttrain loss:\t14.25\ttrain acc: 0.89\n",
      "\t test loss:\t1.71\ttest acc: 0.88\n",
      "Epoch 9:\n",
      "\ttrain loss:\t13.47\ttrain acc: 0.89\n",
      "\t test loss:\t1.63\ttest acc: 0.88\n"
     ]
    }
   ],
   "source": [
    "model = GraphNet(input_dim=ds_shape[1])\n",
    "\n",
    "epochs = 10\n",
    "\n",
    "# loss_func = F.binary_cross_entropy_with_logits\n",
    "loss_func = FocalLoss(alpha=0.25, gamma=2)\n",
    "\n",
    "\n",
    "model = model.to(device)\n",
    "optimizer = SGD(model.parameters(), lr=0.001, momentum=0.9, weight_decay=1e-4)\n",
    "scheduler = CosineAnnealingLR(optimizer, epochs, eta_min=1e-3)\n",
    "\n",
    "for epoch in range(epochs):\n",
    "    print(f'Epoch {epoch}:')\n",
    "\n",
    "    batch_size = 1\n",
    "    train_dl = flat_data_loader(train_set_scaled, batch_size)\n",
    "    test_dl = flat_data_loader(test_set_scaled, batch_size)\n",
    "\n",
    "    train_loss, train_true, train_pred = train_edge_pred(\n",
    "        model,\n",
    "        device,\n",
    "        optimizer,\n",
    "        loss_func,\n",
    "        train_dl,\n",
    "        batch_size\n",
    "    )\n",
    "    \n",
    "    train_acc = metrics.accuracy_score(train_true, (train_pred > 0.5).astype(int))\n",
    "\n",
    "    print(f'\\ttrain loss:\\t{train_loss:.2f}\\ttrain acc: {train_acc:.2f}')\n",
    "    scheduler.step()\n",
    "\n",
    "    test_loss, test_true, test_pred = test_edge_pred(model, device, loss_func, test_dl, batch_size)\n",
    "    test_acc = metrics.accuracy_score(test_true, (test_pred > 0.5).astype(int))\n",
    "\n",
    "    print(f'\\t test loss:\\t{test_loss:.2f}\\ttest acc: {test_acc:.2f}')"
   ]
  },
  {
   "cell_type": "code",
   "execution_count": 152,
   "id": "2fdf4fdf",
   "metadata": {},
   "outputs": [
    {
     "data": {
      "image/png": "[encoded data removed]",
      "text/plain": [
       "<Figure size 432x288 with 1 Axes>"
      ]
     },
     "metadata": {
      "needs_background": "light"
     },
     "output_type": "display_data"
    }
   ],
   "source": [
    "th_values = [i / 100. for i in range(1, 100, 2)]\n",
    "precision = []\n",
    "recall = []\n",
    "fbeta = []\n",
    "\n",
    "for th in th_values:\n",
    "\n",
    "    batch_size = 1\n",
    "    test_dl = flat_data_loader(test_set, batch_size)\n",
    "    test_loss, test_true, test_pred = test_edge_pred(model, device, loss_func, test_dl, batch_size)\n",
    "\n",
    "    pred = (test_pred > th).astype(int)\n",
    "\n",
    "    if sum(pred) == 0:\n",
    "        precision.append(0)\n",
    "        recall.append(0)\n",
    "        fbeta.append(0)\n",
    "    else:\n",
    "        precision.append(metrics.precision_score(test_true, pred))\n",
    "        recall.append(metrics.recall_score(test_true, pred))\n",
    "        fbeta.append(metrics.fbeta_score(test_true, pred, beta=0.5))\n",
    "\n",
    "plt.figure()\n",
    "plt.plot(th_values, precision, label=\"precision\")\n",
    "plt.plot(th_values, recall, label=\"recall\")\n",
    "plt.plot(th_values, fbeta, label=\"fbeta\")\n",
    "plt.xlabel(\"Threshold\")\n",
    "plt.legend()\n",
    "plt.show()"
   ]
  },
  {
   "cell_type": "code",
   "execution_count": null,
   "id": "ee38fd3e",
   "metadata": {},
   "outputs": [],
   "source": []
  },
  {
   "cell_type": "code",
   "execution_count": null,
   "id": "679fedf4",
   "metadata": {},
   "outputs": [],
   "source": []
  }
 ],
 "metadata": {
  "kernelspec": {
   "display_name": "Python 3.8.9 ('ve': venv)",
   "language": "python",
   "name": "python3"
  },
  "language_info": {
   "codemirror_mode": {
    "name": "ipython",
    "version": 3
   },
   "file_extension": ".py",
   "mimetype": "text/x-python",
   "name": "python",
   "nbconvert_exporter": "python",
   "pygments_lexer": "ipython3",
   "version": "3.8.9"
  },
  "vscode": {
   "interpreter": {
    "hash": "75d0e37245d408f3d59eb152d126431f02f862b5012558b3df6d65a37ffc466c"
   }
  }
 },
 "nbformat": 4,
 "nbformat_minor": 5
}
