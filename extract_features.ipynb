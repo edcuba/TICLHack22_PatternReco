{
 "cells": [
  {
   "cell_type": "code",
   "execution_count": 1,
   "metadata": {},
   "outputs": [],
   "source": [
    "import uproot\n",
    "import torch"
   ]
  },
  {
   "cell_type": "code",
   "execution_count": 2,
   "metadata": {},
   "outputs": [],
   "source": [
    "from torch_geometric.data import Data\n",
    "from torch_geometric.data import InMemoryDataset\n",
    "from graph_utils import load_tree\n",
    "\n",
    "\n",
    "class HGCALTracksters(InMemoryDataset):\n",
    "    \n",
    "    def __init__(self, root, transform=None, pre_transform=None, pre_filter=None):\n",
    "        super().__init__(root, transform, pre_transform, pre_filter)\n",
    "        self.data, self.slices = torch.load(self.processed_paths[0])\n",
    "\n",
    "    @property\n",
    "    def raw_file_names(self):\n",
    "        return ['tracksters_ds_10e.root']\n",
    "\n",
    "    @property\n",
    "    def processed_file_names(self):\n",
    "        return ['data.pt']\n",
    "\n",
    "    def process(self):\n",
    "\n",
    "        filename = f\"{self.root}/{self.raw_file_names[0]}\"\n",
    "        tracksters = uproot.open({filename: \"tracksters\"})\n",
    "\n",
    "        dataset = []\n",
    "\n",
    "        for g, label in load_tree(tracksters):\n",
    "            x = torch.tensor([pos for _, pos in g.nodes(\"pos\")])\n",
    "            edge_index = torch.tensor(list(g.edges())).T\n",
    "            y = torch.tensor(label)\n",
    "            dataset.append(Data(x, edge_index=edge_index, y=y))\n",
    "\n",
    "        data, slices = self.collate(dataset)\n",
    "        torch.save((data, slices), self.processed_paths[0])"
   ]
  },
  {
   "cell_type": "code",
   "execution_count": 4,
   "metadata": {},
   "outputs": [
    {
     "name": "stderr",
     "output_type": "stream",
     "text": [
      "Processing...\n",
      "Done!\n"
     ]
    }
   ],
   "source": [
    "import torch_geometric.transforms as T\n",
    "transform = T.Compose([T.NormalizeFeatures()])\n",
    "\n",
    "ds = HGCALTracksters(\"data\", transform=transform)\n",
    "\n",
    "# prepare data\n",
    "train_set = ds[:2000]\n",
    "test_set = ds[2000:]"
   ]
  },
  {
   "cell_type": "code",
   "execution_count": 5,
   "metadata": {},
   "outputs": [
    {
     "data": {
      "text/plain": [
       "Data(x=[4, 3], edge_index=[2, 6], y=[1])"
      ]
     },
     "execution_count": 5,
     "metadata": {},
     "output_type": "execute_result"
    }
   ],
   "source": [
    "train_set[0]"
   ]
  },
  {
   "cell_type": "code",
   "execution_count": 16,
   "metadata": {},
   "outputs": [
    {
     "name": "stdout",
     "output_type": "stream",
     "text": [
      "PyTorch version: 1.13.0.dev20220622\n",
      "Using device: cpu\n"
     ]
    }
   ],
   "source": [
    "print(f\"PyTorch version: {torch.__version__}\")\n",
    "# Check PyTorch has access to MPS (Metal Performance Shader, Apple's GPU architecture)\n",
    "# print(f\"Is MPS (Metal Performance Shader) built? {torch.backends.mps.is_built()}\")\n",
    "# print(f\"Is MPS available? {torch.backends.mps.is_available()}\")\n",
    "# device = torch.device('cuda' if torch.cuda.is_available() else 'mps' if torch.backends.mps.is_available() else \"cpu\")\n",
    "\n",
    "device = torch.device('cuda' if torch.cuda.is_available() else \"cpu\")\n",
    "print(f\"Using device: {device}\")"
   ]
  },
  {
   "cell_type": "code",
   "execution_count": 12,
   "metadata": {},
   "outputs": [],
   "source": [
    "from torch_geometric.nn import GCNConv, global_mean_pool\n",
    "from torch_geometric.loader import DataLoader"
   ]
  },
  {
   "cell_type": "code",
   "execution_count": 13,
   "metadata": {},
   "outputs": [],
   "source": [
    "class TracksterClassifier(torch.nn.Module):\n",
    "    def __init__(self, in_channels, out_channels, **kwargs):\n",
    "        super(TracksterClassifier, self).__init__(**kwargs)\n",
    "\n",
    "        self.conv1 = GCNConv(in_channels, out_channels)\n",
    "        self.conv2 = GCNConv(out_channels, out_channels)\n",
    "        self.dense = torch.nn.Linear(out_channels, 1)\n",
    "\n",
    "    def forward(self, data):\n",
    "        x, edge_index, batch = data.x, data.edge_index, data.batch\n",
    "        x = self.conv1(x, edge_index)\n",
    "        x = self.conv2(x, edge_index)\n",
    "        x = global_mean_pool(x, batch)\n",
    "        x = self.dense(x)\n",
    "        return torch.sigmoid(x)"
   ]
  },
  {
   "cell_type": "code",
   "execution_count": 14,
   "metadata": {},
   "outputs": [],
   "source": [
    "loss_obj = torch.nn.BCELoss()\n",
    "\n",
    "def train(model, loader):\n",
    "    epoch_loss = 0\n",
    "    for batch in loader:\n",
    "        model.train()\n",
    "        batch = batch.to(device)\n",
    "        optimizer.zero_grad()\n",
    "        z = model(batch).reshape(-1)\n",
    "        loss = loss_obj(z, batch.y.type(torch.float))\n",
    "        epoch_loss += loss\n",
    "        loss.backward()\n",
    "        optimizer.step()\n",
    "    return float(epoch_loss)\n",
    "\n",
    "@torch.no_grad()\n",
    "def test(model, data):\n",
    "    total = 0\n",
    "    correct = 0\n",
    "    for batch in data:\n",
    "        model.eval()\n",
    "        prediction = (model(batch).reshape(-1) > 0.5).type(torch.int)\n",
    "        total += len(prediction) \n",
    "        correct += sum(prediction == batch.y)\n",
    "    return correct / total"
   ]
  },
  {
   "cell_type": "code",
   "execution_count": 17,
   "metadata": {},
   "outputs": [
    {
     "name": "stdout",
     "output_type": "stream",
     "text": [
      "Epoch: 0, loss: 163.7070, train acc: 0.6835, test acc: 0.7732\n",
      "Epoch: 5, loss: 98.3007, train acc: 0.8290, test acc: 0.8821\n",
      "Epoch: 10, loss: 78.0473, train acc: 0.8840, test acc: 0.9116\n",
      "Epoch: 15, loss: 76.3529, train acc: 0.8945, test acc: 0.9070\n",
      "Epoch: 20, loss: 71.8290, train acc: 0.9020, test acc: 0.8934\n",
      "Epoch: 25, loss: 72.7565, train acc: 0.9070, test acc: 0.9048\n",
      "Epoch: 30, loss: 69.6265, train acc: 0.9020, test acc: 0.9116\n",
      "Epoch: 35, loss: 69.6053, train acc: 0.9110, test acc: 0.8980\n",
      "Epoch: 40, loss: 67.7216, train acc: 0.8985, test acc: 0.9070\n",
      "Epoch: 45, loss: 66.8574, train acc: 0.9105, test acc: 0.8934\n",
      "Epoch: 50, loss: 67.5553, train acc: 0.9130, test acc: 0.9002\n"
     ]
    }
   ],
   "source": [
    "model = TracksterClassifier(ds.num_node_features, 64)\n",
    "model = model.to(device)\n",
    "optimizer = torch.optim.Adam(model.parameters(), lr=0.001)\n",
    "train_loader = DataLoader(train_set, batch_size=8, shuffle=True)\n",
    "test_loader = DataLoader(test_set, batch_size=8, shuffle=True)\n",
    "\n",
    "for epoch in range(51):\n",
    "    loss = train(model, train_loader)\n",
    "    train_acc = test(model, train_loader)\n",
    "    test_acc = test(model, test_loader)\n",
    "    if epoch % 5 == 0:\n",
    "        print(f'Epoch: {epoch}, loss: {loss:.4f}, train acc: {train_acc:.4f}, test acc: {test_acc:.4f}')"
   ]
  },
  {
   "cell_type": "code",
   "execution_count": null,
   "metadata": {},
   "outputs": [],
   "source": []
  }
 ],
 "metadata": {
  "kernelspec": {
   "display_name": "Python 3.8.9 ('ve': venv)",
   "language": "python",
   "name": "python3"
  },
  "language_info": {
   "codemirror_mode": {
    "name": "ipython",
    "version": 3
   },
   "file_extension": ".py",
   "mimetype": "text/x-python",
   "name": "python",
   "nbconvert_exporter": "python",
   "pygments_lexer": "ipython3",
   "version": "3.8.9"
  },
  "orig_nbformat": 4,
  "vscode": {
   "interpreter": {
    "hash": "1903a8da8a80be3e00e24bd0fcb097c09e11062da66a97e6f0ab60aef4c2ceaa"
   }
  }
 },
 "nbformat": 4,
 "nbformat_minor": 2
}
