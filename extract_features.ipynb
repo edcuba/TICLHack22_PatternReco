{
 "cells": [
  {
   "cell_type": "code",
   "execution_count": null,
   "metadata": {},
   "outputs": [],
   "source": [
    "import uproot"
   ]
  },
  {
   "cell_type": "code",
   "execution_count": null,
   "metadata": {},
   "outputs": [],
   "source": [
    "filename = \"tracksters_ds.root\"\n",
    "complete_ds = {filename: \"tracksters/complete\"}\n",
    "incomplete_ds = {filename: \"tracksters/incomplete\"}\n",
    "complete = uproot.open(complete_ds)\n",
    "incomplete = uproot.open(incomplete_ds)"
   ]
  }
 ],
 "metadata": {
  "language_info": {
   "name": "python"
  },
  "orig_nbformat": 4
 },
 "nbformat": 4,
 "nbformat_minor": 2
}
