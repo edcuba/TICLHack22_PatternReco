{
 "cells": [
  {
   "attachments": {},
   "cell_type": "markdown",
   "id": "6c07744a",
   "metadata": {},
   "source": [
    "# Graph net for link prediction\n",
    "\n",
    "Question: does including the neighborhood provide a benefit over the pairwise classification?"
   ]
  },
  {
   "cell_type": "code",
   "execution_count": 10,
   "id": "e3962d51",
   "metadata": {},
   "outputs": [],
   "source": [
    "import numpy as np\n",
    "import torch\n",
    "import sys\n",
    "\n",
    "import torch.nn as nn\n",
    "from torch.optim import Adam\n",
    "from torch.optim.lr_scheduler import CosineAnnealingLR\n",
    "\n",
    "from torch.utils.data import random_split\n",
    "from torch_geometric.loader import DataLoader\n",
    "\n",
    "import torch_geometric.nn as gnn\n",
    "\n",
    "from reco.model import DynamicEdgeConvBlock\n",
    "\n",
    "from reco.training import precision_recall_curve, roc_auc\n",
    "from reco.loss import QualityFocalLoss\n",
    "from reco.datasetPU import TracksterGraph\n",
    "\n",
    "\n",
    "ds_name = \"CloseByPion200PU\"\n",
    "\n",
    "data_root = \"data\"\n",
    "raw_dir = f\"/Users/ecuba/data/{ds_name}\"\n",
    "\n",
    "# data_root = \"/mnt/ceph/users/ecuba/processed\"\n",
    "# raw_dir = f\"/mnt/ceph/users/ecuba/{ds_name}\""
   ]
  },
  {
   "cell_type": "code",
   "execution_count": 11,
   "id": "02f59304-76e4-4132-a379-978a46a042fd",
   "metadata": {},
   "outputs": [
    {
     "name": "stdout",
     "output_type": "stream",
     "text": [
      "Using device: cpu\n"
     ]
    }
   ],
   "source": [
    "# CUDA Setup\n",
    "device = torch.device('cuda' if torch.cuda.is_available() else \"cpu\")\n",
    "print(f\"Using device: {device}\")"
   ]
  },
  {
   "cell_type": "code",
   "execution_count": 24,
   "id": "ba68cd4a",
   "metadata": {},
   "outputs": [
    {
     "data": {
      "text/plain": [
       "TracksterGraphPU(graphs=1903, nodes=84747, radius=15, bigT_e_th=5, lp)"
      ]
     },
     "execution_count": 24,
     "metadata": {},
     "output_type": "execute_result"
    }
   ],
   "source": [
    "ds = TracksterGraph(\n",
    "    ds_name,\n",
    "    data_root,\n",
    "    raw_dir,\n",
    "    N_FILES=100,\n",
    "    radius=15,\n",
    "    bigT_e_th=5,\n",
    "    link_prediction=True,\n",
    "    pileup=True,\n",
    ")\n",
    "ds"
   ]
  },
  {
   "cell_type": "code",
   "execution_count": 14,
   "id": "604298f4",
   "metadata": {},
   "outputs": [
    {
     "name": "stdout",
     "output_type": "stream",
     "text": [
      "Train graphs: 854, Test graphs: 94, total: 948\n"
     ]
    }
   ],
   "source": [
    "ds_size = len(ds)\n",
    "test_set_size = ds_size // 10\n",
    "train_set_size = ds_size - test_set_size\n",
    "train_set, test_set = random_split(ds, [train_set_size, test_set_size])\n",
    "print(f\"Train graphs: {len(train_set)}, Test graphs: {len(test_set)}, total: {ds_size}\")\n",
    "\n",
    "train_dl = DataLoader(train_set, batch_size=1, shuffle=True, drop_last=True)\n",
    "test_dl = DataLoader(test_set, batch_size=1, shuffle=True, drop_last=True)"
   ]
  },
  {
   "cell_type": "code",
   "execution_count": 15,
   "id": "3f4a0b99-bef3-4c82-a0ac-d88e1521382b",
   "metadata": {},
   "outputs": [],
   "source": [
    "class LinkPredictionNet(nn.Module):\n",
    "    def __init__(self, input_dim, output_dim=1, dropout=0.2):\n",
    "        super(LinkPredictionNet, self).__init__()\n",
    "        self.norm = gnn.LayerNorm(input_dim)\n",
    "        \n",
    "        hdim1 = 64\n",
    "        hdim2 = 64\n",
    "        hdim_fc = 256\n",
    "\n",
    "        self.edgeconv1 = DynamicEdgeConvBlock(input_dim, hdim1)\n",
    "        self.edgeconv2 = DynamicEdgeConvBlock(hdim1, hdim2)\n",
    "        \n",
    "        # Edge features from node embeddings for classification        \n",
    "        self.nodenetwork = nn.Sequential(\n",
    "            nn.Linear(2 * hdim2, hdim_fc),\n",
    "            nn.Sigmoid(),\n",
    "            nn.Dropout(dropout),\n",
    "            nn.Linear(hdim_fc, output_dim),\n",
    "        )\n",
    "\n",
    "    def forward(self, X, edge_index, batch=None):\n",
    "        H0 = X #self.norm(X, batch)\n",
    "        H1 = self.edgeconv1(H0, batch=batch)\n",
    "        H2 = self.edgeconv2(H1, batch=batch)\n",
    "        \n",
    "        H3 = H2\n",
    "\n",
    "        src, dst = edge_index\n",
    "        edges = torch.cat([H3[src], H3[dst]], dim=-1)\n",
    "        return self.nodenetwork(edges).squeeze(-1)"
   ]
  },
  {
   "cell_type": "code",
   "execution_count": 16,
   "id": "2539cf65",
   "metadata": {},
   "outputs": [],
   "source": [
    "def train_link_prediction(model, device, optimizer, loss_func, train_dl):\n",
    "    train_loss = []\n",
    "    model.train()\n",
    "\n",
    "    for data in train_dl:\n",
    "        data = data.to(device)\n",
    "        optimizer.zero_grad()\n",
    "\n",
    "        seg_pred = model(data.x, data.edge_index, batch=data.batch)        \n",
    "        loss = loss_func(seg_pred, data.y)\n",
    "        \n",
    "        loss.backward()\n",
    "        \n",
    "        optimizer.step()\n",
    "        train_loss.append(loss.item())\n",
    "\n",
    "    return np.mean(train_loss)"
   ]
  },
  {
   "cell_type": "code",
   "execution_count": 17,
   "id": "259ee8b3",
   "metadata": {},
   "outputs": [],
   "source": [
    "@torch.no_grad()\n",
    "def test_link_prediction(model, device, loss_func, test_dl):\n",
    "    test_loss = []\n",
    "    model.eval()\n",
    "    for data in test_dl:\n",
    "        data = data.to(device)\n",
    "        seg_pred = model(data.x, data.edge_index, data.batch)\n",
    "        loss = loss_func(seg_pred, data.y)\n",
    "        test_loss.append(loss.item())\n",
    "\n",
    "    return np.mean(test_loss)"
   ]
  },
  {
   "cell_type": "code",
   "execution_count": 18,
   "id": "b85638de",
   "metadata": {},
   "outputs": [],
   "source": [
    "model = LinkPredictionNet(input_dim=ds.data.x.shape[1])\n",
    "epochs = 21\n",
    "model_path = f\"models/LinkPredictionNet.DGCNN.ns.{epochs}e-{ds_name}.r{ds.RADIUS}.e{ds.bigT_e_th}.f{ds.N_FILES}.pt\""
   ]
  },
  {
   "cell_type": "code",
   "execution_count": 19,
   "id": "2d3f1e82-74c5-4629-9b20-f05d7662aaf1",
   "metadata": {},
   "outputs": [
    {
     "name": "stderr",
     "output_type": "stream",
     "text": [
      "Epoch 0:\t train loss: 11.142\t validation loss: 12.058\n",
      "Epoch 2:\t train loss: 6.307\t validation loss: 15.101\n",
      "Epoch 4:\t train loss: 5.444\t validation loss: 18.233\n",
      "Epoch 6:\t train loss: 4.986\t validation loss: 15.886\n",
      "Epoch 8:\t train loss: 4.486\t validation loss: 19.454\n",
      "Epoch 10:\t train loss: 4.152\t validation loss: 19.865\n",
      "Epoch 12:\t train loss: 3.695\t validation loss: 21.403\n",
      "Epoch 14:\t train loss: 3.338\t validation loss: 20.752\n",
      "Epoch 16:\t train loss: 3.012\t validation loss: 21.010\n",
      "Epoch 18:\t train loss: 2.774\t validation loss: 20.202\n"
     ]
    },
    {
     "name": "stdout",
     "output_type": "stream",
     "text": [
      "models/LinkPredictionNet.DGCNN.ns.21e-CloseByPion200PU.r15.e5.f50.pt\n"
     ]
    },
    {
     "name": "stderr",
     "output_type": "stream",
     "text": [
      "Epoch 20:\t train loss: 2.657\t validation loss: 19.618\n"
     ]
    }
   ],
   "source": [
    "#%%script echo skipping\n",
    "# alpha - percentage of negative edges\n",
    "loss_func = QualityFocalLoss()\n",
    "\n",
    "model = model.to(device)\n",
    "optimizer = Adam(model.parameters(), lr=1e-3)\n",
    "scheduler = CosineAnnealingLR(optimizer, epochs, eta_min=1e-5)\n",
    "\n",
    "for epoch in range(epochs):\n",
    "\n",
    "    train_loss = train_link_prediction(\n",
    "        model,\n",
    "        device,\n",
    "        optimizer,\n",
    "        loss_func,\n",
    "        train_dl\n",
    "    )\n",
    "    \n",
    "    scheduler.step()\n",
    "\n",
    "    if epoch % 2 == 0:\n",
    "        test_loss = test_link_prediction(model, device, loss_func, test_dl)\n",
    "        print(\n",
    "            f\"Epoch {epoch}:\\t train loss: {train_loss:.3f}\\t validation loss: {test_loss:.3f}\",\n",
    "            file=sys.stderr\n",
    "        )\n",
    "        \n",
    "torch.save(model.state_dict(), model_path)\n",
    "print(model_path)"
   ]
  },
  {
   "cell_type": "code",
   "execution_count": 20,
   "id": "0b9cbaa6",
   "metadata": {},
   "outputs": [
    {
     "name": "stdout",
     "output_type": "stream",
     "text": [
      "skipping\n"
     ]
    }
   ],
   "source": [
    "%%script echo skipping\n",
    "model.load_state_dict(torch.load(\n",
    "    model_path,\n",
    "    map_location=device\n",
    "))\n",
    "model = model.to(device)"
   ]
  },
  {
   "cell_type": "code",
   "execution_count": 21,
   "id": "c86c98db-0ac0-4a0c-84fd-4c50df507528",
   "metadata": {},
   "outputs": [
    {
     "name": "stdout",
     "output_type": "stream",
     "text": [
      "0.6600716613387648\n"
     ]
    },
    {
     "data": {
      "image/png": "[encoded data removed]",
      "text/plain": [
       "<Figure size 640x480 with 1 Axes>"
      ]
     },
     "metadata": {},
     "output_type": "display_data"
    },
    {
     "name": "stdout",
     "output_type": "stream",
     "text": [
      "TP: 1432, TN: 4271, FP: 646, FN: 2468\n",
      "TH: 0.1 precision: 0.689 recall: 0.367 fbeta: 0.586 b_acc: 0.618\n"
     ]
    }
   ],
   "source": [
    "#%%script echo skipping\n",
    "print(roc_auc(model, device, test_dl))\n",
    "precision_recall_curve(model, device, test_dl, focus_metric=\"fbeta\", beta=0.5, step=3, truth_threshold=0.5)"
   ]
  },
  {
   "attachments": {},
   "cell_type": "markdown",
   "id": "505ae0f3",
   "metadata": {},
   "source": [
    "--> overfits: need more data!!"
   ]
  },
  {
   "attachments": {},
   "cell_type": "markdown",
   "id": "eb8ce4e2",
   "metadata": {},
   "source": [
    "## Eval"
   ]
  },
  {
   "cell_type": "code",
   "execution_count": null,
   "id": "fb3f12d6",
   "metadata": {},
   "outputs": [],
   "source": [
    "import uproot\n",
    "import matplotlib.pyplot as plt\n",
    "import numpy as np\n",
    "from reco.data import get_event_data\n",
    "from reco.evaluation import model_evaluation\n",
    "from reco.dummy import DummyPleaser\n",
    "\n",
    "file_name = f\"{raw_dir}/new_ntuples_15101852_0.root\"\n",
    "cluster_data, trackster_data, simtrackster_data, assoc_data = get_event_data(file_name)"
   ]
  },
  {
   "cell_type": "code",
   "execution_count": null,
   "id": "6b5ffc46",
   "metadata": {},
   "outputs": [
    {
     "name": "stdout",
     "output_type": "stream",
     "text": [
      "Event 0:\n",
      "\tclue3d_to_sim:\tP: 0.988 R: 0.229 F: 0.594\n",
      "\ttarget_to_sim:\tP: 0.981 R: 0.686 F: 0.903\n",
      "\treco_to_sim:\tP: 0.928 R: 0.634 F: 0.849\n",
      "\t|S| = 2 |T| = 2 |R| = 2\n",
      "Event 1:\n",
      "\tclue3d_to_sim:\tP: 1.000 R: 0.283 F: 0.664\n",
      "\ttarget_to_sim:\tP: 1.000 R: 0.659 F: 0.906\n",
      "\treco_to_sim:\tP: 1.000 R: 0.659 F: 0.906\n",
      "\t|S| = 2 |T| = 2 |R| = 2\n",
      "Event 2:\n",
      "\tclue3d_to_sim:\tP: 1.000 R: 0.396 F: 0.766\n",
      "\ttarget_to_sim:\tP: 0.999 R: 0.814 F: 0.956\n",
      "\treco_to_sim:\tP: 1.000 R: 0.781 F: 0.947\n",
      "\t|S| = 2 |T| = 2 |R| = 6\n",
      "Event 3:\n",
      "\tclue3d_to_sim:\tP: 0.995 R: 0.383 F: 0.754\n",
      "\ttarget_to_sim:\tP: 0.992 R: 0.784 F: 0.942\n",
      "\treco_to_sim:\tP: 0.922 R: 0.701 F: 0.867\n",
      "\t|S| = 2 |T| = 2 |R| = 2\n",
      "Event 4:\n",
      "\tclue3d_to_sim:\tP: 0.998 R: 0.250 F: 0.625\n",
      "\ttarget_to_sim:\tP: 0.995 R: 0.836 F: 0.958\n",
      "\treco_to_sim:\tP: 0.977 R: 0.707 F: 0.908\n",
      "\t|S| = 2 |T| = 2 |R| = 3\n",
      "Event 5:\n",
      "\tclue3d_to_sim:\tP: 0.996 R: 0.551 F: 0.858\n",
      "\ttarget_to_sim:\tP: 0.995 R: 0.839 F: 0.959\n",
      "\treco_to_sim:\tP: 0.995 R: 0.839 F: 0.959\n",
      "\t|S| = 2 |T| = 2 |R| = 2\n",
      "Event 6:\n",
      "\tclue3d_to_sim:\tP: 0.992 R: 0.219 F: 0.582\n",
      "\ttarget_to_sim:\tP: 0.992 R: 0.727 F: 0.925\n",
      "\treco_to_sim:\tP: 0.851 R: 0.738 F: 0.826\n",
      "\t|S| = 2 |T| = 2 |R| = 1\n",
      "Event 7:\n",
      "\tclue3d_to_sim:\tP: 0.974 R: 0.112 F: 0.385\n",
      "\ttarget_to_sim:\tP: 0.968 R: 0.216 F: 0.571\n",
      "\treco_to_sim:\tP: 0.923 R: 0.269 F: 0.621\n",
      "\t|S| = 2 |T| = 2 |R| = 1\n",
      "Event 8:\n",
      "\tclue3d_to_sim:\tP: 0.997 R: 0.413 F: 0.777\n",
      "\ttarget_to_sim:\tP: 0.996 R: 0.761 F: 0.938\n",
      "\treco_to_sim:\tP: 0.996 R: 0.755 F: 0.936\n",
      "\t|S| = 2 |T| = 2 |R| = 3\n",
      "Event 9:\n",
      "\tclue3d_to_sim:\tP: 0.998 R: 0.177 F: 0.518\n",
      "\ttarget_to_sim:\tP: 0.998 R: 0.562 F: 0.864\n",
      "\treco_to_sim:\tP: 0.704 R: 0.565 F: 0.671\n",
      "\t|S| = 2 |T| = 2 |R| = 1\n",
      "-----\n",
      "mean clue3d_to_sim:\tP: 0.994 R: 0.301 F: 0.652\n",
      "mean target_to_sim:\tP: 0.992 R: 0.689 F: 0.892\n",
      "mean reco_to_sim:\tP: 0.930 R: 0.665 F: 0.849\n"
     ]
    }
   ],
   "source": [
    "r_ranges = range(5, 55, 5)\n",
    "results = []\n",
    "\n",
    "max_events = 20\n",
    "clue3D_F = []\n",
    "target_F = []\n",
    "naive_reco_F = []\n",
    "model_reco_F = []\n",
    "for r in r_ranges:\n",
    "    print(f\" --- Radius threshold: {r} ---\")\n",
    "    result = model_evaluation(\n",
    "        cluster_data,\n",
    "        trackster_data,\n",
    "        simtrackster_data,\n",
    "        assoc_data,\n",
    "        DummyPleaser(),\n",
    "        decision_th=0.5,\n",
    "        radius=r,\n",
    "        max_events=max_events,\n",
    "        bigT_e_th=10,\n",
    "        pileup=False,\n",
    "        graph=True,\n",
    "        link_prediction=True,\n",
    "    )\n",
    "    clue3D_F.append(np.sum(np.array(result[\"clue3d_to_sim\"])[:,2]) / max_events)\n",
    "    target_F.append(np.sum(np.array(result[\"target_to_sim\"])[:,2]) / max_events)\n",
    "    naive_reco_F.append(np.sum(np.array(result[\"reco_to_sim\"])[:,2]) / max_events)\n",
    "\n",
    "    result = model_evaluation(\n",
    "        cluster_data,\n",
    "        trackster_data,\n",
    "        simtrackster_data,\n",
    "        assoc_data,\n",
    "        model,\n",
    "        decision_th=0.5,\n",
    "        radius=r,\n",
    "        max_events=max_events,\n",
    "        bigT_e_th=10,\n",
    "        pileup=True,\n",
    "        graph=True,\n",
    "        link_prediction=True,\n",
    "    )\n",
    "    model_reco_F.append(np.sum(np.array(result[\"reco_to_sim\"])[:,2]) / max_events)"
   ]
  },
  {
   "cell_type": "code",
   "execution_count": null,
   "id": "bc9b49b1",
   "metadata": {},
   "outputs": [],
   "source": [
    "fig = plt.figure(figsize=(8, 5))\n",
    "\n",
    "ax = fig.add_subplot(111)\n",
    "\n",
    "ax.plot(r_ranges[:6], (np.array(target_F) - np.array(clue3D_F))[:6], '--s', label=\"target $\\Delta F_{0.5}$\", c=\"#D55E00\")\n",
    "ax.plot(r_ranges[:6], (np.array(model_reco_F) - np.array(clue3D_F))[:6], '-o', label=\"GNN LP $\\Delta F_{0.5}$\", c=\"#56B4E9\")\n",
    "ax.plot(r_ranges[:6], (np.array(naive_reco_F) - np.array(clue3D_F))[:6], '-v', label=\"naive $\\Delta F_{0.5}$\", c=\"#E69F00\")\n",
    "\n",
    "ax.axhline(max(np.array(naive_reco_F) - np.array(clue3D_F)), label=\"baseline\", c=\"lightgray\", linestyle=\"--\")\n",
    "\n",
    "ax.legend()\n",
    "ax.set_xlabel(\"Neighborhood radius (cm)\")\n",
    "ax.set_ylabel(\"$\\Delta F_{0.5}$\")\n",
    "ax.set_ylim((-0.1, 0.1))\n",
    "\n",
    "fig.savefig(f'export/{ds_name}-e5-graph-lp-radius-plot.png', dpi=300, bbox_inches='tight', transparent=True)\n",
    "plt.show()"
   ]
  },
  {
   "attachments": {},
   "cell_type": "markdown",
   "id": "9a309e4f",
   "metadata": {},
   "source": [
    "## Setup comparison:\n",
    "\n",
    "Pairwise:\n",
    "- mean clue3d_to_sim:\tP: 0.994 R: 0.301 F: 0.652\n",
    "- mean target_to_sim:\tP: 0.992 R: 0.689 F: 0.892\n",
    "- mean reco_to_sim:\t    P: 0.659 R: 0.699 F: 0.642\n",
    "\n",
    "Graph (node-pred):\n",
    "- mean clue3d_to_sim:\tP: 0.994 R: 0.301 F: 0.652\n",
    "- mean target_to_sim:\tP: 0.992 R: 0.688 F: 0.892\n",
    "- mean reco_to_sim:\t    P: 0.659 R: 0.699 F: 0.642\n",
    "\n",
    "Graph (link-pred):\n",
    "- mean clue3d_to_sim:\tP: 0.994 R: 0.301 F: 0.652\n",
    "- mean target_to_sim:\tP: 0.992 R: 0.689 F: 0.892\n",
    "- mean reco_to_sim:\tP: 0.915 R: 0.329 F: 0.637\n"
   ]
  },
  {
   "cell_type": "markdown",
   "id": "328866f1-c862-4dfb-a201-91d2baa53d9f",
   "metadata": {},
   "source": [
    "## Results\n",
    "\n",
    "Using alpha=balance seems to converge faster (100 epochs rather than 200)\n",
    "- maybe just sticking to 0.25? (works just fine)\n",
    "\n",
    "Hyperparams\n",
    "- (64, 128, noskip), alpha=balance, roc_auc = 0.9733\n",
    "- (64, 128, 256fc, noskip, 200e), alpha=1-balance, roc_auc = 0.9771\n",
    "- (64, 128, 256fc, noskip, 200e), alpha=balance, roc_auc = 0.981\n",
    "- (64, 128, 256fc, noskip, 100e), alpha=0.25, roc_auc = 0.9796"
   ]
  }
 ],
 "metadata": {
  "kernelspec": {
   "display_name": "Python 3.9.6 ('ve': venv)",
   "language": "python",
   "name": "python3"
  },
  "language_info": {
   "codemirror_mode": {
    "name": "ipython",
    "version": 3
   },
   "file_extension": ".py",
   "mimetype": "text/x-python",
   "name": "python",
   "nbconvert_exporter": "python",
   "pygments_lexer": "ipython3",
   "version": "3.9.6"
  },
  "vscode": {
   "interpreter": {
    "hash": "37c238d9819f69c2c770157eac01081978c120e64661e10d7fd52c4caf977dc9"
   }
  }
 },
 "nbformat": 4,
 "nbformat_minor": 5
}
