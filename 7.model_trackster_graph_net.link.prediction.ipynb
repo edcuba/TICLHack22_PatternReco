{
 "cells": [
  {
   "attachments": {},
   "cell_type": "markdown",
   "id": "6c07744a",
   "metadata": {},
   "source": [
    "# Graph net for link prediction\n",
    "\n",
    "Question: does including the neighborhood provide a benefit over the pairwise classification?"
   ]
  },
  {
   "cell_type": "code",
   "execution_count": 28,
   "id": "e3962d51",
   "metadata": {},
   "outputs": [],
   "source": [
    "import numpy as np\n",
    "import torch\n",
    "import sys\n",
    "\n",
    "import torch.nn as nn\n",
    "from torch.optim import Adam\n",
    "from torch.optim.lr_scheduler import CosineAnnealingLR\n",
    "\n",
    "from torch.utils.data import random_split\n",
    "from torch_geometric.loader import DataLoader\n",
    "\n",
    "import torch_geometric.nn as gnn\n",
    "\n",
    "from reco.model import DynamicEdgeConvBlock\n",
    "\n",
    "from reco.training import precision_recall_curve, roc_auc\n",
    "from reco.loss import QualityFocalLoss\n",
    "from reco.datasetPU import TracksterGraph\n",
    "\n",
    "\n",
    "ds_name = \"CloseByTwoPion\"\n",
    "\n",
    "data_root = \"data\"\n",
    "raw_dir = f\"/Users/ecuba/data/{ds_name}\"\n",
    "\n",
    "# data_root = \"/mnt/ceph/users/ecuba/processed\"\n",
    "# raw_dir = f\"/mnt/ceph/users/ecuba/{ds_name}\""
   ]
  },
  {
   "cell_type": "code",
   "execution_count": 29,
   "id": "02f59304-76e4-4132-a379-978a46a042fd",
   "metadata": {},
   "outputs": [
    {
     "name": "stdout",
     "output_type": "stream",
     "text": [
      "Using device: cpu\n"
     ]
    }
   ],
   "source": [
    "# CUDA Setup\n",
    "device = torch.device('cuda' if torch.cuda.is_available() else \"cpu\")\n",
    "print(f\"Using device: {device}\")"
   ]
  },
  {
   "cell_type": "code",
   "execution_count": 30,
   "id": "ba68cd4a",
   "metadata": {},
   "outputs": [],
   "source": [
    "ds = TracksterGraph(\n",
    "    ds_name,\n",
    "    data_root,\n",
    "    raw_dir,\n",
    "    N_FILES=10,\n",
    "    pileup=False,\n",
    "    radius=100,\n",
    "    bigT_e_th=10,\n",
    "    link_prediction=True\n",
    ")"
   ]
  },
  {
   "cell_type": "code",
   "execution_count": 31,
   "id": "f5ed3e15",
   "metadata": {},
   "outputs": [
    {
     "data": {
      "text/plain": [
       "torch.Size([28464, 39])"
      ]
     },
     "execution_count": 31,
     "metadata": {},
     "output_type": "execute_result"
    }
   ],
   "source": [
    "# something is wrong with the shapes!\n",
    "# TODO: the edge index is wrong duuuuh! the indexes must be into the dataset\n",
    "ds.data.edge_index.shape[1] == ds.data.x.shape[0]\n",
    "ds.data.x.shape"
   ]
  },
  {
   "cell_type": "code",
   "execution_count": 32,
   "id": "604298f4",
   "metadata": {},
   "outputs": [
    {
     "name": "stdout",
     "output_type": "stream",
     "text": [
      "Train graphs: 899, Test graphs: 99, total: 998\n"
     ]
    }
   ],
   "source": [
    "ds_size = len(ds)\n",
    "test_set_size = ds_size // 10\n",
    "train_set_size = ds_size - test_set_size\n",
    "train_set, test_set = random_split(ds, [train_set_size, test_set_size])\n",
    "print(f\"Train graphs: {len(train_set)}, Test graphs: {len(test_set)}, total: {ds_size}\")\n",
    "\n",
    "train_dl = DataLoader(train_set, batch_size=8, shuffle=True)\n",
    "test_dl = DataLoader(test_set, batch_size=8, shuffle=True)"
   ]
  },
  {
   "cell_type": "code",
   "execution_count": 80,
   "id": "3f4a0b99-bef3-4c82-a0ac-d88e1521382b",
   "metadata": {},
   "outputs": [],
   "source": [
    "class LinkPredictionNet(nn.Module):\n",
    "    def __init__(self, input_dim, output_dim=1, dropout=0.2):\n",
    "        super(LinkPredictionNet, self).__init__()\n",
    "        self.norm = gnn.LayerNorm(input_dim)\n",
    "        \n",
    "        hdim1 = 32\n",
    "        hdim2 = 32\n",
    "        hdim3 = 32\n",
    "\n",
    "        hdim_fc = 256\n",
    "\n",
    "        self.edgeconv1 = DynamicEdgeConvBlock(input_dim, hdim1)\n",
    "        self.edgeconv2 = DynamicEdgeConvBlock(hdim1, hdim2)\n",
    "        # self.edgeconv3 = DynamicEdgeConvBlock(hdim2, hdim3)\n",
    "        \n",
    "        # Edge features from node embeddings for classification        \n",
    "        self.nodenetwork = nn.Sequential(\n",
    "            nn.Linear(2 * hdim3, hdim_fc),\n",
    "            nn.Sigmoid(),\n",
    "            # nn.Dropout(dropout),\n",
    "            nn.Linear(hdim_fc, output_dim),\n",
    "        )\n",
    "\n",
    "    def forward(self, X, edge_index, batch=None):\n",
    "        H0 = self.norm(X, batch)\n",
    "        H1 = self.edgeconv1(H0, batch=batch)\n",
    "        H2 = self.edgeconv2(H1, batch=batch)\n",
    "        # H3 = self.edgeconv3(H2, batch)\n",
    "        \n",
    "        H3 = H2\n",
    "\n",
    "        src, dst = edge_index\n",
    "        edges = torch.cat([H3[src], H3[dst]], dim=-1)\n",
    "        return self.nodenetwork(edges).squeeze(-1)"
   ]
  },
  {
   "cell_type": "code",
   "execution_count": 81,
   "id": "2539cf65",
   "metadata": {},
   "outputs": [],
   "source": [
    "def train_link_prediction(model, device, optimizer, loss_func, train_dl):\n",
    "    train_loss = []\n",
    "    model.train()\n",
    "\n",
    "    for data in train_dl:\n",
    "        data = data.to(device)\n",
    "        optimizer.zero_grad()\n",
    "\n",
    "        seg_pred = model(data.x, data.edge_index, batch=data.batch)        \n",
    "        loss = loss_func(data.y, seg_pred)\n",
    "        \n",
    "        loss.backward()\n",
    "        \n",
    "        optimizer.step()\n",
    "        train_loss.append(loss.item())\n",
    "\n",
    "    return np.mean(train_loss)"
   ]
  },
  {
   "cell_type": "code",
   "execution_count": 82,
   "id": "259ee8b3",
   "metadata": {},
   "outputs": [],
   "source": [
    "@torch.no_grad()\n",
    "def test_link_prediction(model, device, loss_func, test_dl):\n",
    "    test_loss = []\n",
    "    model.eval()\n",
    "    for data in test_dl:\n",
    "        data = data.to(device)\n",
    "        seg_pred = model(data.x, data.edge_index, data.batch)\n",
    "        loss = loss_func(data.y, seg_pred)\n",
    "        test_loss.append(loss.item())\n",
    "\n",
    "    return np.mean(test_loss)"
   ]
  },
  {
   "cell_type": "code",
   "execution_count": 83,
   "id": "b85638de",
   "metadata": {},
   "outputs": [],
   "source": [
    "model = LinkPredictionNet(input_dim=ds.data.x.shape[1])\n",
    "epochs = 20\n",
    "model_path = f\"models/LinkPredictionNet.DGCNN.ns.{epochs}e-{ds_name}.r{ds.RADIUS}.e{ds.bigT_e_th}.f{ds.N_FILES}.pt\""
   ]
  },
  {
   "cell_type": "code",
   "execution_count": 84,
   "id": "2d3f1e82-74c5-4629-9b20-f05d7662aaf1",
   "metadata": {},
   "outputs": [
    {
     "name": "stderr",
     "output_type": "stream",
     "text": [
      "Epoch 0:\t train loss: 0.191\t validation loss: 0.159\n",
      "Epoch 2:\t train loss: 0.140\t validation loss: 0.113\n",
      "Epoch 4:\t train loss: 0.071\t validation loss: 0.069\n",
      "Epoch 6:\t train loss: 0.065\t validation loss: 0.075\n",
      "Epoch 8:\t train loss: 0.061\t validation loss: 0.062\n",
      "Epoch 10:\t train loss: 0.059\t validation loss: 0.064\n",
      "Epoch 12:\t train loss: 0.054\t validation loss: 0.060\n",
      "Epoch 14:\t train loss: 0.053\t validation loss: 0.056\n",
      "Epoch 16:\t train loss: 0.050\t validation loss: 0.054\n",
      "Epoch 18:\t train loss: 0.050\t validation loss: 0.056\n"
     ]
    },
    {
     "name": "stdout",
     "output_type": "stream",
     "text": [
      "models/LinkPredictionNet.DGCNN.ns.20e-CloseByTwoPion.r100.e10.f10.pt\n"
     ]
    }
   ],
   "source": [
    "#%%script echo skipping\n",
    "# alpha - percentage of negative edges\n",
    "loss_func = QualityFocalLoss()\n",
    "\n",
    "model = model.to(device)\n",
    "optimizer = Adam(model.parameters(), lr=1e-3)\n",
    "scheduler = CosineAnnealingLR(optimizer, epochs, eta_min=1e-5)\n",
    "\n",
    "for epoch in range(epochs):\n",
    "\n",
    "    train_loss = train_link_prediction(\n",
    "        model,\n",
    "        device,\n",
    "        optimizer,\n",
    "        loss_func,\n",
    "        train_dl\n",
    "    )\n",
    "    \n",
    "    scheduler.step()\n",
    "\n",
    "    if epoch % 2 == 0:\n",
    "        test_loss = test_link_prediction(model, device, loss_func, test_dl)\n",
    "        print(\n",
    "            f\"Epoch {epoch}:\\t train loss: {train_loss:.3f}\\t validation loss: {test_loss:.3f}\",\n",
    "            file=sys.stderr\n",
    "        )\n",
    "        \n",
    "torch.save(model.state_dict(), model_path)\n",
    "print(model_path)"
   ]
  },
  {
   "cell_type": "code",
   "execution_count": 85,
   "id": "0b9cbaa6",
   "metadata": {},
   "outputs": [
    {
     "name": "stdout",
     "output_type": "stream",
     "text": [
      "skipping\n"
     ]
    }
   ],
   "source": [
    "%%script echo skipping\n",
    "model.load_state_dict(torch.load(\n",
    "    model_path,\n",
    "    map_location=device\n",
    "))\n",
    "model = model.to(device)"
   ]
  },
  {
   "cell_type": "code",
   "execution_count": 86,
   "id": "c86c98db-0ac0-4a0c-84fd-4c50df507528",
   "metadata": {},
   "outputs": [
    {
     "name": "stdout",
     "output_type": "stream",
     "text": [
      "0.926435682176706\n"
     ]
    },
    {
     "data": {
      "image/png": "[encoded data removed]",
      "text/plain": [
       "<Figure size 640x480 with 1 Axes>"
      ]
     },
     "metadata": {},
     "output_type": "display_data"
    },
    {
     "name": "stdout",
     "output_type": "stream",
     "text": [
      "TP: 5546, TN: 5102, FP: 626, FN: 1479\n",
      "TH: 0.73 precision: 0.899 recall: 0.789 fbeta: 0.874 b_acc: 0.840\n"
     ]
    }
   ],
   "source": [
    "#%%script echo skipping\n",
    "print(roc_auc(model, device, test_dl))\n",
    "precision_recall_curve(model, device, test_dl, focus_metric=\"fbeta\", beta=0.5, step=3, truth_threshold=0.5)"
   ]
  },
  {
   "attachments": {},
   "cell_type": "markdown",
   "id": "eb8ce4e2",
   "metadata": {},
   "source": [
    "## Eval"
   ]
  },
  {
   "cell_type": "code",
   "execution_count": 13,
   "id": "fb3f12d6",
   "metadata": {},
   "outputs": [
    {
     "ename": "FileNotFoundError",
     "evalue": "file not found\n\n    '/Users/ecuba/data/CloseByTwoPion/new_ntuples_15643817_2.root'\n\nFiles may be specified as:\n   * str/bytes: relative or absolute filesystem path or URL, without any colons\n         other than Windows drive letter or URL schema.\n         Examples: \"rel/file.root\", \"C:\\abs\\file.root\", \"http://where/what.root\"\n   * str/bytes: same with an object-within-ROOT path, separated by a colon.\n         Example: \"rel/file.root:tdirectory/ttree\"\n   * pathlib.Path: always interpreted as a filesystem path or URL only (no\n         object-within-ROOT path), regardless of whether there are any colons.\n         Examples: Path(\"rel:/file.root\"), Path(\"/abs/path:stuff.root\")\n\nFunctions that accept many files (uproot.iterate, etc.) also allow:\n   * glob syntax in str/bytes and pathlib.Path.\n         Examples: Path(\"rel/*.root\"), \"/abs/*.root:tdirectory/ttree\"\n   * dict: keys are filesystem paths, values are objects-within-ROOT paths.\n         Example: {\"/data_v1/*.root\": \"ttree_v1\", \"/data_v2/*.root\": \"ttree_v2\"}\n   * already-open TTree objects.\n   * iterables of the above.\n",
     "output_type": "error",
     "traceback": [
      "\u001b[0;31m---------------------------------------------------------------------------\u001b[0m",
      "\u001b[0;31mFileNotFoundError\u001b[0m                         Traceback (most recent call last)",
      "File \u001b[0;32m~/devel/pattern-reco/ve/lib/python3.9/site-packages/uproot/source/file.py:112\u001b[0m, in \u001b[0;36mMemmapSource._open\u001b[0;34m(self)\u001b[0m\n\u001b[1;32m    111\u001b[0m \u001b[39mtry\u001b[39;00m:\n\u001b[0;32m--> 112\u001b[0m     \u001b[39mself\u001b[39m\u001b[39m.\u001b[39m_file \u001b[39m=\u001b[39m numpy\u001b[39m.\u001b[39;49mmemmap(\u001b[39mself\u001b[39;49m\u001b[39m.\u001b[39;49m_file_path, dtype\u001b[39m=\u001b[39;49m\u001b[39mself\u001b[39;49m\u001b[39m.\u001b[39;49m_dtype, mode\u001b[39m=\u001b[39;49m\u001b[39m\"\u001b[39;49m\u001b[39mr\u001b[39;49m\u001b[39m\"\u001b[39;49m)\n\u001b[1;32m    113\u001b[0m     \u001b[39mself\u001b[39m\u001b[39m.\u001b[39m_fallback \u001b[39m=\u001b[39m \u001b[39mNone\u001b[39;00m\n",
      "File \u001b[0;32m~/devel/pattern-reco/ve/lib/python3.9/site-packages/numpy/core/memmap.py:228\u001b[0m, in \u001b[0;36mmemmap.__new__\u001b[0;34m(subtype, filename, dtype, mode, offset, shape, order)\u001b[0m\n\u001b[1;32m    227\u001b[0m \u001b[39melse\u001b[39;00m:\n\u001b[0;32m--> 228\u001b[0m     f_ctx \u001b[39m=\u001b[39m \u001b[39mopen\u001b[39;49m(os_fspath(filename), (\u001b[39m'\u001b[39;49m\u001b[39mr\u001b[39;49m\u001b[39m'\u001b[39;49m \u001b[39mif\u001b[39;49;00m mode \u001b[39m==\u001b[39;49m \u001b[39m'\u001b[39;49m\u001b[39mc\u001b[39;49m\u001b[39m'\u001b[39;49m \u001b[39melse\u001b[39;49;00m mode)\u001b[39m+\u001b[39;49m\u001b[39m'\u001b[39;49m\u001b[39mb\u001b[39;49m\u001b[39m'\u001b[39;49m)\n\u001b[1;32m    230\u001b[0m \u001b[39mwith\u001b[39;00m f_ctx \u001b[39mas\u001b[39;00m fid:\n",
      "\u001b[0;31mFileNotFoundError\u001b[0m: [Errno 2] No such file or directory: '/Users/ecuba/data/CloseByTwoPion/new_ntuples_15643817_2.root'",
      "\nDuring handling of the above exception, another exception occurred:\n",
      "\u001b[0;31mFileNotFoundError\u001b[0m                         Traceback (most recent call last)",
      "File \u001b[0;32m~/devel/pattern-reco/ve/lib/python3.9/site-packages/uproot/source/file.py:36\u001b[0m, in \u001b[0;36mFileResource.__init__\u001b[0;34m(self, file_path)\u001b[0m\n\u001b[1;32m     35\u001b[0m \u001b[39mtry\u001b[39;00m:\n\u001b[0;32m---> 36\u001b[0m     \u001b[39mself\u001b[39m\u001b[39m.\u001b[39m_file \u001b[39m=\u001b[39m \u001b[39mopen\u001b[39;49m(\u001b[39mself\u001b[39;49m\u001b[39m.\u001b[39;49m_file_path, \u001b[39m\"\u001b[39;49m\u001b[39mrb\u001b[39;49m\u001b[39m\"\u001b[39;49m)\n\u001b[1;32m     37\u001b[0m \u001b[39mexcept\u001b[39;00m uproot\u001b[39m.\u001b[39m_util\u001b[39m.\u001b[39m_FileNotFoundError \u001b[39mas\u001b[39;00m err:\n",
      "\u001b[0;31mFileNotFoundError\u001b[0m: [Errno 2] No such file or directory: '/Users/ecuba/data/CloseByTwoPion/new_ntuples_15643817_2.root'",
      "\nThe above exception was the direct cause of the following exception:\n",
      "\u001b[0;31mFileNotFoundError\u001b[0m                         Traceback (most recent call last)",
      "Cell \u001b[0;32mIn[13], line 8\u001b[0m\n\u001b[1;32m      5\u001b[0m \u001b[39mfrom\u001b[39;00m \u001b[39mreco\u001b[39;00m\u001b[39m.\u001b[39;00m\u001b[39mevaluation\u001b[39;00m \u001b[39mimport\u001b[39;00m model_evaluation\n\u001b[1;32m      7\u001b[0m file_name \u001b[39m=\u001b[39m \u001b[39mf\u001b[39m\u001b[39m\"\u001b[39m\u001b[39m{\u001b[39;00mraw_dir\u001b[39m}\u001b[39;00m\u001b[39m/new_ntuples_15643817_2.root\u001b[39m\u001b[39m\"\u001b[39m\n\u001b[0;32m----> 8\u001b[0m cluster_data, trackster_data, simtrackster_data, assoc_data \u001b[39m=\u001b[39m get_event_data(file_name, pileup\u001b[39m=\u001b[39;49m\u001b[39mTrue\u001b[39;49;00m)\n",
      "File \u001b[0;32m~/devel/pattern-reco/reco/data.py:85\u001b[0m, in \u001b[0;36mget_event_data\u001b[0;34m(source, collection, pileup)\u001b[0m\n\u001b[1;32m     84\u001b[0m \u001b[39mdef\u001b[39;00m \u001b[39mget_event_data\u001b[39m(source, collection\u001b[39m=\u001b[39m\u001b[39m\"\u001b[39m\u001b[39mSC\u001b[39m\u001b[39m\"\u001b[39m, pileup\u001b[39m=\u001b[39m\u001b[39mFalse\u001b[39;00m):\n\u001b[0;32m---> 85\u001b[0m     tracksters \u001b[39m=\u001b[39m uproot\u001b[39m.\u001b[39;49mopen({source: \u001b[39m\"\u001b[39;49m\u001b[39mticlNtuplizer/tracksters\u001b[39;49m\u001b[39m\"\u001b[39;49m})\n\u001b[1;32m     86\u001b[0m     simtracksters \u001b[39m=\u001b[39m uproot\u001b[39m.\u001b[39mopen({source: \u001b[39mf\u001b[39m\u001b[39m\"\u001b[39m\u001b[39mticlNtuplizer/simtracksters\u001b[39m\u001b[39m{\u001b[39;00mcollection\u001b[39m}\u001b[39;00m\u001b[39m\"\u001b[39m})\n\u001b[1;32m     87\u001b[0m     associations \u001b[39m=\u001b[39m uproot\u001b[39m.\u001b[39mopen({source: \u001b[39m\"\u001b[39m\u001b[39mticlNtuplizer/associations\u001b[39m\u001b[39m\"\u001b[39m})\n",
      "File \u001b[0;32m~/devel/pattern-reco/ve/lib/python3.9/site-packages/uproot/reading.py:141\u001b[0m, in \u001b[0;36mopen\u001b[0;34m(path, object_cache, array_cache, custom_classes, decompression_executor, interpretation_executor, **options)\u001b[0m\n\u001b[1;32m    132\u001b[0m \u001b[39mif\u001b[39;00m \u001b[39mnot\u001b[39;00m uproot\u001b[39m.\u001b[39m_util\u001b[39m.\u001b[39misstr(file_path) \u001b[39mand\u001b[39;00m \u001b[39mnot\u001b[39;00m (\n\u001b[1;32m    133\u001b[0m     \u001b[39mhasattr\u001b[39m(file_path, \u001b[39m\"\u001b[39m\u001b[39mread\u001b[39m\u001b[39m\"\u001b[39m) \u001b[39mand\u001b[39;00m \u001b[39mhasattr\u001b[39m(file_path, \u001b[39m\"\u001b[39m\u001b[39mseek\u001b[39m\u001b[39m\"\u001b[39m)\n\u001b[1;32m    134\u001b[0m ):\n\u001b[1;32m    135\u001b[0m     \u001b[39mraise\u001b[39;00m \u001b[39mValueError\u001b[39;00m(\n\u001b[1;32m    136\u001b[0m         \u001b[39m\"\u001b[39m\u001b[39m'\u001b[39m\u001b[39mpath\u001b[39m\u001b[39m'\u001b[39m\u001b[39m must be a string, pathlib.Path, an object with \u001b[39m\u001b[39m'\u001b[39m\u001b[39mread\u001b[39m\u001b[39m'\u001b[39m\u001b[39m and \u001b[39m\u001b[39m\"\u001b[39m\n\u001b[1;32m    137\u001b[0m         \u001b[39m\"\u001b[39m\u001b[39m'\u001b[39m\u001b[39mseek\u001b[39m\u001b[39m'\u001b[39m\u001b[39m methods, or a length-1 dict of \u001b[39m\u001b[39m{{\u001b[39m\u001b[39mfile_path: object_path}}, \u001b[39m\u001b[39m\"\u001b[39m\n\u001b[1;32m    138\u001b[0m         \u001b[39m\"\u001b[39m\u001b[39mnot \u001b[39m\u001b[39m{0}\u001b[39;00m\u001b[39m\"\u001b[39m\u001b[39m.\u001b[39mformat(\u001b[39mrepr\u001b[39m(path))\n\u001b[1;32m    139\u001b[0m     )\n\u001b[0;32m--> 141\u001b[0m file \u001b[39m=\u001b[39m ReadOnlyFile(\n\u001b[1;32m    142\u001b[0m     file_path,\n\u001b[1;32m    143\u001b[0m     object_cache\u001b[39m=\u001b[39;49mobject_cache,\n\u001b[1;32m    144\u001b[0m     array_cache\u001b[39m=\u001b[39;49marray_cache,\n\u001b[1;32m    145\u001b[0m     custom_classes\u001b[39m=\u001b[39;49mcustom_classes,\n\u001b[1;32m    146\u001b[0m     decompression_executor\u001b[39m=\u001b[39;49mdecompression_executor,\n\u001b[1;32m    147\u001b[0m     interpretation_executor\u001b[39m=\u001b[39;49minterpretation_executor,\n\u001b[1;32m    148\u001b[0m     \u001b[39m*\u001b[39;49m\u001b[39m*\u001b[39;49moptions,  \u001b[39m# NOTE: a comma after **options breaks Python 2\u001b[39;49;00m\n\u001b[1;32m    149\u001b[0m )\n\u001b[1;32m    151\u001b[0m \u001b[39mif\u001b[39;00m object_path \u001b[39mis\u001b[39;00m \u001b[39mNone\u001b[39;00m:\n\u001b[1;32m    152\u001b[0m     \u001b[39mreturn\u001b[39;00m file\u001b[39m.\u001b[39mroot_directory\n",
      "File \u001b[0;32m~/devel/pattern-reco/ve/lib/python3.9/site-packages/uproot/reading.py:580\u001b[0m, in \u001b[0;36mReadOnlyFile.__init__\u001b[0;34m(self, file_path, object_cache, array_cache, custom_classes, decompression_executor, interpretation_executor, **options)\u001b[0m\n\u001b[1;32m    575\u001b[0m \u001b[39mself\u001b[39m\u001b[39m.\u001b[39mhook_before_create_source()\n\u001b[1;32m    577\u001b[0m Source, file_path \u001b[39m=\u001b[39m uproot\u001b[39m.\u001b[39m_util\u001b[39m.\u001b[39mfile_path_to_source_class(\n\u001b[1;32m    578\u001b[0m     file_path, \u001b[39mself\u001b[39m\u001b[39m.\u001b[39m_options\n\u001b[1;32m    579\u001b[0m )\n\u001b[0;32m--> 580\u001b[0m \u001b[39mself\u001b[39m\u001b[39m.\u001b[39m_source \u001b[39m=\u001b[39m Source(\n\u001b[1;32m    581\u001b[0m     file_path, \u001b[39m*\u001b[39;49m\u001b[39m*\u001b[39;49m\u001b[39mself\u001b[39;49m\u001b[39m.\u001b[39;49m_options  \u001b[39m# NOTE: a comma after **options breaks Python 2\u001b[39;49;00m\n\u001b[1;32m    582\u001b[0m )\n\u001b[1;32m    584\u001b[0m \u001b[39mself\u001b[39m\u001b[39m.\u001b[39mhook_before_get_chunks()\n\u001b[1;32m    586\u001b[0m \u001b[39mif\u001b[39;00m \u001b[39mself\u001b[39m\u001b[39m.\u001b[39m_options[\u001b[39m\"\u001b[39m\u001b[39mbegin_chunk_size\u001b[39m\u001b[39m\"\u001b[39m] \u001b[39m<\u001b[39m _file_header_fields_big\u001b[39m.\u001b[39msize:\n",
      "File \u001b[0;32m~/devel/pattern-reco/ve/lib/python3.9/site-packages/uproot/source/file.py:108\u001b[0m, in \u001b[0;36mMemmapSource.__init__\u001b[0;34m(self, file_path, **options)\u001b[0m\n\u001b[1;32m    105\u001b[0m \u001b[39mself\u001b[39m\u001b[39m.\u001b[39m_num_requested_bytes \u001b[39m=\u001b[39m \u001b[39m0\u001b[39m\n\u001b[1;32m    107\u001b[0m \u001b[39mself\u001b[39m\u001b[39m.\u001b[39m_file_path \u001b[39m=\u001b[39m file_path\n\u001b[0;32m--> 108\u001b[0m \u001b[39mself\u001b[39;49m\u001b[39m.\u001b[39;49m_open()\n",
      "File \u001b[0;32m~/devel/pattern-reco/ve/lib/python3.9/site-packages/uproot/source/file.py:118\u001b[0m, in \u001b[0;36mMemmapSource._open\u001b[0;34m(self)\u001b[0m\n\u001b[1;32m    116\u001b[0m opts \u001b[39m=\u001b[39m \u001b[39mdict\u001b[39m(\u001b[39mself\u001b[39m\u001b[39m.\u001b[39m_fallback_opts)\n\u001b[1;32m    117\u001b[0m opts[\u001b[39m\"\u001b[39m\u001b[39mnum_workers\u001b[39m\u001b[39m\"\u001b[39m] \u001b[39m=\u001b[39m \u001b[39mself\u001b[39m\u001b[39m.\u001b[39m_num_fallback_workers\n\u001b[0;32m--> 118\u001b[0m \u001b[39mself\u001b[39m\u001b[39m.\u001b[39m_fallback \u001b[39m=\u001b[39m uproot\u001b[39m.\u001b[39;49msource\u001b[39m.\u001b[39;49mfile\u001b[39m.\u001b[39;49mMultithreadedFileSource(\n\u001b[1;32m    119\u001b[0m     \u001b[39mself\u001b[39;49m\u001b[39m.\u001b[39;49m_file_path, \u001b[39m*\u001b[39;49m\u001b[39m*\u001b[39;49mopts  \u001b[39m# NOTE: a comma after **opts breaks Python 2\u001b[39;49;00m\n\u001b[1;32m    120\u001b[0m )\n",
      "File \u001b[0;32m~/devel/pattern-reco/ve/lib/python3.9/site-packages/uproot/source/file.py:250\u001b[0m, in \u001b[0;36mMultithreadedFileSource.__init__\u001b[0;34m(self, file_path, **options)\u001b[0m\n\u001b[1;32m    247\u001b[0m \u001b[39mself\u001b[39m\u001b[39m.\u001b[39m_num_requested_bytes \u001b[39m=\u001b[39m \u001b[39m0\u001b[39m\n\u001b[1;32m    249\u001b[0m \u001b[39mself\u001b[39m\u001b[39m.\u001b[39m_file_path \u001b[39m=\u001b[39m file_path\n\u001b[0;32m--> 250\u001b[0m \u001b[39mself\u001b[39;49m\u001b[39m.\u001b[39;49m_open()\n",
      "File \u001b[0;32m~/devel/pattern-reco/ve/lib/python3.9/site-packages/uproot/source/file.py:254\u001b[0m, in \u001b[0;36mMultithreadedFileSource._open\u001b[0;34m(self)\u001b[0m\n\u001b[1;32m    252\u001b[0m \u001b[39mdef\u001b[39;00m \u001b[39m_open\u001b[39m(\u001b[39mself\u001b[39m):\n\u001b[1;32m    253\u001b[0m     \u001b[39mself\u001b[39m\u001b[39m.\u001b[39m_executor \u001b[39m=\u001b[39m uproot\u001b[39m.\u001b[39msource\u001b[39m.\u001b[39mfutures\u001b[39m.\u001b[39mResourceThreadPoolExecutor(\n\u001b[0;32m--> 254\u001b[0m         [FileResource(\u001b[39mself\u001b[39m\u001b[39m.\u001b[39m_file_path) \u001b[39mfor\u001b[39;00m x \u001b[39min\u001b[39;00m \u001b[39mrange\u001b[39m(\u001b[39mself\u001b[39m\u001b[39m.\u001b[39m_num_workers)]\n\u001b[1;32m    255\u001b[0m     )\n\u001b[1;32m    256\u001b[0m     \u001b[39mself\u001b[39m\u001b[39m.\u001b[39m_num_bytes \u001b[39m=\u001b[39m os\u001b[39m.\u001b[39mpath\u001b[39m.\u001b[39mgetsize(\u001b[39mself\u001b[39m\u001b[39m.\u001b[39m_file_path)\n",
      "File \u001b[0;32m~/devel/pattern-reco/ve/lib/python3.9/site-packages/uproot/source/file.py:254\u001b[0m, in \u001b[0;36m<listcomp>\u001b[0;34m(.0)\u001b[0m\n\u001b[1;32m    252\u001b[0m \u001b[39mdef\u001b[39;00m \u001b[39m_open\u001b[39m(\u001b[39mself\u001b[39m):\n\u001b[1;32m    253\u001b[0m     \u001b[39mself\u001b[39m\u001b[39m.\u001b[39m_executor \u001b[39m=\u001b[39m uproot\u001b[39m.\u001b[39msource\u001b[39m.\u001b[39mfutures\u001b[39m.\u001b[39mResourceThreadPoolExecutor(\n\u001b[0;32m--> 254\u001b[0m         [FileResource(\u001b[39mself\u001b[39;49m\u001b[39m.\u001b[39;49m_file_path) \u001b[39mfor\u001b[39;00m x \u001b[39min\u001b[39;00m \u001b[39mrange\u001b[39m(\u001b[39mself\u001b[39m\u001b[39m.\u001b[39m_num_workers)]\n\u001b[1;32m    255\u001b[0m     )\n\u001b[1;32m    256\u001b[0m     \u001b[39mself\u001b[39m\u001b[39m.\u001b[39m_num_bytes \u001b[39m=\u001b[39m os\u001b[39m.\u001b[39mpath\u001b[39m.\u001b[39mgetsize(\u001b[39mself\u001b[39m\u001b[39m.\u001b[39m_file_path)\n",
      "File \u001b[0;32m~/devel/pattern-reco/ve/lib/python3.9/site-packages/uproot/source/file.py:38\u001b[0m, in \u001b[0;36mFileResource.__init__\u001b[0;34m(self, file_path)\u001b[0m\n\u001b[1;32m     36\u001b[0m     \u001b[39mself\u001b[39m\u001b[39m.\u001b[39m_file \u001b[39m=\u001b[39m \u001b[39mopen\u001b[39m(\u001b[39mself\u001b[39m\u001b[39m.\u001b[39m_file_path, \u001b[39m\"\u001b[39m\u001b[39mrb\u001b[39m\u001b[39m\"\u001b[39m)\n\u001b[1;32m     37\u001b[0m \u001b[39mexcept\u001b[39;00m uproot\u001b[39m.\u001b[39m_util\u001b[39m.\u001b[39m_FileNotFoundError \u001b[39mas\u001b[39;00m err:\n\u001b[0;32m---> 38\u001b[0m     \u001b[39mraise\u001b[39;00m uproot\u001b[39m.\u001b[39m_util\u001b[39m.\u001b[39m_file_not_found(file_path) \u001b[39mfrom\u001b[39;00m \u001b[39merr\u001b[39;00m\n",
      "\u001b[0;31mFileNotFoundError\u001b[0m: file not found\n\n    '/Users/ecuba/data/CloseByTwoPion/new_ntuples_15643817_2.root'\n\nFiles may be specified as:\n   * str/bytes: relative or absolute filesystem path or URL, without any colons\n         other than Windows drive letter or URL schema.\n         Examples: \"rel/file.root\", \"C:\\abs\\file.root\", \"http://where/what.root\"\n   * str/bytes: same with an object-within-ROOT path, separated by a colon.\n         Example: \"rel/file.root:tdirectory/ttree\"\n   * pathlib.Path: always interpreted as a filesystem path or URL only (no\n         object-within-ROOT path), regardless of whether there are any colons.\n         Examples: Path(\"rel:/file.root\"), Path(\"/abs/path:stuff.root\")\n\nFunctions that accept many files (uproot.iterate, etc.) also allow:\n   * glob syntax in str/bytes and pathlib.Path.\n         Examples: Path(\"rel/*.root\"), \"/abs/*.root:tdirectory/ttree\"\n   * dict: keys are filesystem paths, values are objects-within-ROOT paths.\n         Example: {\"/data_v1/*.root\": \"ttree_v1\", \"/data_v2/*.root\": \"ttree_v2\"}\n   * already-open TTree objects.\n   * iterables of the above.\n"
     ]
    }
   ],
   "source": [
    "import uproot\n",
    "import matplotlib.pyplot as plt\n",
    "import numpy as np\n",
    "from reco.data import get_event_data\n",
    "from reco.evaluation import model_evaluation\n",
    "\n",
    "file_name = f\"{raw_dir}/new_ntuples_15643817_2.root\"\n",
    "cluster_data, trackster_data, simtrackster_data, assoc_data = get_event_data(file_name, pileup=True)"
   ]
  },
  {
   "cell_type": "code",
   "execution_count": null,
   "id": "6b5ffc46",
   "metadata": {},
   "outputs": [
    {
     "name": "stdout",
     "output_type": "stream",
     "text": [
      "Event 0:\n",
      "\tclue3d_to_sim:\tP: 0.802 R: 0.307 F: 0.607\n",
      "\ttarget_to_sim:\tP: 0.718 R: 0.727 F: 0.720\n",
      "\treco_to_sim:\tP: 0.552 R: 0.672 F: 0.572\n",
      "\t|S| = 1 |T| = 2 |R| = 2\n",
      "Event 1:\n",
      "\tclue3d_to_sim:\tP: 0.993 R: 0.335 F: 0.713\n",
      "\ttarget_to_sim:\tP: 0.992 R: 0.797 F: 0.946\n",
      "\treco_to_sim:\tP: 0.992 R: 0.797 F: 0.946\n",
      "\t|S| = 1 |T| = 1 |R| = 1\n",
      "Event 2:\n",
      "\tclue3d_to_sim:\tP: 0.955 R: 0.221 F: 0.573\n",
      "\ttarget_to_sim:\tP: 0.925 R: 0.430 F: 0.752\n",
      "\treco_to_sim:\tP: 0.923 R: 0.432 F: 0.752\n",
      "\t|S| = 1 |T| = 2 |R| = 2\n",
      "Event 3:\n",
      "\tclue3d_to_sim:\tP: 0.976 R: 0.793 F: 0.933\n",
      "\ttarget_to_sim:\tP: 0.960 R: 0.823 F: 0.929\n",
      "\treco_to_sim:\tP: 0.893 R: 0.794 F: 0.871\n",
      "\t|S| = 1 |T| = 2 |R| = 2\n",
      "Event 4:\n",
      "\tclue3d_to_sim:\tP: 0.727 R: 0.595 F: 0.696\n",
      "\ttarget_to_sim:\tP: 0.687 R: 0.691 F: 0.687\n",
      "\treco_to_sim:\tP: 0.727 R: 0.595 F: 0.696\n",
      "\t|S| = 1 |T| = 1 |R| = 1\n",
      "Event 5:\n",
      "\tclue3d_to_sim:\tP: 1.000 R: 0.511 F: 0.839\n",
      "\ttarget_to_sim:\tP: 1.000 R: 0.566 F: 0.867\n",
      "\treco_to_sim:\tP: 1.000 R: 0.566 F: 0.867\n",
      "\t|S| = 1 |T| = 1 |R| = 1\n",
      "Event 6:\n",
      "\tclue3d_to_sim:\tP: 0.971 R: 0.500 F: 0.817\n",
      "\ttarget_to_sim:\tP: 0.926 R: 0.691 F: 0.867\n",
      "\treco_to_sim:\tP: 0.833 R: 0.702 F: 0.803\n",
      "\t|S| = 1 |T| = 2 |R| = 2\n",
      "Event 7:\n",
      "\tclue3d_to_sim:\tP: 0.968 R: 0.353 F: 0.718\n",
      "\ttarget_to_sim:\tP: 0.977 R: 1.399 F: 1.040\n",
      "\treco_to_sim:\tP: 0.962 R: 0.591 F: 0.854\n",
      "\t|S| = 1 |T| = 3 |R| = 3\n",
      "Event 8:\n",
      "\tclue3d_to_sim:\tP: 0.881 R: 0.306 F: 0.640\n",
      "\ttarget_to_sim:\tP: 0.816 R: 0.442 F: 0.698\n",
      "\treco_to_sim:\tP: 0.721 R: 0.451 F: 0.644\n",
      "\t|S| = 1 |T| = 1 |R| = 1\n",
      "Event 9:\n",
      "\tclue3d_to_sim:\tP: 0.994 R: 0.095 F: 0.343\n",
      "\ttarget_to_sim:\tP: 0.996 R: 0.371 F: 0.745\n",
      "\treco_to_sim:\tP: 0.995 R: 0.297 F: 0.677\n",
      "\t|S| = 1 |T| = 1 |R| = 1\n",
      "-----\n",
      "mean clue3d_to_sim:\tP: 0.927 R: 0.402 F: 0.688\n",
      "mean target_to_sim:\tP: 0.900 R: 0.694 F: 0.825\n",
      "mean reco_to_sim:\tP: 0.860 R: 0.590 F: 0.768\n"
     ]
    }
   ],
   "source": [
    "result = model_evaluation(\n",
    "    cluster_data,\n",
    "    trackster_data,\n",
    "    simtrackster_data,\n",
    "    assoc_data,\n",
    "    model,\n",
    "    decision_th=0.5,\n",
    "    radius=15,\n",
    "    max_events=10,\n",
    "    bigT_e_th=5,\n",
    "    graph=True,\n",
    "    pileup=True,\n",
    ")"
   ]
  },
  {
   "cell_type": "markdown",
   "id": "328866f1-c862-4dfb-a201-91d2baa53d9f",
   "metadata": {},
   "source": [
    "## Results\n",
    "\n",
    "Using alpha=balance seems to converge faster (100 epochs rather than 200)\n",
    "- maybe just sticking to 0.25? (works just fine)\n",
    "\n",
    "Hyperparams\n",
    "- (64, 128, noskip), alpha=balance, roc_auc = 0.9733\n",
    "- (64, 128, 256fc, noskip, 200e), alpha=1-balance, roc_auc = 0.9771\n",
    "- (64, 128, 256fc, noskip, 200e), alpha=balance, roc_auc = 0.981\n",
    "- (64, 128, 256fc, noskip, 100e), alpha=0.25, roc_auc = 0.9796"
   ]
  }
 ],
 "metadata": {
  "kernelspec": {
   "display_name": "Python 3.9.6 ('ve': venv)",
   "language": "python",
   "name": "python3"
  },
  "language_info": {
   "codemirror_mode": {
    "name": "ipython",
    "version": 3
   },
   "file_extension": ".py",
   "mimetype": "text/x-python",
   "name": "python",
   "nbconvert_exporter": "python",
   "pygments_lexer": "ipython3",
   "version": "3.9.6"
  },
  "vscode": {
   "interpreter": {
    "hash": "37c238d9819f69c2c770157eac01081978c120e64661e10d7fd52c4caf977dc9"
   }
  }
 },
 "nbformat": 4,
 "nbformat_minor": 5
}
