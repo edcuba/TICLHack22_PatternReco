{
 "cells": [
  {
   "cell_type": "code",
   "execution_count": 7,
   "metadata": {},
   "outputs": [],
   "source": [
    "import torch\n",
    "from utils.data_utils import HGCALTracksters\n",
    "import torch_geometric.transforms as T\n",
    "from torch_geometric.loader import DataLoader"
   ]
  },
  {
   "cell_type": "code",
   "execution_count": 6,
   "metadata": {},
   "outputs": [
    {
     "name": "stderr",
     "output_type": "stream",
     "text": [
      "Processing...\n"
     ]
    },
    {
     "name": "stdout",
     "output_type": "stream",
     "text": [
      "Processing: tracksters_ds_10e.root\n",
      "Processing: tracksters_ds_pion.root\n"
     ]
    },
    {
     "name": "stderr",
     "output_type": "stream",
     "text": [
      "Done!\n"
     ]
    }
   ],
   "source": [
    "transform = T.Compose([T.NormalizeFeatures()])\n",
    "ds = HGCALTracksters(\"data\", kind=\"photon\", transform=transform)"
   ]
  },
  {
   "cell_type": "code",
   "execution_count": null,
   "metadata": {},
   "outputs": [],
   "source": [
    "# prepare tuples\n",
    "# (complete, complete) = 0\n",
    "# (incomplete, complete) = 0"
   ]
  },
  {
   "cell_type": "code",
   "execution_count": 12,
   "metadata": {},
   "outputs": [],
   "source": [
    "# balance the dataset\n",
    "pos = ds[ds.data.y == 1]\n",
    "neg = ds[ds.data.y == 0]\n",
    "len_neg = len(neg)\n",
    "len_pos = len(pos)\n",
    "shorter = min(len_neg, len_pos)"
   ]
  },
  {
   "cell_type": "code",
   "execution_count": 15,
   "metadata": {},
   "outputs": [],
   "source": [
    "train_set = pos[:shorter - 100] + neg[:shorter - 100]\n",
    "test_set = pos[shorter - 100:shorter] + neg[shorter - 100:shorter]\n",
    "train_dl = DataLoader(train_set, batch_size=8, shuffle=True)\n",
    "test_dl = DataLoader(test_set, batch_size=8, shuffle=True)"
   ]
  },
  {
   "cell_type": "code",
   "execution_count": null,
   "metadata": {},
   "outputs": [],
   "source": [
    "device = torch.device('cuda' if torch.cuda.is_available() else \"cpu\")\n",
    "print(f\"Using device: {device}\")"
   ]
  },
  {
   "cell_type": "code",
   "execution_count": null,
   "metadata": {},
   "outputs": [],
   "source": [
    "from torch_geometric.nn import GCNConv, global_mean_pool\n",
    "\n",
    "\n",
    "class TracksterMerger(torch.nn.Module):\n",
    "    def __init__(self, in_channels, out_channels, **kwargs):\n",
    "        super(TracksterMerger, self).__init__(**kwargs)\n",
    "\n",
    "        self.conv1 = GCNConv(in_channels, out_channels)\n",
    "        self.conv2 = GCNConv(out_channels, out_channels)\n",
    "        self.dense = torch.nn.Linear(out_channels, 1)\n",
    "\n",
    "    def forward(self, data):\n",
    "        x, edge_index, batch = data.x, data.edge_index, data.batch\n",
    "        x = self.conv1(x, edge_index)\n",
    "        x = self.conv2(x, edge_index)\n",
    "        x = global_mean_pool(x, batch)\n",
    "        x = self.dense(x)\n",
    "        return torch.sigmoid(x)"
   ]
  }
 ],
 "metadata": {
  "kernelspec": {
   "display_name": "Python 3.8.9 ('ve': venv)",
   "language": "python",
   "name": "python3"
  },
  "language_info": {
   "codemirror_mode": {
    "name": "ipython",
    "version": 3
   },
   "file_extension": ".py",
   "mimetype": "text/x-python",
   "name": "python",
   "nbconvert_exporter": "python",
   "pygments_lexer": "ipython3",
   "version": "3.8.9"
  },
  "orig_nbformat": 4,
  "vscode": {
   "interpreter": {
    "hash": "1903a8da8a80be3e00e24bd0fcb097c09e11062da66a97e6f0ab60aef4c2ceaa"
   }
  }
 },
 "nbformat": 4,
 "nbformat_minor": 2
}
