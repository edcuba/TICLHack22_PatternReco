{
 "cells": [
  {
   "cell_type": "markdown",
   "id": "6c07744a",
   "metadata": {},
   "source": [
    "# Pairwise MLP with PU\n",
    "\n",
    "Get tracksters from a certain neighbourhood.\n",
    "\n",
    "Train a NN to decide whether two tracksters should be joined.\n",
    "\n",
    "Neighbourhood:\n",
    "- cone around the candidate trackster\n"
   ]
  },
  {
   "cell_type": "markdown",
   "id": "e3247338",
   "metadata": {},
   "source": [
    "## MLP"
   ]
  },
  {
   "cell_type": "code",
   "execution_count": 1,
   "id": "81ffdcce",
   "metadata": {},
   "outputs": [],
   "source": [
    "import torch\n",
    "import torch.nn as nn\n",
    "from torch.optim.lr_scheduler import CosineAnnealingLR\n",
    "from torch.utils.data import random_split, DataLoader\n",
    "from sklearn.preprocessing import StandardScaler\n",
    "from reco.loss import FocalLoss\n",
    "\n",
    "from reco.datasetPU import TracksterPairsPU\n",
    "from reco.training import precision_recall_curve, roc_auc\n",
    "\n",
    "\n",
    "ds_name = \"CloseByGamma200PUFull\"\n",
    "\n",
    "data_root = \"data\"\n",
    "raw_dir = f\"/Users/ecuba/data/{ds_name}\"\n",
    "\n",
    "# data_root = \"/mnt/ceph/users/ecuba/processed\"\n",
    "# raw_dir = f\"/mnt/ceph/users/ecuba/{ds_name}\""
   ]
  },
  {
   "cell_type": "code",
   "execution_count": 2,
   "id": "b2dc29a6",
   "metadata": {},
   "outputs": [
    {
     "name": "stdout",
     "output_type": "stream",
     "text": [
      "Using device: cpu\n"
     ]
    }
   ],
   "source": [
    "# CUDA Setup\n",
    "device = torch.device('cuda' if torch.cuda.is_available() else \"cpu\")\n",
    "print(f\"Using device: {device}\")"
   ]
  },
  {
   "cell_type": "code",
   "execution_count": 4,
   "id": "219c077d",
   "metadata": {},
   "outputs": [
    {
     "data": {
      "text/plain": [
       "torch.Size([1089, 43])"
      ]
     },
     "execution_count": 4,
     "metadata": {},
     "output_type": "execute_result"
    }
   ],
   "source": [
    "ds = TracksterPairsPU(\n",
    "    ds_name,\n",
    "    data_root,\n",
    "    raw_dir,\n",
    "    N_FILES=5,\n",
    "    radius=10\n",
    ")\n",
    "\n",
    "ds.x.shape"
   ]
  },
  {
   "cell_type": "code",
   "execution_count": 6,
   "id": "814538cd",
   "metadata": {},
   "outputs": [
    {
     "data": {
      "text/plain": [
       "tensor([ 9.8151e+00, -3.1670e+01,  3.4844e+02,  2.0746e+02,  2.0746e+02,\n",
       "         3.8260e+01,  9.7332e-02,  3.7982e-02,  1.5407e-02, -6.5643e-02,\n",
       "         9.9772e-01,  6.1391e+00,  6.2841e-01,  5.5843e-01,  1.7042e+01,\n",
       "        -3.3127e+01,  3.2603e+02,  4.0889e+00,  4.0889e+00,  2.0342e+01,\n",
       "         8.4430e-01,  6.2338e-01,  1.9954e-01, -8.4092e-02,  9.7628e-01,\n",
       "         4.3798e+00,  1.0446e+00,  1.2393e+00,  1.0132e+01, -3.2053e+01,\n",
       "         3.2215e+02,  1.0407e+01, -3.2572e+01,  3.6113e+02,  1.7708e+01,\n",
       "        -3.2499e+01,  3.2215e+02,  1.9087e+01, -3.2602e+01,  3.3538e+02,\n",
       "         8.5834e+00,  2.8000e+01,  1.4000e+01])"
      ]
     },
     "execution_count": 6,
     "metadata": {},
     "output_type": "execute_result"
    }
   ],
   "source": [
    "ds[0][0]"
   ]
  },
  {
   "cell_type": "code",
   "execution_count": 7,
   "id": "4dbe7290",
   "metadata": {},
   "outputs": [],
   "source": [
    "# scaler = StandardScaler()\n",
    "# scaler.fit(ds.x)\n",
    "# ds.x = torch.tensor(scaler.transform(ds.x)).type(torch.float)"
   ]
  },
  {
   "cell_type": "code",
   "execution_count": 8,
   "id": "75c3ffff",
   "metadata": {},
   "outputs": [
    {
     "name": "stdout",
     "output_type": "stream",
     "text": [
      "torch.Size([1089, 43])\n",
      "Positive: 88\n",
      "Negative: 1001\n"
     ]
    }
   ],
   "source": [
    "print(ds.x.shape)\n",
    "\n",
    "print(\"Positive:\", int((ds.y > 0.7).type(torch.int).sum()))\n",
    "print(\"Negative:\", int((ds.y < 0.7).type(torch.int).sum()))"
   ]
  },
  {
   "cell_type": "code",
   "execution_count": 9,
   "id": "84179ef3",
   "metadata": {},
   "outputs": [
    {
     "name": "stdout",
     "output_type": "stream",
     "text": [
      "dataset balance: 8.08% / 91.92%\n"
     ]
    }
   ],
   "source": [
    "balance =  float(sum(ds.y > 0.7) / len(ds.y))\n",
    "print(f\"dataset balance: {balance*100:.2f}% / {(1-balance)*100:.2f}%\") "
   ]
  },
  {
   "cell_type": "code",
   "execution_count": 10,
   "id": "972263a2-610a-4ca9-8805-b2c6830aa83b",
   "metadata": {},
   "outputs": [
    {
     "name": "stdout",
     "output_type": "stream",
     "text": [
      "Train samples: 981, Test samples: 108\n"
     ]
    }
   ],
   "source": [
    "ds_size = len(ds)\n",
    "test_set_size = ds_size // 10\n",
    "train_set_size = ds_size - test_set_size\n",
    "train_set, test_set = random_split(ds, [train_set_size, test_set_size])\n",
    "print(f\"Train samples: {len(train_set)}, Test samples: {len(test_set)}\")\n",
    "\n",
    "train_dl = DataLoader(train_set, batch_size=64, shuffle=True)\n",
    "test_dl = DataLoader(test_set, batch_size=64, shuffle=True)"
   ]
  },
  {
   "cell_type": "code",
   "execution_count": 11,
   "id": "5d3700ac",
   "metadata": {},
   "outputs": [],
   "source": [
    "def train(model, opt, loader, loss_obj):\n",
    "    epoch_loss = 0\n",
    "    for batch, labels in loader:\n",
    "        # reset optimizer and enable training mode\n",
    "        opt.zero_grad()\n",
    "        model.train()\n",
    "\n",
    "        # move data to the device\n",
    "        batch = batch.to(device)\n",
    "        labels = labels.to(device)\n",
    "        \n",
    "        # get the prediction tensor\n",
    "        z = model(batch).reshape(-1)\n",
    "\n",
    "        # compute the loss\n",
    "        loss = loss_obj(z, labels)        \n",
    "        epoch_loss += loss\n",
    "\n",
    "        # back-propagate and update the weight\n",
    "        loss.backward()\n",
    "        opt.step()\n",
    "\n",
    "    return float(epoch_loss)"
   ]
  },
  {
   "cell_type": "code",
   "execution_count": 12,
   "id": "5a9369f5-eacd-4e6a-a162-d8d8a6829f45",
   "metadata": {},
   "outputs": [],
   "source": [
    "hdim1 = 256\n",
    "hdim2 = 128\n",
    "\n",
    "model = nn.Sequential(\n",
    "    nn.BatchNorm1d(ds.x.shape[1], affine=False),      # normalization as a part of the network\n",
    "    nn.Linear(ds.x.shape[1], hdim1),\n",
    "    nn.ReLU(),\n",
    "    nn.Linear(hdim1, hdim2),\n",
    "    nn.ReLU(),\n",
    "    nn.Linear(hdim2, 1),\n",
    "    nn.Dropout(p=0.2),\n",
    "    nn.Sigmoid()\n",
    ")\n",
    "model = model.to(device)\n",
    "epochs = 51\n",
    "model_path = f\"models/PairWiseMLP.{hdim1}.{hdim2}.{epochs}e-{ds_name}.{ds.RADIUS}.{ds.SCORE_THRESHOLD}.{ds.N_FILES}f.pt\""
   ]
  },
  {
   "cell_type": "code",
   "execution_count": 13,
   "id": "c1bdabc9",
   "metadata": {},
   "outputs": [
    {
     "name": "stdout",
     "output_type": "stream",
     "text": [
      "Epoch: 0, loss: 0.3174, train auc: 0.6967, test auc: 0.5361\n",
      "Epoch: 10, loss: 0.1652, train auc: 0.9793, test auc: 0.9547\n",
      "Epoch: 20, loss: 0.1357, train auc: 0.9876, test auc: 0.9505\n",
      "Epoch: 30, loss: 0.1289, train auc: 0.9900, test auc: 0.9590\n",
      "Epoch: 40, loss: 0.1231, train auc: 0.9920, test auc: 0.9632\n",
      "Epoch: 50, loss: 0.1318, train auc: 0.9941, test auc: 0.9703\n"
     ]
    }
   ],
   "source": [
    "#%%script echo skipping\n",
    "\n",
    "optimizer = torch.optim.Adam(model.parameters(), lr=0.001)\n",
    "scheduler = CosineAnnealingLR(optimizer, epochs, eta_min=1e-3)\n",
    "loss_obj = FocalLoss(alpha=1-balance, gamma=2)\n",
    "\n",
    "for epoch in range(epochs):\n",
    "    loss = train(model, optimizer, train_dl, loss_obj)\n",
    "    train_auc = roc_auc(model, device, train_dl)\n",
    "    test_auc = roc_auc(model, device, test_dl)\n",
    "    scheduler.step()\n",
    "    if epoch % 10 == 0:\n",
    "        print(f'Epoch: {epoch}, loss: {loss:.4f}, train auc: {train_auc:.4f}, test auc: {test_auc:.4f}')\n",
    "\n",
    "torch.save(model.state_dict(), model_path)"
   ]
  },
  {
   "cell_type": "code",
   "execution_count": 14,
   "id": "93072e39",
   "metadata": {},
   "outputs": [
    {
     "name": "stdout",
     "output_type": "stream",
     "text": [
      "skipping\n"
     ]
    }
   ],
   "source": [
    "%%script echo skipping\n",
    "model.load_state_dict(torch.load(\n",
    "    model_path,\n",
    "    map_location=device\n",
    "))\n",
    "model = model.to(device)"
   ]
  },
  {
   "cell_type": "code",
   "execution_count": 15,
   "id": "b57db4c6-0436-44f9-ab2b-19109c7aced7",
   "metadata": {},
   "outputs": [
    {
     "data": {
      "text/plain": [
       "0.9702970297029703"
      ]
     },
     "execution_count": 15,
     "metadata": {},
     "output_type": "execute_result"
    }
   ],
   "source": [
    "roc_auc(model, device, test_dl)"
   ]
  },
  {
   "cell_type": "code",
   "execution_count": 16,
   "id": "92dc57f8",
   "metadata": {},
   "outputs": [
    {
     "data": {
      "image/png": "[encoded data removed]",
      "text/plain": [
       "<Figure size 640x480 with 1 Axes>"
      ]
     },
     "metadata": {},
     "output_type": "display_data"
    },
    {
     "name": "stdout",
     "output_type": "stream",
     "text": [
      "TP: 6, TN: 100, FP: 1, FN: 1\n",
      "TH: 0.55 precision: 0.857 recall: 0.857 fbeta: 0.857 b_acc: 0.924\n"
     ]
    }
   ],
   "source": [
    "# weirdly, training with larger radius makes it generalize better\n",
    "precision_recall_curve(model, device, test_dl, focus_metric=\"fbeta\", beta=0.3, step=2)"
   ]
  },
  {
   "cell_type": "markdown",
   "id": "5d3eebed-4260-4441-b30e-42b21e7a9428",
   "metadata": {},
   "source": [
    "## Results\n",
    "\n",
    "- hdim: (256, 128), roc_auc = 0.9956\n",
    "- hdim: (512, 512), roc_auc = 0.9605 (overfit?) (test auc going down)\n",
    "- hdim: (256, 256), alpha=1-balance, roc_auc = 0.9635 (overfit?) (test auc going down)\n"
   ]
  },
  {
   "cell_type": "markdown",
   "id": "24c40163",
   "metadata": {},
   "source": [
    "# ONNX export"
   ]
  },
  {
   "cell_type": "code",
   "execution_count": 38,
   "id": "72ba4209-1905-4104-991d-9e436e5c709e",
   "metadata": {},
   "outputs": [],
   "source": [
    "import torch.onnx\n",
    "\n",
    "onnx_filepath = f\"models/PairWiseMLP.{hdim1}.{hdim2}.{epochs}e-{ds_name}.{ds.RADIUS}.{ds.SCORE_THRESHOLD}.{ds.N_FILES}f.onnx\""
   ]
  },
  {
   "cell_type": "code",
   "execution_count": 42,
   "id": "d30c7df0",
   "metadata": {},
   "outputs": [],
   "source": [
    "torch.onnx.export(\n",
    "    model,                      # model to be exported\n",
    "    ds[0][0].reshape(1, -1),    # example input (add batch dimension)\n",
    "    onnx_filepath,\n",
    "    export_params=True,\n",
    "    opset_version=10,\n",
    "    do_constant_folding=True,\n",
    "    input_names=['features'],      # the model's input names\n",
    "    output_names=['output'],    # the model's output names\n",
    "    dynamic_axes={              # variable length axes\n",
    "        'features' : {0 : 'batch_size'},    \n",
    "        'output' : {0 : 'batch_size'}\n",
    "    }\n",
    ")"
   ]
  },
  {
   "cell_type": "code",
   "execution_count": 43,
   "id": "2c92ad02",
   "metadata": {},
   "outputs": [],
   "source": [
    "import numpy as np\n",
    "import onnxruntime\n",
    "\n",
    "ort_session = onnxruntime.InferenceSession(onnx_filepath)"
   ]
  },
  {
   "cell_type": "code",
   "execution_count": 44,
   "id": "0978249f",
   "metadata": {},
   "outputs": [],
   "source": [
    "def to_numpy(tensor):\n",
    "    return tensor.detach().cpu().numpy() if tensor.requires_grad else tensor.cpu().numpy()"
   ]
  },
  {
   "cell_type": "code",
   "execution_count": 45,
   "id": "fb029278",
   "metadata": {},
   "outputs": [],
   "source": [
    "ort_inputs = {ort_session.get_inputs()[0].name: to_numpy(ds[:16][0])}\n",
    "ort_outs = ort_session.run(None, ort_inputs)"
   ]
  },
  {
   "cell_type": "code",
   "execution_count": 46,
   "id": "ab649d4e",
   "metadata": {},
   "outputs": [
    {
     "name": "stdout",
     "output_type": "stream",
     "text": [
      "Exported model has been tested with ONNXRuntime, and the result looks good!\n"
     ]
    }
   ],
   "source": [
    "torch_out = model(ds[:16][0])\n",
    "np.testing.assert_allclose(to_numpy(torch_out), ort_outs[0], rtol=1e-03, atol=1e-05)\n",
    "print(\"Exported model has been tested with ONNXRuntime, and the result looks good!\")"
   ]
  },
  {
   "cell_type": "code",
   "execution_count": null,
   "id": "7f8bb1a9",
   "metadata": {},
   "outputs": [],
   "source": []
  },
  {
   "cell_type": "code",
   "execution_count": null,
   "id": "3d61e9ff",
   "metadata": {},
   "outputs": [],
   "source": []
  }
 ],
 "metadata": {
  "kernelspec": {
   "display_name": "Python 3.11.0 ('ve': venv)",
   "language": "python",
   "name": "python3"
  },
  "language_info": {
   "codemirror_mode": {
    "name": "ipython",
    "version": 3
   },
   "file_extension": ".py",
   "mimetype": "text/x-python",
   "name": "python",
   "nbconvert_exporter": "python",
   "pygments_lexer": "ipython3",
   "version": "3.9.6"
  },
  "vscode": {
   "interpreter": {
    "hash": "37c238d9819f69c2c770157eac01081978c120e64661e10d7fd52c4caf977dc9"
   }
  }
 },
 "nbformat": 4,
 "nbformat_minor": 5
}
