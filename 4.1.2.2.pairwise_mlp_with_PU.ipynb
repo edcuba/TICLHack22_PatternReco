{
 "cells": [
  {
   "cell_type": "markdown",
   "id": "6c07744a",
   "metadata": {},
   "source": [
    "# Pairwise MLP with PU\n",
    "\n",
    "Get tracksters from a certain neighbourhood.\n",
    "\n",
    "Train a NN to decide whether two tracksters should be joined.\n",
    "\n",
    "Neighbourhood:\n",
    "- cone around the candidate trackster\n"
   ]
  },
  {
   "cell_type": "markdown",
   "id": "e3247338",
   "metadata": {},
   "source": [
    "## MLP"
   ]
  },
  {
   "cell_type": "code",
   "execution_count": 1,
   "id": "81ffdcce",
   "metadata": {},
   "outputs": [],
   "source": [
    "import torch\n",
    "import numpy as np\n",
    "import matplotlib.pyplot as plt\n",
    "import torch.nn as nn\n",
    "from torch.optim.lr_scheduler import StepLR\n",
    "from torch.utils.data import random_split, DataLoader\n",
    "from sklearn.preprocessing import StandardScaler\n",
    "from sklearn.metrics import confusion_matrix, accuracy_score, precision_score, recall_score, f1_score, fbeta_score\n",
    "from reco.loss import FocalLoss\n",
    "\n",
    "from reco.datasetPU import TracksterPairsPU\n",
    "\n",
    "\n",
    "ds_name = \"CloseByGamma200PUFull\"\n",
    "data_root = \"data\"\n",
    "raw_dir = f\"/Users/ecuba/data/{ds_name}\""
   ]
  },
  {
   "cell_type": "code",
   "execution_count": 2,
   "id": "b2dc29a6",
   "metadata": {},
   "outputs": [
    {
     "name": "stdout",
     "output_type": "stream",
     "text": [
      "Using device: cpu\n"
     ]
    }
   ],
   "source": [
    "# CUDA Setup\n",
    "device = torch.device('cuda' if torch.cuda.is_available() else \"cpu\")\n",
    "print(f\"Using device: {device}\")"
   ]
  },
  {
   "cell_type": "code",
   "execution_count": 6,
   "id": "219c077d",
   "metadata": {},
   "outputs": [
    {
     "data": {
      "text/plain": [
       "['TracksterPairsPU_CloseByGamma200PUFull_f9_r10_s0.2.pt']"
      ]
     },
     "execution_count": 6,
     "metadata": {},
     "output_type": "execute_result"
    }
   ],
   "source": [
    "ds = TracksterPairsPU(\n",
    "    ds_name,\n",
    "    data_root,\n",
    "    raw_dir,\n",
    ")\n",
    "\n",
    "ds.x.shape\n",
    "ds.processed_file_names"
   ]
  },
  {
   "cell_type": "code",
   "execution_count": 5,
   "id": "496f699c",
   "metadata": {},
   "outputs": [],
   "source": [
    "scaler = StandardScaler()\n",
    "scaler.fit(ds.x)\n",
    "ds.x = torch.tensor(scaler.transform(ds.x)).type(torch.float)"
   ]
  },
  {
   "cell_type": "code",
   "execution_count": 6,
   "id": "75c3ffff",
   "metadata": {},
   "outputs": [
    {
     "name": "stdout",
     "output_type": "stream",
     "text": [
      "torch.Size([3228, 43])\n",
      "Positive: 229\n",
      "Negative: 2999\n"
     ]
    }
   ],
   "source": [
    "print(ds.x.shape)\n",
    "print(\"Positive:\", int((ds.y > 0.5).type(torch.int).sum()))\n",
    "print(\"Negative:\", int((ds.y < 0.5).type(torch.int).sum()))"
   ]
  },
  {
   "cell_type": "code",
   "execution_count": 7,
   "id": "84179ef3",
   "metadata": {},
   "outputs": [
    {
     "name": "stdout",
     "output_type": "stream",
     "text": [
      "dataset balance: 9.83% / 90.17%\n"
     ]
    }
   ],
   "source": [
    "balance =  float(sum(ds.y) / len(ds.y))\n",
    "print(f\"dataset balance: {balance*100:.2f}% / {(1-balance)*100:.2f}%\") "
   ]
  },
  {
   "cell_type": "code",
   "execution_count": 8,
   "id": "972263a2-610a-4ca9-8805-b2c6830aa83b",
   "metadata": {},
   "outputs": [
    {
     "name": "stdout",
     "output_type": "stream",
     "text": [
      "Train samples: 2906, Test samples: 322\n"
     ]
    }
   ],
   "source": [
    "ds_size = len(ds)\n",
    "test_set_size = ds_size // 10\n",
    "train_set_size = ds_size - test_set_size\n",
    "train_set, test_set = random_split(ds, [train_set_size, test_set_size])\n",
    "print(f\"Train samples: {len(train_set)}, Test samples: {len(test_set)}\")\n",
    "\n",
    "train_dl = DataLoader(train_set, batch_size=64, shuffle=True)\n",
    "test_dl = DataLoader(test_set, batch_size=64, shuffle=True)"
   ]
  },
  {
   "cell_type": "code",
   "execution_count": 9,
   "id": "5d3700ac",
   "metadata": {},
   "outputs": [],
   "source": [
    "def train(model, opt, loader, loss_obj):\n",
    "    epoch_loss = 0\n",
    "    for batch, labels in loader:\n",
    "        # reset optimizer and enable training mode\n",
    "        opt.zero_grad()\n",
    "        model.train()\n",
    "\n",
    "        # move data to the device\n",
    "        batch = batch.to(device)\n",
    "        labels = labels.to(device)\n",
    "        \n",
    "        # get the prediction tensor\n",
    "        z = model(batch).reshape(-1)\n",
    "\n",
    "        # compute the loss\n",
    "        loss = loss_obj(z, labels)        \n",
    "        epoch_loss += loss\n",
    "\n",
    "        # back-propagate and update the weight\n",
    "        loss.backward()\n",
    "        opt.step()\n",
    "\n",
    "    return float(epoch_loss)\n",
    "\n",
    "@torch.no_grad()\n",
    "def test(model, data):\n",
    "    total = 0\n",
    "    correct = 0\n",
    "    for batch, labels in data:\n",
    "        model.eval()\n",
    "        batch = batch.to(device)\n",
    "        labels = labels.to(device)\n",
    "        z = model(batch).reshape(-1)\n",
    "        prediction = (z > 0.5).type(torch.int)\n",
    "        labels_acc = (labels > 0.5).type(torch.int)\n",
    "        total += len(prediction) \n",
    "        correct += sum(prediction == labels_acc)\n",
    "    return (correct / total)"
   ]
  },
  {
   "cell_type": "code",
   "execution_count": 10,
   "id": "c1bdabc9",
   "metadata": {},
   "outputs": [
    {
     "name": "stdout",
     "output_type": "stream",
     "text": [
      "Epoch: 0, loss: 0.4355, train acc: 0.9291, test acc: 0.9286\n",
      "Epoch: 5, loss: 0.1715, train acc: 0.9639, test acc: 0.9503\n",
      "Epoch: 10, loss: 0.1431, train acc: 0.9714, test acc: 0.9658\n",
      "Epoch: 15, loss: 0.1579, train acc: 0.9769, test acc: 0.9658\n",
      "Epoch: 20, loss: 0.1398, train acc: 0.9831, test acc: 0.9627\n",
      "Epoch: 25, loss: 0.1343, train acc: 0.9814, test acc: 0.9534\n",
      "Epoch: 30, loss: 0.1329, train acc: 0.9855, test acc: 0.9658\n",
      "Epoch: 35, loss: 0.1403, train acc: 0.9849, test acc: 0.9534\n",
      "Epoch: 40, loss: 0.1224, train acc: 0.9880, test acc: 0.9565\n",
      "Epoch: 45, loss: 0.1322, train acc: 0.9876, test acc: 0.9565\n",
      "Epoch: 50, loss: 0.1258, train acc: 0.9880, test acc: 0.9503\n",
      "Epoch: 55, loss: 0.1236, train acc: 0.9883, test acc: 0.9627\n",
      "Epoch: 60, loss: 0.1256, train acc: 0.9914, test acc: 0.9565\n",
      "Epoch: 65, loss: 0.1159, train acc: 0.9907, test acc: 0.9565\n",
      "Epoch: 70, loss: 0.1274, train acc: 0.9900, test acc: 0.9534\n",
      "Epoch: 75, loss: 0.1179, train acc: 0.9890, test acc: 0.9596\n",
      "Epoch: 80, loss: 0.1303, train acc: 0.9907, test acc: 0.9565\n",
      "Epoch: 85, loss: 0.1326, train acc: 0.9917, test acc: 0.9534\n",
      "Epoch: 90, loss: 0.1209, train acc: 0.9931, test acc: 0.9534\n",
      "Epoch: 95, loss: 0.1266, train acc: 0.9914, test acc: 0.9534\n",
      "Epoch: 100, loss: 0.1150, train acc: 0.9917, test acc: 0.9534\n"
     ]
    }
   ],
   "source": [
    "model = nn.Sequential(\n",
    "    nn.Linear(ds.x.shape[1], 256),\n",
    "    nn.ReLU(),\n",
    "    nn.Linear(256, 128),\n",
    "    nn.ReLU(),\n",
    "    nn.Linear(128, 1),\n",
    "    nn.Dropout(p=0.2),\n",
    "    nn.Sigmoid()\n",
    ")\n",
    "model = model.to(device)\n",
    "optimizer = torch.optim.Adam(model.parameters(), lr=0.001)\n",
    "scheduler = StepLR(optimizer, step_size=20, gamma=0.5)\n",
    "loss_obj = FocalLoss(alpha=1-balance, gamma=2)\n",
    "\n",
    "epochs = 101\n",
    "\n",
    "for epoch in range(epochs):\n",
    "    loss = train(model, optimizer, train_dl, loss_obj)\n",
    "    train_acc = test(model, train_dl)\n",
    "    test_acc = test(model, test_dl)\n",
    "    scheduler.step()\n",
    "    \n",
    "    if epoch % 5 == 0:\n",
    "        print(f'Epoch: {epoch}, loss: {loss:.4f}, train acc: {train_acc:.4f}, test acc: {test_acc:.4f}')"
   ]
  },
  {
   "cell_type": "code",
   "execution_count": 11,
   "id": "849a1318",
   "metadata": {},
   "outputs": [
    {
     "data": {
      "image/png": "[encoded data removed]",
      "text/plain": [
       "<Figure size 432x288 with 1 Axes>"
      ]
     },
     "metadata": {
      "needs_background": "light"
     },
     "output_type": "display_data"
    }
   ],
   "source": [
    "th_values = [i / 100. for i in range(1, 100)]\n",
    "precision = []\n",
    "recall = []\n",
    "f1scores = []\n",
    "fbeta = []\n",
    "\n",
    "for th in th_values:\n",
    "    pred = []\n",
    "    lab = []\n",
    "    for b, l in test_dl:\n",
    "        b = b.to(device)\n",
    "        l = l.to(device)\n",
    "        pred += (model(b) > th).type(torch.int).tolist()\n",
    "        lab += (l > th).type(torch.int).tolist()\n",
    "    precision.append(precision_score(lab, pred, zero_division=0))\n",
    "    recall.append(recall_score(lab, pred))\n",
    "    f1scores.append(f1_score(lab, pred))\n",
    "    fbeta.append(fbeta_score(lab, pred, beta=0.5))\n",
    "\n",
    "plt.figure()\n",
    "plt.plot(th_values, precision, label=\"precision\")\n",
    "plt.plot(th_values, recall, label=\"recall\")\n",
    "plt.plot(th_values, f1scores, label=\"f1\")\n",
    "plt.plot(th_values, fbeta, label=\"fbeta\")\n",
    "plt.xlabel(\"Threshold\")\n",
    "plt.legend()\n",
    "plt.show()"
   ]
  },
  {
   "cell_type": "code",
   "execution_count": 12,
   "id": "92dc57f8",
   "metadata": {},
   "outputs": [
    {
     "name": "stdout",
     "output_type": "stream",
     "text": [
      "TP: 2, TN: 278, FP: 42, FN: 0\n",
      "TH: 0.28 Acc: 0.870 P: 0.045 R: 1.000 F1: 0.087 FB: 0.056\n"
     ]
    }
   ],
   "source": [
    "decision_th = th_values[np.argmax(fbeta)]\n",
    "\n",
    "pred = []\n",
    "lab = []\n",
    "for b, l in test_dl:\n",
    "    b = b.to(device)\n",
    "    l = l.to(device)\n",
    "    pred += (model(b) > decision_th).type(torch.int).tolist()\n",
    "    lab += (l > th).tolist()\n",
    "\n",
    "tn, fp, fn, tp = confusion_matrix(lab, pred).ravel()\n",
    "print(f\"TP: {tp}, TN: {tn}, FP: {fp}, FN: {fn}\")\n",
    "acc = accuracy_score(lab, pred)\n",
    "precision = precision_score(lab, pred)\n",
    "recall = recall_score(lab, pred)\n",
    "f1 = f1_score(lab, pred)\n",
    "fb = fbeta_score(lab, pred, beta=0.5)\n",
    "print(f'TH: {decision_th} Acc: {acc:.3f} P: {precision:.3f} R: {recall:.3f} F1: {f1:.3f} FB: {fb:.3f}')"
   ]
  },
  {
   "cell_type": "markdown",
   "id": "951d1251",
   "metadata": {},
   "source": [
    "# Evaluation\n",
    "\n",
    "Give the model a list of candidate edges to evaluate.\n",
    "Reconstruct the event and evaluate against ground truth. "
   ]
  },
  {
   "cell_type": "code",
   "execution_count": 4,
   "id": "d877b173",
   "metadata": {},
   "outputs": [],
   "source": [
    "import uproot\n",
    "import numpy as np\n",
    "from reco.evaluation import evaluate\n",
    "\n",
    "file_name = f\"{raw_dir}/new_ntuples_15295178_22.root\"\n",
    "tracksters = uproot.open({file_name: \"ticlNtuplizer/tracksters\"})\n",
    "simtracksters = uproot.open({file_name: \"ticlNtuplizer/simtrackstersSC\"})\n",
    "graphs = uproot.open({file_name: \"ticlNtuplizer/graph\"})\n",
    "associations = uproot.open({file_name: \"ticlNtuplizer/associations\"})"
   ]
  }
 ],
 "metadata": {
  "kernelspec": {
   "display_name": "Python 3.8.9 ('ve': venv)",
   "language": "python",
   "name": "python3"
  },
  "language_info": {
   "codemirror_mode": {
    "name": "ipython",
    "version": 3
   },
   "file_extension": ".py",
   "mimetype": "text/x-python",
   "name": "python",
   "nbconvert_exporter": "python",
   "pygments_lexer": "ipython3",
   "version": "3.8.9"
  },
  "vscode": {
   "interpreter": {
    "hash": "75d0e37245d408f3d59eb152d126431f02f862b5012558b3df6d65a37ffc466c"
   }
  }
 },
 "nbformat": 4,
 "nbformat_minor": 5
}
