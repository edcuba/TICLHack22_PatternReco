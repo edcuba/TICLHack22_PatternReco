{
 "cells": [
  {
   "cell_type": "markdown",
   "id": "6c07744a",
   "metadata": {},
   "source": [
    "# Pairwise MLP with PU\n",
    "\n",
    "Get tracksters from a certain neighbourhood.\n",
    "\n",
    "Train a NN to decide whether two tracksters should be joined.\n",
    "\n",
    "Neighbourhood:\n",
    "- cone around the candidate trackster\n"
   ]
  },
  {
   "cell_type": "markdown",
   "id": "e3247338",
   "metadata": {},
   "source": [
    "## MLP"
   ]
  },
  {
   "cell_type": "code",
   "execution_count": 1,
   "id": "81ffdcce",
   "metadata": {},
   "outputs": [],
   "source": [
    "import torch\n",
    "import torch.nn as nn\n",
    "from torch.optim.lr_scheduler import CosineAnnealingLR\n",
    "from torch.utils.data import random_split, DataLoader\n",
    "from sklearn.preprocessing import StandardScaler\n",
    "from reco.loss import FocalLoss\n",
    "\n",
    "from reco.datasetPU import TracksterPairsPU\n",
    "from reco.training import precision_recall_curve, roc_auc\n",
    "\n",
    "\n",
    "ds_name = \"CloseByGamma200PUFull\"\n",
    "\n",
    "# data_root = \"data\"\n",
    "# raw_dir = f\"/Users/ecuba/data/{ds_name}\"\n",
    "\n",
    "data_root = \"/mnt/ceph/users/ecuba/processed\"\n",
    "raw_dir = f\"/mnt/ceph/users/ecuba/{ds_name}\""
   ]
  },
  {
   "cell_type": "code",
   "execution_count": 2,
   "id": "b2dc29a6",
   "metadata": {},
   "outputs": [
    {
     "name": "stdout",
     "output_type": "stream",
     "text": [
      "Using device: cuda\n"
     ]
    }
   ],
   "source": [
    "# CUDA Setup\n",
    "device = torch.device('cuda' if torch.cuda.is_available() else \"cpu\")\n",
    "print(f\"Using device: {device}\")"
   ]
  },
  {
   "cell_type": "code",
   "execution_count": 3,
   "id": "219c077d",
   "metadata": {},
   "outputs": [
    {
     "data": {
      "text/plain": [
       "['TracksterPairsPU_CloseByGamma200PUFull_f464_r10_s0.2.pt']"
      ]
     },
     "execution_count": 3,
     "metadata": {},
     "output_type": "execute_result"
    }
   ],
   "source": [
    "ds = TracksterPairsPU(\n",
    "    ds_name,\n",
    "    data_root,\n",
    "    raw_dir,\n",
    "    N_FILES=464,\n",
    "    radius=10\n",
    ")\n",
    "\n",
    "ds.x.shape\n",
    "ds.processed_file_names"
   ]
  },
  {
   "cell_type": "code",
   "execution_count": 4,
   "id": "496f699c",
   "metadata": {},
   "outputs": [],
   "source": [
    "scaler = StandardScaler()\n",
    "scaler.fit(ds.x)\n",
    "ds.x = torch.tensor(scaler.transform(ds.x)).type(torch.float)"
   ]
  },
  {
   "cell_type": "code",
   "execution_count": 5,
   "id": "75c3ffff",
   "metadata": {},
   "outputs": [
    {
     "name": "stdout",
     "output_type": "stream",
     "text": [
      "torch.Size([175356, 43])\n",
      "Positive: 6584\n",
      "Negative: 168772\n"
     ]
    }
   ],
   "source": [
    "print(ds.x.shape)\n",
    "\n",
    "print(\"Positive:\", int((ds.y > 0.8).type(torch.int).sum()))\n",
    "print(\"Negative:\", int((ds.y < 0.8).type(torch.int).sum()))"
   ]
  },
  {
   "cell_type": "code",
   "execution_count": 6,
   "id": "84179ef3",
   "metadata": {},
   "outputs": [
    {
     "name": "stdout",
     "output_type": "stream",
     "text": [
      "dataset balance: 3.75% / 96.25%\n"
     ]
    }
   ],
   "source": [
    "balance =  float(sum(ds.y > 0.8) / len(ds.y))\n",
    "print(f\"dataset balance: {balance*100:.2f}% / {(1-balance)*100:.2f}%\") "
   ]
  },
  {
   "cell_type": "code",
   "execution_count": 25,
   "id": "972263a2-610a-4ca9-8805-b2c6830aa83b",
   "metadata": {},
   "outputs": [
    {
     "name": "stdout",
     "output_type": "stream",
     "text": [
      "Train samples: 157821, Test samples: 17535\n"
     ]
    }
   ],
   "source": [
    "ds_size = len(ds)\n",
    "test_set_size = ds_size // 10\n",
    "train_set_size = ds_size - test_set_size\n",
    "train_set, test_set = random_split(ds, [train_set_size, test_set_size])\n",
    "print(f\"Train samples: {len(train_set)}, Test samples: {len(test_set)}\")\n",
    "\n",
    "train_dl = DataLoader(train_set, batch_size=128, shuffle=True)\n",
    "test_dl = DataLoader(test_set, batch_size=128, shuffle=True)"
   ]
  },
  {
   "cell_type": "code",
   "execution_count": 26,
   "id": "5d3700ac",
   "metadata": {},
   "outputs": [],
   "source": [
    "def train(model, opt, loader, loss_obj):\n",
    "    epoch_loss = 0\n",
    "    for batch, labels in loader:\n",
    "        # reset optimizer and enable training mode\n",
    "        opt.zero_grad()\n",
    "        model.train()\n",
    "\n",
    "        # move data to the device\n",
    "        batch = batch.to(device)\n",
    "        labels = labels.to(device)\n",
    "        \n",
    "        # get the prediction tensor\n",
    "        z = model(batch).reshape(-1)\n",
    "\n",
    "        # compute the loss\n",
    "        loss = loss_obj(z, labels)        \n",
    "        epoch_loss += loss\n",
    "\n",
    "        # back-propagate and update the weight\n",
    "        loss.backward()\n",
    "        opt.step()\n",
    "\n",
    "    return float(epoch_loss)"
   ]
  },
  {
   "cell_type": "code",
   "execution_count": 27,
   "id": "5a9369f5-eacd-4e6a-a162-d8d8a6829f45",
   "metadata": {},
   "outputs": [],
   "source": [
    "hdim1 = 256\n",
    "hdim2 = 256\n",
    "\n",
    "model = nn.Sequential(\n",
    "    nn.Linear(ds.x.shape[1], hdim1),\n",
    "    nn.ReLU(),\n",
    "    nn.Linear(hdim1, hdim2),\n",
    "    nn.ReLU(),\n",
    "    nn.Linear(hdim2, 1),\n",
    "    nn.Dropout(p=0.2),\n",
    "    nn.Sigmoid()\n",
    ")\n",
    "model = model.to(device)\n",
    "epochs = 101\n",
    "model_path = f\"models/PairWiseMLP.{hdim1}.{hdim2}.{epochs}e-{ds_name}.{ds.RADIUS}.{ds.SCORE_THRESHOLD}.{ds.N_FILES}f.pt\""
   ]
  },
  {
   "cell_type": "code",
   "execution_count": 28,
   "id": "c1bdabc9",
   "metadata": {},
   "outputs": [
    {
     "name": "stdout",
     "output_type": "stream",
     "text": [
      "Epoch: 0, loss: 3.2813, train auc: 0.9777, test auc: 0.9722\n",
      "Epoch: 10, loss: 2.8949, train auc: 0.9833, test auc: 0.9746\n",
      "Epoch: 20, loss: 2.8628, train auc: 0.9867, test auc: 0.9746\n",
      "Epoch: 30, loss: 2.7326, train auc: 0.9904, test auc: 0.9717\n",
      "Epoch: 40, loss: 2.6931, train auc: 0.9923, test auc: 0.9696\n",
      "Epoch: 50, loss: 2.5948, train auc: 0.9938, test auc: 0.9632\n",
      "Epoch: 60, loss: 2.5747, train auc: 0.9954, test auc: 0.9632\n",
      "Epoch: 70, loss: 2.5209, train auc: 0.9963, test auc: 0.9633\n",
      "Epoch: 80, loss: 2.5183, train auc: 0.9967, test auc: 0.9601\n",
      "Epoch: 90, loss: 2.4806, train auc: 0.9972, test auc: 0.9627\n",
      "Epoch: 100, loss: 2.4447, train auc: 0.9976, test auc: 0.9605\n"
     ]
    }
   ],
   "source": [
    "# %%script echo skipping\n",
    "\n",
    "optimizer = torch.optim.Adam(model.parameters(), lr=0.001)\n",
    "scheduler = CosineAnnealingLR(optimizer, epochs, eta_min=1e-3)\n",
    "loss_obj = FocalLoss(alpha=1-balance, gamma=2)\n",
    "\n",
    "for epoch in range(epochs):\n",
    "    loss = train(model, optimizer, train_dl, loss_obj)\n",
    "    train_auc = roc_auc(model, device, train_dl)\n",
    "    test_auc = roc_auc(model, device, test_dl)\n",
    "    scheduler.step()\n",
    "    if epoch % 10 == 0:\n",
    "        print(f'Epoch: {epoch}, loss: {loss:.4f}, train auc: {train_auc:.4f}, test auc: {test_auc:.4f}')\n",
    "\n",
    "torch.save(model.state_dict(), model_path)"
   ]
  },
  {
   "cell_type": "code",
   "execution_count": 29,
   "id": "93072e39",
   "metadata": {},
   "outputs": [
    {
     "name": "stdout",
     "output_type": "stream",
     "text": [
      "skipping\n"
     ]
    }
   ],
   "source": [
    "%%script echo skipping\n",
    "model.load_state_dict(torch.load(\n",
    "    model_path,\n",
    "    map_location=device\n",
    "))\n",
    "model = model.to(device)"
   ]
  },
  {
   "cell_type": "code",
   "execution_count": 30,
   "id": "92dc57f8",
   "metadata": {},
   "outputs": [
    {
     "data": {
      "image/png": "[encoded data removed]",
      "text/plain": [
       "<Figure size 640x480 with 1 Axes>"
      ]
     },
     "metadata": {},
     "output_type": "display_data"
    },
    {
     "name": "stdout",
     "output_type": "stream",
     "text": [
      "TP: 312, TN: 16759, FP: 129, FN: 335\n",
      "TH: 0.77 precision: 0.707 recall: 0.482 fbeta: 0.647 b_acc: 0.737 acc: 0.974\n"
     ]
    }
   ],
   "source": [
    "precision_recall_curve(model, device, test_dl, focus_metric=\"fbeta\", beta=0.5, step=2)"
   ]
  },
  {
   "cell_type": "markdown",
   "id": "5d3eebed-4260-4441-b30e-42b21e7a9428",
   "metadata": {},
   "source": [
    "## Results\n",
    "\n",
    "- hdim: (256, 128), roc_auc = 0.9956\n",
    "- hdim: (512, 512), roc_auc = 0.9605 (overfit?) (test auc going down)"
   ]
  },
  {
   "cell_type": "code",
   "execution_count": 33,
   "id": "b57db4c6-0436-44f9-ab2b-19109c7aced7",
   "metadata": {},
   "outputs": [
    {
     "data": {
      "text/plain": [
       "0.9605012055055691"
      ]
     },
     "execution_count": 33,
     "metadata": {},
     "output_type": "execute_result"
    }
   ],
   "source": [
    "roc_auc(model, device, test_dl)"
   ]
  },
  {
   "cell_type": "code",
   "execution_count": null,
   "id": "1a845aad-76dc-4ae2-8cf2-caea8a08c88e",
   "metadata": {},
   "outputs": [],
   "source": []
  }
 ],
 "metadata": {
  "kernelspec": {
   "display_name": "ve",
   "language": "python",
   "name": "ve"
  },
  "language_info": {
   "codemirror_mode": {
    "name": "ipython",
    "version": 3
   },
   "file_extension": ".py",
   "mimetype": "text/x-python",
   "name": "python",
   "nbconvert_exporter": "python",
   "pygments_lexer": "ipython3",
   "version": "3.9.12"
  },
  "vscode": {
   "interpreter": {
    "hash": "75d0e37245d408f3d59eb152d126431f02f862b5012558b3df6d65a37ffc466c"
   }
  }
 },
 "nbformat": 4,
 "nbformat_minor": 5
}
