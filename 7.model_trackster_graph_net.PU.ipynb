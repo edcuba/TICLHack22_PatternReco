{
 "cells": [
  {
   "attachments": {},
   "cell_type": "markdown",
   "id": "6c07744a",
   "metadata": {},
   "source": [
    "# Trackster-level graph net with PU\n",
    "\n",
    "Question: does including the neighborhood provide a benefit over the pairwise classification?"
   ]
  },
  {
   "cell_type": "code",
   "execution_count": 1,
   "id": "e3962d51",
   "metadata": {},
   "outputs": [],
   "source": [
    "import numpy as np\n",
    "import torch\n",
    "import sys\n",
    "\n",
    "import torch.nn as nn\n",
    "from torch.optim import SGD\n",
    "from torch_cluster import knn_graph\n",
    "from torch.optim.lr_scheduler import CosineAnnealingLR\n",
    "\n",
    "import torch_geometric.utils as geo_utils\n",
    "\n",
    "from torch.utils.data import random_split\n",
    "from torch_geometric.loader import DataLoader\n",
    "import torch_geometric.transforms as T\n",
    "\n",
    "from reco.model import EdgeConvBlock\n",
    "\n",
    "import sklearn.metrics as metrics\n",
    "\n",
    "from reco.training import train_edge_pred, test_edge_pred, precision_recall_curve, roc_auc\n",
    "from reco.loss import FocalLoss\n",
    "from reco.datasetPU import TracksterGraph\n",
    "\n",
    "\n",
    "ds_name = \"MultiParticle\"\n",
    "\n",
    "data_root = \"data\"\n",
    "raw_dir = f\"/Users/ecuba/data/{ds_name}\"\n",
    "\n",
    "# data_root = \"/mnt/ceph/users/ecuba/processed\"\n",
    "# raw_dir = f\"/mnt/ceph/users/ecuba/{ds_name}\""
   ]
  },
  {
   "cell_type": "code",
   "execution_count": 2,
   "id": "02f59304-76e4-4132-a379-978a46a042fd",
   "metadata": {},
   "outputs": [
    {
     "name": "stdout",
     "output_type": "stream",
     "text": [
      "Using device: cpu\n"
     ]
    }
   ],
   "source": [
    "# CUDA Setup\n",
    "device = torch.device('cuda' if torch.cuda.is_available() else \"cpu\")\n",
    "print(f\"Using device: {device}\")"
   ]
  },
  {
   "cell_type": "code",
   "execution_count": 3,
   "id": "012b3572",
   "metadata": {},
   "outputs": [],
   "source": [
    "def create_mask(data):\n",
    "    # extract the focus feature\n",
    "    data.mask = (1 - data.x[:,0]).type(torch.bool)\n",
    "    return data\n",
    "\n",
    "def knn_transform(data):\n",
    "    # pos coordinates are on position 3:6\n",
    "    data.edge_index = knn_graph(data.x[:,3:6], k=4, loop=False)\n",
    "    return data\n",
    "\n",
    "transforms = T.Compose([knn_transform, create_mask])"
   ]
  },
  {
   "cell_type": "code",
   "execution_count": 4,
   "id": "ecf4c091",
   "metadata": {},
   "outputs": [
    {
     "name": "stderr",
     "output_type": "stream",
     "text": [
      "Processing...\n",
      "/Users/ecuba/data/MultiParticle/new_ntuples_15256267_917.root\n"
     ]
    },
    {
     "ename": "KeyboardInterrupt",
     "evalue": "",
     "output_type": "error",
     "traceback": [
      "\u001b[0;31m---------------------------------------------------------------------------\u001b[0m",
      "\u001b[0;31mKeyboardInterrupt\u001b[0m                         Traceback (most recent call last)",
      "Cell \u001b[0;32mIn[4], line 3\u001b[0m\n\u001b[1;32m      1\u001b[0m \u001b[39m# Dataset TODO: use ds.pos, use ds.mask\u001b[39;00m\n\u001b[0;32m----> 3\u001b[0m ds \u001b[39m=\u001b[39m TracksterGraph(\n\u001b[1;32m      4\u001b[0m     ds_name,\n\u001b[1;32m      5\u001b[0m     data_root,\n\u001b[1;32m      6\u001b[0m     raw_dir,\n\u001b[1;32m      7\u001b[0m     N_FILES\u001b[39m=\u001b[39;49m\u001b[39m10\u001b[39;49m,\n\u001b[1;32m      8\u001b[0m     radius\u001b[39m=\u001b[39;49m\u001b[39m20\u001b[39;49m,\n\u001b[1;32m      9\u001b[0m     bigT_e_th\u001b[39m=\u001b[39;49m\u001b[39m10\u001b[39;49m,\n\u001b[1;32m     10\u001b[0m     transform\u001b[39m=\u001b[39;49mtransforms\n\u001b[1;32m     11\u001b[0m     \u001b[39m# pileup=True,\u001b[39;49;00m\n\u001b[1;32m     12\u001b[0m     \u001b[39m# collection=\"CP\"\u001b[39;49;00m\n\u001b[1;32m     13\u001b[0m )\n\u001b[1;32m     15\u001b[0m \u001b[39m# ds.processed_file_names\u001b[39;00m\n\u001b[1;32m     16\u001b[0m ds\n",
      "File \u001b[0;32m~/devel/pattern-reco/reco/datasetPU.py:465\u001b[0m, in \u001b[0;36mTracksterGraph.__init__\u001b[0;34m(self, name, root_dir, raw_data_path, transform, pre_transform, pre_filter, N_FILES, radius, pileup, score_threshold, bigT_e_th, collection)\u001b[0m\n\u001b[1;32m    463\u001b[0m \u001b[39mself\u001b[39m\u001b[39m.\u001b[39mcollection \u001b[39m=\u001b[39m collection\n\u001b[1;32m    464\u001b[0m \u001b[39mself\u001b[39m\u001b[39m.\u001b[39mSCORE_THRESHOLD \u001b[39m=\u001b[39m score_threshold\n\u001b[0;32m--> 465\u001b[0m \u001b[39msuper\u001b[39;49m(TracksterGraph, \u001b[39mself\u001b[39;49m)\u001b[39m.\u001b[39;49m\u001b[39m__init__\u001b[39;49m(root_dir, transform, pre_transform, pre_filter)\n\u001b[1;32m    466\u001b[0m \u001b[39mself\u001b[39m\u001b[39m.\u001b[39mdata, \u001b[39mself\u001b[39m\u001b[39m.\u001b[39mslices \u001b[39m=\u001b[39m torch\u001b[39m.\u001b[39mload(\u001b[39mself\u001b[39m\u001b[39m.\u001b[39mprocessed_paths[\u001b[39m0\u001b[39m])\n",
      "File \u001b[0;32m~/devel/pattern-reco/ve/lib/python3.9/site-packages/torch_geometric/data/in_memory_dataset.py:55\u001b[0m, in \u001b[0;36mInMemoryDataset.__init__\u001b[0;34m(self, root, transform, pre_transform, pre_filter, log)\u001b[0m\n\u001b[1;32m     47\u001b[0m \u001b[39mdef\u001b[39;00m \u001b[39m__init__\u001b[39m(\n\u001b[1;32m     48\u001b[0m     \u001b[39mself\u001b[39m,\n\u001b[1;32m     49\u001b[0m     root: Optional[\u001b[39mstr\u001b[39m] \u001b[39m=\u001b[39m \u001b[39mNone\u001b[39;00m,\n\u001b[0;32m   (...)\u001b[0m\n\u001b[1;32m     53\u001b[0m     log: \u001b[39mbool\u001b[39m \u001b[39m=\u001b[39m \u001b[39mTrue\u001b[39;00m,\n\u001b[1;32m     54\u001b[0m ):\n\u001b[0;32m---> 55\u001b[0m     \u001b[39msuper\u001b[39;49m()\u001b[39m.\u001b[39;49m\u001b[39m__init__\u001b[39;49m(root, transform, pre_transform, pre_filter, log)\n\u001b[1;32m     56\u001b[0m     \u001b[39mself\u001b[39m\u001b[39m.\u001b[39mdata \u001b[39m=\u001b[39m \u001b[39mNone\u001b[39;00m\n\u001b[1;32m     57\u001b[0m     \u001b[39mself\u001b[39m\u001b[39m.\u001b[39mslices \u001b[39m=\u001b[39m \u001b[39mNone\u001b[39;00m\n",
      "File \u001b[0;32m~/devel/pattern-reco/ve/lib/python3.9/site-packages/torch_geometric/data/dataset.py:94\u001b[0m, in \u001b[0;36mDataset.__init__\u001b[0;34m(self, root, transform, pre_transform, pre_filter, log)\u001b[0m\n\u001b[1;32m     91\u001b[0m     \u001b[39mself\u001b[39m\u001b[39m.\u001b[39m_download()\n\u001b[1;32m     93\u001b[0m \u001b[39mif\u001b[39;00m \u001b[39mself\u001b[39m\u001b[39m.\u001b[39mprocess\u001b[39m.\u001b[39m\u001b[39m__qualname__\u001b[39m\u001b[39m.\u001b[39msplit(\u001b[39m'\u001b[39m\u001b[39m.\u001b[39m\u001b[39m'\u001b[39m)[\u001b[39m0\u001b[39m] \u001b[39m!=\u001b[39m \u001b[39m'\u001b[39m\u001b[39mDataset\u001b[39m\u001b[39m'\u001b[39m:\n\u001b[0;32m---> 94\u001b[0m     \u001b[39mself\u001b[39;49m\u001b[39m.\u001b[39;49m_process()\n",
      "File \u001b[0;32m~/devel/pattern-reco/ve/lib/python3.9/site-packages/torch_geometric/data/dataset.py:211\u001b[0m, in \u001b[0;36mDataset._process\u001b[0;34m(self)\u001b[0m\n\u001b[1;32m    208\u001b[0m     \u001b[39mprint\u001b[39m(\u001b[39m'\u001b[39m\u001b[39mProcessing...\u001b[39m\u001b[39m'\u001b[39m, file\u001b[39m=\u001b[39msys\u001b[39m.\u001b[39mstderr)\n\u001b[1;32m    210\u001b[0m makedirs(\u001b[39mself\u001b[39m\u001b[39m.\u001b[39mprocessed_dir)\n\u001b[0;32m--> 211\u001b[0m \u001b[39mself\u001b[39;49m\u001b[39m.\u001b[39;49mprocess()\n\u001b[1;32m    213\u001b[0m path \u001b[39m=\u001b[39m osp\u001b[39m.\u001b[39mjoin(\u001b[39mself\u001b[39m\u001b[39m.\u001b[39mprocessed_dir, \u001b[39m'\u001b[39m\u001b[39mpre_transform.pt\u001b[39m\u001b[39m'\u001b[39m)\n\u001b[1;32m    214\u001b[0m torch\u001b[39m.\u001b[39msave(_repr(\u001b[39mself\u001b[39m\u001b[39m.\u001b[39mpre_transform), path)\n",
      "File \u001b[0;32m~/devel/pattern-reco/reco/datasetPU.py:498\u001b[0m, in \u001b[0;36mTracksterGraph.process\u001b[0;34m(self)\u001b[0m\n\u001b[1;32m    496\u001b[0m \u001b[39mfor\u001b[39;00m source \u001b[39min\u001b[39;00m \u001b[39mself\u001b[39m\u001b[39m.\u001b[39mraw_file_names:\n\u001b[1;32m    497\u001b[0m     \u001b[39mprint\u001b[39m(source, file\u001b[39m=\u001b[39msys\u001b[39m.\u001b[39mstderr)\n\u001b[0;32m--> 498\u001b[0m     cluster_data, trackster_data, simtrackster_data, assoc_data \u001b[39m=\u001b[39m get_event_data(\n\u001b[1;32m    499\u001b[0m         source,\n\u001b[1;32m    500\u001b[0m         collection\u001b[39m=\u001b[39;49m\u001b[39mself\u001b[39;49m\u001b[39m.\u001b[39;49mcollection\n\u001b[1;32m    501\u001b[0m     )\n\u001b[1;32m    502\u001b[0m     \u001b[39mfor\u001b[39;00m eid \u001b[39min\u001b[39;00m \u001b[39mrange\u001b[39m(\u001b[39mlen\u001b[39m(trackster_data[\u001b[39m\"\u001b[39m\u001b[39mbarycenter_x\u001b[39m\u001b[39m\"\u001b[39m])):\n\u001b[1;32m    503\u001b[0m         data_list \u001b[39m+\u001b[39m\u001b[39m=\u001b[39m get_event_graph(\n\u001b[1;32m    504\u001b[0m             cluster_data,\n\u001b[1;32m    505\u001b[0m             trackster_data,\n\u001b[0;32m   (...)\u001b[0m\n\u001b[1;32m    512\u001b[0m             collection\u001b[39m=\u001b[39m\u001b[39mself\u001b[39m\u001b[39m.\u001b[39mcollection\n\u001b[1;32m    513\u001b[0m         )\n",
      "File \u001b[0;32m~/devel/pattern-reco/reco/data.py:87\u001b[0m, in \u001b[0;36mget_event_data\u001b[0;34m(source, collection)\u001b[0m\n\u001b[1;32m     85\u001b[0m associations \u001b[39m=\u001b[39m uproot\u001b[39m.\u001b[39mopen({source: \u001b[39m\"\u001b[39m\u001b[39mticlNtuplizer/associations\u001b[39m\u001b[39m\"\u001b[39m})\n\u001b[1;32m     86\u001b[0m clusters \u001b[39m=\u001b[39m uproot\u001b[39m.\u001b[39mopen({source: \u001b[39m\"\u001b[39m\u001b[39mticlNtuplizer/clusters\u001b[39m\u001b[39m\"\u001b[39m})\n\u001b[0;32m---> 87\u001b[0m \u001b[39mreturn\u001b[39;00m get_data_arrays(clusters, tracksters, simtracksters, associations, collection\u001b[39m=\u001b[39;49mcollection)\n",
      "File \u001b[0;32m~/devel/pattern-reco/reco/data.py:59\u001b[0m, in \u001b[0;36mget_data_arrays\u001b[0;34m(clusters, tracksters, simtracksters, associations, collection)\u001b[0m\n\u001b[1;32m     51\u001b[0m trackster_data \u001b[39m=\u001b[39m tracksters\u001b[39m.\u001b[39marrays(ARRAYS \u001b[39m+\u001b[39m FEATURE_KEYS \u001b[39m+\u001b[39m [\u001b[39m'\u001b[39m\u001b[39mid_probabilities\u001b[39m\u001b[39m'\u001b[39m])\n\u001b[1;32m     52\u001b[0m cluster_data \u001b[39m=\u001b[39m clusters\u001b[39m.\u001b[39marrays([\n\u001b[1;32m     53\u001b[0m     \u001b[39m\"\u001b[39m\u001b[39mposition_x\u001b[39m\u001b[39m\"\u001b[39m,\n\u001b[1;32m     54\u001b[0m     \u001b[39m\"\u001b[39m\u001b[39mposition_y\u001b[39m\u001b[39m\"\u001b[39m,\n\u001b[0;32m   (...)\u001b[0m\n\u001b[1;32m     57\u001b[0m     \u001b[39m\"\u001b[39m\u001b[39mcluster_number_of_hits\u001b[39m\u001b[39m\"\u001b[39m,\n\u001b[1;32m     58\u001b[0m ])\n\u001b[0;32m---> 59\u001b[0m simtrackster_data \u001b[39m=\u001b[39m simtracksters\u001b[39m.\u001b[39;49marrays([\n\u001b[1;32m     60\u001b[0m     \u001b[39mf\u001b[39;49m\u001b[39m\"\u001b[39;49m\u001b[39msts\u001b[39;49m\u001b[39m{\u001b[39;49;00mcollection\u001b[39m}\u001b[39;49;00m\u001b[39m_raw_energy\u001b[39;49m\u001b[39m\"\u001b[39;49m,\n\u001b[1;32m     61\u001b[0m     \u001b[39mf\u001b[39;49m\u001b[39m\"\u001b[39;49m\u001b[39msts\u001b[39;49m\u001b[39m{\u001b[39;49;00mcollection\u001b[39m}\u001b[39;49;00m\u001b[39m_vertices_indexes\u001b[39;49m\u001b[39m\"\u001b[39;49m,\n\u001b[1;32m     62\u001b[0m     \u001b[39mf\u001b[39;49m\u001b[39m\"\u001b[39;49m\u001b[39msts\u001b[39;49m\u001b[39m{\u001b[39;49;00mcollection\u001b[39m}\u001b[39;49;00m\u001b[39m_vertices_energy\u001b[39;49m\u001b[39m\"\u001b[39;49m,\n\u001b[1;32m     63\u001b[0m     \u001b[39mf\u001b[39;49m\u001b[39m\"\u001b[39;49m\u001b[39msts\u001b[39;49m\u001b[39m{\u001b[39;49;00mcollection\u001b[39m}\u001b[39;49;00m\u001b[39m_vertices_multiplicity\u001b[39;49m\u001b[39m\"\u001b[39;49m,\n\u001b[1;32m     64\u001b[0m     \u001b[39mf\u001b[39;49m\u001b[39m\"\u001b[39;49m\u001b[39msts\u001b[39;49m\u001b[39m{\u001b[39;49;00mcollection\u001b[39m}\u001b[39;49;00m\u001b[39m_barycenter_z\u001b[39;49m\u001b[39m\"\u001b[39;49m\n\u001b[1;32m     65\u001b[0m ])\n\u001b[1;32m     66\u001b[0m assoc_data \u001b[39m=\u001b[39m associations\u001b[39m.\u001b[39marrays([\n\u001b[1;32m     67\u001b[0m     \u001b[39mf\u001b[39m\u001b[39m\"\u001b[39m\u001b[39mtsCLUE3D_recoToSim_\u001b[39m\u001b[39m{\u001b[39;00mcollection\u001b[39m}\u001b[39;00m\u001b[39m\"\u001b[39m,\n\u001b[1;32m     68\u001b[0m     \u001b[39mf\u001b[39m\u001b[39m\"\u001b[39m\u001b[39mtsCLUE3D_recoToSim_\u001b[39m\u001b[39m{\u001b[39;00mcollection\u001b[39m}\u001b[39;00m\u001b[39m_sharedE\u001b[39m\u001b[39m\"\u001b[39m,\n\u001b[1;32m     69\u001b[0m     \u001b[39mf\u001b[39m\u001b[39m\"\u001b[39m\u001b[39mtsCLUE3D_recoToSim_\u001b[39m\u001b[39m{\u001b[39;00mcollection\u001b[39m}\u001b[39;00m\u001b[39m_score\u001b[39m\u001b[39m\"\u001b[39m,\n\u001b[1;32m     70\u001b[0m ])\n\u001b[1;32m     71\u001b[0m \u001b[39mreturn\u001b[39;00m cluster_data, trackster_data, simtrackster_data, assoc_data\n",
      "File \u001b[0;32m~/devel/pattern-reco/ve/lib/python3.9/site-packages/uproot/behaviors/TBranch.py:1257\u001b[0m, in \u001b[0;36mHasBranches.arrays\u001b[0;34m(self, expressions, cut, filter_name, filter_typename, filter_branch, aliases, language, entry_start, entry_stop, decompression_executor, interpretation_executor, array_cache, library, how)\u001b[0m\n\u001b[1;32m   1251\u001b[0m             \u001b[39mfor\u001b[39;00m (\n\u001b[1;32m   1252\u001b[0m                 basket_num,\n\u001b[1;32m   1253\u001b[0m                 range_or_basket,\n\u001b[1;32m   1254\u001b[0m             ) \u001b[39min\u001b[39;00m branch\u001b[39m.\u001b[39mentries_to_ranges_or_baskets(entry_start, entry_stop):\n\u001b[1;32m   1255\u001b[0m                 ranges_or_baskets\u001b[39m.\u001b[39mappend((branch, basket_num, range_or_basket))\n\u001b[0;32m-> 1257\u001b[0m _ranges_or_baskets_to_arrays(\n\u001b[1;32m   1258\u001b[0m     \u001b[39mself\u001b[39;49m,\n\u001b[1;32m   1259\u001b[0m     ranges_or_baskets,\n\u001b[1;32m   1260\u001b[0m     branchid_interpretation,\n\u001b[1;32m   1261\u001b[0m     entry_start,\n\u001b[1;32m   1262\u001b[0m     entry_stop,\n\u001b[1;32m   1263\u001b[0m     decompression_executor,\n\u001b[1;32m   1264\u001b[0m     interpretation_executor,\n\u001b[1;32m   1265\u001b[0m     library,\n\u001b[1;32m   1266\u001b[0m     arrays,\n\u001b[1;32m   1267\u001b[0m     \u001b[39mFalse\u001b[39;49;00m,\n\u001b[1;32m   1268\u001b[0m )\n\u001b[1;32m   1270\u001b[0m \u001b[39m# no longer needed; save memory\u001b[39;00m\n\u001b[1;32m   1271\u001b[0m \u001b[39mdel\u001b[39;00m ranges_or_baskets\n",
      "File \u001b[0;32m~/devel/pattern-reco/ve/lib/python3.9/site-packages/uproot/behaviors/TBranch.py:3487\u001b[0m, in \u001b[0;36m_ranges_or_baskets_to_arrays\u001b[0;34m(hasbranches, ranges_or_baskets, branchid_interpretation, entry_start, entry_stop, decompression_executor, interpretation_executor, library, arrays, update_ranges_or_baskets)\u001b[0m\n\u001b[1;32m   3484\u001b[0m     decompression_executor\u001b[39m.\u001b[39msubmit(chunk_to_basket, obj, \u001b[39m*\u001b[39margs)\n\u001b[1;32m   3486\u001b[0m \u001b[39melif\u001b[39;00m \u001b[39misinstance\u001b[39m(obj, uproot\u001b[39m.\u001b[39mmodels\u001b[39m.\u001b[39mTBasket\u001b[39m.\u001b[39mModel_TBasket):\n\u001b[0;32m-> 3487\u001b[0m     interpretation_executor\u001b[39m.\u001b[39;49msubmit(basket_to_array, obj)\n\u001b[1;32m   3489\u001b[0m \u001b[39melif\u001b[39;00m obj \u001b[39mis\u001b[39;00m \u001b[39mNone\u001b[39;00m:\n\u001b[1;32m   3490\u001b[0m     \u001b[39mpass\u001b[39;00m\n",
      "File \u001b[0;32m~/devel/pattern-reco/ve/lib/python3.9/site-packages/uproot/source/futures.py:73\u001b[0m, in \u001b[0;36mTrivialExecutor.submit\u001b[0;34m(self, task, *args)\u001b[0m\n\u001b[1;32m     69\u001b[0m \u001b[39mdef\u001b[39;00m \u001b[39msubmit\u001b[39m(\u001b[39mself\u001b[39m, task, \u001b[39m*\u001b[39margs):\n\u001b[1;32m     70\u001b[0m     \u001b[39m\"\"\"\u001b[39;00m\n\u001b[1;32m     71\u001b[0m \u001b[39m    Immediately runs ``task(*args)``.\u001b[39;00m\n\u001b[1;32m     72\u001b[0m \u001b[39m    \"\"\"\u001b[39;00m\n\u001b[0;32m---> 73\u001b[0m     \u001b[39mreturn\u001b[39;00m TrivialFuture(task(\u001b[39m*\u001b[39;49margs))\n",
      "File \u001b[0;32m~/devel/pattern-reco/ve/lib/python3.9/site-packages/uproot/behaviors/TBranch.py:3463\u001b[0m, in \u001b[0;36m_ranges_or_baskets_to_arrays.<locals>.basket_to_array\u001b[0;34m(basket)\u001b[0m\n\u001b[1;32m   3460\u001b[0m basket \u001b[39m=\u001b[39m \u001b[39mNone\u001b[39;00m\n\u001b[1;32m   3462\u001b[0m \u001b[39mif\u001b[39;00m \u001b[39mlen\u001b[39m(basket_arrays) \u001b[39m==\u001b[39m branchid_num_baskets[branch\u001b[39m.\u001b[39mcache_key]:\n\u001b[0;32m-> 3463\u001b[0m     arrays[branch\u001b[39m.\u001b[39mcache_key] \u001b[39m=\u001b[39m interpretation\u001b[39m.\u001b[39;49mfinal_array(\n\u001b[1;32m   3464\u001b[0m         basket_arrays,\n\u001b[1;32m   3465\u001b[0m         entry_start,\n\u001b[1;32m   3466\u001b[0m         entry_stop,\n\u001b[1;32m   3467\u001b[0m         branch\u001b[39m.\u001b[39;49mentry_offsets,\n\u001b[1;32m   3468\u001b[0m         library,\n\u001b[1;32m   3469\u001b[0m         branch,\n\u001b[1;32m   3470\u001b[0m     )\n\u001b[1;32m   3471\u001b[0m     \u001b[39m# no longer needed, save memory\u001b[39;00m\n\u001b[1;32m   3472\u001b[0m     basket_arrays\u001b[39m.\u001b[39mclear()\n",
      "File \u001b[0;32m~/devel/pattern-reco/ve/lib/python3.9/site-packages/uproot/interpretation/objects.py:225\u001b[0m, in \u001b[0;36mAsObjects.final_array\u001b[0;34m(self, basket_arrays, entry_start, entry_stop, entry_offsets, library, branch)\u001b[0m\n\u001b[1;32m    213\u001b[0m     output \u001b[39m=\u001b[39m numpy\u001b[39m.\u001b[39mconcatenate(trimmed)\n\u001b[1;32m    215\u001b[0m \u001b[39mself\u001b[39m\u001b[39m.\u001b[39mhook_before_library_finalize(\n\u001b[1;32m    216\u001b[0m     basket_arrays\u001b[39m=\u001b[39mbasket_arrays,\n\u001b[1;32m    217\u001b[0m     entry_start\u001b[39m=\u001b[39mentry_start,\n\u001b[0;32m   (...)\u001b[0m\n\u001b[1;32m    222\u001b[0m     output\u001b[39m=\u001b[39moutput,\n\u001b[1;32m    223\u001b[0m )\n\u001b[0;32m--> 225\u001b[0m output \u001b[39m=\u001b[39m library\u001b[39m.\u001b[39;49mfinalize(output, branch, \u001b[39mself\u001b[39;49m, entry_start, entry_stop)\n\u001b[1;32m    227\u001b[0m \u001b[39mself\u001b[39m\u001b[39m.\u001b[39mhook_after_final_array(\n\u001b[1;32m    228\u001b[0m     basket_arrays\u001b[39m=\u001b[39mbasket_arrays,\n\u001b[1;32m    229\u001b[0m     entry_start\u001b[39m=\u001b[39mentry_start,\n\u001b[0;32m   (...)\u001b[0m\n\u001b[1;32m    234\u001b[0m     output\u001b[39m=\u001b[39moutput,\n\u001b[1;32m    235\u001b[0m )\n\u001b[1;32m    237\u001b[0m \u001b[39mreturn\u001b[39;00m output\n",
      "File \u001b[0;32m~/devel/pattern-reco/ve/lib/python3.9/site-packages/uproot/interpretation/library.py:578\u001b[0m, in \u001b[0;36mAwkward.finalize\u001b[0;34m(self, array, branch, interpretation, entry_start, entry_stop)\u001b[0m\n\u001b[1;32m    561\u001b[0m     \u001b[39mexcept\u001b[39;00m uproot\u001b[39m.\u001b[39minterpretation\u001b[39m.\u001b[39mobjects\u001b[39m.\u001b[39mCannotBeAwkward \u001b[39mas\u001b[39;00m err:\n\u001b[1;32m    562\u001b[0m         \u001b[39mraise\u001b[39;00m \u001b[39mValueError\u001b[39;00m(\n\u001b[1;32m    563\u001b[0m             \u001b[39m\"\"\"cannot produce Awkward Arrays for interpretation {} because\u001b[39;00m\n\u001b[1;32m    564\u001b[0m \n\u001b[0;32m   (...)\u001b[0m\n\u001b[1;32m    575\u001b[0m             )\n\u001b[1;32m    576\u001b[0m         ) \u001b[39mfrom\u001b[39;00m \u001b[39merr\u001b[39;00m\n\u001b[0;32m--> 578\u001b[0m     unlabeled \u001b[39m=\u001b[39m awkward\u001b[39m.\u001b[39;49mfrom_iter(\n\u001b[1;32m    579\u001b[0m         (_object_to_awkward_json(form, x) \u001b[39mfor\u001b[39;49;00m x \u001b[39min\u001b[39;49;00m array), highlevel\u001b[39m=\u001b[39;49m\u001b[39mFalse\u001b[39;49;00m\n\u001b[1;32m    580\u001b[0m     )\n\u001b[1;32m    581\u001b[0m     \u001b[39mreturn\u001b[39;00m awkward\u001b[39m.\u001b[39mArray(_awkward_json_to_array(awkward, form, unlabeled))\n\u001b[1;32m    583\u001b[0m \u001b[39melif\u001b[39;00m array\u001b[39m.\u001b[39mdtype\u001b[39m.\u001b[39mnames \u001b[39mis\u001b[39;00m \u001b[39mnot\u001b[39;00m \u001b[39mNone\u001b[39;00m:\n",
      "File \u001b[0;32m~/devel/pattern-reco/ve/lib/python3.9/site-packages/awkward/operations/convert.py:893\u001b[0m, in \u001b[0;36mfrom_iter\u001b[0;34m(iterable, highlevel, behavior, allow_record, initial, resize)\u001b[0m\n\u001b[1;32m    890\u001b[0m     iterable \u001b[39m=\u001b[39m \u001b[39mlist\u001b[39m(iterable)\n\u001b[1;32m    892\u001b[0m out \u001b[39m=\u001b[39m ak\u001b[39m.\u001b[39mlayout\u001b[39m.\u001b[39mArrayBuilder(initial\u001b[39m=\u001b[39minitial, resize\u001b[39m=\u001b[39mresize)\n\u001b[0;32m--> 893\u001b[0m out\u001b[39m.\u001b[39;49mfromiter(iterable)\n\u001b[1;32m    894\u001b[0m \u001b[39mreturn\u001b[39;00m ak\u001b[39m.\u001b[39m_util\u001b[39m.\u001b[39mmaybe_wrap(out[\u001b[39m0\u001b[39m], behavior, highlevel)\n",
      "File \u001b[0;32m/Applications/Xcode.app/Contents/Developer/Library/Frameworks/Python3.framework/Versions/3.9/lib/python3.9/abc.py:117\u001b[0m, in \u001b[0;36mABCMeta.__instancecheck__\u001b[0;34m(cls, instance)\u001b[0m\n\u001b[1;32m    111\u001b[0m     \u001b[39m\"\"\"Register a virtual subclass of an ABC.\u001b[39;00m\n\u001b[1;32m    112\u001b[0m \n\u001b[1;32m    113\u001b[0m \u001b[39m    Returns the subclass, to allow usage as a class decorator.\u001b[39;00m\n\u001b[1;32m    114\u001b[0m \u001b[39m    \"\"\"\u001b[39;00m\n\u001b[1;32m    115\u001b[0m     \u001b[39mreturn\u001b[39;00m _abc_register(\u001b[39mcls\u001b[39m, subclass)\n\u001b[0;32m--> 117\u001b[0m \u001b[39mdef\u001b[39;00m \u001b[39m__instancecheck__\u001b[39m(\u001b[39mcls\u001b[39m, instance):\n\u001b[1;32m    118\u001b[0m     \u001b[39m\"\"\"Override for isinstance(instance, cls).\"\"\"\u001b[39;00m\n\u001b[1;32m    119\u001b[0m     \u001b[39mreturn\u001b[39;00m _abc_instancecheck(\u001b[39mcls\u001b[39m, instance)\n",
      "\u001b[0;31mKeyboardInterrupt\u001b[0m: "
     ]
    }
   ],
   "source": [
    "# Dataset TODO: use ds.pos, use ds.mask\n",
    "\n",
    "ds = TracksterGraph(\n",
    "    ds_name,\n",
    "    data_root,\n",
    "    raw_dir,\n",
    "    N_FILES=10,\n",
    "    radius=20,\n",
    "    bigT_e_th=10,\n",
    "    transform=transforms\n",
    "    # pileup=True,\n",
    "    # collection=\"CP\"\n",
    ")\n",
    "\n",
    "# ds.processed_file_names\n",
    "ds"
   ]
  },
  {
   "cell_type": "code",
   "execution_count": 16,
   "id": "604298f4",
   "metadata": {},
   "outputs": [
    {
     "name": "stdout",
     "output_type": "stream",
     "text": [
      "Train graphs: 37930, Test graphs: 4214, total: 42144\n"
     ]
    }
   ],
   "source": [
    "ds_size = len(ds)\n",
    "test_set_size = ds_size // 10\n",
    "train_set_size = ds_size - test_set_size\n",
    "train_set, test_set = random_split(ds, [train_set_size, test_set_size])\n",
    "print(f\"Train graphs: {len(train_set)}, Test graphs: {len(test_set)}, total: {ds_size}\")\n",
    "\n",
    "train_dl = DataLoader(train_set, batch_size=32, shuffle=True)\n",
    "test_dl = DataLoader(test_set, batch_size=32, shuffle=True)"
   ]
  },
  {
   "cell_type": "code",
   "execution_count": 17,
   "id": "7e9f24ba-0c3c-4793-ab31-e2b699e69a77",
   "metadata": {},
   "outputs": [
    {
     "name": "stdout",
     "output_type": "stream",
     "text": [
      "Labels (one per trackster minus the main trackster): 1334413\n",
      "Positive: 297741\n",
      "Negative: 1036672\n"
     ]
    }
   ],
   "source": [
    "to_predict = []\n",
    "for data in ds:\n",
    "    to_predict += data.y[data.mask].tolist()\n",
    "query_labels = np.array(to_predict)\n",
    "\n",
    "print(\"Labels (one per trackster minus the main trackster):\", len(query_labels))\n",
    "print(\"Positive:\", int((query_labels > 0.8).astype(int).sum()))\n",
    "print(\"Negative:\", int((query_labels < 0.8).astype(int).sum()))"
   ]
  },
  {
   "cell_type": "code",
   "execution_count": 18,
   "id": "1c217aff-c1a6-4fa9-9f17-2a03f9aa93bd",
   "metadata": {},
   "outputs": [
    {
     "name": "stdout",
     "output_type": "stream",
     "text": [
      "dataset balance: 22.31%\n"
     ]
    }
   ],
   "source": [
    "balance = float(sum(query_labels > 0.8) / len(query_labels))\n",
    "print(f\"dataset balance: {balance * 100:.2f}%\") "
   ]
  },
  {
   "cell_type": "code",
   "execution_count": 20,
   "id": "3f4a0b99-bef3-4c82-a0ac-d88e1521382b",
   "metadata": {},
   "outputs": [],
   "source": [
    "class TracksterGraphNet(nn.Module):\n",
    "    def __init__(self, input_dim, output_dim=1, dropout=0.2):\n",
    "        super(TracksterGraphNet, self).__init__()\n",
    "        \n",
    "        hdim1 = 64\n",
    "        \n",
    "        # dimensions inflate due to skip connections\n",
    "        # in_dim2 = hdim1 + input_dim\n",
    "        hdim2 = 128\n",
    "\n",
    "        # in_dim_fc = hdim2 + in_dim2\n",
    "        hdim_fc = 256\n",
    "\n",
    "        # EdgeConv\n",
    "        self.graphconv1 = EdgeConvBlock(input_dim, hdim1, skip=False)\n",
    "        self.graphconv2 = EdgeConvBlock(hdim1, hdim2, skip=False)\n",
    "        \n",
    "        # Edge features from node embeddings for classification        \n",
    "        self.edgenetwork = nn.Sequential(\n",
    "            nn.Linear(hdim2, hdim_fc),\n",
    "            nn.ReLU(),\n",
    "            nn.Dropout(dropout),\n",
    "            nn.Linear(hdim_fc, output_dim),\n",
    "            nn.Sigmoid()\n",
    "        )\n",
    "\n",
    "    def forward(self, X, edge_index):\n",
    "\n",
    "        # (prepared_edges, _) = geo_utils.add_self_loops(edge_index)  \n",
    "        undirected_index = geo_utils.to_undirected(edge_index)\n",
    "        \n",
    "        # XXX: missing undirected? \n",
    "        H = self.graphconv1(X, edge_index)\n",
    "        H = self.graphconv2(H, edge_index)\n",
    "        return self.edgenetwork(H).squeeze(-1)"
   ]
  },
  {
   "cell_type": "code",
   "execution_count": 21,
   "id": "1ce36485",
   "metadata": {},
   "outputs": [],
   "source": [
    "model = TracksterGraphNet(input_dim=ds.data.x.shape[1])\n",
    "epochs = 101\n",
    "model_path = f\"models/TracksterGraphNet.KNN.mask.64.128.256.ns.{epochs}e-{ds_name}.{ds.RADIUS}.{ds.SCORE_THRESHOLD}.{ds.N_FILES}f.pt\""
   ]
  },
  {
   "cell_type": "code",
   "execution_count": 22,
   "id": "2d3f1e82-74c5-4629-9b20-f05d7662aaf1",
   "metadata": {},
   "outputs": [
    {
     "name": "stdout",
     "output_type": "stream",
     "text": [
      "skipping\n"
     ]
    }
   ],
   "source": [
    "%%script echo skipping\n",
    "\n",
    "# alpha - percentage of negative edges\n",
    "loss_func = FocalLoss(alpha=balance, gamma=2)\n",
    "\n",
    "model = model.to(device)\n",
    "optimizer = SGD(model.parameters(), lr=1e-3, momentum=0.9, weight_decay=1e-4)\n",
    "scheduler = CosineAnnealingLR(optimizer, epochs, eta_min=1e-5)\n",
    "\n",
    "for epoch in range(epochs):\n",
    "\n",
    "    train_loss, train_true, train_pred = train_edge_pred(\n",
    "        model,\n",
    "        device,\n",
    "        optimizer,\n",
    "        loss_func,\n",
    "        train_dl\n",
    "    )\n",
    "    \n",
    "    train_auc = metrics.roc_auc_score((train_true > 0.8).astype(int), train_pred)\n",
    "    scheduler.step()\n",
    "\n",
    "    if epoch % 10 == 0:\n",
    "        test_loss, test_true, test_pred = test_edge_pred(model, device, loss_func, test_dl)\n",
    "        test_auc = metrics.roc_auc_score((test_true > 0.8).astype(int), test_pred)\n",
    "        print(\n",
    "            f\"Epoch {epoch}\",\n",
    "            f\"\\ttrain loss:{train_loss:.3f}\\ttrain auc: {train_auc:.3f}\",\n",
    "            f\"\\t test loss:{test_loss:.3f} \\t test auc: {test_auc:.3f}\",\n",
    "            file=sys.stderr\n",
    "        )\n",
    "        \n",
    "torch.save(model.state_dict(), model_path)\n",
    "print(model_path)"
   ]
  },
  {
   "cell_type": "code",
   "execution_count": 23,
   "id": "0b9cbaa6",
   "metadata": {},
   "outputs": [],
   "source": [
    "#%%script echo skipping\n",
    "model.load_state_dict(torch.load(\n",
    "    model_path,\n",
    "    map_location=device\n",
    "))\n",
    "model = model.to(device)"
   ]
  },
  {
   "cell_type": "code",
   "execution_count": 24,
   "id": "f2e14bc7-4d33-485b-9075-348fa0bd284e",
   "metadata": {},
   "outputs": [
    {
     "data": {
      "image/png": "[encoded data removed]",
      "text/plain": [
       "<Figure size 640x480 with 1 Axes>"
      ]
     },
     "metadata": {},
     "output_type": "display_data"
    },
    {
     "name": "stdout",
     "output_type": "stream",
     "text": [
      "TP: 371, TN: 16874, FP: 228, FN: 429\n",
      "TH: 0.39 precision: 0.619 recall: 0.464 fbeta: 0.580 b_acc: 0.725\n"
     ]
    }
   ],
   "source": [
    "precision_recall_curve(model, device, test_dl, focus_metric=\"fbeta\", beta=0.5, step=2)"
   ]
  },
  {
   "cell_type": "code",
   "execution_count": 25,
   "id": "c86c98db-0ac0-4a0c-84fd-4c50df507528",
   "metadata": {},
   "outputs": [
    {
     "name": "stdout",
     "output_type": "stream",
     "text": [
      "0.9553808034148052\n"
     ]
    }
   ],
   "source": [
    "print(roc_auc(model, device, test_dl))\n",
    "# 0.9662901273385327 for 0.25"
   ]
  },
  {
   "cell_type": "markdown",
   "id": "328866f1-c862-4dfb-a201-91d2baa53d9f",
   "metadata": {},
   "source": [
    "## Results\n",
    "\n",
    "Using alpha=balance seems to converge faster (100 epochs rather than 200)\n",
    "- maybe just sticking to 0.25? (works just fine)\n",
    "\n",
    "Hyperparams\n",
    "- (64, 128, noskip), alpha=balance, roc_auc = 0.9733\n",
    "- (64, 128, 256fc, noskip, 200e), alpha=1-balance, roc_auc = 0.9771\n",
    "- (64, 128, 256fc, noskip, 200e), alpha=balance, roc_auc = 0.981\n",
    "- (64, 128, 256fc, noskip, 100e), alpha=0.25, roc_auc = 0.9796"
   ]
  },
  {
   "cell_type": "code",
   "execution_count": 29,
   "id": "69420f64-42b0-4a8b-b4dc-d88ae1242f51",
   "metadata": {},
   "outputs": [],
   "source": [
    "import torch.onnx\n",
    "\n",
    "onnx_filepath = f\"onnx/TracksterGraphNet.KNN.mask.64.128.256.ns.{epochs}e-{ds_name}.{ds.RADIUS}.{ds.SCORE_THRESHOLD}.{ds.N_FILES}f.onnx\"\n",
    "\n",
    "torch.onnx.export(\n",
    "    model,                          # model to be exported\n",
    "    (ds[0].x, ds[0].edge_index),    # example input (add batch dimension)\n",
    "    onnx_filepath,\n",
    "    export_params=True,\n",
    "    opset_version=11,\n",
    "    do_constant_folding=True,\n",
    "    input_names=['features'],      # the model's input names\n",
    "    output_names=['output'],    # the model's output names\n",
    "    dynamic_axes={              # variable length axes\n",
    "        'features' : {0 : 'batch_size'},    \n",
    "        'output' : {0 : 'batch_size'}\n",
    "    }\n",
    ")"
   ]
  },
  {
   "cell_type": "code",
   "execution_count": null,
   "id": "9fb1c5e0",
   "metadata": {},
   "outputs": [],
   "source": []
  }
 ],
 "metadata": {
  "kernelspec": {
   "display_name": "Python 3.9.6 ('ve': venv)",
   "language": "python",
   "name": "python3"
  },
  "language_info": {
   "codemirror_mode": {
    "name": "ipython",
    "version": 3
   },
   "file_extension": ".py",
   "mimetype": "text/x-python",
   "name": "python",
   "nbconvert_exporter": "python",
   "pygments_lexer": "ipython3",
   "version": "3.9.6"
  },
  "vscode": {
   "interpreter": {
    "hash": "37c238d9819f69c2c770157eac01081978c120e64661e10d7fd52c4caf977dc9"
   }
  }
 },
 "nbformat": 4,
 "nbformat_minor": 5
}
