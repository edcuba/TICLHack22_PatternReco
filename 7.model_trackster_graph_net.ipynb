{
 "cells": [
  {
   "cell_type": "markdown",
   "id": "6c07744a",
   "metadata": {},
   "source": [
    "##  ParticleNet for trackster-level graph\n",
    "\n",
    "Input:\n",
    "- graph of the full event\n",
    "- edges built between tracksters in a feasible neighborhood \n",
    "    - list of edges\n",
    "- label 1 or 0 for each edge\n",
    "\n",
    "Explored options:\n",
    "- GNN with EdgeConv operators to extract information from the neighborhood\n",
    "    - then predict binary output per edge\n",
    "- DGCNN/ParticleNet with DynamicEdgeConv\n",
    "    - let the network make its own edges in the latent space\n",
    "    - use the original edges as a query after the last conv layer\n",
    "\n",
    "Dimensionality:\n",
    "- Using the batch trick to encode multiple samples at once\n",
    "    - need to reindex edges\n",
    "    - automatically handled by torch-geometric dataloader"
   ]
  },
  {
   "cell_type": "code",
   "execution_count": 1,
   "id": "260b3597",
   "metadata": {},
   "outputs": [],
   "source": [
    "import torch\n",
    "import torch.nn as nn\n",
    "from torch.optim import SGD\n",
    "from torch.utils.data import random_split\n",
    "from torch.optim.lr_scheduler import CosineAnnealingLR\n",
    "\n",
    "import numpy as np\n",
    "import matplotlib.pyplot as plt\n",
    "\n",
    "from torch_geometric.nn import EdgeConv\n",
    "import torch_geometric.transforms as T\n",
    "from torch_geometric.loader import DataLoader\n",
    "import torch_geometric.utils as geo_utils\n",
    "\n",
    "import sklearn.metrics as metrics\n",
    "\n",
    "from reco.training import train_edge_pred, test_edge_pred\n",
    "from reco.dataset import TracksterGraph\n",
    "from reco.loss import FocalLoss\n",
    "\n",
    "ds_name = \"CloseByTwoPion\"\n",
    "\n",
    "data_root = \"data\"\n",
    "raw_dir = f\"/Users/ecuba/data/{ds_name}\"\n",
    "\n",
    "# data_root = \"/mnt/ceph/users/ecuba/processed\"\n",
    "# raw_dir = f\"/mnt/ceph/users/ecuba/{ds_name}\""
   ]
  },
  {
   "cell_type": "code",
   "execution_count": 2,
   "id": "581fbd18",
   "metadata": {},
   "outputs": [
    {
     "data": {
      "text/plain": [
       "TrackstersGraph(graphs=1000, nodes=28480, edges=234894, max_distance=1000, energy_threshold=10, graph_features=False)"
      ]
     },
     "execution_count": 2,
     "metadata": {},
     "output_type": "execute_result"
    }
   ],
   "source": [
    "transform = T.Compose([T.NormalizeFeatures()])\n",
    "\n",
    "ds = TracksterGraph(\n",
    "    ds_name,\n",
    "    data_root,\n",
    "    raw_dir,\n",
    "    N_FILES=100,\n",
    "    MAX_DISTANCE=1000,\n",
    "    include_graph_features=False,\n",
    "    transform=transform,\n",
    ")\n",
    "ds"
   ]
  },
  {
   "cell_type": "code",
   "execution_count": 3,
   "id": "00cb5bdb",
   "metadata": {},
   "outputs": [
    {
     "name": "stdout",
     "output_type": "stream",
     "text": [
      "Train graphs: 900, Test graphs: 100\n"
     ]
    }
   ],
   "source": [
    "ds_size = len(ds)\n",
    "test_set_size = ds_size // 10\n",
    "train_set_size = ds_size - test_set_size\n",
    "train_set, test_set = random_split(ds, [train_set_size, test_set_size])\n",
    "print(f\"Train graphs: {len(train_set)}, Test graphs: {len(test_set)}\")\n",
    "\n",
    "# this is very nice - handles the dimensions automatically\n",
    "train_dl = DataLoader(train_set, batch_size=64, shuffle=True)\n",
    "test_dl = DataLoader(test_set, batch_size=64, shuffle=True)"
   ]
  },
  {
   "cell_type": "code",
   "execution_count": 4,
   "id": "c256bd03-3038-4161-9b2e-3de5ef8b0178",
   "metadata": {},
   "outputs": [
    {
     "name": "stdout",
     "output_type": "stream",
     "text": [
      "dataset balance: 0.750\n"
     ]
    }
   ],
   "source": [
    "print(f\"dataset balance: {float(sum(ds.data.y) / len(ds.data.y)):.3f}\") "
   ]
  },
  {
   "cell_type": "code",
   "execution_count": 5,
   "id": "efd04957",
   "metadata": {},
   "outputs": [
    {
     "name": "stdout",
     "output_type": "stream",
     "text": [
      "Using device: cpu\n"
     ]
    }
   ],
   "source": [
    "# CUDA Setup\n",
    "device = torch.device('cuda' if torch.cuda.is_available() else \"cpu\")\n",
    "print(f\"Using device: {device}\")"
   ]
  },
  {
   "cell_type": "code",
   "execution_count": 6,
   "id": "353ee579",
   "metadata": {},
   "outputs": [],
   "source": [
    "# ParticleNet\n",
    "\n",
    "class EdgeConvBlock(nn.Module):\n",
    "\n",
    "    def __init__(self, input_dim, hidden_dim, aggr=\"add\", skip_link=False, k=8):\n",
    "        super(EdgeConvBlock, self).__init__()\n",
    "\n",
    "        convnetwork = nn.Sequential(\n",
    "            nn.Linear(2 * input_dim, hidden_dim),\n",
    "            nn.BatchNorm1d(hidden_dim),\n",
    "            nn.ReLU(),\n",
    "            nn.Linear(hidden_dim, hidden_dim),\n",
    "            nn.BatchNorm1d(hidden_dim),\n",
    "            nn.ReLU(),\n",
    "            nn.Linear(hidden_dim, hidden_dim),\n",
    "            nn.BatchNorm1d(hidden_dim),\n",
    "            nn.ReLU()\n",
    "        )\n",
    "\n",
    "        self.graphconv = EdgeConv(nn=convnetwork, aggr=aggr)\n",
    "        # self.dynamicgraphconv = DynamicEdgeConv(nn=convnetwork, aggr=aggr, k=k)\n",
    "        self.skip_link = skip_link\n",
    "        \n",
    "    def forward(self, X, edge_index=None):\n",
    "        \n",
    "        if edge_index is None:\n",
    "            H = self.dynamicgraphconv(X)\n",
    "        else:\n",
    "            H = self.graphconv(X, edge_index)\n",
    "\n",
    "        if self.skip_link:\n",
    "            return torch.hstack((H, X))\n",
    "\n",
    "        return H    \n",
    "\n",
    "\n",
    "\n",
    "class GraphNet(nn.Module):\n",
    "    def __init__(self, input_dim, output_dim=1, aggr='add', dropout=0.2, skip_link=False):\n",
    "        \"\"\"\n",
    "        skip_link might not make so much difference if the edges are fixed\n",
    "        \"\"\"\n",
    "        \n",
    "        super(GraphNet, self).__init__()\n",
    "\n",
    "        hdim1 = 64\n",
    "        in_dim2 = hdim1 + input_dim if skip_link else hdim1\n",
    "        \n",
    "        hdim2 = 128\n",
    "        in_dim3 = hdim2 + in_dim2 if skip_link else hdim2\n",
    "\n",
    "        hdim3 = 256\n",
    "        in_dim4 = hdim3 + in_dim3 if skip_link else hdim3\n",
    "\n",
    "        # EdgeConv\n",
    "        self.graphconv1 = EdgeConvBlock(input_dim, hdim1, skip_link=skip_link)\n",
    "        self.graphconv2 = EdgeConvBlock(in_dim2, hdim2, skip_link=skip_link)\n",
    "        self.graphconv3 = EdgeConvBlock(in_dim3, hdim3, skip_link=skip_link)\n",
    "\n",
    "        # Edge features from node embeddings for classification\n",
    "        self.edgenetwork = nn.Sequential(\n",
    "            nn.Linear(2 * in_dim4, hdim3),\n",
    "            nn.ReLU(),\n",
    "            nn.Dropout(dropout),\n",
    "            nn.Linear(hdim3, output_dim),\n",
    "            nn.Sigmoid()\n",
    "        )\n",
    "            \n",
    "    def forward(self, X, edge_index):        \n",
    "        # (prepared_edges, _) = geo_utils.add_self_loops(edge_index)  \n",
    "        undirected_index = geo_utils.to_undirected(edge_index)\n",
    "\n",
    "        H = self.graphconv1(X, undirected_index)\n",
    "        H = self.graphconv2(H, undirected_index)\n",
    "        H = self.graphconv3(H, undirected_index)\n",
    "        \n",
    "        src, dst = edge_index\n",
    "        return self.edgenetwork(torch.cat([H[src], H[dst]], dim=-1)).squeeze(-1)"
   ]
  },
  {
   "cell_type": "code",
   "execution_count": 8,
   "id": "0b9be07a",
   "metadata": {},
   "outputs": [
    {
     "name": "stdout",
     "output_type": "stream",
     "text": [
      "Epoch 0: \ttrain loss:368.50\ttrain acc: 0.686 \t test loss:14.74 \t test acc: 0.732\n",
      "Epoch 2: \ttrain loss:96.31\ttrain acc: 0.736 \t test loss:7.69 \t test acc: 0.739\n",
      "Epoch 4: \ttrain loss:87.93\ttrain acc: 0.739 \t test loss:13.77 \t test acc: 0.713\n",
      "Epoch 6: \ttrain loss:61.73\ttrain acc: 0.750 \t test loss:10.52 \t test acc: 0.741\n",
      "Epoch 8: \ttrain loss:58.63\ttrain acc: 0.750 \t test loss:9.40 \t test acc: 0.738\n",
      "Epoch 10: \ttrain loss:59.50\ttrain acc: 0.749 \t test loss:9.75 \t test acc: 0.740\n",
      "Epoch 12: \ttrain loss:53.81\ttrain acc: 0.755 \t test loss:7.02 \t test acc: 0.736\n",
      "Epoch 14: \ttrain loss:52.73\ttrain acc: 0.757 \t test loss:8.13 \t test acc: 0.733\n",
      "Epoch 16: \ttrain loss:53.38\ttrain acc: 0.754 \t test loss:7.38 \t test acc: 0.737\n",
      "Epoch 18: \ttrain loss:50.92\ttrain acc: 0.758 \t test loss:6.78 \t test acc: 0.738\n",
      "Epoch 20: \ttrain loss:50.20\ttrain acc: 0.757 \t test loss:7.05 \t test acc: 0.739\n",
      "Epoch 22: \ttrain loss:50.38\ttrain acc: 0.757 \t test loss:6.97 \t test acc: 0.744\n",
      "Epoch 24: \ttrain loss:49.04\ttrain acc: 0.758 \t test loss:7.20 \t test acc: 0.741\n",
      "Epoch 26: \ttrain loss:48.68\ttrain acc: 0.759 \t test loss:7.21 \t test acc: 0.740\n",
      "Epoch 28: \ttrain loss:48.60\ttrain acc: 0.761 \t test loss:6.66 \t test acc: 0.736\n",
      "Epoch 30: \ttrain loss:47.90\ttrain acc: 0.760 \t test loss:7.04 \t test acc: 0.739\n",
      "Epoch 32: \ttrain loss:49.07\ttrain acc: 0.761 \t test loss:6.49 \t test acc: 0.740\n",
      "Epoch 34: \ttrain loss:47.62\ttrain acc: 0.761 \t test loss:6.36 \t test acc: 0.742\n",
      "Epoch 36: \ttrain loss:49.02\ttrain acc: 0.759 \t test loss:7.00 \t test acc: 0.740\n",
      "Epoch 38: \ttrain loss:47.37\ttrain acc: 0.759 \t test loss:6.35 \t test acc: 0.737\n",
      "Epoch 40: \ttrain loss:46.13\ttrain acc: 0.765 \t test loss:6.55 \t test acc: 0.742\n",
      "Epoch 42: \ttrain loss:48.10\ttrain acc: 0.760 \t test loss:6.40 \t test acc: 0.744\n",
      "Epoch 44: \ttrain loss:47.57\ttrain acc: 0.760 \t test loss:6.15 \t test acc: 0.741\n",
      "Epoch 46: \ttrain loss:46.34\ttrain acc: 0.762 \t test loss:6.34 \t test acc: 0.742\n",
      "Epoch 48: \ttrain loss:46.38\ttrain acc: 0.764 \t test loss:6.30 \t test acc: 0.743\n"
     ]
    }
   ],
   "source": [
    "model = GraphNet(input_dim=ds.data.x.shape[1], skip_link=False)\n",
    "epochs = 50\n",
    "\n",
    "# loss_func = F.binary_cross_entropy_with_logits\n",
    "# alpha - percentage of negative edges\n",
    "loss_func = FocalLoss(alpha=0.75, gamma=2)\n",
    "\n",
    "model = model.to(device)\n",
    "optimizer = SGD(model.parameters(), lr=0.001, momentum=0.9, weight_decay=1e-4)\n",
    "scheduler = CosineAnnealingLR(optimizer, epochs, eta_min=1e-3)\n",
    "\n",
    "for epoch in range(epochs):\n",
    "\n",
    "    train_loss, train_true, train_pred = train_edge_pred(\n",
    "        model,\n",
    "        device,\n",
    "        optimizer,\n",
    "        loss_func,\n",
    "        train_dl\n",
    "    )\n",
    "    \n",
    "    train_acc = metrics.accuracy_score(train_true, (train_pred > 0.5).astype(int))\n",
    "    scheduler.step()\n",
    "\n",
    "    if epoch % 2 == 0:\n",
    "        test_loss, test_true, test_pred = test_edge_pred(model, device, loss_func, test_dl)\n",
    "        test_acc = metrics.accuracy_score(test_true, (test_pred > 0.5).astype(int))\n",
    "        print(\n",
    "            f\"Epoch {epoch}:\",\n",
    "            f\"\\ttrain loss:{train_loss:.2f}\\ttrain acc: {train_acc:.3f}\",\n",
    "            f\"\\t test loss:{test_loss:.2f} \\t test acc: {test_acc:.3f}\"\n",
    "        )"
   ]
  },
  {
   "cell_type": "code",
   "execution_count": 9,
   "id": "2fdf4fdf",
   "metadata": {},
   "outputs": [
    {
     "data": {
      "image/png": "[encoded data removed]",
      "text/plain": [
       "<Figure size 432x288 with 1 Axes>"
      ]
     },
     "metadata": {
      "needs_background": "light"
     },
     "output_type": "display_data"
    },
    {
     "name": "stdout",
     "output_type": "stream",
     "text": [
      "Th: 0.13 | F-score: 0.847 | accuracy: 0.735\n"
     ]
    }
   ],
   "source": [
    "th_values = [i / 100. for i in range(1, 99)]\n",
    "precision = []\n",
    "recall = []\n",
    "fbeta = []\n",
    "accuracy = []\n",
    "\n",
    "for th in th_values:\n",
    "    test_loss, test_true, test_pred = test_edge_pred(model, device, loss_func, test_dl)\n",
    "\n",
    "    pred = (test_pred > th).astype(int)\n",
    "\n",
    "    if sum(pred) == 0:\n",
    "        precision.append(0)\n",
    "        recall.append(0)\n",
    "        fbeta.append(0)\n",
    "        accuracy.append(0)\n",
    "    else:\n",
    "        accuracy.append(metrics.accuracy_score(test_true, pred))\n",
    "        precision.append(metrics.precision_score(test_true, pred))\n",
    "        recall.append(metrics.recall_score(test_true, pred))\n",
    "        fbeta.append(metrics.fbeta_score(test_true, pred, beta=1))\n",
    "\n",
    "plt.figure()\n",
    "plt.plot(th_values, precision, label=\"precision\")\n",
    "plt.plot(th_values, recall, label=\"recall\")\n",
    "plt.plot(th_values, fbeta, label=\"fbeta\")\n",
    "plt.plot(th_values, accuracy, label=\"accuracy\")\n",
    "plt.xlabel(\"Threshold\")\n",
    "plt.legend()\n",
    "plt.show()\n",
    "\n",
    "decision_th = th_values[np.argmax(fbeta)]\n",
    "print(f\"Th: {decision_th} | F-score: {max(fbeta):.3f} | accuracy: {accuracy[np.argmax(fbeta)]:.3f}\")"
   ]
  },
  {
   "cell_type": "code",
   "execution_count": null,
   "id": "5dcff687",
   "metadata": {},
   "outputs": [],
   "source": [
    "torch.save(model.state_dict(), f\"models/DynamicParticleNet_64_128_256_noskip-{epochs}e-CloseByTwoPion_10_10_ngf_{ds.N_FILES}f.pt\")"
   ]
  },
  {
   "cell_type": "markdown",
   "id": "a5e324e1-d77d-418f-9cbb-8c5f0e8d24f6",
   "metadata": {},
   "source": [
    "## Scoreboard\n",
    "\n",
    "### EdgeConv-based\n",
    "\n",
    "ParticleNet_64_128_256_skip\n",
    "- Best F-score: 0.902\n",
    "- Accuracy: 0.937\n",
    "    \n",
    "ParticleNet_64_128_256_noskip\n",
    "- Best F-score: 0.902\n",
    "- accuracy: 0.937\n",
    "\n",
    "### DynamicEdgeConv\n",
    "\n",
    "The knn search in the highly dimensional space makes the training much slower.\n",
    "\n",
    "DynamicParticleNet_64_128_256_skip\n",
    "- F-score: 0.880\n",
    "- accuracy: 0.922\n",
    "- TH: 0.45\n",
    "\n",
    "\n"
   ]
  },
  {
   "cell_type": "code",
   "execution_count": null,
   "id": "7fee9c84-b14a-4f99-9fe7-3b5264fba82b",
   "metadata": {},
   "outputs": [],
   "source": [
    "import uproot\n",
    "import numpy as np\n",
    "from reco.evaluation import graph_model_evaluation\n",
    "\n",
    "file_name = f\"{raw_dir}/new_ntuples_15101852_158.root\"\n",
    "\n",
    "tracksters = uproot.open({file_name: \"ticlNtuplizer/tracksters\"})\n",
    "simtracksters = uproot.open({file_name: \"ticlNtuplizer/simtrackstersSC\"})\n",
    "graphs = uproot.open({file_name: \"ticlNtuplizer/graph\"})\n",
    "associations = uproot.open({file_name: \"ticlNtuplizer/associations\"})"
   ]
  },
  {
   "cell_type": "code",
   "execution_count": null,
   "id": "471fa906",
   "metadata": {},
   "outputs": [],
   "source": [
    "model = GraphNet(input_dim=ds.data.x.shape[1], skip_link=True)\n",
    "\n",
    "model.load_state_dict(torch.load(\n",
    "    \"models/ParticleNet_64_128_256_skip-100e-CloseByTwoPion_10_10_ngf_500f.pt\",\n",
    "    map_location=torch.device('cpu')\n",
    "))"
   ]
  },
  {
   "cell_type": "code",
   "execution_count": null,
   "id": "f7a88692-eada-4152-8ef9-e51cda092f3f",
   "metadata": {},
   "outputs": [],
   "source": [
    "result = graph_model_evaluation(\n",
    "    tracksters,\n",
    "    simtracksters,\n",
    "    associations,\n",
    "    graphs,\n",
    "    model.to(\"cpu\"),\n",
    "    0.5,\n",
    "    max_distance=10,\n",
    "    energy_threshold=10,\n",
    "    max_events=5,\n",
    ")"
   ]
  },
  {
   "cell_type": "code",
   "execution_count": null,
   "id": "3516b473",
   "metadata": {},
   "outputs": [],
   "source": [
    "from reco.dummy import GraphNaiveDummy\n",
    "\n",
    "result = graph_model_evaluation(\n",
    "    tracksters,\n",
    "    simtracksters,\n",
    "    associations,\n",
    "    graphs,\n",
    "    GraphNaiveDummy(),\n",
    "    0.5,\n",
    "    max_distance=10,\n",
    "    energy_threshold=10,\n",
    "    max_events=5,\n",
    ")"
   ]
  },
  {
   "cell_type": "markdown",
   "id": "e5c27b92",
   "metadata": {},
   "source": [
    "## Results interpretation\n",
    "\n",
    "The network is doing a good job in reaching the reconstruction target.\n",
    "Recall is improved while the precision is kept.\n",
    "\n",
    "Network performance:\n",
    "```\n",
    "mean clue3d_to_sim:\tP: 0.96 R: 0.22 F: 0.25\n",
    "mean target_to_sim:\tP: 0.96 R: 0.46 F: 0.51\n",
    "mean reco_to_sim:\tP: 0.96 R: 0.45 F: 0.50\n",
    "```\n",
    "\n",
    "Yet, the dataset is too simple as connecting to all the tracksters in the small neighbourhood is feasible without a significant precision loss.\n",
    "\n",
    "Connecting all tracksters within a small neighborhood:\n",
    "```\n",
    "mean clue3d_to_sim:\tP: 0.96 R: 0.22 F: 0.25\n",
    "mean reco_to_sim:\tP: 0.95 R: 0.48 F: 0.53\n",
    "```"
   ]
  }
 ],
 "metadata": {
  "kernelspec": {
   "display_name": "Python 3 (ipykernel)",
   "language": "python",
   "name": "python3"
  },
  "language_info": {
   "codemirror_mode": {
    "name": "ipython",
    "version": 3
   },
   "file_extension": ".py",
   "mimetype": "text/x-python",
   "name": "python",
   "nbconvert_exporter": "python",
   "pygments_lexer": "ipython3",
   "version": "3.8.9"
  },
  "vscode": {
   "interpreter": {
    "hash": "75d0e37245d408f3d59eb152d126431f02f862b5012558b3df6d65a37ffc466c"
   }
  }
 },
 "nbformat": 4,
 "nbformat_minor": 5
}
