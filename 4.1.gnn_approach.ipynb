{
 "cells": [
  {
   "cell_type": "markdown",
   "id": "6c07744a",
   "metadata": {},
   "source": [
    "# GNN approach\n",
    "\n",
    "idea:\n",
    "- get links from ticlNtuplizer/graph? - figure out how these links are formed\n",
    "- again, focus on pairs\n",
    "- convert the tracksters into some latent space and predict a link between them\n",
    "- work on smaller neighbourhoods?\n",
    "- possibly use edgeconv or sageconf to add information from the neighbourhood\n",
    "\n",
    "\n"
   ]
  },
  {
   "cell_type": "code",
   "execution_count": 2,
   "id": "d07322fb",
   "metadata": {},
   "outputs": [
    {
     "name": "stdout",
     "output_type": "stream",
     "text": [
      "name                 | typename                 | interpretation                \n",
      "---------------------+--------------------------+-------------------------------\n",
      "linked_inners        | std::vector<std::vect... | AsObjects(AsVector(True, As...\n",
      "linked_outers        | std::vector<std::vect... | AsObjects(AsVector(True, As...\n",
      "isRootTrackster      | std::vector<bool>        | AsJagged(AsDtype('bool'), h...\n"
     ]
    }
   ],
   "source": [
    "import uproot\n",
    "import numpy as np\n",
    "\n",
    "file_name = \"~/data/multi/new_ntuples_14992862_991.root\"\n",
    "\n",
    "a = uproot.open({file_name: \"ticlNtuplizer/graph\"})\n",
    "a.show()"
   ]
  },
  {
   "cell_type": "code",
   "execution_count": null,
   "id": "7e0e7cd0",
   "metadata": {},
   "outputs": [],
   "source": []
  }
 ],
 "metadata": {
  "kernelspec": {
   "display_name": "Python 3.8.9 ('ve': venv)",
   "language": "python",
   "name": "python3"
  },
  "language_info": {
   "codemirror_mode": {
    "name": "ipython",
    "version": 3
   },
   "file_extension": ".py",
   "mimetype": "text/x-python",
   "name": "python",
   "nbconvert_exporter": "python",
   "pygments_lexer": "ipython3",
   "version": "3.8.9"
  },
  "vscode": {
   "interpreter": {
    "hash": "75d0e37245d408f3d59eb152d126431f02f862b5012558b3df6d65a37ffc466c"
   }
  }
 },
 "nbformat": 4,
 "nbformat_minor": 5
}
