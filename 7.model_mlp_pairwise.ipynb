{
 "cells": [
  {
   "cell_type": "markdown",
   "id": "6c07744a",
   "metadata": {},
   "source": [
    "# Pairwise MLP approach\n",
    "\n",
    "Get tracksters from a certain neighbourhood.\n",
    "\n",
    "Train a NN to decide whether two tracksters should be joined.\n",
    "\n",
    "Neighbourhood:\n",
    "- get links from ticlNtuplizer/graph\n",
    "- convert the tracksters into some latent space and predict a link between them\n",
    "\n",
    "Graph:\n",
    "- linked_inners\n",
    "    - nodes linked to the given tracksters within its cone\n"
   ]
  },
  {
   "cell_type": "markdown",
   "id": "e3247338",
   "metadata": {},
   "source": [
    "## MLP"
   ]
  },
  {
   "cell_type": "code",
   "execution_count": 1,
   "id": "81ffdcce",
   "metadata": {},
   "outputs": [],
   "source": [
    "import torch\n",
    "import torch.nn as nn\n",
    "from torch.optim.lr_scheduler import CosineAnnealingLR\n",
    "from reco.training import precision_recall_curve, roc_auc\n",
    "\n",
    "from torch.utils.data import random_split, DataLoader\n",
    "from reco.loss import QualityFocalLoss\n",
    "\n",
    "from reco.datasetPU import TracksterPairs\n",
    "\n",
    "\n",
    "ds_name = \"CloseByTwoPion\"\n",
    "\n",
    "data_root = \"data\"\n",
    "raw_dir = f\"/Users/ecuba/data/{ds_name}\"\n",
    "\n",
    "# data_root = \"/mnt/ceph/users/ecuba/processed\"\n",
    "# raw_dir = f\"/mnt/ceph/users/ecuba/{ds_name}\"\n",
    "\n",
    "# writer = SummaryWriter()"
   ]
  },
  {
   "cell_type": "code",
   "execution_count": 2,
   "id": "b2dc29a6",
   "metadata": {},
   "outputs": [
    {
     "name": "stdout",
     "output_type": "stream",
     "text": [
      "Using device: cpu\n"
     ]
    }
   ],
   "source": [
    "# CUDA Setup\n",
    "device = torch.device('cuda' if torch.cuda.is_available() else \"cpu\")\n",
    "print(f\"Using device: {device}\")"
   ]
  },
  {
   "cell_type": "code",
   "execution_count": 3,
   "id": "219c077d",
   "metadata": {},
   "outputs": [
    {
     "data": {
      "text/plain": [
       "torch.Size([63713, 63])"
      ]
     },
     "execution_count": 3,
     "metadata": {},
     "output_type": "execute_result"
    }
   ],
   "source": [
    "ds = TracksterPairs(\n",
    "    ds_name,\n",
    "    data_root,\n",
    "    raw_dir,\n",
    "    N_FILES=10,\n",
    "    radius=100,\n",
    "    bigT_e_th=40,\n",
    ")\n",
    "\n",
    "ds.x.shape"
   ]
  },
  {
   "cell_type": "code",
   "execution_count": 4,
   "id": "75c3ffff",
   "metadata": {},
   "outputs": [
    {
     "name": "stdout",
     "output_type": "stream",
     "text": [
      "torch.Size([63713, 63])\n",
      "Positive: 6149\n",
      "Negative: 17433\n"
     ]
    }
   ],
   "source": [
    "print(ds.x.shape)\n",
    "print(\"Positive:\", int((ds.y == 1).type(torch.int).sum()))\n",
    "print(\"Negative:\", int((ds.y == 0).type(torch.int).sum()))"
   ]
  },
  {
   "cell_type": "code",
   "execution_count": 5,
   "id": "84179ef3",
   "metadata": {},
   "outputs": [
    {
     "name": "stdout",
     "output_type": "stream",
     "text": [
      "dataset balance: 0.5634171962738037\n"
     ]
    }
   ],
   "source": [
    "balance =  float(sum(ds.y > 0.5) / len(ds.y))\n",
    "print(\"dataset balance:\", balance) "
   ]
  },
  {
   "cell_type": "code",
   "execution_count": 6,
   "id": "972263a2-610a-4ca9-8805-b2c6830aa83b",
   "metadata": {},
   "outputs": [
    {
     "name": "stdout",
     "output_type": "stream",
     "text": [
      "Train samples: 57342, Test samples: 6371\n"
     ]
    }
   ],
   "source": [
    "ds_size = len(ds)\n",
    "test_set_size = ds_size // 10\n",
    "train_set_size = ds_size - test_set_size\n",
    "train_set, test_set = random_split(ds, [train_set_size, test_set_size])\n",
    "print(f\"Train samples: {len(train_set)}, Test samples: {len(test_set)}\")\n",
    "\n",
    "train_dl = DataLoader(train_set, batch_size=64, shuffle=True)\n",
    "test_dl = DataLoader(test_set, batch_size=64, shuffle=True)"
   ]
  },
  {
   "cell_type": "code",
   "execution_count": 7,
   "id": "5d3700ac",
   "metadata": {},
   "outputs": [],
   "source": [
    "loss_obj = QualityFocalLoss(gamma=2)\n",
    "\n",
    "def train(model, opt, loader, loss_obj):\n",
    "    epoch_loss = 0\n",
    "    for batch, labels in loader:\n",
    "        # reset optimizer and enable training mode\n",
    "        opt.zero_grad()\n",
    "        model.train()\n",
    "\n",
    "        # move data to the device\n",
    "        batch = batch.to(device)\n",
    "        labels = labels.to(device)\n",
    "        \n",
    "        # get the prediction tensor\n",
    "        z = model(batch).reshape(-1)\n",
    "\n",
    "        # compute the loss\n",
    "        loss = loss_obj(z, labels)        \n",
    "        epoch_loss += loss\n",
    "\n",
    "        # back-propagate and update the weight\n",
    "        loss.backward()\n",
    "        opt.step()\n",
    "\n",
    "    return float(epoch_loss)\n",
    "\n",
    "@torch.no_grad()\n",
    "def test(model, data):\n",
    "    total = 0\n",
    "    correct = 0\n",
    "    for batch, labels in data:\n",
    "        model.eval()\n",
    "        batch = batch.to(device)\n",
    "        labels = labels.to(device)\n",
    "        z = model(batch).reshape(-1)\n",
    "        prediction = (z > 0.5).type(torch.int)\n",
    "        total += len(prediction) \n",
    "        correct += sum(prediction == (labels > 0.5).type(torch.int))\n",
    "    return (correct / total)"
   ]
  },
  {
   "cell_type": "code",
   "execution_count": 8,
   "id": "c1bdabc9",
   "metadata": {},
   "outputs": [],
   "source": [
    "hdim1 = 256\n",
    "hdim2 = 128\n",
    "\n",
    "model = nn.Sequential(\n",
    "    nn.LayerNorm(ds.x.shape[1]),      # normalization as a part of the network\n",
    "    nn.Linear(ds.x.shape[1], hdim1),\n",
    "    nn.Sigmoid(),\n",
    "    nn.Linear(hdim1, hdim2),\n",
    "    nn.Sigmoid(),\n",
    "    nn.Linear(hdim2, 1),\n",
    "    nn.Dropout(p=0.2),\n",
    "    nn.Sigmoid()\n",
    ").to(device)\n",
    "\n",
    "epochs = 50\n",
    "model_path = f\"models/PairWiseMLP.QFL.{hdim1}.{hdim2}.{epochs}e-{ds_name}.{ds.RADIUS}.{ds.N_FILES}f.pt\""
   ]
  },
  {
   "cell_type": "code",
   "execution_count": 9,
   "id": "de2aae2c",
   "metadata": {},
   "outputs": [
    {
     "name": "stdout",
     "output_type": "stream",
     "text": [
      "skipping\n"
     ]
    }
   ],
   "source": [
    "%%script echo skipping\n",
    "optimizer = torch.optim.Adam(model.parameters(), lr=0.001)\n",
    "scheduler = CosineAnnealingLR(optimizer, epochs, eta_min=1e-3)\n",
    "loss_obj = QualityFocalLoss(gamma=2)\n",
    "\n",
    "for epoch in range(epochs):\n",
    "    loss = train(model, optimizer, train_dl, loss_obj)\n",
    "    train_auc = roc_auc(model, device, train_dl)\n",
    "    test_auc = roc_auc(model, device, test_dl)\n",
    "    scheduler.step()\n",
    "    if epoch % 5 == 0:\n",
    "        print(f'Epoch: {epoch}, loss: {loss:.4f}, train auc: {train_auc:.4f}, test auc: {test_auc:.4f}')"
   ]
  },
  {
   "cell_type": "code",
   "execution_count": 10,
   "id": "849a1318",
   "metadata": {},
   "outputs": [
    {
     "name": "stdout",
     "output_type": "stream",
     "text": [
      "skipping\n"
     ]
    }
   ],
   "source": [
    "%%script echo skipping\n",
    "precision_recall_curve(model, device, test_dl, focus_metric=\"fbeta\", beta=0.2, step=3)"
   ]
  },
  {
   "cell_type": "code",
   "execution_count": 11,
   "id": "63d01ce8",
   "metadata": {},
   "outputs": [
    {
     "name": "stdout",
     "output_type": "stream",
     "text": [
      "skipping\n"
     ]
    }
   ],
   "source": [
    "%%script echo skipping\n",
    "torch.save(model.state_dict(), model_path)"
   ]
  },
  {
   "cell_type": "markdown",
   "id": "951d1251",
   "metadata": {},
   "source": [
    "# Evaluation\n",
    "\n",
    "Give the model a list of candidate edges to evaluate.\n",
    "Reconstruct the event and evaluate against ground truth. "
   ]
  },
  {
   "cell_type": "code",
   "execution_count": 12,
   "id": "d877b173",
   "metadata": {},
   "outputs": [],
   "source": [
    "import uproot\n",
    "import numpy as np\n",
    "from reco.data import get_event_data\n",
    "from reco.evaluation import pairwise_model_evaluation\n",
    "\n",
    "from reco.dummy import DummyPleaser\n",
    "\n",
    "file_name = f\"{raw_dir}/new_ntuples_15101852_0.root\"\n",
    "cluster_data, trackster_data, simtrackster_data, assoc_data = get_event_data(file_name)"
   ]
  },
  {
   "cell_type": "code",
   "execution_count": 13,
   "id": "1a09ff53",
   "metadata": {},
   "outputs": [],
   "source": [
    "#%%script echo skipping\n",
    "model.load_state_dict(torch.load(\n",
    "    model_path,\n",
    "    map_location=device\n",
    "))\n",
    "model = model.to(device)"
   ]
  },
  {
   "cell_type": "code",
   "execution_count": 14,
   "id": "5212be61",
   "metadata": {},
   "outputs": [
    {
     "name": "stdout",
     "output_type": "stream",
     "text": [
      "[[0, 1, 2, 3, 4, 5, 6, 7, 8, 9, 10, 11, 12, 13, 14, 15, 16, 17, 18, 19, 20, 21, 22, 23, 24, 25, 26, 27, 28, 29, 30, 31, 32, 33, 34, 35, 36, 37, 38, 39, 40]]\n",
      "[[2, 3, 5, 6, 7, 8, 10, 11, 13, 14, 15, 16, 20, 21, 22, 23, 25, 26, 29, 31, 32, 33, 34, 35, 36, 37, 38, 39, 40], [17, 1, 4, 9, 12, 18, 19, 24, 27, 28, 30, 0]]\n",
      "Event 0:\n",
      "\tclue3d_to_sim:\tP: 0.969 R: 0.134 F: 0.781\n",
      "\ttarget_to_sim:\tP: 0.969 R: 0.622 F: 0.948\n",
      "\treco_to_sim:\tP: 0.584 R: 0.663 F: 0.587\n",
      "[[0, 1, 2, 3, 4, 5, 6, 7, 8, 9, 10, 11, 12, 13, 14]]\n",
      "[[0, 1, 2, 3, 4, 6, 7, 9, 10, 13], [5, 8, 11, 12, 14]]\n",
      "Event 1:\n",
      "\tclue3d_to_sim:\tP: 1.000 R: 0.142 F: 0.812\n",
      "\ttarget_to_sim:\tP: 1.000 R: 0.476 F: 0.959\n",
      "\treco_to_sim:\tP: 0.662 R: 0.476 F: 0.652\n",
      "[[0, 1, 2, 3, 4, 5, 6, 7, 8, 9, 10, 11, 12, 13, 14, 15, 16, 17, 18, 19, 20, 21, 22, 23, 24, 25, 26, 27, 28, 29, 30, 31, 32, 33, 34, 35, 36, 37, 38, 39, 40, 41, 42]]\n",
      "[[0, 1, 2, 13, 14, 16, 21, 22, 24, 25, 27, 29, 30, 32, 34, 35, 36, 37, 39, 41, 42], [3, 4, 5, 6, 7, 8, 9, 10, 11, 12, 15, 17, 18, 19, 20, 23, 26, 28, 31, 33, 38, 40]]\n",
      "Event 2:\n",
      "\tclue3d_to_sim:\tP: 0.996 R: 0.108 F: 0.757\n",
      "\ttarget_to_sim:\tP: 0.998 R: 0.665 F: 0.979\n",
      "\treco_to_sim:\tP: 0.517 R: 0.674 F: 0.521\n",
      "[[0, 1, 2, 3, 4, 5, 6, 7, 8, 9, 10, 11, 12, 13, 14, 15, 16, 17, 18, 19, 20, 21, 22, 23, 24, 25, 26, 27, 28, 29, 30, 31, 32, 33, 34, 35]]\n",
      "[[0, 1, 2, 3, 4, 5, 6, 7, 8, 9, 10, 11, 13, 14, 15, 21, 23, 25], [18, 16, 19, 17, 20, 22, 24, 26, 27, 28, 29, 30, 31, 32, 33, 34, 35, 12]]\n",
      "Event 3:\n",
      "\tclue3d_to_sim:\tP: 0.979 R: 0.117 F: 0.763\n",
      "\ttarget_to_sim:\tP: 0.980 R: 0.760 F: 0.969\n",
      "\treco_to_sim:\tP: 0.539 R: 0.801 F: 0.546\n",
      "[[0, 1, 2, 3, 4, 5, 6, 7, 8, 9, 10, 11, 12, 13, 14, 15, 16, 17, 18, 19, 20, 21, 22, 23, 24, 25, 26, 27, 28, 29, 30, 31, 32, 33, 34, 35, 36, 37, 38, 39, 40, 41, 42, 43, 44, 45, 46, 47, 48, 49, 50, 51, 52, 53, 54, 55]]\n",
      "[[0, 1, 2, 3, 4, 6, 9, 10, 13, 14, 15, 17, 18, 19, 20, 23, 24, 25, 29, 30, 35, 37, 38, 44, 45, 47, 48, 49, 50, 51], [5, 7, 8, 11, 12, 16, 21, 22, 26, 27, 28, 31, 32, 33, 34, 36, 39, 40, 41, 42, 43, 46, 52, 53, 54, 55]]\n",
      "Event 4:\n",
      "\tclue3d_to_sim:\tP: 0.989 R: 0.112 F: 0.760\n",
      "\ttarget_to_sim:\tP: 0.985 R: 0.756 F: 0.974\n",
      "\treco_to_sim:\tP: 0.483 R: 0.775 F: 0.490\n",
      "[[0, 1, 2, 3, 4, 5, 6, 7, 8, 9, 10, 11, 12, 13, 14, 15, 16, 17, 18, 19, 20, 21, 22, 23, 24, 25]]\n",
      "[[0, 1, 4, 7, 11, 14, 15, 19, 24], [2, 3, 5, 6, 8, 9, 10, 12, 13, 16, 17, 18, 20, 21, 22, 23, 25]]\n",
      "Event 5:\n",
      "\tclue3d_to_sim:\tP: 0.982 R: 0.257 F: 0.886\n",
      "\ttarget_to_sim:\tP: 0.982 R: 0.767 F: 0.972\n",
      "\treco_to_sim:\tP: 0.554 R: 0.782 F: 0.561\n",
      "[[0, 1, 2, 3, 4, 5, 6, 7, 8, 9, 10, 11, 12, 13, 14, 15, 16, 17, 18, 19, 20, 21, 22, 23, 24, 25, 26, 27, 28, 29, 30]]\n",
      "[[0, 1, 2, 3, 4, 5, 6, 7, 8, 9, 10, 11, 12, 13, 14, 15, 16, 17, 18, 19, 20, 21, 22, 23, 24, 25], [30, 27, 28, 29, 26]]\n",
      "Event 6:\n",
      "\tclue3d_to_sim:\tP: 0.977 R: 0.090 F: 0.709\n",
      "\ttarget_to_sim:\tP: 0.977 R: 0.734 F: 0.965\n",
      "\treco_to_sim:\tP: 0.865 R: 0.789 F: 0.862\n",
      "[[0, 1, 2, 3, 4, 5, 6, 7, 8, 9]]\n",
      "[[0, 1, 5, 7], [9, 4, 3, 6, 8, 2]]\n",
      "Event 7:\n",
      "\tclue3d_to_sim:\tP: 0.908 R: 0.077 F: 0.642\n",
      "\ttarget_to_sim:\tP: 0.931 R: 0.243 F: 0.840\n",
      "\treco_to_sim:\tP: 0.879 R: 0.395 F: 0.839\n",
      "[[0, 1, 2, 3, 4, 5, 6, 7, 8, 9, 10, 11, 12, 13, 14, 15, 16, 17, 18, 19, 20, 21, 22, 23, 24, 25, 26]]\n",
      "[[5, 4, 3, 6, 7, 8, 9, 13, 14, 16, 17, 19, 20, 22, 23, 24, 26, 1], [10, 2, 11, 12, 15, 18, 21, 25, 0]]\n",
      "Event 8:\n",
      "\tclue3d_to_sim:\tP: 0.985 R: 0.113 F: 0.760\n",
      "\ttarget_to_sim:\tP: 0.985 R: 0.672 F: 0.968\n",
      "\treco_to_sim:\tP: 0.581 R: 0.705 F: 0.585\n",
      "[[0, 1, 2, 3, 4, 5, 6, 7, 8, 9, 10, 11, 12, 13, 14, 15, 16, 17, 18, 19, 20, 21, 22, 23, 24, 25, 26]]\n",
      "[[2, 1, 3, 4, 5, 6, 7, 8, 9, 10, 11, 12, 13, 14, 15, 16, 18, 19, 20, 23, 0], [26, 25, 21, 22, 24, 17]]\n",
      "Event 9:\n",
      "\tclue3d_to_sim:\tP: 0.982 R: 0.052 F: 0.584\n",
      "\ttarget_to_sim:\tP: 0.984 R: 0.422 F: 0.936\n",
      "\treco_to_sim:\tP: 0.639 R: 0.469 F: 0.630\n",
      "-----\n",
      "mean clue3d_to_sim:\tP: 0.977 R: 0.120 F: 0.745\n",
      "mean target_to_sim:\tP: 0.979 R: 0.612 F: 0.951\n",
      "mean reco_to_sim:\tP: 0.630 R: 0.653 F: 0.627\n"
     ]
    }
   ],
   "source": [
    "result = pairwise_model_evaluation(\n",
    "    cluster_data,\n",
    "    trackster_data,\n",
    "    simtrackster_data,\n",
    "    assoc_data,\n",
    "    DummyPleaser(),\n",
    "    decision_th=0.5,\n",
    "    radius=200,\n",
    "    max_events=10,\n",
    "    reco_to_target=False,\n",
    "    bigT_e_th=0,\n",
    ")"
   ]
  },
  {
   "cell_type": "code",
   "execution_count": null,
   "id": "a91584f3",
   "metadata": {},
   "outputs": [],
   "source": []
  }
 ],
 "metadata": {
  "kernelspec": {
   "display_name": "ve",
   "language": "python",
   "name": "python3"
  },
  "language_info": {
   "codemirror_mode": {
    "name": "ipython",
    "version": 3
   },
   "file_extension": ".py",
   "mimetype": "text/x-python",
   "name": "python",
   "nbconvert_exporter": "python",
   "pygments_lexer": "ipython3",
   "version": "3.9.6"
  },
  "vscode": {
   "interpreter": {
    "hash": "37c238d9819f69c2c770157eac01081978c120e64661e10d7fd52c4caf977dc9"
   }
  }
 },
 "nbformat": 4,
 "nbformat_minor": 5
}
