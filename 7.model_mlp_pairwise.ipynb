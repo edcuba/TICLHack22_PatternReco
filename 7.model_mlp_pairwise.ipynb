{
 "cells": [
  {
   "cell_type": "markdown",
   "id": "6c07744a",
   "metadata": {},
   "source": [
    "# Pairwise MLP approach\n",
    "\n",
    "Get tracksters from a certain neighbourhood.\n",
    "\n",
    "Train a NN to decide whether two tracksters should be joined.\n",
    "\n",
    "Neighbourhood:\n",
    "- get links from ticlNtuplizer/graph\n",
    "- convert the tracksters into some latent space and predict a link between them\n",
    "\n",
    "Graph:\n",
    "- linked_inners\n",
    "    - nodes linked to the given tracksters within its cone\n"
   ]
  },
  {
   "cell_type": "markdown",
   "id": "e3247338",
   "metadata": {},
   "source": [
    "## MLP"
   ]
  },
  {
   "cell_type": "code",
   "execution_count": 17,
   "id": "81ffdcce",
   "metadata": {},
   "outputs": [],
   "source": [
    "import torch\n",
    "import numpy as np\n",
    "import matplotlib.pyplot as plt\n",
    "import torch.nn as nn\n",
    "from torch.optim.lr_scheduler import CosineAnnealingLR\n",
    "from reco.training import precision_recall_curve, roc_auc\n",
    "\n",
    "from torch.utils.data import random_split, DataLoader\n",
    "from sklearn.preprocessing import StandardScaler\n",
    "from sklearn.metrics import confusion_matrix, accuracy_score, precision_score, recall_score, roc_curve, auc, f1_score, fbeta_score\n",
    "from reco.loss import FocalLoss\n",
    "\n",
    "# from torch.utils.tensorboard import SummaryWriter\n",
    "\n",
    "from reco.datasetPU import TracksterPairs\n",
    "\n",
    "\n",
    "ds_name = \"MultiParticle\"\n",
    "\n",
    "data_root = \"data\"\n",
    "raw_dir = f\"/Users/ecuba/data/{ds_name}\"\n",
    "\n",
    "# data_root = \"/mnt/ceph/users/ecuba/processed\"\n",
    "# raw_dir = f\"/mnt/ceph/users/ecuba/{ds_name}\"\n",
    "\n",
    "# writer = SummaryWriter()"
   ]
  },
  {
   "cell_type": "code",
   "execution_count": 18,
   "id": "b2dc29a6",
   "metadata": {},
   "outputs": [
    {
     "name": "stdout",
     "output_type": "stream",
     "text": [
      "Using device: cpu\n"
     ]
    }
   ],
   "source": [
    "# CUDA Setup\n",
    "device = torch.device('cuda' if torch.cuda.is_available() else \"cpu\")\n",
    "print(f\"Using device: {device}\")"
   ]
  },
  {
   "cell_type": "code",
   "execution_count": 26,
   "id": "219c077d",
   "metadata": {},
   "outputs": [
    {
     "data": {
      "text/plain": [
       "torch.Size([512830, 63])"
      ]
     },
     "execution_count": 26,
     "metadata": {},
     "output_type": "execute_result"
    }
   ],
   "source": [
    "ds = TracksterPairs(\n",
    "    ds_name,\n",
    "    data_root,\n",
    "    raw_dir,\n",
    "    N_FILES=10,\n",
    "    radius=15,\n",
    "    bigT_e_th=30,\n",
    ")\n",
    "\n",
    "ds.x.shape"
   ]
  },
  {
   "cell_type": "code",
   "execution_count": 27,
   "id": "75c3ffff",
   "metadata": {},
   "outputs": [
    {
     "name": "stdout",
     "output_type": "stream",
     "text": [
      "torch.Size([512830, 63])\n",
      "Positive: 3083\n",
      "Negative: 95835\n"
     ]
    }
   ],
   "source": [
    "print(ds.x.shape)\n",
    "print(\"Positive:\", int((ds.y == 1).type(torch.int).sum()))\n",
    "print(\"Negative:\", int((ds.y == 0).type(torch.int).sum()))"
   ]
  },
  {
   "cell_type": "code",
   "execution_count": 28,
   "id": "84179ef3",
   "metadata": {},
   "outputs": [
    {
     "name": "stdout",
     "output_type": "stream",
     "text": [
      "dataset balance: 0.41842716932296753\n"
     ]
    }
   ],
   "source": [
    "balance =  float(sum(ds.y > 0.5) / len(ds.y))\n",
    "print(\"dataset balance:\", balance) "
   ]
  },
  {
   "cell_type": "code",
   "execution_count": 29,
   "id": "972263a2-610a-4ca9-8805-b2c6830aa83b",
   "metadata": {},
   "outputs": [
    {
     "name": "stdout",
     "output_type": "stream",
     "text": [
      "Train samples: 461547, Test samples: 51283\n"
     ]
    }
   ],
   "source": [
    "ds_size = len(ds)\n",
    "test_set_size = ds_size // 10\n",
    "train_set_size = ds_size - test_set_size\n",
    "train_set, test_set = random_split(ds, [train_set_size, test_set_size])\n",
    "print(f\"Train samples: {len(train_set)}, Test samples: {len(test_set)}\")\n",
    "\n",
    "train_dl = DataLoader(train_set, batch_size=64, shuffle=True)\n",
    "test_dl = DataLoader(test_set, batch_size=64, shuffle=True)"
   ]
  },
  {
   "cell_type": "code",
   "execution_count": 30,
   "id": "5d3700ac",
   "metadata": {},
   "outputs": [],
   "source": [
    "loss_obj = FocalLoss(alpha=0.25, gamma=2)\n",
    "\n",
    "def train(model, opt, loader, loss_obj):\n",
    "    epoch_loss = 0\n",
    "    for batch, labels in loader:\n",
    "        # reset optimizer and enable training mode\n",
    "        opt.zero_grad()\n",
    "        model.train()\n",
    "\n",
    "        # move data to the device\n",
    "        batch = batch.to(device)\n",
    "        labels = labels.to(device)\n",
    "        \n",
    "        # get the prediction tensor\n",
    "        z = model(batch).reshape(-1)\n",
    "\n",
    "        # compute the loss\n",
    "        loss = loss_obj(z, labels)        \n",
    "        epoch_loss += loss\n",
    "\n",
    "        # back-propagate and update the weight\n",
    "        loss.backward()\n",
    "        opt.step()\n",
    "\n",
    "    return float(epoch_loss)\n",
    "\n",
    "@torch.no_grad()\n",
    "def test(model, data):\n",
    "    total = 0\n",
    "    correct = 0\n",
    "    for batch, labels in data:\n",
    "        model.eval()\n",
    "        batch = batch.to(device)\n",
    "        labels = labels.to(device)\n",
    "        z = model(batch).reshape(-1)\n",
    "        prediction = (z > 0.5).type(torch.int)\n",
    "        total += len(prediction) \n",
    "        correct += sum(prediction == (labels > 0.5).type(torch.int))\n",
    "    return (correct / total)"
   ]
  },
  {
   "cell_type": "code",
   "execution_count": 31,
   "id": "c1bdabc9",
   "metadata": {},
   "outputs": [],
   "source": [
    "hdim1 = 256\n",
    "hdim2 = 128\n",
    "\n",
    "model = nn.Sequential(\n",
    "    nn.BatchNorm1d(ds.x.shape[1], affine=True),      # normalization as a part of the network\n",
    "    nn.Linear(ds.x.shape[1], hdim1),\n",
    "    nn.Sigmoid(),\n",
    "    nn.Linear(hdim1, hdim2),\n",
    "    nn.Sigmoid(),\n",
    "    nn.Linear(hdim2, 1),\n",
    "    nn.Dropout(p=0.2),\n",
    "    nn.Sigmoid()\n",
    ").to(device)\n",
    "\n",
    "epochs = 50\n",
    "model_path = f\"models/PairWiseMLP.{hdim1}.{hdim2}.{epochs}e-{ds_name}.{ds.RADIUS}.{ds.N_FILES}f.pt\""
   ]
  },
  {
   "cell_type": "code",
   "execution_count": 32,
   "id": "de2aae2c",
   "metadata": {},
   "outputs": [
    {
     "name": "stdout",
     "output_type": "stream",
     "text": [
      "Epoch: 0, loss: 340.0299, train auc: 0.8613, test auc: 0.8619\n",
      "Epoch: 5, loss: 295.7821, train auc: 0.8763, test auc: 0.8760\n",
      "Epoch: 10, loss: 291.2041, train auc: 0.8777, test auc: 0.8761\n",
      "Epoch: 15, loss: 289.5208, train auc: 0.8844, test auc: 0.8813\n"
     ]
    }
   ],
   "source": [
    "optimizer = torch.optim.Adam(model.parameters(), lr=0.001)\n",
    "scheduler = CosineAnnealingLR(optimizer, epochs, eta_min=1e-3)\n",
    "loss_obj = FocalLoss(alpha=1-balance, gamma=2)\n",
    "\n",
    "for epoch in range(epochs):\n",
    "    loss = train(model, optimizer, train_dl, loss_obj)\n",
    "    train_auc = roc_auc(model, device, train_dl)\n",
    "    test_auc = roc_auc(model, device, test_dl)\n",
    "    scheduler.step()\n",
    "    if epoch % 5 == 0:\n",
    "        print(f'Epoch: {epoch}, loss: {loss:.4f}, train auc: {train_auc:.4f}, test auc: {test_auc:.4f}')"
   ]
  },
  {
   "cell_type": "code",
   "execution_count": null,
   "id": "849a1318",
   "metadata": {},
   "outputs": [
    {
     "data": {
      "image/png": "[encoded data removed]",
      "text/plain": [
       "<Figure size 640x480 with 1 Axes>"
      ]
     },
     "metadata": {},
     "output_type": "display_data"
    },
    {
     "name": "stdout",
     "output_type": "stream",
     "text": [
      "TP: 10189, TN: 10320, FP: 2823, FN: 4000\n",
      "TH: 0.64 precision: 0.783 recall: 0.718 fbeta: 0.769 b_acc: 0.752\n"
     ]
    }
   ],
   "source": [
    "precision_recall_curve(model, device, test_dl, focus_metric=\"fbeta\", beta=0.5, step=3)"
   ]
  },
  {
   "cell_type": "code",
   "execution_count": null,
   "id": "63d01ce8",
   "metadata": {},
   "outputs": [],
   "source": [
    "torch.save(model.state_dict(), model_path)"
   ]
  },
  {
   "cell_type": "markdown",
   "id": "951d1251",
   "metadata": {},
   "source": [
    "# Evaluation\n",
    "\n",
    "Give the model a list of candidate edges to evaluate.\n",
    "Reconstruct the event and evaluate against ground truth. "
   ]
  },
  {
   "cell_type": "code",
   "execution_count": 9,
   "id": "d877b173",
   "metadata": {},
   "outputs": [],
   "source": [
    "import uproot\n",
    "import numpy as np\n",
    "from reco.data import get_event_data\n",
    "from reco.evaluation import pairwise_model_evaluation\n",
    "\n",
    "file_name = f\"{raw_dir}/new_ntuples_15163313_1.root\"\n",
    "cluster_data, trackster_data, simtrackster_data, assoc_data = get_event_data(file_name)"
   ]
  },
  {
   "cell_type": "code",
   "execution_count": 10,
   "id": "1a09ff53",
   "metadata": {},
   "outputs": [],
   "source": [
    "#%%script echo skipping\n",
    "model.load_state_dict(torch.load(\n",
    "    model_path,\n",
    "    map_location=device\n",
    "))\n",
    "model = model.to(device)"
   ]
  },
  {
   "cell_type": "code",
   "execution_count": 11,
   "id": "5212be61",
   "metadata": {},
   "outputs": [
    {
     "name": "stdout",
     "output_type": "stream",
     "text": [
      "Event 0:\n",
      "\tclue3d_to_sim:\tP: 0.851 R: 0.066 F: 0.585\n",
      "\ttarget_to_sim:\tP: 0.862 R: 0.116 F: 0.691\n",
      "\treco_to_sim:\tP: 0.846 R: 0.110 F: 0.673\n",
      "Event 1:\n",
      "\tclue3d_to_sim:\tP: 0.784 R: 0.067 F: 0.555\n",
      "\ttarget_to_sim:\tP: 0.834 R: 0.246 F: 0.764\n",
      "\treco_to_sim:\tP: 0.830 R: 0.243 F: 0.760\n",
      "Event 2:\n",
      "\tclue3d_to_sim:\tP: 0.928 R: 0.142 F: 0.765\n",
      "\ttarget_to_sim:\tP: 0.928 R: 0.257 F: 0.844\n",
      "\treco_to_sim:\tP: 0.923 R: 0.256 F: 0.839\n",
      "Event 3:\n",
      "\tclue3d_to_sim:\tP: 0.824 R: 0.100 F: 0.645\n",
      "\ttarget_to_sim:\tP: 0.844 R: 0.315 F: 0.793\n",
      "\treco_to_sim:\tP: 0.856 R: 0.329 F: 0.806\n",
      "Event 4:\n",
      "\tclue3d_to_sim:\tP: 0.765 R: 0.059 F: 0.524\n",
      "\ttarget_to_sim:\tP: 0.799 R: 0.216 F: 0.724\n",
      "\treco_to_sim:\tP: 0.777 R: 0.180 F: 0.689\n",
      "Event 5:\n",
      "\tclue3d_to_sim:\tP: 0.880 R: 0.095 F: 0.667\n",
      "\ttarget_to_sim:\tP: 0.883 R: 0.195 F: 0.777\n",
      "\treco_to_sim:\tP: 0.880 R: 0.192 F: 0.773\n",
      "Event 6:\n",
      "\tclue3d_to_sim:\tP: 0.836 R: 0.140 F: 0.702\n",
      "\ttarget_to_sim:\tP: 0.856 R: 0.355 F: 0.812\n",
      "\treco_to_sim:\tP: 0.857 R: 0.357 F: 0.813\n",
      "Event 7:\n",
      "\tclue3d_to_sim:\tP: 0.883 R: 0.132 F: 0.724\n",
      "\ttarget_to_sim:\tP: 0.888 R: 0.250 F: 0.808\n",
      "\treco_to_sim:\tP: 0.884 R: 0.252 F: 0.806\n",
      "Event 8:\n",
      "\tclue3d_to_sim:\tP: 0.808 R: 0.086 F: 0.610\n",
      "\ttarget_to_sim:\tP: 0.867 R: 0.277 F: 0.801\n",
      "\treco_to_sim:\tP: 0.886 R: 0.310 F: 0.827\n",
      "Event 9:\n",
      "\tclue3d_to_sim:\tP: 0.868 R: 0.143 F: 0.726\n",
      "\ttarget_to_sim:\tP: 0.893 R: 0.296 F: 0.829\n",
      "\treco_to_sim:\tP: 0.889 R: 0.308 F: 0.829\n",
      "-----\n",
      "mean clue3d_to_sim:\tP: 0.843 R: 0.103 F: 0.650\n",
      "mean target_to_sim:\tP: 0.865 R: 0.253 F: 0.784\n",
      "mean reco_to_sim:\tP: 0.863 R: 0.254 F: 0.782\n"
     ]
    }
   ],
   "source": [
    "result = pairwise_model_evaluation(\n",
    "    cluster_data,\n",
    "    trackster_data,\n",
    "    simtrackster_data,\n",
    "    assoc_data,\n",
    "    model,\n",
    "    decision_th=0.5,\n",
    "    radius=10,\n",
    "    max_events=10,\n",
    "    reco_to_target=False,\n",
    "    bigT_e_th=30,\n",
    ")"
   ]
  },
  {
   "cell_type": "code",
   "execution_count": null,
   "id": "a91584f3",
   "metadata": {},
   "outputs": [],
   "source": []
  }
 ],
 "metadata": {
  "kernelspec": {
   "display_name": "ve",
   "language": "python",
   "name": "python3"
  },
  "language_info": {
   "codemirror_mode": {
    "name": "ipython",
    "version": 3
   },
   "file_extension": ".py",
   "mimetype": "text/x-python",
   "name": "python",
   "nbconvert_exporter": "python",
   "pygments_lexer": "ipython3",
   "version": "3.9.6"
  },
  "vscode": {
   "interpreter": {
    "hash": "37c238d9819f69c2c770157eac01081978c120e64661e10d7fd52c4caf977dc9"
   }
  }
 },
 "nbformat": 4,
 "nbformat_minor": 5
}
