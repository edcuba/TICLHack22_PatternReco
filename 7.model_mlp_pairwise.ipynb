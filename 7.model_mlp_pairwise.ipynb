{
 "cells": [
  {
   "cell_type": "markdown",
   "id": "6c07744a",
   "metadata": {},
   "source": [
    "# Pairwise MLP approach\n",
    "\n",
    "Get tracksters from a certain neighbourhood.\n",
    "\n",
    "Train a NN to decide whether two tracksters should be joined.\n",
    "\n",
    "Neighbourhood:\n",
    "- get links from ticlNtuplizer/graph\n",
    "- convert the tracksters into some latent space and predict a link between them\n",
    "\n",
    "Graph:\n",
    "- linked_inners\n",
    "    - nodes linked to the given tracksters within its cone\n"
   ]
  },
  {
   "cell_type": "markdown",
   "id": "e3247338",
   "metadata": {},
   "source": [
    "## MLP"
   ]
  },
  {
   "cell_type": "code",
   "execution_count": 7,
   "id": "81ffdcce",
   "metadata": {},
   "outputs": [],
   "source": [
    "import torch\n",
    "import numpy as np\n",
    "import matplotlib.pyplot as plt\n",
    "import torch.nn as nn\n",
    "from torch.optim.lr_scheduler import StepLR\n",
    "from torch.utils.data import random_split, DataLoader\n",
    "from sklearn.preprocessing import StandardScaler\n",
    "from sklearn.metrics import confusion_matrix, accuracy_score, precision_score, recall_score, roc_curve, auc, f1_score, fbeta_score\n",
    "from reco.loss import FocalLoss\n",
    "\n",
    "# from torch.utils.tensorboard import SummaryWriter\n",
    "\n",
    "from reco.datasetPU import TracksterPairs\n",
    "\n",
    "\n",
    "ds_name = \"CloseByTwoPion\"\n",
    "\n",
    "data_root = \"data\"\n",
    "raw_dir = f\"/Users/ecuba/data/{ds_name}\"\n",
    "\n",
    "# data_root = \"/mnt/ceph/users/ecuba/processed\"\n",
    "# raw_dir = f\"/mnt/ceph/users/ecuba/{ds_name}\"\n",
    "\n",
    "# writer = SummaryWriter()"
   ]
  },
  {
   "cell_type": "code",
   "execution_count": 8,
   "id": "b2dc29a6",
   "metadata": {},
   "outputs": [
    {
     "name": "stdout",
     "output_type": "stream",
     "text": [
      "Using device: cpu\n"
     ]
    }
   ],
   "source": [
    "# CUDA Setup\n",
    "device = torch.device('cuda' if torch.cuda.is_available() else \"cpu\")\n",
    "print(f\"Using device: {device}\")"
   ]
  },
  {
   "cell_type": "code",
   "execution_count": 9,
   "id": "219c077d",
   "metadata": {},
   "outputs": [
    {
     "name": "stdout",
     "output_type": "stream",
     "text": [
      "Processing: /Users/ecuba/data/CloseByTwoPion/new_ntuples_15101852_157.root\n",
      "Processing: /Users/ecuba/data/CloseByTwoPion/new_ntuples_15101852_229.root\n",
      "Processing: /Users/ecuba/data/CloseByTwoPion/new_ntuples_15101852_100.root\n",
      "Processing: /Users/ecuba/data/CloseByTwoPion/new_ntuples_15101852_11.root\n",
      "Processing: /Users/ecuba/data/CloseByTwoPion/new_ntuples_15101852_116.root\n",
      "Processing: /Users/ecuba/data/CloseByTwoPion/new_ntuples_15101852_141.root\n",
      "Processing: /Users/ecuba/data/CloseByTwoPion/new_ntuples_15101852_213.root\n",
      "Processing: /Users/ecuba/data/CloseByTwoPion/new_ntuples_15101852_244.root\n",
      "Processing: /Users/ecuba/data/CloseByTwoPion/new_ntuples_15101852_182.root\n",
      "Processing: /Users/ecuba/data/CloseByTwoPion/new_ntuples_15101852_194.root\n",
      "Processing: /Users/ecuba/data/CloseByTwoPion/new_ntuples_15101852_205.root\n",
      "Processing: /Users/ecuba/data/CloseByTwoPion/new_ntuples_15101852_225.root\n",
      "Processing: /Users/ecuba/data/CloseByTwoPion/new_ntuples_15101852_136.root\n",
      "Processing: /Users/ecuba/data/CloseByTwoPion/new_ntuples_15101852_161.root\n",
      "Processing: /Users/ecuba/data/CloseByTwoPion/new_ntuples_15101852_248.root\n",
      "Processing: /Users/ecuba/data/CloseByTwoPion/new_ntuples_15101852_198.root\n",
      "Processing: /Users/ecuba/data/CloseByTwoPion/new_ntuples_15101852_177.root\n",
      "Processing: /Users/ecuba/data/CloseByTwoPion/new_ntuples_15101852_120.root\n",
      "Processing: /Users/ecuba/data/CloseByTwoPion/new_ntuples_15101852_209.root\n",
      "Processing: /Users/ecuba/data/CloseByTwoPion/new_ntuples_15101852_208.root\n"
     ]
    },
    {
     "data": {
      "text/plain": [
       "torch.Size([46363, 43])"
      ]
     },
     "execution_count": 9,
     "metadata": {},
     "output_type": "execute_result"
    }
   ],
   "source": [
    "ds = TracksterPairs(\n",
    "    ds_name,\n",
    "    data_root,\n",
    "    raw_dir,\n",
    "    N_FILES=20,\n",
    "    MAX_DISTANCE=10,\n",
    "    ENERGY_THRESHOLD=10\n",
    ")\n",
    "\n",
    "ds.x.shape"
   ]
  },
  {
   "cell_type": "code",
   "execution_count": 10,
   "id": "496f699c",
   "metadata": {},
   "outputs": [],
   "source": [
    "scaler = StandardScaler()\n",
    "scaler.fit(ds.x)\n",
    "ds.x = torch.tensor(scaler.transform(ds.x)).type(torch.float)"
   ]
  },
  {
   "cell_type": "code",
   "execution_count": 11,
   "id": "75c3ffff",
   "metadata": {},
   "outputs": [
    {
     "name": "stdout",
     "output_type": "stream",
     "text": [
      "torch.Size([46363, 43])\n",
      "Positive: 39562\n",
      "Neutral: 0\n",
      "Negative: 6801\n"
     ]
    }
   ],
   "source": [
    "print(ds.x.shape)\n",
    "print(\"Positive:\", int((ds.y == 1).type(torch.int).sum()))\n",
    "print(\"Neutral:\", int((ds.y == 0.5).type(torch.int).sum()))\n",
    "print(\"Negative:\", int((ds.y == 0).type(torch.int).sum()))"
   ]
  },
  {
   "cell_type": "code",
   "execution_count": 12,
   "id": "84179ef3",
   "metadata": {},
   "outputs": [
    {
     "name": "stdout",
     "output_type": "stream",
     "text": [
      "dataset balance: 0.8533097505569458\n"
     ]
    }
   ],
   "source": [
    "balance =  float(sum(ds.y) / len(ds.y))\n",
    "print(\"dataset balance:\", balance) "
   ]
  },
  {
   "cell_type": "code",
   "execution_count": 13,
   "id": "972263a2-610a-4ca9-8805-b2c6830aa83b",
   "metadata": {},
   "outputs": [
    {
     "name": "stdout",
     "output_type": "stream",
     "text": [
      "Train samples: 41727, Test samples: 4636\n"
     ]
    }
   ],
   "source": [
    "ds_size = len(ds)\n",
    "test_set_size = ds_size // 10\n",
    "train_set_size = ds_size - test_set_size\n",
    "train_set, test_set = random_split(ds, [train_set_size, test_set_size])\n",
    "print(f\"Train samples: {len(train_set)}, Test samples: {len(test_set)}\")\n",
    "\n",
    "train_dl = DataLoader(train_set, batch_size=64, shuffle=True)\n",
    "test_dl = DataLoader(test_set, batch_size=64, shuffle=True)"
   ]
  },
  {
   "cell_type": "code",
   "execution_count": 14,
   "id": "5d3700ac",
   "metadata": {},
   "outputs": [],
   "source": [
    "loss_obj = FocalLoss(alpha=1-balance, gamma=2)\n",
    "\n",
    "def train(model, opt, loader):\n",
    "    epoch_loss = 0\n",
    "    for batch, labels in loader:\n",
    "        # reset optimizer and enable training mode\n",
    "        opt.zero_grad()\n",
    "        model.train()\n",
    "\n",
    "        # move data to the device\n",
    "        batch = batch.to(device)\n",
    "        labels = labels.to(device)\n",
    "        \n",
    "        # get the prediction tensor\n",
    "        z = model(batch).reshape(-1)\n",
    "\n",
    "        # compute the loss\n",
    "        loss = loss_obj(z, labels)        \n",
    "        epoch_loss += loss\n",
    "\n",
    "        # back-propagate and update the weight\n",
    "        loss.backward()\n",
    "        opt.step()\n",
    "\n",
    "    return float(epoch_loss)\n",
    "\n",
    "@torch.no_grad()\n",
    "def test(model, data):\n",
    "    total = 0\n",
    "    correct = 0\n",
    "    for batch, labels in data:\n",
    "        model.eval()\n",
    "        batch = batch.to(device)\n",
    "        labels = labels.to(device)\n",
    "        z = model(batch).reshape(-1)\n",
    "        prediction = (z > 0.5).type(torch.int)\n",
    "        total += len(prediction) \n",
    "        correct += sum(prediction == labels.type(torch.int))\n",
    "    return (correct / total)"
   ]
  },
  {
   "cell_type": "code",
   "execution_count": 20,
   "id": "c1bdabc9",
   "metadata": {},
   "outputs": [
    {
     "name": "stdout",
     "output_type": "stream",
     "text": [
      "Epoch: 0, loss: 47.4598, train acc: 0.8537, test acc: 0.8503\n",
      "Epoch: 5, loss: 45.3352, train acc: 0.8563, test acc: 0.8538\n",
      "Epoch: 10, loss: 44.3974, train acc: 0.8622, test acc: 0.8548\n",
      "Epoch: 15, loss: 42.7053, train acc: 0.8660, test acc: 0.8544\n",
      "Epoch: 20, loss: 40.4182, train acc: 0.8747, test acc: 0.8598\n",
      "Epoch: 25, loss: 37.9392, train acc: 0.8801, test acc: 0.8518\n",
      "Epoch: 30, loss: 37.0787, train acc: 0.8871, test acc: 0.8540\n",
      "Epoch: 35, loss: 35.4163, train acc: 0.8936, test acc: 0.8490\n",
      "Epoch: 40, loss: 33.6288, train acc: 0.9016, test acc: 0.8512\n",
      "Epoch: 45, loss: 32.0736, train acc: 0.9064, test acc: 0.8469\n"
     ]
    }
   ],
   "source": [
    "model = nn.Sequential(\n",
    "    nn.Linear(ds.x.shape[1], 256),\n",
    "    nn.ReLU(),\n",
    "    nn.Linear(256, 128),\n",
    "    nn.ReLU(),\n",
    "    nn.Linear(128, 1),\n",
    "    nn.Dropout(p=0.2),\n",
    "    nn.Sigmoid()\n",
    ")\n",
    "model = model.to(device)\n",
    "optimizer = torch.optim.Adam(model.parameters(), lr=0.001)\n",
    "scheduler = StepLR(optimizer, step_size=20, gamma=0.5)\n",
    "\n",
    "epochs = 50\n",
    "\n",
    "for epoch in range(epochs):\n",
    "    loss = train(model, optimizer, train_dl)\n",
    "    train_acc = test(model, train_dl)\n",
    "    test_acc = test(model, test_dl)\n",
    "    scheduler.step()\n",
    "    \n",
    "    # writer.add_scalar(\"Loss/train\", loss, epoch)\n",
    "    # writer.add_scalar(\"Accuracy/train\", train_acc, epoch)\n",
    "    # writer.add_scalar(\"Accuracy/test\", test_acc, epoch)\n",
    "    \n",
    "    if epoch % 5 == 0:\n",
    "        print(f'Epoch: {epoch}, loss: {loss:.4f}, train acc: {train_acc:.4f}, test acc: {test_acc:.4f}')"
   ]
  },
  {
   "cell_type": "code",
   "execution_count": 21,
   "id": "06340e49",
   "metadata": {},
   "outputs": [
    {
     "data": {
      "image/png": "[encoded data removed]",
      "text/plain": [
       "<Figure size 432x288 with 1 Axes>"
      ]
     },
     "metadata": {
      "needs_background": "light"
     },
     "output_type": "display_data"
    }
   ],
   "source": [
    "pred = []\n",
    "lab = []\n",
    "for b, l in test_dl:\n",
    "    b = b.to(device)\n",
    "    l = l.to(device)\n",
    "    pred += model(b).tolist()\n",
    "    lab += l.tolist()\n",
    "\n",
    "fpr, tpr, _ = roc_curve(lab, pred)\n",
    "roc_auc = auc(fpr, tpr)\n",
    "\n",
    "plt.figure()\n",
    "plt.plot(fpr, tpr, color=\"darkorange\", label=\"ROC curve (area = %0.2f)\" % roc_auc)\n",
    "plt.plot([0, 1], [0, 1], color=\"navy\", linestyle=\"--\")\n",
    "plt.xlim([0.0, 1.0])\n",
    "plt.ylim([0.0, 1.05])\n",
    "plt.xlabel(\"False Positive Rate\")\n",
    "plt.ylabel(\"True Positive Rate\")\n",
    "plt.title(\"Receiver operating characteristic example\")\n",
    "plt.legend(loc=\"lower right\")\n",
    "plt.show()"
   ]
  },
  {
   "cell_type": "code",
   "execution_count": 22,
   "id": "849a1318",
   "metadata": {},
   "outputs": [
    {
     "data": {
      "image/png": "[encoded data removed]",
      "text/plain": [
       "<Figure size 432x288 with 1 Axes>"
      ]
     },
     "metadata": {
      "needs_background": "light"
     },
     "output_type": "display_data"
    }
   ],
   "source": [
    "th_values = [i / 100. for i in range(1, 100)]\n",
    "precision = []\n",
    "recall = []\n",
    "f1scores = []\n",
    "fbeta = []\n",
    "\n",
    "for th in th_values:\n",
    "    pred = []\n",
    "    lab = []\n",
    "    for b, l in test_dl:\n",
    "        b = b.to(device)\n",
    "        l = l.to(device)\n",
    "        pred += (model(b) > th).type(torch.int).tolist()\n",
    "        lab += l.tolist()\n",
    "    precision.append(precision_score(lab, pred))\n",
    "    recall.append(recall_score(lab, pred))\n",
    "    f1scores.append(f1_score(lab, pred))\n",
    "    fbeta.append(fbeta_score(lab, pred, beta=0.5))\n",
    "\n",
    "plt.figure()\n",
    "plt.plot(th_values, precision, label=\"precision\")\n",
    "plt.plot(th_values, recall, label=\"recall\")\n",
    "plt.plot(th_values, f1scores, label=\"f1\")\n",
    "plt.plot(th_values, fbeta, label=\"fbeta\")\n",
    "plt.xlabel(\"Threshold\")\n",
    "plt.legend()\n",
    "plt.show()"
   ]
  },
  {
   "cell_type": "code",
   "execution_count": 23,
   "id": "92dc57f8",
   "metadata": {},
   "outputs": [
    {
     "name": "stdout",
     "output_type": "stream",
     "text": [
      "TP: 3733, TN: 170, FP: 524, FN: 209\n",
      "TH: 0.53 Acc: 0.842 P: 0.877 R: 0.947 F1: 0.911 FB: 0.890\n"
     ]
    }
   ],
   "source": [
    "decision_th = th_values[np.argmax(fbeta)]\n",
    "\n",
    "pred = []\n",
    "lab = []\n",
    "for b, l in test_dl:\n",
    "    b = b.to(device)\n",
    "    l = l.to(device)\n",
    "    pred += (model(b) > decision_th).type(torch.int).tolist()\n",
    "    lab += l.tolist()\n",
    "\n",
    "tn, fp, fn, tp = confusion_matrix(lab, pred).ravel()\n",
    "print(f\"TP: {tp}, TN: {tn}, FP: {fp}, FN: {fn}\")\n",
    "acc = accuracy_score(lab, pred)\n",
    "precision = precision_score(lab, pred)\n",
    "recall = recall_score(lab, pred)\n",
    "f1 = f1_score(lab, pred)\n",
    "fb = fbeta_score(lab, pred, beta=0.5)\n",
    "print(f'TH: {decision_th} Acc: {acc:.3f} P: {precision:.3f} R: {recall:.3f} F1: {f1:.3f} FB: {fb:.3f}')"
   ]
  },
  {
   "cell_type": "markdown",
   "id": "951d1251",
   "metadata": {},
   "source": [
    "# Evaluation\n",
    "\n",
    "Give the model a list of candidate edges to evaluate.\n",
    "Reconstruct the event and evaluate against ground truth. "
   ]
  },
  {
   "cell_type": "code",
   "execution_count": 24,
   "id": "d877b173",
   "metadata": {},
   "outputs": [],
   "source": [
    "import uproot\n",
    "import numpy as np\n",
    "from reco.evaluation import pairwise_model_evaluation\n",
    "\n",
    "file_name = f\"{raw_dir}/new_ntuples_15101852_191.root\"\n",
    "tracksters = uproot.open({file_name: \"ticlNtuplizer/tracksters\"})\n",
    "simtracksters = uproot.open({file_name: \"ticlNtuplizer/simtrackstersSC\"})\n",
    "graphs = uproot.open({file_name: \"ticlNtuplizer/graph\"})\n",
    "associations = uproot.open({file_name: \"ticlNtuplizer/associations\"})"
   ]
  },
  {
   "cell_type": "code",
   "execution_count": 25,
   "id": "5212be61",
   "metadata": {},
   "outputs": [
    {
     "name": "stdout",
     "output_type": "stream",
     "text": [
      "Event 0:\n",
      "\tclue3d_to_sim:\tP: 0.94 R: 0.14 F: 0.17\n",
      "\ttarget_to_sim:\tP: 0.95 R: 0.37 F: 0.43\n",
      "\treco_to_sim:\tP: 0.94 R: 0.40 F: 0.45\n",
      "Event 1:\n",
      "\tclue3d_to_sim:\tP: 0.96 R: 0.44 F: 0.49\n",
      "\ttarget_to_sim:\tP: 0.96 R: 0.90 F: 0.91\n",
      "\treco_to_sim:\tP: 0.96 R: 0.81 F: 0.83\n",
      "Event 2:\n",
      "\tclue3d_to_sim:\tP: 0.98 R: 0.23 F: 0.28\n",
      "\ttarget_to_sim:\tP: 0.98 R: 0.59 F: 0.65\n",
      "\treco_to_sim:\tP: 0.98 R: 0.51 F: 0.56\n",
      "Event 3:\n",
      "\tclue3d_to_sim:\tP: 0.88 R: 0.11 F: 0.13\n",
      "\ttarget_to_sim:\tP: 0.89 R: 0.23 F: 0.27\n",
      "\treco_to_sim:\tP: 0.87 R: 0.19 F: 0.22\n",
      "Event 4:\n",
      "\tclue3d_to_sim:\tP: 0.94 R: 0.38 F: 0.44\n",
      "\ttarget_to_sim:\tP: 0.94 R: 0.70 F: 0.73\n",
      "\treco_to_sim:\tP: 0.84 R: 0.63 F: 0.66\n",
      "Event 5:\n",
      "\tclue3d_to_sim:\tP: 1.00 R: 0.51 F: 0.57\n",
      "\ttarget_to_sim:\tP: 1.00 R: 0.94 F: 0.95\n",
      "\treco_to_sim:\tP: 1.00 R: 0.86 F: 0.88\n",
      "Event 6:\n",
      "\tclue3d_to_sim:\tP: 0.88 R: 0.05 F: 0.07\n",
      "\ttarget_to_sim:\tP: 0.91 R: 0.15 F: 0.18\n",
      "\treco_to_sim:\tP: 0.93 R: 0.28 F: 0.32\n",
      "Event 7:\n",
      "\tclue3d_to_sim:\tP: 1.00 R: 0.73 F: 0.77\n",
      "\ttarget_to_sim:\tP: 1.00 R: 1.00 F: 1.00\n",
      "\treco_to_sim:\tP: 1.00 R: 0.88 F: 0.90\n",
      "Event 8:\n",
      "\tclue3d_to_sim:\tP: 1.00 R: 0.39 F: 0.44\n",
      "\ttarget_to_sim:\tP: 1.00 R: 0.77 F: 0.80\n",
      "\treco_to_sim:\tP: 1.00 R: 0.77 F: 0.80\n",
      "Event 9:\n",
      "\tclue3d_to_sim:\tP: 0.92 R: 0.14 F: 0.16\n",
      "\ttarget_to_sim:\tP: 0.91 R: 0.39 F: 0.44\n",
      "\treco_to_sim:\tP: 0.94 R: 0.31 F: 0.36\n",
      "-----\n",
      "mean clue3d_to_sim:\tP: 0.95 R: 0.31 F: 0.35\n",
      "mean target_to_sim:\tP: 0.95 R: 0.60 F: 0.64\n",
      "mean reco_to_sim:\tP: 0.95 R: 0.56 F: 0.60\n"
     ]
    }
   ],
   "source": [
    "result = pairwise_model_evaluation(\n",
    "    tracksters,\n",
    "    simtracksters,\n",
    "    associations,\n",
    "    graphs,\n",
    "    model.to(\"cpu\"),\n",
    "    scaler,\n",
    "    decision_th,\n",
    "    max_distance=10,\n",
    "    energy_threshold=10,\n",
    "    max_events=10,\n",
    ")"
   ]
  },
  {
   "cell_type": "code",
   "execution_count": null,
   "id": "3d84ebd7",
   "metadata": {},
   "outputs": [],
   "source": []
  },
  {
   "cell_type": "code",
   "execution_count": null,
   "id": "a68be651",
   "metadata": {},
   "outputs": [],
   "source": []
  }
 ],
 "metadata": {
  "kernelspec": {
   "display_name": "ve",
   "language": "python",
   "name": "python3"
  },
  "language_info": {
   "codemirror_mode": {
    "name": "ipython",
    "version": 3
   },
   "file_extension": ".py",
   "mimetype": "text/x-python",
   "name": "python",
   "nbconvert_exporter": "python",
   "pygments_lexer": "ipython3",
   "version": "3.9.6 (default, Oct 18 2022, 12:41:40) \n[Clang 14.0.0 (clang-1400.0.29.202)]"
  },
  "vscode": {
   "interpreter": {
    "hash": "37c238d9819f69c2c770157eac01081978c120e64661e10d7fd52c4caf977dc9"
   }
  }
 },
 "nbformat": 4,
 "nbformat_minor": 5
}
