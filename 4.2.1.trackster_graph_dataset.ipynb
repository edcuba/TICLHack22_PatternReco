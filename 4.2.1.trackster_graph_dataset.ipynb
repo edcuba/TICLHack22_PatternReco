{
 "cells": [
  {
   "cell_type": "markdown",
   "id": "6c07744a",
   "metadata": {},
   "source": [
    "# Datset: Trackster neighborhood approach\n",
    "\n",
    "Get tracksters from the cone neighbourhood.\n",
    "\n",
    "Neighbourhood:\n",
    "- get links from ticlNtuplizer/graph\n",
    "    - linked_inners: nodes linked to the given tracksters within its cone\n",
    "\n",
    "Use the features from MLP approach per trackster.\n",
    "Look at the graph of tracksters, extract information from the neighborhood and perform link prediction.\n",
    "- convert the tracksters into some latent space and predict a link between them\n",
    "- use edgeconv or sageconf to add information from the neighbourhood\n"
   ]
  }
 ],
 "metadata": {
  "kernelspec": {
   "display_name": "Python 3.8.9 ('ve': venv)",
   "language": "python",
   "name": "python3"
  },
  "language_info": {
   "codemirror_mode": {
    "name": "ipython",
    "version": 3
   },
   "file_extension": ".py",
   "mimetype": "text/x-python",
   "name": "python",
   "nbconvert_exporter": "python",
   "pygments_lexer": "ipython3",
   "version": "3.8.9"
  },
  "vscode": {
   "interpreter": {
    "hash": "75d0e37245d408f3d59eb152d126431f02f862b5012558b3df6d65a37ffc466c"
   }
  }
 },
 "nbformat": 4,
 "nbformat_minor": 5
}
