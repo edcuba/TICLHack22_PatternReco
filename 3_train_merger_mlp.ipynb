{
 "cells": [
  {
   "cell_type": "markdown",
   "metadata": {},
   "source": [
    "## MLP Smoothing / Merging Baseline\n",
    "\n",
    "Train a baseline MLP model for smoothing using graph-level features."
   ]
  },
  {
   "cell_type": "code",
   "execution_count": 3,
   "metadata": {},
   "outputs": [],
   "source": [
    "import torch\n",
    "from utils.data_utils import HGCALTracksterPairs\n",
    "import torch_geometric.transforms as T\n",
    "from torch_geometric.loader import DataLoader"
   ]
  },
  {
   "cell_type": "code",
   "execution_count": 18,
   "metadata": {},
   "outputs": [],
   "source": [
    "transform = T.Compose([T.NormalizeFeatures()])\n",
    "\n",
    "# the first run includes building the edges and takes long\n",
    "# no negative samples for pion are available for now\n",
    "ds = HGCALTracksterPairs(\"data\", kind=\"photon\", transform=transform)"
   ]
  },
  {
   "cell_type": "code",
   "execution_count": 22,
   "metadata": {},
   "outputs": [
    {
     "name": "stdout",
     "output_type": "stream",
     "text": [
      "Positive: 7060, Negative 10784\n"
     ]
    }
   ],
   "source": [
    "# balance the dataset\n",
    "pos = ds[ds.data.y == 1]\n",
    "neg = ds[ds.data.y == 0]\n",
    "len_neg = len(neg)\n",
    "len_pos = len(pos)\n",
    "print(f\"Positive: {len_pos}, Negative {len_neg}\")\n",
    "shorter = min(len_neg, len_pos)\n",
    "test_n = int(shorter / 10)"
   ]
  },
  {
   "cell_type": "code",
   "execution_count": 24,
   "metadata": {},
   "outputs": [
    {
     "name": "stdout",
     "output_type": "stream",
     "text": [
      "Train samples: 12708, Test samples: 1412\n"
     ]
    }
   ],
   "source": [
    "train_set = pos[:shorter - test_n] + neg[:shorter - test_n]\n",
    "test_set = pos[shorter - test_n:shorter] + neg[shorter - test_n:shorter]\n",
    "print(f\"Train samples: {len(train_set)}, Test samples: {len(test_set)}\")\n",
    "train_dl = DataLoader(train_set, batch_size=8, shuffle=True)\n",
    "test_dl = DataLoader(test_set, batch_size=8, shuffle=True)"
   ]
  },
  {
   "cell_type": "code",
   "execution_count": 27,
   "metadata": {},
   "outputs": [
    {
     "name": "stdout",
     "output_type": "stream",
     "text": [
      "Is MPS (Metal Performance Shader) built? True\n",
      "Is MPS available? True\n",
      "Using device: mps\n"
     ]
    }
   ],
   "source": [
    "print(f\"Is MPS (Metal Performance Shader) built? {torch.backends.mps.is_built()}\")\n",
    "print(f\"Is MPS available? {torch.backends.mps.is_available()}\")\n",
    "device = torch.device('cuda' if torch.cuda.is_available() else 'mps' if torch.backends.mps.is_available() else \"cpu\")\n",
    "print(f\"Using device: {device}\")"
   ]
  },
  {
   "cell_type": "code",
   "execution_count": 26,
   "metadata": {},
   "outputs": [],
   "source": [
    "class BaselineMerger(torch.nn.Module):\n",
    "    pass"
   ]
  },
  {
   "cell_type": "code",
   "execution_count": null,
   "metadata": {},
   "outputs": [],
   "source": []
  }
 ],
 "metadata": {
  "kernelspec": {
   "display_name": "Python 3.8.9 ('ve': venv)",
   "language": "python",
   "name": "python3"
  },
  "language_info": {
   "codemirror_mode": {
    "name": "ipython",
    "version": 3
   },
   "file_extension": ".py",
   "mimetype": "text/x-python",
   "name": "python",
   "nbconvert_exporter": "python",
   "pygments_lexer": "ipython3",
   "version": "3.8.9"
  },
  "orig_nbformat": 4,
  "vscode": {
   "interpreter": {
    "hash": "1903a8da8a80be3e00e24bd0fcb097c09e11062da66a97e6f0ab60aef4c2ceaa"
   }
  }
 },
 "nbformat": 4,
 "nbformat_minor": 2
}
