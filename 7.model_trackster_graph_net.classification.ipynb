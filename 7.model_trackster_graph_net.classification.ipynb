{
 "cells": [
  {
   "attachments": {},
   "cell_type": "markdown",
   "id": "6c07744a",
   "metadata": {},
   "source": [
    "# Trackster-level graph net with PU\n",
    "\n",
    "Question: does including the neighborhood provide a benefit over the pairwise classification?"
   ]
  },
  {
   "cell_type": "code",
   "execution_count": 1,
   "id": "e3962d51",
   "metadata": {},
   "outputs": [],
   "source": [
    "import numpy as np\n",
    "import torch\n",
    "import sys\n",
    "\n",
    "import torch.nn as nn\n",
    "from torch.optim import SGD\n",
    "from torch_cluster import knn_graph\n",
    "from torch.optim.lr_scheduler import CosineAnnealingLR\n",
    "\n",
    "from torch.utils.data import random_split\n",
    "from torch_geometric.loader import DataLoader\n",
    "import torch_geometric.transforms as T\n",
    "\n",
    "from reco.model import DynamicEdgeConvBlock\n",
    "\n",
    "from reco.training import precision_recall_curve, roc_auc\n",
    "from reco.loss import GraphClassificationLoss\n",
    "from reco.datasetPU import TracksterGraph\n",
    "\n",
    "\n",
    "ds_name = \"CloseByTwoPion\"\n",
    "\n",
    "data_root = \"data\"\n",
    "raw_dir = f\"/Users/ecuba/data/{ds_name}\"\n",
    "\n",
    "# data_root = \"/mnt/ceph/users/ecuba/processed\"\n",
    "# raw_dir = f\"/mnt/ceph/users/ecuba/{ds_name}\""
   ]
  },
  {
   "cell_type": "code",
   "execution_count": 2,
   "id": "02f59304-76e4-4132-a379-978a46a042fd",
   "metadata": {},
   "outputs": [
    {
     "name": "stdout",
     "output_type": "stream",
     "text": [
      "Using device: cpu\n"
     ]
    }
   ],
   "source": [
    "# CUDA Setup\n",
    "device = torch.device('cuda' if torch.cuda.is_available() else \"cpu\")\n",
    "print(f\"Using device: {device}\")"
   ]
  },
  {
   "cell_type": "code",
   "execution_count": 3,
   "id": "012b3572",
   "metadata": {},
   "outputs": [],
   "source": [
    "def create_mask(data):\n",
    "    # extract the focus feature\n",
    "    data.mask = (1 - data.x[:,0]).type(torch.bool)\n",
    "    return data\n",
    "\n",
    "def knn_transform(data):\n",
    "    # pos coordinates are on position 3:6\n",
    "    data.edge_index = knn_graph(data.pos, k=4, loop=False)\n",
    "    return data\n",
    "\n",
    "def prepend_pos(data):\n",
    "    # GravNet: add S to the front\n",
    "    data.x = torch.hstack((data.pos, data.x))\n",
    "    return data\n",
    "\n",
    "transforms = T.Compose([prepend_pos])"
   ]
  },
  {
   "cell_type": "code",
   "execution_count": 4,
   "id": "ecf4c091",
   "metadata": {},
   "outputs": [
    {
     "data": {
      "text/plain": [
       "Data(x=[51131, 39], y=[51131], pos=[51131, 3], e=[51131], shared_e=[51131], node_index=[51131])"
      ]
     },
     "execution_count": 4,
     "metadata": {},
     "output_type": "execute_result"
    }
   ],
   "source": [
    "ds = TracksterGraph(\n",
    "    ds_name,\n",
    "    data_root,\n",
    "    raw_dir,\n",
    "    N_FILES=10,\n",
    "    radius=100,\n",
    "    bigT_e_th=75,\n",
    "    # transform=transforms\n",
    "    # pileup=True,\n",
    "    # collection=\"CP\"\n",
    ")\n",
    "\n",
    "# ds.processed_file_names\n",
    "ds.data"
   ]
  },
  {
   "cell_type": "code",
   "execution_count": 5,
   "id": "f5ed3e15",
   "metadata": {},
   "outputs": [
    {
     "data": {
      "text/plain": [
       "51131"
      ]
     },
     "execution_count": 5,
     "metadata": {},
     "output_type": "execute_result"
    }
   ],
   "source": [
    "len(ds.data.y)"
   ]
  },
  {
   "cell_type": "code",
   "execution_count": 6,
   "id": "604298f4",
   "metadata": {},
   "outputs": [
    {
     "name": "stdout",
     "output_type": "stream",
     "text": [
      "Train graphs: 1431, Test graphs: 159, total: 1590\n"
     ]
    }
   ],
   "source": [
    "ds_size = len(ds)\n",
    "test_set_size = ds_size // 10\n",
    "train_set_size = ds_size - test_set_size\n",
    "train_set, test_set = random_split(ds, [train_set_size, test_set_size])\n",
    "print(f\"Train graphs: {len(train_set)}, Test graphs: {len(test_set)}, total: {ds_size}\")\n",
    "\n",
    "train_dl = DataLoader(train_set, batch_size=16, shuffle=True)\n",
    "test_dl = DataLoader(test_set, batch_size=16, shuffle=True)"
   ]
  },
  {
   "cell_type": "code",
   "execution_count": 7,
   "id": "3f4a0b99-bef3-4c82-a0ac-d88e1521382b",
   "metadata": {},
   "outputs": [],
   "source": [
    "class TracksterGraphNet(nn.Module):\n",
    "    def __init__(self, input_dim, output_dim=1, dropout=0.2, S=3):\n",
    "        super(TracksterGraphNet, self).__init__()\n",
    "        \n",
    "        hdim1 = 64\n",
    "        hdim2 = 64\n",
    "        hdim3 = 64\n",
    "\n",
    "        hdim_fc = 256\n",
    "\n",
    "        self.edgeconv1 = DynamicEdgeConvBlock(input_dim, hdim1)\n",
    "        self.edgeconv2 = DynamicEdgeConvBlock(hdim1, hdim2)\n",
    "        self.edgeconv3 = DynamicEdgeConvBlock(hdim2, hdim3)\n",
    "        \n",
    "        # Edge features from node embeddings for classification        \n",
    "        self.nodenetwork = nn.Sequential(\n",
    "            nn.Linear(hdim3, hdim_fc),\n",
    "            nn.ReLU(),\n",
    "            nn.Dropout(dropout),\n",
    "            nn.Linear(hdim_fc, 3),\n",
    "            nn.ReLU(),\n",
    "            nn.Linear(3, output_dim),\n",
    "            nn.Sigmoid()\n",
    "        )\n",
    "\n",
    "    def forward(self, X):\n",
    "        H1 = self.edgeconv1(X)\n",
    "        H2 = self.edgeconv2(H1)\n",
    "        H3 = self.edgeconv3(H2)\n",
    "        return self.nodenetwork(H3).squeeze(-1)"
   ]
  },
  {
   "cell_type": "code",
   "execution_count": 8,
   "id": "1ce36485",
   "metadata": {},
   "outputs": [],
   "source": [
    "model = TracksterGraphNet(input_dim=ds.data.x.shape[1])\n",
    "epochs = 10\n",
    "model_path = f\"models/TracksterGraphNet.GravNet.ns.{epochs}e-{ds_name}.{ds.RADIUS}.{ds.SCORE_THRESHOLD}.{ds.N_FILES}f.pt\""
   ]
  },
  {
   "cell_type": "code",
   "execution_count": 9,
   "id": "2539cf65",
   "metadata": {},
   "outputs": [],
   "source": [
    "def train_graph_classification(model, device, optimizer, loss_func, train_dl):\n",
    "    train_loss = []\n",
    "    model.train()\n",
    "\n",
    "    for data in train_dl:\n",
    "        data = data.to(device)\n",
    "        optimizer.zero_grad()\n",
    "\n",
    "        seg_pred = model(data.x)\n",
    "        loss = loss_func(data, seg_pred)\n",
    "        loss.backward()\n",
    "\n",
    "        optimizer.step()\n",
    "\n",
    "        train_loss.append(loss.item())\n",
    "\n",
    "    return np.mean(train_loss)"
   ]
  },
  {
   "cell_type": "code",
   "execution_count": 10,
   "id": "259ee8b3",
   "metadata": {},
   "outputs": [],
   "source": [
    "@torch.no_grad()\n",
    "def test_graph_classification(model, device, loss_func, test_dl):\n",
    "    test_loss = []\n",
    "    model.eval()\n",
    "    for data in test_dl:\n",
    "        data = data.to(device)\n",
    "        seg_pred = model(data.x)\n",
    "        loss = loss_func(data, seg_pred)\n",
    "        test_loss.append(loss.item())\n",
    "\n",
    "    return np.mean(test_loss)"
   ]
  },
  {
   "cell_type": "code",
   "execution_count": 11,
   "id": "2d3f1e82-74c5-4629-9b20-f05d7662aaf1",
   "metadata": {},
   "outputs": [
    {
     "name": "stderr",
     "output_type": "stream",
     "text": [
      "Epoch 0\t train loss: 5.733\t test loss: 5.533\n",
      "Epoch 1\t train loss: 5.175\t test loss: 5.973\n",
      "Epoch 2\t train loss: 4.128\t test loss: 5.657\n",
      "Epoch 3\t train loss: 3.129\t test loss: 3.226\n",
      "Epoch 4\t train loss: 2.075\t test loss: 1.647\n",
      "Epoch 5\t train loss: 1.607\t test loss: 2.709\n",
      "Epoch 6\t train loss: 1.525\t test loss: 2.520\n",
      "Epoch 7\t train loss: 1.159\t test loss: 1.059\n",
      "Epoch 8\t train loss: 0.918\t test loss: 0.918\n"
     ]
    },
    {
     "name": "stdout",
     "output_type": "stream",
     "text": [
      "models/TracksterGraphNet.GravNet.ns.10e-CloseByTwoPion.100.0.2.10f.pt\n"
     ]
    },
    {
     "name": "stderr",
     "output_type": "stream",
     "text": [
      "Epoch 9\t train loss: 0.850\t test loss: 0.819\n"
     ]
    }
   ],
   "source": [
    "#%%script echo skipping\n",
    "\n",
    "# alpha - percentage of negative edges\n",
    "loss_func = GraphClassificationLoss()\n",
    "\n",
    "model = model.to(device)\n",
    "optimizer = SGD(model.parameters(), lr=1e-3, momentum=0.9, weight_decay=1e-4)\n",
    "scheduler = CosineAnnealingLR(optimizer, epochs, eta_min=1e-5)\n",
    "\n",
    "for epoch in range(epochs):\n",
    "\n",
    "    train_loss = train_graph_classification(\n",
    "        model,\n",
    "        device,\n",
    "        optimizer,\n",
    "        loss_func,\n",
    "        train_dl\n",
    "    )\n",
    "    \n",
    "    scheduler.step()\n",
    "\n",
    "    if epoch % 1 == 0:\n",
    "        test_loss = test_graph_classification(model, device, loss_func, test_dl)\n",
    "        print(\n",
    "            f\"Epoch {epoch}\\t train loss: {train_loss:.3f}\\t test loss: {test_loss:.3f}\",\n",
    "            file=sys.stderr\n",
    "        )\n",
    "        \n",
    "torch.save(model.state_dict(), model_path)\n",
    "print(model_path)"
   ]
  },
  {
   "cell_type": "code",
   "execution_count": 12,
   "id": "0b9cbaa6",
   "metadata": {},
   "outputs": [
    {
     "name": "stdout",
     "output_type": "stream",
     "text": [
      "skipping\n"
     ]
    }
   ],
   "source": [
    "%%script echo skipping\n",
    "model.load_state_dict(torch.load(\n",
    "    model_path,\n",
    "    map_location=device\n",
    "))\n",
    "model = model.to(device)"
   ]
  },
  {
   "cell_type": "code",
   "execution_count": 13,
   "id": "f2e14bc7-4d33-485b-9075-348fa0bd284e",
   "metadata": {},
   "outputs": [
    {
     "data": {
      "image/png": "[encoded data removed]",
      "text/plain": [
       "<Figure size 640x480 with 1 Axes>"
      ]
     },
     "metadata": {},
     "output_type": "display_data"
    },
    {
     "name": "stdout",
     "output_type": "stream",
     "text": [
      "TP: 2492, TN: 2112, FP: 231, FN: 616\n",
      "TH: 0.61 precision: 0.915 recall: 0.802 fbeta: 0.890 b_acc: 0.852\n"
     ]
    }
   ],
   "source": [
    "precision_recall_curve(model, device, test_dl, focus_metric=\"fbeta\", beta=0.5, step=3, truth_threshold=0.5)"
   ]
  },
  {
   "cell_type": "code",
   "execution_count": 14,
   "id": "c86c98db-0ac0-4a0c-84fd-4c50df507528",
   "metadata": {},
   "outputs": [
    {
     "name": "stdout",
     "output_type": "stream",
     "text": [
      "0.910275845721685\n"
     ]
    }
   ],
   "source": [
    "print(roc_auc(model, device, test_dl))"
   ]
  },
  {
   "attachments": {},
   "cell_type": "markdown",
   "id": "eb8ce4e2",
   "metadata": {},
   "source": [
    "## Eval"
   ]
  },
  {
   "cell_type": "code",
   "execution_count": null,
   "id": "fb3f12d6",
   "metadata": {},
   "outputs": [],
   "source": []
  },
  {
   "cell_type": "markdown",
   "id": "328866f1-c862-4dfb-a201-91d2baa53d9f",
   "metadata": {},
   "source": [
    "## Results\n",
    "\n",
    "Using alpha=balance seems to converge faster (100 epochs rather than 200)\n",
    "- maybe just sticking to 0.25? (works just fine)\n",
    "\n",
    "Hyperparams\n",
    "- (64, 128, noskip), alpha=balance, roc_auc = 0.9733\n",
    "- (64, 128, 256fc, noskip, 200e), alpha=1-balance, roc_auc = 0.9771\n",
    "- (64, 128, 256fc, noskip, 200e), alpha=balance, roc_auc = 0.981\n",
    "- (64, 128, 256fc, noskip, 100e), alpha=0.25, roc_auc = 0.9796"
   ]
  },
  {
   "cell_type": "code",
   "execution_count": null,
   "id": "69420f64-42b0-4a8b-b4dc-d88ae1242f51",
   "metadata": {},
   "outputs": [],
   "source": [
    "import torch.onnx\n",
    "\n",
    "onnx_filepath = f\"onnx/TracksterGraphNet.mask.64.128.256.ns.{epochs}e-{ds_name}.{ds.RADIUS}.{ds.SCORE_THRESHOLD}.{ds.N_FILES}f.onnx\"\n",
    "\n",
    "torch.onnx.export(\n",
    "    model,                          # model to be exported\n",
    "    (ds[0].x),    # example input (add batch dimension)\n",
    "    onnx_filepath,\n",
    "    export_params=True,\n",
    "    opset_version=11,\n",
    "    do_constant_folding=True,\n",
    "    input_names=['features'],      # the model's input names\n",
    "    output_names=['output'],    # the model's output names\n",
    "    dynamic_axes={              # variable length axes\n",
    "        'features' : {0 : 'batch_size'},    \n",
    "        'output' : {0 : 'batch_size'}\n",
    "    }\n",
    ")"
   ]
  },
  {
   "cell_type": "code",
   "execution_count": null,
   "id": "9fb1c5e0",
   "metadata": {},
   "outputs": [],
   "source": []
  }
 ],
 "metadata": {
  "kernelspec": {
   "display_name": "Python 3.9.6 ('ve': venv)",
   "language": "python",
   "name": "python3"
  },
  "language_info": {
   "codemirror_mode": {
    "name": "ipython",
    "version": 3
   },
   "file_extension": ".py",
   "mimetype": "text/x-python",
   "name": "python",
   "nbconvert_exporter": "python",
   "pygments_lexer": "ipython3",
   "version": "3.9.6"
  },
  "vscode": {
   "interpreter": {
    "hash": "37c238d9819f69c2c770157eac01081978c120e64661e10d7fd52c4caf977dc9"
   }
  }
 },
 "nbformat": 4,
 "nbformat_minor": 5
}
