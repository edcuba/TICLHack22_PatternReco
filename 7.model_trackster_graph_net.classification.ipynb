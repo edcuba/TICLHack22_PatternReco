{
 "cells": [
  {
   "attachments": {},
   "cell_type": "markdown",
   "id": "6c07744a",
   "metadata": {},
   "source": [
    "# Trackster-level graph net with PU\n",
    "\n",
    "Question: does including the neighborhood provide a benefit over the pairwise classification?"
   ]
  },
  {
   "cell_type": "code",
   "execution_count": 20,
   "id": "e3962d51",
   "metadata": {},
   "outputs": [],
   "source": [
    "import numpy as np\n",
    "import torch\n",
    "import sys\n",
    "\n",
    "import torch.nn as nn\n",
    "from torch.optim import SGD\n",
    "from torch_cluster import knn_graph\n",
    "from torch.optim.lr_scheduler import CosineAnnealingLR\n",
    "\n",
    "from torch.utils.data import random_split\n",
    "from torch_geometric.loader import DataLoader\n",
    "import torch_geometric.transforms as T\n",
    "\n",
    "from reco.model import DynamicEdgeConvBlock\n",
    "\n",
    "from reco.training import precision_recall_curve, roc_auc\n",
    "from reco.loss import GraphClassificationLoss\n",
    "from reco.datasetPU import TracksterGraph\n",
    "\n",
    "\n",
    "ds_name = \"CloseByTwoPion\"\n",
    "\n",
    "data_root = \"data\"\n",
    "raw_dir = f\"/Users/ecuba/data/{ds_name}\"\n",
    "\n",
    "# data_root = \"/mnt/ceph/users/ecuba/processed\"\n",
    "# raw_dir = f\"/mnt/ceph/users/ecuba/{ds_name}\""
   ]
  },
  {
   "cell_type": "code",
   "execution_count": 21,
   "id": "02f59304-76e4-4132-a379-978a46a042fd",
   "metadata": {},
   "outputs": [
    {
     "name": "stdout",
     "output_type": "stream",
     "text": [
      "Using device: cpu\n"
     ]
    }
   ],
   "source": [
    "# CUDA Setup\n",
    "device = torch.device('cuda' if torch.cuda.is_available() else \"cpu\")\n",
    "print(f\"Using device: {device}\")"
   ]
  },
  {
   "cell_type": "code",
   "execution_count": 22,
   "id": "012b3572",
   "metadata": {},
   "outputs": [],
   "source": [
    "def create_mask(data):\n",
    "    # extract the focus feature\n",
    "    data.mask = (1 - data.x[:,0]).type(torch.bool)\n",
    "    return data\n",
    "\n",
    "def knn_transform(data):\n",
    "    # pos coordinates are on position 3:6\n",
    "    data.edge_index = knn_graph(data.pos, k=4, loop=False)\n",
    "    return data\n",
    "\n",
    "def prepend_pos(data):\n",
    "    # GravNet: add S to the front\n",
    "    data.x = torch.hstack((data.pos, data.x))\n",
    "    return data\n",
    "\n",
    "transforms = T.Compose([prepend_pos])"
   ]
  },
  {
   "cell_type": "code",
   "execution_count": 23,
   "id": "ecf4c091",
   "metadata": {},
   "outputs": [
    {
     "name": "stderr",
     "output_type": "stream",
     "text": [
      "Processing...\n",
      "/Users/ecuba/data/CloseByTwoPion/new_ntuples_15101852_157.root\n",
      "/Users/ecuba/data/CloseByTwoPion/new_ntuples_15101852_229.root\n",
      "/Users/ecuba/data/CloseByTwoPion/new_ntuples_15101852_100.root\n",
      "/Users/ecuba/data/CloseByTwoPion/new_ntuples_15101852_11.root\n",
      "/Users/ecuba/data/CloseByTwoPion/new_ntuples_15101852_116.root\n",
      "/Users/ecuba/data/CloseByTwoPion/new_ntuples_15101852_141.root\n",
      "/Users/ecuba/data/CloseByTwoPion/new_ntuples_15101852_213.root\n",
      "/Users/ecuba/data/CloseByTwoPion/new_ntuples_15101852_244.root\n",
      "/Users/ecuba/data/CloseByTwoPion/new_ntuples_15101852_182.root\n",
      "/Users/ecuba/data/CloseByTwoPion/new_ntuples_15101852_194.root\n",
      "/Users/ecuba/data/CloseByTwoPion/new_ntuples_15101852_205.root\n",
      "/Users/ecuba/data/CloseByTwoPion/new_ntuples_15101852_225.root\n",
      "/Users/ecuba/data/CloseByTwoPion/new_ntuples_15101852_136.root\n",
      "/Users/ecuba/data/CloseByTwoPion/new_ntuples_15101852_161.root\n",
      "/Users/ecuba/data/CloseByTwoPion/new_ntuples_15101852_248.root\n",
      "/Users/ecuba/data/CloseByTwoPion/new_ntuples_15101852_198.root\n",
      "/Users/ecuba/data/CloseByTwoPion/new_ntuples_15101852_177.root\n",
      "/Users/ecuba/data/CloseByTwoPion/new_ntuples_15101852_120.root\n",
      "/Users/ecuba/data/CloseByTwoPion/new_ntuples_15101852_209.root\n",
      "/Users/ecuba/data/CloseByTwoPion/new_ntuples_15101852_208.root\n",
      "Done!\n"
     ]
    },
    {
     "data": {
      "text/plain": [
       "Data(x=[153140, 39], y=[153140], pos=[153140, 3], e=[153140], shared_e=[153140], node_index=[153140])"
      ]
     },
     "execution_count": 23,
     "metadata": {},
     "output_type": "execute_result"
    }
   ],
   "source": [
    "ds = TracksterGraph(\n",
    "    ds_name,\n",
    "    data_root,\n",
    "    raw_dir,\n",
    "    N_FILES=20,\n",
    "    radius=100,\n",
    "    bigT_e_th=30,\n",
    "    # transform=transforms\n",
    "    # pileup=True,\n",
    ")\n",
    "\n",
    "# ds.processed_file_names\n",
    "ds.data"
   ]
  },
  {
   "cell_type": "code",
   "execution_count": 24,
   "id": "f5ed3e15",
   "metadata": {},
   "outputs": [
    {
     "data": {
      "text/plain": [
       "153140"
      ]
     },
     "execution_count": 24,
     "metadata": {},
     "output_type": "execute_result"
    }
   ],
   "source": [
    "len(ds.data.y)"
   ]
  },
  {
   "cell_type": "code",
   "execution_count": 25,
   "id": "604298f4",
   "metadata": {},
   "outputs": [
    {
     "name": "stdout",
     "output_type": "stream",
     "text": [
      "Train graphs: 4480, Test graphs: 497, total: 4977\n"
     ]
    }
   ],
   "source": [
    "ds_size = len(ds)\n",
    "test_set_size = ds_size // 10\n",
    "train_set_size = ds_size - test_set_size\n",
    "train_set, test_set = random_split(ds, [train_set_size, test_set_size])\n",
    "print(f\"Train graphs: {len(train_set)}, Test graphs: {len(test_set)}, total: {ds_size}\")\n",
    "\n",
    "train_dl = DataLoader(train_set, batch_size=16, shuffle=True)\n",
    "test_dl = DataLoader(test_set, batch_size=16, shuffle=True)"
   ]
  },
  {
   "cell_type": "code",
   "execution_count": 26,
   "id": "3f4a0b99-bef3-4c82-a0ac-d88e1521382b",
   "metadata": {},
   "outputs": [],
   "source": [
    "class TracksterGraphNet(nn.Module):\n",
    "    def __init__(self, input_dim, output_dim=1, dropout=0.2, S=3):\n",
    "        super(TracksterGraphNet, self).__init__()\n",
    "        \n",
    "        hdim1 = 64\n",
    "        hdim2 = 64\n",
    "        hdim3 = 64\n",
    "\n",
    "        hdim_fc = 256\n",
    "\n",
    "        self.edgeconv1 = DynamicEdgeConvBlock(input_dim, hdim1)\n",
    "        self.edgeconv2 = DynamicEdgeConvBlock(hdim1, hdim2)\n",
    "        self.edgeconv3 = DynamicEdgeConvBlock(hdim2, hdim3)\n",
    "        \n",
    "        # Edge features from node embeddings for classification        \n",
    "        self.nodenetwork = nn.Sequential(\n",
    "            nn.Linear(hdim3, hdim_fc),\n",
    "            nn.ReLU(),\n",
    "            nn.Dropout(dropout),\n",
    "            nn.Linear(hdim_fc, 3),\n",
    "            nn.ReLU(),\n",
    "            nn.Linear(3, output_dim),\n",
    "            nn.Sigmoid()\n",
    "        )\n",
    "\n",
    "    def forward(self, X):\n",
    "        H1 = self.edgeconv1(X)\n",
    "        H2 = self.edgeconv2(H1)\n",
    "        H3 = self.edgeconv3(H2)\n",
    "        return self.nodenetwork(H3).squeeze(-1)"
   ]
  },
  {
   "cell_type": "code",
   "execution_count": 27,
   "id": "1ce36485",
   "metadata": {},
   "outputs": [],
   "source": [
    "model = TracksterGraphNet(input_dim=ds.data.x.shape[1])\n",
    "epochs = 10\n",
    "model_path = f\"models/TracksterGraphNet.DGCNN.ns.{epochs}e-{ds_name}.r{ds.RADIUS}.e{ds.bigT_e_th}.f{ds.N_FILES}.pt\""
   ]
  },
  {
   "cell_type": "code",
   "execution_count": 28,
   "id": "2539cf65",
   "metadata": {},
   "outputs": [],
   "source": [
    "def train_graph_classification(model, device, optimizer, loss_func, train_dl):\n",
    "    train_loss = []\n",
    "    model.train()\n",
    "\n",
    "    for data in train_dl:\n",
    "        data = data.to(device)\n",
    "        optimizer.zero_grad()\n",
    "\n",
    "        seg_pred = model(data.x)\n",
    "        loss = loss_func(data, seg_pred)\n",
    "        loss.backward()\n",
    "\n",
    "        optimizer.step()\n",
    "\n",
    "        train_loss.append(loss.item())\n",
    "\n",
    "    return np.mean(train_loss)"
   ]
  },
  {
   "cell_type": "code",
   "execution_count": 29,
   "id": "259ee8b3",
   "metadata": {},
   "outputs": [],
   "source": [
    "@torch.no_grad()\n",
    "def test_graph_classification(model, device, loss_func, test_dl):\n",
    "    test_loss = []\n",
    "    model.eval()\n",
    "    for data in test_dl:\n",
    "        data = data.to(device)\n",
    "        seg_pred = model(data.x)\n",
    "        loss = loss_func(data, seg_pred)\n",
    "        test_loss.append(loss.item())\n",
    "\n",
    "    return np.mean(test_loss)"
   ]
  },
  {
   "cell_type": "code",
   "execution_count": 30,
   "id": "2d3f1e82-74c5-4629-9b20-f05d7662aaf1",
   "metadata": {},
   "outputs": [
    {
     "name": "stderr",
     "output_type": "stream",
     "text": [
      "Epoch 0\t train loss: 3.798\t test loss: 4.402\n",
      "Epoch 1\t train loss: 1.938\t test loss: 1.274\n",
      "Epoch 2\t train loss: 1.088\t test loss: 1.221\n",
      "Epoch 3\t train loss: 0.949\t test loss: 0.979\n",
      "Epoch 4\t train loss: 0.911\t test loss: 1.495\n",
      "Epoch 5\t train loss: 0.772\t test loss: 1.100\n",
      "Epoch 6\t train loss: 0.724\t test loss: 0.577\n",
      "Epoch 7\t train loss: 0.704\t test loss: 0.535\n",
      "Epoch 8\t train loss: 0.672\t test loss: 0.564\n"
     ]
    },
    {
     "name": "stdout",
     "output_type": "stream",
     "text": [
      "models/TracksterGraphNet.DGCNN.ns.10e-CloseByTwoPion.r100.e30.f20.pt\n"
     ]
    },
    {
     "name": "stderr",
     "output_type": "stream",
     "text": [
      "Epoch 9\t train loss: 0.650\t test loss: 0.598\n"
     ]
    }
   ],
   "source": [
    "#%%script echo skipping\n",
    "# alpha - percentage of negative edges\n",
    "loss_func = GraphClassificationLoss()\n",
    "\n",
    "model = model.to(device)\n",
    "optimizer = SGD(model.parameters(), lr=1e-3, momentum=0.9, weight_decay=1e-4)\n",
    "scheduler = CosineAnnealingLR(optimizer, epochs, eta_min=1e-5)\n",
    "\n",
    "for epoch in range(epochs):\n",
    "\n",
    "    train_loss = train_graph_classification(\n",
    "        model,\n",
    "        device,\n",
    "        optimizer,\n",
    "        loss_func,\n",
    "        train_dl\n",
    "    )\n",
    "    \n",
    "    scheduler.step()\n",
    "\n",
    "    if epoch % 1 == 0:\n",
    "        test_loss = test_graph_classification(model, device, loss_func, test_dl)\n",
    "        print(\n",
    "            f\"Epoch {epoch}\\t train loss: {train_loss:.3f}\\t validation loss: {test_loss:.3f}\",\n",
    "            file=sys.stderr\n",
    "        )\n",
    "        \n",
    "torch.save(model.state_dict(), model_path)\n",
    "print(model_path)"
   ]
  },
  {
   "cell_type": "code",
   "execution_count": 31,
   "id": "0b9cbaa6",
   "metadata": {},
   "outputs": [
    {
     "name": "stdout",
     "output_type": "stream",
     "text": [
      "skipping\n"
     ]
    }
   ],
   "source": [
    "%%script echo skipping\n",
    "model.load_state_dict(torch.load(\n",
    "    model_path,\n",
    "    map_location=device\n",
    "))\n",
    "model = model.to(device)"
   ]
  },
  {
   "cell_type": "code",
   "execution_count": 32,
   "id": "c86c98db-0ac0-4a0c-84fd-4c50df507528",
   "metadata": {},
   "outputs": [
    {
     "name": "stdout",
     "output_type": "stream",
     "text": [
      "0.9213694046702197\n"
     ]
    },
    {
     "data": {
      "image/png": "[encoded data removed]",
      "text/plain": [
       "<Figure size 640x480 with 1 Axes>"
      ]
     },
     "metadata": {},
     "output_type": "display_data"
    },
    {
     "name": "stdout",
     "output_type": "stream",
     "text": [
      "TP: 6999, TN: 6113, FP: 732, FN: 1596\n",
      "TH: 0.58 precision: 0.905 recall: 0.814 fbeta: 0.886 b_acc: 0.854\n"
     ]
    }
   ],
   "source": [
    "#%%script echo skipping\n",
    "print(roc_auc(model, device, test_dl))\n",
    "precision_recall_curve(model, device, test_dl, focus_metric=\"fbeta\", beta=0.5, step=3, truth_threshold=0.5)"
   ]
  },
  {
   "attachments": {},
   "cell_type": "markdown",
   "id": "eb8ce4e2",
   "metadata": {},
   "source": [
    "## Eval"
   ]
  },
  {
   "cell_type": "code",
   "execution_count": 14,
   "id": "fb3f12d6",
   "metadata": {},
   "outputs": [],
   "source": [
    "import uproot\n",
    "import matplotlib.pyplot as plt\n",
    "import numpy as np\n",
    "from reco.data import get_event_data\n",
    "from reco.evaluation import model_evaluation\n",
    "\n",
    "# from reco.dummy import DummyPleaser\n",
    "\n",
    "file_name = f\"{raw_dir}/new_ntuples_15101852_0.root\"\n",
    "cluster_data, trackster_data, simtrackster_data, assoc_data = get_event_data(file_name)"
   ]
  },
  {
   "cell_type": "code",
   "execution_count": 15,
   "id": "6b5ffc46",
   "metadata": {},
   "outputs": [
    {
     "name": "stdout",
     "output_type": "stream",
     "text": [
      "Event 0:\n",
      "\tclue3d_to_sim:\tP: 0.988 R: 0.229 F: 0.594\n",
      "\ttarget_to_sim:\tP: 0.981 R: 0.686 F: 0.903\n",
      "\treco_to_sim:\tP: 0.974 R: 0.678 F: 0.896\n",
      "\t|S| = 2 |T| = 2 |R| = 2\n",
      "Event 1:\n",
      "\tNo data\n",
      "Event 2:\n",
      "\tclue3d_to_sim:\tP: 1.000 R: 0.396 F: 0.766\n",
      "\ttarget_to_sim:\tP: 0.999 R: 0.814 F: 0.956\n",
      "\treco_to_sim:\tP: 0.973 R: 0.795 F: 0.931\n",
      "\t|S| = 2 |T| = 2 |R| = 2\n",
      "Event 3:\n",
      "\tclue3d_to_sim:\tP: 0.995 R: 0.383 F: 0.754\n",
      "\ttarget_to_sim:\tP: 0.991 R: 0.782 F: 0.941\n",
      "\treco_to_sim:\tP: 0.979 R: 0.767 F: 0.928\n",
      "\t|S| = 2 |T| = 2 |R| = 2\n",
      "Event 4:\n",
      "\tclue3d_to_sim:\tP: 0.998 R: 0.250 F: 0.625\n",
      "\ttarget_to_sim:\tP: 0.996 R: 0.838 F: 0.960\n",
      "\treco_to_sim:\tP: 0.987 R: 0.828 F: 0.951\n",
      "\t|S| = 2 |T| = 2 |R| = 2\n",
      "Event 5:\n",
      "\tclue3d_to_sim:\tP: 0.996 R: 0.551 F: 0.858\n",
      "\ttarget_to_sim:\tP: 0.995 R: 0.839 F: 0.959\n",
      "\treco_to_sim:\tP: 0.963 R: 0.804 F: 0.926\n",
      "\t|S| = 2 |T| = 2 |R| = 2\n",
      "Event 6:\n",
      "\tclue3d_to_sim:\tP: 0.992 R: 0.219 F: 0.582\n",
      "\ttarget_to_sim:\tP: 0.992 R: 0.727 F: 0.925\n",
      "\treco_to_sim:\tP: 0.941 R: 0.668 F: 0.870\n",
      "\t|S| = 2 |T| = 2 |R| = 2\n",
      "Event 7:\n",
      "\tNo data\n",
      "Event 8:\n",
      "\tclue3d_to_sim:\tP: 0.997 R: 0.413 F: 0.777\n",
      "\ttarget_to_sim:\tP: 0.996 R: 0.761 F: 0.938\n",
      "\treco_to_sim:\tP: 0.996 R: 0.761 F: 0.938\n",
      "\t|S| = 2 |T| = 2 |R| = 2\n",
      "Event 9:\n",
      "\tclue3d_to_sim:\tP: 0.998 R: 0.177 F: 0.518\n",
      "\ttarget_to_sim:\tP: 0.998 R: 0.559 F: 0.862\n",
      "\treco_to_sim:\tP: 0.975 R: 0.535 F: 0.837\n",
      "\t|S| = 2 |T| = 2 |R| = 2\n",
      "Event 10:\n",
      "\tNo data\n",
      "Event 11:\n",
      "\tclue3d_to_sim:\tP: 0.999 R: 0.524 F: 0.846\n",
      "\ttarget_to_sim:\tP: 0.999 R: 0.829 F: 0.960\n",
      "\treco_to_sim:\tP: 0.999 R: 0.829 F: 0.960\n",
      "\t|S| = 2 |T| = 2 |R| = 2\n",
      "Event 12:\n",
      "\tclue3d_to_sim:\tP: 0.984 R: 0.277 F: 0.651\n",
      "\ttarget_to_sim:\tP: 0.975 R: 0.616 F: 0.873\n",
      "\treco_to_sim:\tP: 0.955 R: 0.595 F: 0.852\n",
      "\t|S| = 2 |T| = 2 |R| = 2\n",
      "Event 13:\n",
      "\tclue3d_to_sim:\tP: 1.000 R: 0.258 F: 0.635\n",
      "\ttarget_to_sim:\tP: 1.000 R: 0.757 F: 0.939\n",
      "\treco_to_sim:\tP: 0.952 R: 0.691 F: 0.885\n",
      "\t|S| = 2 |T| = 2 |R| = 2\n",
      "Event 14:\n",
      "\tclue3d_to_sim:\tP: 0.976 R: 0.155 F: 0.475\n",
      "\ttarget_to_sim:\tP: 0.970 R: 0.598 F: 0.863\n",
      "\treco_to_sim:\tP: 0.955 R: 0.561 F: 0.837\n",
      "\t|S| = 2 |T| = 2 |R| = 2\n",
      "Event 15:\n",
      "\tclue3d_to_sim:\tP: 0.996 R: 0.209 F: 0.568\n",
      "\ttarget_to_sim:\tP: 0.993 R: 0.758 F: 0.935\n",
      "\treco_to_sim:\tP: 0.955 R: 0.715 F: 0.895\n",
      "\t|S| = 2 |T| = 2 |R| = 2\n",
      "Event 16:\n",
      "\tNo data\n",
      "Event 17:\n",
      "\tclue3d_to_sim:\tP: 0.985 R: 0.268 F: 0.642\n",
      "\ttarget_to_sim:\tP: 0.981 R: 0.763 F: 0.928\n",
      "\treco_to_sim:\tP: 0.958 R: 0.691 F: 0.889\n",
      "\t|S| = 2 |T| = 2 |R| = 2\n",
      "Event 18:\n",
      "\tclue3d_to_sim:\tP: 0.989 R: 0.317 F: 0.695\n",
      "\ttarget_to_sim:\tP: 0.985 R: 0.801 F: 0.942\n",
      "\treco_to_sim:\tP: 0.962 R: 0.787 F: 0.921\n",
      "\t|S| = 2 |T| = 2 |R| = 2\n",
      "Event 19:\n",
      "\tclue3d_to_sim:\tP: 0.991 R: 0.277 F: 0.654\n",
      "\ttarget_to_sim:\tP: 0.987 R: 0.494 F: 0.823\n",
      "\treco_to_sim:\tP: 0.956 R: 0.454 F: 0.783\n",
      "\t|S| = 2 |T| = 2 |R| = 2\n",
      "-----\n",
      "mean clue3d_to_sim:\tP: 0.993 R: 0.307 F: 0.665\n",
      "mean target_to_sim:\tP: 0.990 R: 0.726 F: 0.919\n",
      "mean reco_to_sim:\tP: 0.968 R: 0.698 F: 0.894\n"
     ]
    }
   ],
   "source": [
    "result = model_evaluation(\n",
    "    cluster_data,\n",
    "    trackster_data,\n",
    "    simtrackster_data,\n",
    "    assoc_data,\n",
    "    model,\n",
    "    decision_th=0.5,\n",
    "    radius=100,\n",
    "    max_events=20,\n",
    "    bigT_e_th=75,\n",
    "    graph=True,\n",
    ")"
   ]
  },
  {
   "cell_type": "markdown",
   "id": "328866f1-c862-4dfb-a201-91d2baa53d9f",
   "metadata": {},
   "source": [
    "## Results\n",
    "\n",
    "Using alpha=balance seems to converge faster (100 epochs rather than 200)\n",
    "- maybe just sticking to 0.25? (works just fine)\n",
    "\n",
    "Hyperparams\n",
    "- (64, 128, noskip), alpha=balance, roc_auc = 0.9733\n",
    "- (64, 128, 256fc, noskip, 200e), alpha=1-balance, roc_auc = 0.9771\n",
    "- (64, 128, 256fc, noskip, 200e), alpha=balance, roc_auc = 0.981\n",
    "- (64, 128, 256fc, noskip, 100e), alpha=0.25, roc_auc = 0.9796"
   ]
  }
 ],
 "metadata": {
  "kernelspec": {
   "display_name": "Python 3.9.6 ('ve': venv)",
   "language": "python",
   "name": "python3"
  },
  "language_info": {
   "codemirror_mode": {
    "name": "ipython",
    "version": 3
   },
   "file_extension": ".py",
   "mimetype": "text/x-python",
   "name": "python",
   "nbconvert_exporter": "python",
   "pygments_lexer": "ipython3",
   "version": "3.9.6"
  },
  "vscode": {
   "interpreter": {
    "hash": "37c238d9819f69c2c770157eac01081978c120e64661e10d7fd52c4caf977dc9"
   }
  }
 },
 "nbformat": 4,
 "nbformat_minor": 5
}
