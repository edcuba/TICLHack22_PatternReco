{
 "cells": [
  {
   "attachments": {},
   "cell_type": "markdown",
   "id": "6c07744a",
   "metadata": {},
   "source": [
    "# Trackster-level graph net with PU\n",
    "\n",
    "Question: does including the neighborhood provide a benefit over the pairwise classification?"
   ]
  },
  {
   "cell_type": "code",
   "execution_count": 1,
   "id": "e3962d51",
   "metadata": {},
   "outputs": [],
   "source": [
    "import numpy as np\n",
    "import torch\n",
    "import sys\n",
    "\n",
    "import torch.nn as nn\n",
    "from torch.optim import SGD\n",
    "from torch_cluster import knn_graph\n",
    "from torch.optim.lr_scheduler import CosineAnnealingLR\n",
    "\n",
    "from torch.utils.data import random_split\n",
    "from torch_geometric.loader import DataLoader\n",
    "import torch_geometric.transforms as T\n",
    "\n",
    "from reco.model import DynamicEdgeConvBlock\n",
    "\n",
    "from reco.training import precision_recall_curve, roc_auc\n",
    "from reco.loss import GraphClassificationLoss\n",
    "from reco.datasetPU import TracksterGraph\n",
    "\n",
    "\n",
    "ds_name = \"CloseByTwoPion\"\n",
    "\n",
    "data_root = \"data\"\n",
    "raw_dir = f\"/Users/ecuba/data/{ds_name}\"\n",
    "\n",
    "# data_root = \"/mnt/ceph/users/ecuba/processed\"\n",
    "# raw_dir = f\"/mnt/ceph/users/ecuba/{ds_name}\""
   ]
  },
  {
   "cell_type": "code",
   "execution_count": 2,
   "id": "02f59304-76e4-4132-a379-978a46a042fd",
   "metadata": {},
   "outputs": [
    {
     "name": "stdout",
     "output_type": "stream",
     "text": [
      "Using device: cpu\n"
     ]
    }
   ],
   "source": [
    "# CUDA Setup\n",
    "device = torch.device('cuda' if torch.cuda.is_available() else \"cpu\")\n",
    "print(f\"Using device: {device}\")"
   ]
  },
  {
   "cell_type": "code",
   "execution_count": 3,
   "id": "012b3572",
   "metadata": {},
   "outputs": [],
   "source": [
    "def create_mask(data):\n",
    "    # extract the focus feature\n",
    "    data.mask = (1 - data.x[:,0]).type(torch.bool)\n",
    "    return data\n",
    "\n",
    "def knn_transform(data):\n",
    "    # pos coordinates are on position 3:6\n",
    "    data.edge_index = knn_graph(data.pos, k=4, loop=False)\n",
    "    return data\n",
    "\n",
    "def prepend_pos(data):\n",
    "    # GravNet: add S to the front\n",
    "    data.x = torch.hstack((data.pos, data.x))\n",
    "    return data\n",
    "\n",
    "transforms = T.Compose([prepend_pos])"
   ]
  },
  {
   "cell_type": "code",
   "execution_count": 4,
   "id": "ecf4c091",
   "metadata": {},
   "outputs": [
    {
     "data": {
      "text/plain": [
       "Data(x=[51131, 39], y=[51131], pos=[51131, 3], e=[51131], shared_e=[51131], node_index=[51131])"
      ]
     },
     "execution_count": 4,
     "metadata": {},
     "output_type": "execute_result"
    }
   ],
   "source": [
    "ds = TracksterGraph(\n",
    "    ds_name,\n",
    "    data_root,\n",
    "    raw_dir,\n",
    "    N_FILES=10,\n",
    "    radius=100,\n",
    "    bigT_e_th=75,\n",
    "    # transform=transforms\n",
    "    # pileup=True,\n",
    "    # collection=\"CP\"\n",
    ")\n",
    "\n",
    "# ds.processed_file_names\n",
    "ds.data"
   ]
  },
  {
   "cell_type": "code",
   "execution_count": 5,
   "id": "f5ed3e15",
   "metadata": {},
   "outputs": [
    {
     "data": {
      "text/plain": [
       "51131"
      ]
     },
     "execution_count": 5,
     "metadata": {},
     "output_type": "execute_result"
    }
   ],
   "source": [
    "len(ds.data.y)"
   ]
  },
  {
   "cell_type": "code",
   "execution_count": 6,
   "id": "604298f4",
   "metadata": {},
   "outputs": [
    {
     "name": "stdout",
     "output_type": "stream",
     "text": [
      "Train graphs: 1431, Test graphs: 159, total: 1590\n"
     ]
    }
   ],
   "source": [
    "ds_size = len(ds)\n",
    "test_set_size = ds_size // 10\n",
    "train_set_size = ds_size - test_set_size\n",
    "train_set, test_set = random_split(ds, [train_set_size, test_set_size])\n",
    "print(f\"Train graphs: {len(train_set)}, Test graphs: {len(test_set)}, total: {ds_size}\")\n",
    "\n",
    "train_dl = DataLoader(train_set, batch_size=16, shuffle=True)\n",
    "test_dl = DataLoader(test_set, batch_size=16, shuffle=True)"
   ]
  },
  {
   "cell_type": "code",
   "execution_count": 7,
   "id": "3f4a0b99-bef3-4c82-a0ac-d88e1521382b",
   "metadata": {},
   "outputs": [],
   "source": [
    "class TracksterGraphNet(nn.Module):\n",
    "    def __init__(self, input_dim, output_dim=1, dropout=0.2, S=3):\n",
    "        super(TracksterGraphNet, self).__init__()\n",
    "        \n",
    "        hdim1 = 64\n",
    "        hdim2 = 64\n",
    "        hdim3 = 64\n",
    "\n",
    "        hdim_fc = 256\n",
    "\n",
    "        self.edgeconv1 = DynamicEdgeConvBlock(input_dim, hdim1)\n",
    "        self.edgeconv2 = DynamicEdgeConvBlock(hdim1, hdim2)\n",
    "        self.edgeconv3 = DynamicEdgeConvBlock(hdim2, hdim3)\n",
    "        \n",
    "        # Edge features from node embeddings for classification        \n",
    "        self.nodenetwork = nn.Sequential(\n",
    "            nn.Linear(hdim3, hdim_fc),\n",
    "            nn.ReLU(),\n",
    "            nn.Dropout(dropout),\n",
    "            nn.Linear(hdim_fc, 3),\n",
    "            nn.ReLU(),\n",
    "            nn.Linear(3, output_dim),\n",
    "            nn.Sigmoid()\n",
    "        )\n",
    "\n",
    "    def forward(self, X):\n",
    "        H1 = self.edgeconv1(X)\n",
    "        H2 = self.edgeconv2(H1)\n",
    "        H3 = self.edgeconv3(H2)\n",
    "        return self.nodenetwork(H3).squeeze(-1)"
   ]
  },
  {
   "cell_type": "code",
   "execution_count": 8,
   "id": "1ce36485",
   "metadata": {},
   "outputs": [],
   "source": [
    "model = TracksterGraphNet(input_dim=ds.data.x.shape[1])\n",
    "epochs = 10\n",
    "model_path = f\"models/TracksterGraphNet.GravNet.ns.{epochs}e-{ds_name}.{ds.RADIUS}.{ds.SCORE_THRESHOLD}.{ds.N_FILES}f.pt\""
   ]
  },
  {
   "cell_type": "code",
   "execution_count": 9,
   "id": "2539cf65",
   "metadata": {},
   "outputs": [],
   "source": [
    "def train_graph_classification(model, device, optimizer, loss_func, train_dl):\n",
    "    train_loss = []\n",
    "    model.train()\n",
    "\n",
    "    for data in train_dl:\n",
    "        data = data.to(device)\n",
    "        optimizer.zero_grad()\n",
    "\n",
    "        seg_pred = model(data.x)\n",
    "        loss = loss_func(data, seg_pred)\n",
    "        loss.backward()\n",
    "\n",
    "        optimizer.step()\n",
    "\n",
    "        train_loss.append(loss.item())\n",
    "\n",
    "    return np.mean(train_loss)"
   ]
  },
  {
   "cell_type": "code",
   "execution_count": 10,
   "id": "259ee8b3",
   "metadata": {},
   "outputs": [],
   "source": [
    "@torch.no_grad()\n",
    "def test_graph_classification(model, device, loss_func, test_dl):\n",
    "    test_loss = []\n",
    "    model.eval()\n",
    "    for data in test_dl:\n",
    "        data = data.to(device)\n",
    "        seg_pred = model(data.x)\n",
    "        loss = loss_func(data, seg_pred)\n",
    "        test_loss.append(loss.item())\n",
    "\n",
    "    return np.mean(test_loss)"
   ]
  },
  {
   "cell_type": "code",
   "execution_count": 11,
   "id": "2d3f1e82-74c5-4629-9b20-f05d7662aaf1",
   "metadata": {},
   "outputs": [
    {
     "name": "stdout",
     "output_type": "stream",
     "text": [
      "skipping\n"
     ]
    }
   ],
   "source": [
    "%%script echo skipping\n",
    "\n",
    "# alpha - percentage of negative edges\n",
    "loss_func = GraphClassificationLoss()\n",
    "\n",
    "model = model.to(device)\n",
    "optimizer = SGD(model.parameters(), lr=1e-3, momentum=0.9, weight_decay=1e-4)\n",
    "scheduler = CosineAnnealingLR(optimizer, epochs, eta_min=1e-5)\n",
    "\n",
    "for epoch in range(epochs):\n",
    "\n",
    "    train_loss = train_graph_classification(\n",
    "        model,\n",
    "        device,\n",
    "        optimizer,\n",
    "        loss_func,\n",
    "        train_dl\n",
    "    )\n",
    "    \n",
    "    scheduler.step()\n",
    "\n",
    "    if epoch % 1 == 0:\n",
    "        test_loss = test_graph_classification(model, device, loss_func, test_dl)\n",
    "        print(\n",
    "            f\"Epoch {epoch}\\t train loss: {train_loss:.3f}\\t test loss: {test_loss:.3f}\",\n",
    "            file=sys.stderr\n",
    "        )\n",
    "        \n",
    "torch.save(model.state_dict(), model_path)\n",
    "print(model_path)"
   ]
  },
  {
   "cell_type": "code",
   "execution_count": 12,
   "id": "0b9cbaa6",
   "metadata": {},
   "outputs": [],
   "source": [
    "#%%script echo skipping\n",
    "model.load_state_dict(torch.load(\n",
    "    model_path,\n",
    "    map_location=device\n",
    "))\n",
    "model = model.to(device)"
   ]
  },
  {
   "cell_type": "code",
   "execution_count": 13,
   "id": "f2e14bc7-4d33-485b-9075-348fa0bd284e",
   "metadata": {},
   "outputs": [
    {
     "data": {
      "image/png": "[encoded data removed]",
      "text/plain": [
       "<Figure size 640x480 with 1 Axes>"
      ]
     },
     "metadata": {},
     "output_type": "display_data"
    },
    {
     "name": "stdout",
     "output_type": "stream",
     "text": [
      "TP: 2553, TN: 1841, FP: 381, FN: 442\n",
      "TH: 0.52 precision: 0.870 recall: 0.852 fbeta: 0.867 b_acc: 0.840\n"
     ]
    }
   ],
   "source": [
    "precision_recall_curve(model, device, test_dl, focus_metric=\"fbeta\", beta=0.5, step=3, truth_threshold=0.5)"
   ]
  },
  {
   "cell_type": "code",
   "execution_count": 14,
   "id": "c86c98db-0ac0-4a0c-84fd-4c50df507528",
   "metadata": {},
   "outputs": [
    {
     "name": "stdout",
     "output_type": "stream",
     "text": [
      "0.893341267294252\n"
     ]
    }
   ],
   "source": [
    "print(roc_auc(model, device, test_dl))"
   ]
  },
  {
   "attachments": {},
   "cell_type": "markdown",
   "id": "eb8ce4e2",
   "metadata": {},
   "source": [
    "## Eval"
   ]
  },
  {
   "cell_type": "code",
   "execution_count": 15,
   "id": "fb3f12d6",
   "metadata": {},
   "outputs": [],
   "source": [
    "import uproot\n",
    "import matplotlib.pyplot as plt\n",
    "import numpy as np\n",
    "from reco.data import get_event_data\n",
    "from reco.evaluation import model_evaluation\n",
    "\n",
    "from reco.dummy import DummyPleaser\n",
    "\n",
    "file_name = f\"{raw_dir}/new_ntuples_15101852_0.root\"\n",
    "cluster_data, trackster_data, simtrackster_data, assoc_data = get_event_data(file_name)"
   ]
  },
  {
   "cell_type": "code",
   "execution_count": 16,
   "id": "6b5ffc46",
   "metadata": {},
   "outputs": [
    {
     "name": "stdout",
     "output_type": "stream",
     "text": [
      "Event 0:\n",
      "[(0, 0), (1, 0), (2, 0), (3, 0), (4, 0), (5, 0), (6, 0), (7, 0), (8, 0), (9, 0), (10, 0), (11, 0), (12, 0), (13, 0), (14, 0), (15, 0), (16, 0), (17, 0), (18, 0), (19, 0), (20, 0), (21, 0), (22, 0), (23, 0), (24, 0), (25, 0), (26, 0), (27, 0), (28, 0), (29, 0), (30, 0), (31, 0), (32, 0), (33, 0), (34, 0), (35, 0), (0, 9), (1, 9), (2, 9), (3, 9), (4, 9), (5, 9), (6, 9), (7, 9), (8, 9), (9, 9), (10, 9), (11, 9), (12, 9), (13, 9), (14, 9), (15, 9), (16, 9), (17, 9), (18, 9), (19, 9), (20, 9), (21, 9), (22, 9), (23, 9), (24, 9), (25, 9), (26, 9), (27, 9), (28, 9), (29, 9), (30, 9), (31, 9), (32, 9), (33, 9), (34, 9), (35, 9), (36, 9), (37, 9), (38, 9), (39, 9), (40, 9), (0, 11), (1, 11), (2, 11), (3, 11), (4, 11), (5, 11), (6, 11), (7, 11), (8, 11), (9, 11), (10, 11), (11, 11), (12, 11), (13, 11), (14, 11), (15, 11), (16, 11), (17, 11), (18, 11), (19, 11), (20, 11), (21, 11), (22, 11), (23, 11), (24, 11), (25, 11), (26, 11), (27, 11), (28, 11), (29, 11), (30, 11), (31, 11), (32, 11), (33, 11), (34, 11), (35, 11), (36, 11), (37, 11), (38, 11), (39, 11), (40, 11)]\n",
      "[0.8278948068618774, 0.734338641166687, 0.022293247282505035, 0.21563085913658142, 0.7643924355506897, 0.16323277354240417, 0.15623953938484192, 0.6814281940460205, 0.8278948068618774, 0.8278948068618774, 0.04016095772385597, 5.349836555978982e-06, 0.8278948068618774, 0.664763867855072, 0.13747917115688324, 0.03221268579363823, 0.029806412756443024, 0.8278948068618774, 0.8278948068618774, 0.8278948068618774, 0.0784178078174591, 0.6485536098480225, 0.29320141673088074, 0.06414486467838287, 0.769599437713623, 0.6024940013885498, 0.5170308947563171, 0.673775315284729, 0.795123815536499, 0.4178307056427002, 0.8278948068618774, 0.6442492008209229, 0.16052407026290894, 0.03953878581523895, 0.0024576799478381872, 0.3319437801837921, 0.7851485013961792, 0.7521746754646301, 0.02400284633040428, 0.2660585045814514, 0.8041678667068481, 0.23013170063495636, 0.18382354080677032, 0.7045705914497375, 0.8278948068618774, 0.8278948068618774, 0.05398876592516899, 3.526371801854111e-05, 0.8278948068618774, 0.6906086206436157, 0.1412377953529358, 0.040254637598991394, 0.039874203503131866, 0.8278948068618774, 0.8278948068618774, 0.8278948068618774, 0.08643849939107895, 0.7629958987236023, 0.31385618448257446, 0.05822255462408066, 0.826154887676239, 0.6351377964019775, 0.5979024767875671, 0.48497676849365234, 0.7761209011077881, 0.4998674690723419, 0.8278948068618774, 0.6846540570259094, 0.18750019371509552, 0.05680711939930916, 0.0027078292332589626, 0.388340562582016, 0.003387715434655547, 0.13684909045696259, 0.5088736414909363, 0.06485471874475479, 0.35664045810699463, 0.00011442728282418102, 0.13827849924564362, 0.8278948068618774, 0.8278948068618774, 0.19799582660198212, 0.18624205887317657, 0.4541855454444885, 0.6400493383407593, 0.192996084690094, 0.001509378314949572, 0.7688438892364502, 0.8278948068618774, 0.06137914955615997, 0.7847837805747986, 0.7674208283424377, 0.8273574709892273, 0.7945317029953003, 0.12889547646045685, 0.12034542858600616, 0.022638635709881783, 0.8278948068618774, 0.7646339535713196, 0.46888741850852966, 0.7071263790130615, 0.01134834811091423, 0.626217782497406, 0.3318467140197754, 0.020150719210505486, 0.11722330003976822, 0.38657593727111816, 0.011380749754607677, 0.32613304257392883, 0.7487888932228088, 0.8278948068618774, 0.8278948068618774, 0.8133547306060791, 0.8278948068618774, 0.8278948068618774, 0.5164747834205627, 0.769822359085083, 0.7798832058906555]\n",
      "[0.9999997019767761, 1.0, 0.0, 0.015536069869995117, 0.9976720809936523, 0.0, 0.49172961711883545, 0.0, 0.2527790665626526, 0.9944303631782532, 0.0, 0.003579080104827881, 0.9939321279525757, 0.0, 0.0, 0.0, 0.0, 1.0, 0.9957944750785828, 0.999161422252655, 0.019684314727783203, 0.016421020030975342, 0.42864102125167847, 0.0, 0.6605844497680664, 0.3915531039237976, 0.0, 1.0, 1.0, 0.2825303077697754, 1.0, 0.05272555351257324, 0.0, 0.0, 0.007231950759887695, 0.0, 0.9999997019767761, 1.0, 0.0, 0.015536069869995117, 0.9976720809936523, 0.0, 0.49172961711883545, 0.0, 0.2527790665626526, 0.9944303631782532, 0.0, 0.003579080104827881, 0.9939321279525757, 0.0, 0.0, 0.0, 0.0, 1.0, 0.9957944750785828, 0.999161422252655, 0.019684314727783203, 0.016421020030975342, 0.42864102125167847, 0.0, 0.6605844497680664, 0.3915531039237976, 0.0, 1.0, 1.0, 0.2825303077697754, 1.0, 0.05272555351257324, 0.0, 0.0, 0.007231950759887695, 0.0, 0.0, 0.0, 0.0, 0.0, 0.0, 0.0, 0.0, 1.0, 0.9982345700263977, 0.0, 1.0, 0.8714274764060974, 1.0, 0.9162154197692871, 0.00900036096572876, 1.0, 0.9999628067016602, 0.00545424222946167, 1.0, 0.999235212802887, 1.0, 1.0, 0.0, 0.028429388999938965, 0.05003654956817627, 0.9898908734321594, 0.9853397607803345, 0.7596799731254578, 0.9995246529579163, 0.3712933659553528, 0.9049029350280762, 1.0, 0.0, 0.0, 0.9759958982467651, 0.0, 0.9837388396263123, 1.0, 1.0, 0.999963641166687, 1.0, 1.0, 1.0, 1.0, 1.0, 1.0]\n",
      "\tclue3d_to_sim:\tP: 0.988 R: 0.229 F: 0.594\n",
      "\ttarget_to_sim:\tP: 0.981 R: 0.686 F: 0.903\n",
      "\treco_to_sim:\tP: 0.950 R: 0.633 F: 0.863\n",
      "Event 1:\n",
      "\tNo data\n",
      "Event 2:\n",
      "[(0, 0), (1, 0), (2, 0), (3, 0), (4, 0), (5, 0), (6, 0), (7, 0), (8, 0), (9, 0), (10, 0), (11, 0), (12, 0), (13, 0), (14, 0), (15, 0), (16, 0), (17, 0), (18, 0), (19, 0), (20, 0), (21, 0), (22, 0), (23, 0), (24, 0), (25, 0), (26, 0), (27, 0), (28, 0), (29, 0), (30, 0), (31, 0), (32, 0), (33, 0), (34, 0), (35, 0), (36, 0), (37, 0), (38, 0), (39, 0), (40, 0), (41, 0), (42, 0), (0, 5), (1, 5), (2, 5), (3, 5), (4, 5), (5, 5), (6, 5), (7, 5), (8, 5), (9, 5), (10, 5), (11, 5), (12, 5), (13, 5), (14, 5), (15, 5), (16, 5), (17, 5), (18, 5), (19, 5), (20, 5), (21, 5), (22, 5), (23, 5), (24, 5), (25, 5), (26, 5), (27, 5), (28, 5), (29, 5), (30, 5), (31, 5), (32, 5), (33, 5), (34, 5), (35, 5), (36, 5), (37, 5), (38, 5), (39, 5), (40, 5), (41, 5), (42, 5), (0, 22), (1, 22), (2, 22), (3, 22), (4, 22), (5, 22), (6, 22), (7, 22), (8, 22), (9, 22), (10, 22), (11, 22), (12, 22), (13, 22), (14, 22), (15, 22), (16, 22), (17, 22), (18, 22), (19, 22), (20, 22), (21, 22), (22, 22), (23, 22), (24, 22), (25, 22), (26, 22), (27, 22), (28, 22), (29, 22), (30, 22), (31, 22), (32, 22), (33, 22), (34, 22), (35, 22), (36, 22), (37, 22), (38, 22), (39, 22), (40, 22), (41, 22), (42, 22)]\n",
      "[0.8278948068618774, 0.8278948068618774, 0.8278948068618774, 0.02783334255218506, 0.035712454468011856, 7.325061781096598e-13, 0.008589244447648525, 0.006869848817586899, 0.06989996135234833, 0.011340228840708733, 0.03000139817595482, 0.0069720144383609295, 0.03198814392089844, 0.8278948068618774, 0.8278948068618774, 7.0523701651836745e-06, 0.8278948068618774, 0.24634335935115814, 0.005415794905275106, 0.01398165337741375, 0.006670438218861818, 0.8278948068618774, 0.8278948068618774, 0.014411477372050285, 0.8278948068618774, 0.7934742569923401, 0.010888325050473213, 0.7231912016868591, 0.06670007854700089, 0.3220323920249939, 0.18803441524505615, 0.004594382364302874, 0.3460761606693268, 0.02008228190243244, 0.8278948068618774, 0.29154494404792786, 0.09331721812486649, 0.8278948068618774, 0.007612159941345453, 0.8020668625831604, 8.401038940064609e-07, 0.32549798488616943, 0.8278948068618774, 4.572361262944469e-07, 0.005460504908114672, 0.02404032088816166, 0.5948262214660645, 0.7012272477149963, 0.8278948068618774, 0.8250443339347839, 0.7994185090065002, 0.6738259792327881, 0.8278948068618774, 0.8095653653144836, 0.8278948068618774, 0.8143805265426636, 0.0169011689722538, 0.023236507549881935, 0.8278948068618774, 0.0074555957689881325, 0.2629590630531311, 0.8278948068618774, 0.756210446357727, 0.8278948068618774, 0.008312908001244068, 3.305299556190938e-13, 0.8278948068618774, 0.00764887360855937, 0.08980605751276016, 0.36986681818962097, 0.009396792389452457, 0.696718692779541, 0.006170094013214111, 0.03782693296670914, 0.4159655272960663, 0.09016349166631699, 0.467399001121521, 0.009783783927559853, 0.11638900637626648, 0.16223283112049103, 0.011069800704717636, 0.8146713376045227, 0.012698329985141754, 0.8278948068618774, 0.015728404745459557, 0.14780093729496002, 0.8278948068618774, 0.8278948068618774, 0.8278948068618774, 0.027890520170331, 0.03678768500685692, 7.268113519885711e-13, 0.00862005352973938, 0.006917890626937151, 0.07008013874292374, 0.011472435668110847, 0.029795300215482712, 0.007022880017757416, 0.03106965497136116, 0.8278948068618774, 0.8278948068618774, 6.958704489079537e-06, 0.8278948068618774, 0.24321527779102325, 0.005394569598138332, 0.01456136628985405, 0.006937291007488966, 0.8278948068618774, 0.8278948068618774, 0.014189723879098892, 0.8278948068618774, 0.8067495226860046, 0.011043230071663857, 0.7021083831787109, 0.06667312979698181, 0.3406650424003601, 0.18567073345184326, 0.004611278884112835, 0.3414657711982727, 0.020006030797958374, 0.8278948068618774, 0.30697160959243774, 0.0860619992017746, 0.8278948068618774, 0.008454200811684132, 0.794195830821991, 8.381976499549637e-07, 0.31921520829200745, 0.8278948068618774]\n",
      "[1.0, 1.0, 1.0, 0.0, 0.0, 0.0, 0.0, 0.0, 0.0, 0.0, 0.0, 0.0, 0.0, 1.0, 1.0, 0.0, 1.0, 0.11871904134750366, 0.0, 2.6464462280273438e-05, 0.0, 1.0, 1.0, 0.0, 1.0, 0.966789722442627, 0.0, 1.0, 0.0, 1.0, 0.9999940395355225, 0.0, 0.9477729797363281, 0.0, 1.0, 1.0, 0.8781857490539551, 1.0, 0.0, 1.0, 0.0, 0.9785165190696716, 0.9868431687355042, 0.0, 0.0, 0.0, 1.0, 1.0, 1.0, 1.0, 1.0, 1.0, 1.0, 1.0, 1.0, 1.0, 0.0, 0.0, 1.0, 0.0, 0.9788132309913635, 1.0, 0.9999999403953552, 1.0, 0.0, 8.106231689453125e-06, 1.0, 0.0, 0.11418008804321289, 1.0, 0.0, 1.0, 0.0, 0.00029981136322021484, 1.0, 0.05279618501663208, 1.0, 0.0, 0.0, 0.1218143105506897, 0.0, 1.0, 0.0, 1.0, 0.1468169093132019, 0.14718979597091675, 1.0, 1.0, 1.0, 0.0, 0.0, 0.0, 0.0, 0.0, 0.0, 0.0, 0.0, 0.0, 0.0, 1.0, 1.0, 0.0, 1.0, 0.11871904134750366, 0.0, 2.6464462280273438e-05, 0.0, 1.0, 1.0, 0.0, 1.0, 0.966789722442627, 0.0, 1.0, 0.0, 1.0, 0.9999940395355225, 0.0, 0.9477729797363281, 0.0, 1.0, 1.0, 0.8781857490539551, 1.0, 0.0, 1.0, 0.0, 0.9785165190696716, 0.9868431687355042]\n",
      "\tclue3d_to_sim:\tP: 1.000 R: 0.396 F: 0.766\n",
      "\ttarget_to_sim:\tP: 0.999 R: 0.814 F: 0.956\n",
      "\treco_to_sim:\tP: 1.000 R: 0.766 F: 0.942\n",
      "Event 3:\n",
      "[(0, 1), (1, 1), (2, 1), (3, 1), (4, 1), (5, 1), (6, 1), (7, 1), (8, 1), (9, 1), (10, 1), (11, 1), (12, 1), (13, 1), (14, 1), (15, 1), (16, 1), (17, 1), (18, 1), (19, 1), (20, 1), (21, 1), (22, 1), (23, 1), (24, 1), (25, 1), (26, 1), (27, 1), (28, 1), (29, 1), (30, 1), (31, 1), (32, 1), (33, 1), (34, 1), (35, 1), (0, 12), (1, 12), (2, 12), (3, 12), (4, 12), (5, 12), (6, 12), (7, 12), (8, 12), (9, 12), (10, 12), (11, 12), (12, 12), (13, 12), (14, 12), (15, 12), (16, 12), (17, 12), (18, 12), (19, 12), (20, 12), (21, 12), (22, 12), (23, 12), (24, 12), (25, 12), (26, 12), (27, 12), (28, 12), (29, 12), (30, 12), (31, 12), (32, 12), (33, 12), (34, 12), (35, 12)]\n",
      "[0.6986150145530701, 0.8278948068618774, 0.7261209487915039, 0.11960600316524506, 0.6383410096168518, 0.8034471273422241, 0.7000885009765625, 0.8278948068618774, 0.7052640318870544, 0.6259294152259827, 0.21203134953975677, 0.7753258943557739, 4.97878204441804e-07, 0.8278948068618774, 0.8278948068618774, 0.8278948068618774, 0.024082377552986145, 0.02570723183453083, 0.08571125566959381, 0.6085954904556274, 0.2644941508769989, 0.826897919178009, 0.050286971032619476, 0.8088551163673401, 0.8107480406761169, 0.8278948068618774, 0.012940521351993084, 0.660216212272644, 0.027394631877541542, 0.025859035551548004, 0.020708030089735985, 0.006349075119942427, 0.20513823628425598, 0.4019998610019684, 0.32411903142929077, 0.032780539244413376, 0.060050755739212036, 0.0001680588029557839, 0.6345778703689575, 0.8013825416564941, 0.14572642743587494, 0.05167156830430031, 0.15587098896503448, 0.0379757396876812, 0.2370360791683197, 0.025167720392346382, 0.011447932571172714, 0.010136601515114307, 0.8278948068618774, 0.7120190262794495, 0.023039178922772408, 0.01145351305603981, 0.8278948068618774, 0.8278948068618774, 0.7292081117630005, 0.7862981557846069, 0.5673438906669617, 0.536659300327301, 0.8093298673629761, 0.6397152543067932, 0.7965631484985352, 0.02111695520579815, 0.8151769638061523, 0.8278948068618774, 0.8278948068618774, 0.724778413772583, 0.4855419993400574, 0.7804597616195679, 0.24833066761493683, 0.8278948068618774, 0.796288788318634, 0.8049007654190063]\n",
      "[1.0, 0.9999338984489441, 1.0, 1.0, 1.0, 1.0, 0.9998506903648376, 0.9864914417266846, 0.9494454860687256, 1.0, 1.0, 1.0, 0.0011599063873291016, 0.8134250640869141, 0.9998214244842529, 0.9997730851173401, 0.0, 0.0003566145896911621, 0.0, 0.5064144134521484, 0.0, 0.9838833808898926, 0.0, 1.0, 0.0, 0.9993780255317688, 0.0, 0.0, 0.0, 0.0, 0.0, 0.0, 0.0, 0.0, 0.0, 0.0, 0.0, 0.0005987286567687988, 0.0, 0.0, 0.0, 0.0, 0.0, 0.0494004487991333, 0.07155799865722656, 0.0, 0.0, 0.0, 0.9999980330467224, 0.5128777027130127, 0.021771669387817383, 0.002980947494506836, 1.0, 0.9997838735580444, 1.0, 0.6589255332946777, 1.0, 0.03704780340194702, 1.0, 0.0, 1.0, 0.04474747180938721, 1.0, 1.0, 1.0, 1.0, 1.0, 1.0, 1.0, 1.0, 1.0, 1.0]\n",
      "\tclue3d_to_sim:\tP: 0.995 R: 0.383 F: 0.754\n",
      "\ttarget_to_sim:\tP: 0.992 R: 0.784 F: 0.942\n",
      "\treco_to_sim:\tP: 0.985 R: 0.756 F: 0.929\n",
      "Event 4:\n",
      "[(0, 8), (1, 8), (2, 8), (3, 8), (4, 8), (5, 8), (6, 8), (7, 8), (8, 8), (9, 8), (10, 8), (11, 8), (12, 8), (13, 8), (14, 8), (15, 8), (16, 8), (17, 8), (18, 8), (19, 8), (20, 8), (21, 8), (22, 8), (23, 8), (24, 8), (25, 8), (26, 8), (27, 8), (28, 8), (29, 8), (30, 8), (31, 8), (32, 8), (33, 8), (34, 8), (35, 8), (36, 8), (37, 8), (38, 8), (39, 8), (40, 8), (41, 8), (42, 8), (43, 8), (44, 8), (45, 8), (46, 8), (47, 8), (48, 8), (49, 8), (50, 8), (51, 8), (52, 8), (53, 8), (54, 8), (55, 8), (0, 19), (1, 19), (2, 19), (3, 19), (4, 19), (5, 19), (6, 19), (7, 19), (8, 19), (9, 19), (10, 19), (11, 19), (12, 19), (13, 19), (14, 19), (15, 19), (16, 19), (17, 19), (18, 19), (19, 19), (20, 19), (21, 19), (22, 19), (23, 19), (24, 19), (25, 19), (26, 19), (27, 19), (28, 19), (29, 19), (30, 19), (31, 19), (32, 19), (33, 19), (34, 19), (35, 19), (36, 19), (37, 19), (38, 19), (39, 19), (40, 19), (41, 19), (42, 19), (43, 19), (44, 19), (45, 19), (46, 19), (47, 19), (48, 19), (49, 19), (50, 19), (51, 19), (52, 19), (53, 19), (54, 19), (55, 19)]\n",
      "[0.01027779933065176, 0.0014037537621334195, 0.009033724665641785, 0.010638006962835789, 0.008531075902283192, 0.8278948068618774, 0.8278948068618774, 0.8278948068618774, 0.8278948068618774, 0.051617830991744995, 0.018112381920218468, 0.8278948068618774, 0.7306907176971436, 0.01297153439372778, 0.012828410603106022, 0.01115967333316803, 0.8066670894622803, 0.020532241091132164, 0.07281718403100967, 1.0903028480058197e-09, 0.007597916293889284, 0.8028128743171692, 0.8278948068618774, 0.0349426195025444, 0.03180297836661339, 0.009434043429791927, 0.7920669317245483, 0.8251974582672119, 0.11782337725162506, 0.018171558156609535, 0.01356822345405817, 0.5980755686759949, 0.8278948068618774, 0.8278948068618774, 0.6223272681236267, 0.7930309772491455, 0.6160688400268555, 0.004825772251933813, 0.004896894097328186, 0.8227024078369141, 0.8278948068618774, 0.8278948068618774, 0.24440564215183258, 0.7632830739021301, 0.009483321569859982, 0.009546072222292423, 0.8021482229232788, 0.017536303028464317, 0.006652616895735264, 0.025150293484330177, 0.024283910170197487, 0.08230436593294144, 0.8278948068618774, 0.7117732167243958, 0.5823044776916504, 0.8278948068618774, 0.8278948068618774, 0.7756994962692261, 0.8244723677635193, 0.8278948068618774, 0.7832399606704712, 0.01472575031220913, 0.012262441217899323, 0.04641995206475258, 1.7764340345949314e-11, 0.8049675822257996, 0.8278948068618774, 0.006220637820661068, 0.04693235829472542, 0.8278948068618774, 0.8098562955856323, 0.7372373342514038, 0.010734767653048038, 0.8278948068618774, 0.773591160774231, 0.8278948068618774, 0.7049180865287781, 0.017839528620243073, 0.005699364002794027, 0.8278948068618774, 0.8267722129821777, 0.13290554285049438, 0.012016178108751774, 0.021876007318496704, 0.44589072465896606, 0.7162823677062988, 0.8278948068618774, 0.019879478961229324, 0.0022632256150245667, 0.0068353526294231415, 0.007866034284234047, 0.028112303465604782, 0.018856754526495934, 0.6082150936126709, 0.8278948068618774, 0.03557191044092178, 0.016648169606924057, 0.004742286633700132, 0.019459016621112823, 0.10760032385587692, 0.7870821952819824, 0.4214668869972229, 0.01976155862212181, 0.8206557631492615, 0.8278948068618774, 0.8278948068618774, 0.7196446657180786, 0.6235042810440063, 0.05983937904238701, 0.04357047379016876, 0.015334868803620338, 0.007299435790628195]\n",
      "[0.0, 0.00030499696731567383, 0.0, 0.0, 0.0, 1.0, 0.5991815328598022, 1.0, 0.9999983906745911, 0.0, 0.1030968427658081, 1.0, 0.9965108633041382, 0.0, 0.0, 0.0, 0.9977132678031921, 0.0, 0.0, 0.0020499229431152344, 0.0, 1.0, 0.9999793171882629, 0.0, 0.0, 0.0, 1.0, 0.9997625946998596, 0.9523900747299194, 0.0, 0.017445385456085205, 0.9970479607582092, 1.0, 0.9999395608901978, 0.9994425177574158, 0.16429835557937622, 1.0, 0.0, 0.0, 0.9977222084999084, 0.999280571937561, 1.0, 0.9967951774597168, 1.0, 0.0, 0.0, 1.0, 0.0, 0.0, 0.0, 0.0, 0.0, 1.0, 1.0, 1.0, 1.0, 1.0, 0.9999997019767761, 0.9997701048851013, 1.0, 0.9998837113380432, 0.0, 0.806035041809082, 0.0, 0.0, 1.0, 0.9682769775390625, 0.0, 0.01611638069152832, 1.0, 1.0, 1.0, 0.0, 0.9999855160713196, 1.0, 0.9999963045120239, 1.0, 0.0, 0.0, 1.0, 1.0, 1.0, 0.0, 0.0, 0.12232089042663574, 1.0, 0.9921870231628418, 0.0, 0.0, 0.0009026527404785156, 0.0, 0.9910863041877747, 0.0, 1.0, 1.0, 0.01746290922164917, 0.00036388635635375977, 0.0, 0.0, 0.0, 1.0, 1.0, 0.0, 1.0, 1.0, 1.0, 1.0, 1.0, 0.0, 0.0, 0.0, 0.0]\n",
      "\tclue3d_to_sim:\tP: 0.998 R: 0.250 F: 0.625\n",
      "\ttarget_to_sim:\tP: 0.995 R: 0.836 F: 0.958\n",
      "\treco_to_sim:\tP: 0.994 R: 0.816 F: 0.953\n",
      "Event 5:\n",
      "[(0, 1), (1, 1), (2, 1), (3, 1), (4, 1), (5, 1), (6, 1), (7, 1), (8, 1), (9, 1), (10, 1), (11, 1), (12, 1), (13, 1), (14, 1), (15, 1), (16, 1), (17, 1), (18, 1), (19, 1), (20, 1), (21, 1), (22, 1), (23, 1), (24, 1), (25, 1), (0, 3), (1, 3), (2, 3), (3, 3), (4, 3), (5, 3), (6, 3), (7, 3), (8, 3), (9, 3), (10, 3), (11, 3), (12, 3), (13, 3), (14, 3), (15, 3), (16, 3), (17, 3), (18, 3), (19, 3), (20, 3), (21, 3), (22, 3), (23, 3), (24, 3), (25, 3)]\n",
      "[0.8278948068618774, 0.8278948068618774, 0.012171558104455471, 1.181510791981033e-11, 0.7769327163696289, 0.023058120161294937, 0.016799913719296455, 0.8278948068618774, 0.07193668186664581, 0.22486531734466553, 0.016241110861301422, 0.776696503162384, 0.013690571300685406, 0.0307196956127882, 0.8278948068618774, 0.8278948068618774, 0.009803787805140018, 0.014906896278262138, 0.017079977318644524, 0.8278948068618774, 0.057544808834791183, 0.02837989293038845, 0.009607999585568905, 0.0217362642288208, 0.8278948068618774, 0.07972526550292969, 0.021148184314370155, 1.7598409840502427e-08, 0.813083291053772, 0.8278948068618774, 0.006651419680565596, 0.8122729659080505, 0.8114601969718933, 0.02356107160449028, 0.8278948068618774, 0.5882948637008667, 0.7766146659851074, 0.013538006693124771, 0.8278948068618774, 0.5959308743476868, 0.019040971994400024, 0.008334572426974773, 0.8278948068618774, 0.8278948068618774, 0.8278948068618774, 0.0011908941669389606, 0.19133919477462769, 0.6636786460876465, 0.8278948068618774, 0.8278948068618774, 0.019076960161328316, 0.7920637726783752]\n",
      "[1.0, 0.9999991059303284, 0.0, 0.0, 1.0, 0.0, 0.0, 0.9978822469711304, 0.0, 0.08635157346725464, 0.0, 1.0, 0.0, 0.0, 1.0, 1.0, 0.0, 0.0, 0.010123610496520996, 0.9977710247039795, 0.0, 0.0, 0.0, 0.0, 1.0, 0.0, 0.0, 0.0, 1.0, 1.0, 0.0, 0.9989531636238098, 0.9985710382461548, 0.0, 1.0, 0.9412577152252197, 1.0, 0.0, 1.0, 1.0, 0.0, 0.0, 1.0, 1.0, 0.9962837100028992, 0.0, 1.0, 1.0, 1.0, 1.0, 0.0, 1.0]\n",
      "\tclue3d_to_sim:\tP: 0.996 R: 0.551 F: 0.858\n",
      "\ttarget_to_sim:\tP: 0.995 R: 0.839 F: 0.959\n",
      "\treco_to_sim:\tP: 0.995 R: 0.835 F: 0.958\n",
      "Event 6:\n",
      "[(0, 1), (1, 1), (2, 1), (3, 1), (4, 1), (5, 1), (6, 1), (7, 1), (8, 1), (9, 1), (10, 1), (11, 1), (12, 1), (13, 1), (14, 1), (15, 1), (16, 1), (17, 1), (18, 1), (19, 1), (20, 1), (21, 1), (22, 1), (23, 1), (24, 1), (25, 1), (26, 1), (0, 11), (1, 11), (2, 11), (3, 11), (4, 11), (5, 11), (6, 11), (7, 11), (8, 11), (9, 11), (10, 11), (11, 11), (12, 11), (13, 11), (14, 11), (15, 11), (16, 11), (17, 11), (18, 11), (19, 11), (20, 11), (21, 11), (22, 11), (23, 11), (24, 11), (25, 11), (26, 11), (27, 11), (28, 11), (29, 11), (30, 11)]\n",
      "[0.5780367255210876, 0.8278948068618774, 0.6999971866607666, 0.7411184906959534, 0.6703546047210693, 0.7709457874298096, 0.8238251805305481, 0.7399104833602905, 0.8278948068618774, 0.7439001202583313, 0.8028026223182678, 0.8278948068618774, 0.7840787768363953, 0.7342199087142944, 0.6282050609588623, 0.7203807830810547, 0.46165427565574646, 0.7839562892913818, 0.5798103213310242, 0.7590188384056091, 0.48321640491485596, 0.8278948068618774, 0.18525952100753784, 0.7534603476524353, 0.5553798079490662, 0.6083294153213501, 0.8278948068618774, 0.5576940178871155, 0.8278948068618774, 0.7107403874397278, 0.7256543040275574, 0.6353358626365662, 0.7860931754112244, 0.8213781118392944, 0.752609372138977, 0.8278948068618774, 0.713374137878418, 0.8039913773536682, 0.8278948068618774, 0.7854840159416199, 0.7294164299964905, 0.6538504958152771, 0.7423189282417297, 0.42691850662231445, 0.7960965633392334, 0.5384734869003296, 0.7484956383705139, 0.46703052520751953, 0.8278948068618774, 0.188309445977211, 0.690613865852356, 0.5888590216636658, 0.5676546096801758, 0.5297285914421082, 0.8278948068618774, 0.8278948068618774, 0.8112701773643494, 0.7808604836463928]\n",
      "[1.0, 0.9999982714653015, 0.9986693859100342, 0.9999710321426392, 1.0, 1.0, 0.9866329431533813, 0.9999165534973145, 1.0, 0.9999788999557495, 1.0, 0.9999737739562988, 0.9999501705169678, 1.0, 0.9979107975959778, 1.0, 1.0, 1.0, 1.0, 0.9994285106658936, 1.0, 0.9947109222412109, 1.0, 1.0, 1.0, 0.9998778104782104, 0.020494580268859863, 1.0, 0.9999982714653015, 0.9986693859100342, 0.9999710321426392, 1.0, 1.0, 0.9866329431533813, 0.9999165534973145, 1.0, 0.9999788999557495, 1.0, 0.9999737739562988, 0.9999501705169678, 1.0, 0.9979107975959778, 1.0, 1.0, 1.0, 1.0, 0.9994285106658936, 1.0, 0.9947109222412109, 1.0, 1.0, 1.0, 0.9998778104782104, 0.020494580268859863, 0.0, 0.06332194805145264, 0.07339054346084595, 0.0]\n",
      "\tclue3d_to_sim:\tP: 0.992 R: 0.219 F: 0.582\n",
      "\ttarget_to_sim:\tP: 0.992 R: 0.704 F: 0.917\n",
      "\treco_to_sim:\tP: 0.852 R: 0.721 F: 0.822\n",
      "Event 7:\n",
      "\tNo data\n",
      "Event 8:\n",
      "[(0, 0), (1, 0), (2, 0), (3, 0), (4, 0), (5, 0), (6, 0), (7, 0), (8, 0), (9, 0), (10, 0), (11, 0), (12, 0), (13, 0), (14, 0), (15, 0), (16, 0), (17, 0), (18, 0), (19, 0), (20, 0), (21, 0), (22, 0), (23, 0), (24, 0), (25, 0), (26, 0), (0, 3), (1, 3), (2, 3), (3, 3), (4, 3), (5, 3), (6, 3), (7, 3), (8, 3), (9, 3), (10, 3), (11, 3), (12, 3), (13, 3), (14, 3), (15, 3), (16, 3), (17, 3), (18, 3), (19, 3), (20, 3), (21, 3), (22, 3), (23, 3), (24, 3), (25, 3), (26, 3)]\n",
      "[0.8278948068618774, 0.022903522476553917, 0.8278948068618774, 2.8368143034640525e-07, 0.023314666002988815, 0.03950747475028038, 0.33146950602531433, 0.2779678702354431, 0.04149233177304268, 0.020641645416617393, 0.6976370215415955, 0.8278948068618774, 0.8278948068618774, 0.2322694957256317, 0.006996301468461752, 0.8157150745391846, 0.015624966472387314, 0.08251824975013733, 0.8106657862663269, 0.4764929711818695, 0.060418084263801575, 0.8278948068618774, 0.0224531851708889, 0.014624806120991707, 0.039433784782886505, 0.7605627179145813, 0.45064958930015564, 5.65704226573871e-07, 0.8278948068618774, 0.3900798559188843, 0.8278948068618774, 0.8278948068618774, 0.7503339648246765, 0.5978895425796509, 0.6379058361053467, 0.8278948068618774, 0.6493979096412659, 0.015979226678609848, 0.0094822458922863, 0.1098562479019165, 0.6775614619255066, 0.8278948068618774, 0.06249934434890747, 0.8278948068618774, 0.8106930255889893, 0.02553720213472843, 0.6900967955589294, 0.8050388097763062, 0.015695588663220406, 0.544072687625885, 0.8278948068618774, 0.8278948068618774, 0.05600864440202713, 0.7757733464241028]\n",
      "[0.9999939799308777, 0.0, 1.0, 0.0005295276641845703, 0.0, 0.0, 0.09516751766204834, 0.0, 0.0, 0.020409226417541504, 1.0, 1.0, 1.0, 0.374086856842041, 0.0, 0.9998849630355835, 0.0, 0.008988261222839355, 1.0, 0.0, 0.0, 1.0, 0.0, 0.0, 0.0, 0.9996529221534729, 0.0, 0.0004108548164367676, 0.9998921751976013, 0.0, 0.9998080730438232, 1.0, 1.0, 0.9895801544189453, 0.9993246793746948, 1.0, 0.9993945360183716, 0.0, 0.0, 0.0, 0.7477492094039917, 1.0, 0.002562284469604492, 1.0, 0.9950928092002869, 0.0, 1.0, 1.0, 0.0, 1.0, 1.0, 1.0, 0.003657698631286621, 1.0]\n",
      "\tclue3d_to_sim:\tP: 0.997 R: 0.413 F: 0.777\n",
      "\ttarget_to_sim:\tP: 0.996 R: 0.761 F: 0.938\n",
      "\treco_to_sim:\tP: 0.996 R: 0.761 F: 0.938\n",
      "Event 9:\n",
      "[(0, 0), (1, 0), (2, 0), (3, 0), (4, 0), (5, 0), (6, 0), (7, 0), (8, 0), (9, 0), (10, 0), (11, 0), (12, 0), (13, 0), (14, 0), (15, 0), (16, 0), (17, 0), (18, 0), (19, 0), (20, 0), (21, 0), (22, 0), (23, 0), (24, 0), (25, 0), (0, 8), (1, 8), (2, 8), (3, 8), (4, 8), (5, 8), (6, 8), (7, 8), (8, 8), (9, 8), (10, 8), (11, 8), (12, 8), (13, 8), (14, 8), (15, 8), (16, 8), (17, 8), (18, 8), (19, 8), (20, 8), (21, 8), (22, 8), (23, 8), (24, 8), (25, 8), (26, 8), (0, 17), (1, 17), (2, 17), (3, 17), (4, 17), (5, 17), (6, 17), (7, 17), (8, 17), (9, 17), (10, 17), (11, 17), (12, 17), (13, 17), (14, 17), (15, 17), (16, 17), (17, 17), (18, 17), (19, 17), (20, 17), (21, 17), (22, 17), (23, 17), (24, 17), (25, 17), (26, 17), (0, 24), (1, 24), (2, 24), (3, 24), (4, 24), (5, 24), (6, 24), (7, 24), (8, 24), (9, 24), (10, 24), (11, 24), (12, 24), (13, 24), (14, 24), (15, 24), (16, 24), (17, 24), (18, 24), (19, 24), (20, 24), (21, 24), (22, 24), (23, 24), (24, 24), (25, 24), (26, 24)]\n",
      "[0.8278948068618774, 0.820141613483429, 0.16779547929763794, 0.7912592887878418, 0.7389703989028931, 0.7820934057235718, 0.8278948068618774, 0.8278948068618774, 0.8278948068618774, 0.8278948068618774, 0.736093282699585, 0.44050633907318115, 0.8227633237838745, 0.5907754898071289, 0.8278948068618774, 0.7882445454597473, 0.4814315140247345, 1.0546144039835781e-05, 0.8278948068618774, 0.8278948068618774, 0.8278948068618774, 0.2194840908050537, 0.2949441075325012, 0.8278948068618774, 0.0005290937842801213, 0.23553504049777985, 0.8278948068618774, 0.8081886172294617, 0.2235545516014099, 0.7702831029891968, 0.7461413741111755, 0.7827879786491394, 0.8278948068618774, 0.8278948068618774, 0.8278948068618774, 0.8278948068618774, 0.7398950457572937, 0.44795578718185425, 0.815581738948822, 0.6181579232215881, 0.8278948068618774, 0.792305588722229, 0.5303592085838318, 1.195930326503003e-05, 0.8278948068618774, 0.8278948068618774, 0.8278948068618774, 0.25718259811401367, 0.3940872848033905, 0.8278948068618774, 0.0003478334110695869, 0.13837282359600067, 0.8278948068618774, 0.0018827092135325074, 0.023175103589892387, 0.4460403621196747, 0.1219247505068779, 0.048837918788194656, 0.023175330832600594, 0.8278948068618774, 0.10741743445396423, 0.03332647681236267, 0.8278948068618774, 0.8278948068618774, 0.8278948068618774, 0.6197435259819031, 0.0432310588657856, 0.20300157368183136, 0.046217549592256546, 0.020881889387965202, 0.8278948068618774, 0.6421792507171631, 0.11580963432788849, 0.8128955364227295, 0.8278948068618774, 0.8232588768005371, 0.25496771931648254, 0.8278948068618774, 0.8278948068618774, 0.5719478726387024, 0.0028803632594645023, 0.025609338656067848, 0.44086945056915283, 0.20844626426696777, 0.0511193722486496, 0.025594303384423256, 0.8278948068618774, 0.13934598863124847, 0.04180575907230377, 0.8278948068618774, 0.8278948068618774, 0.8278948068618774, 0.6442570090293884, 0.048806317150592804, 0.24036352336406708, 0.05098709464073181, 0.022322949022054672, 0.8278948068618774, 0.681701123714447, 0.14266462624073029, 0.8089715838432312, 0.8278948068618774, 0.8091886639595032, 0.2781623303890228, 0.8278948068618774, 0.8278948068618774, 0.5866661667823792]\n",
      "[0.9999998807907104, 1.0, 1.0, 1.0, 1.0, 1.0, 0.9999879598617554, 1.0, 1.0, 0.9926707148551941, 1.0, 1.0, 0.9996485710144043, 0.9983723163604736, 0.9999290108680725, 0.9983913898468018, 1.0, 0.009300708770751953, 0.9989482760429382, 1.0, 0.9893205165863037, 0.04731738567352295, 0.16758382320404053, 1.0, 0.008352041244506836, 0.0, 0.9999998807907104, 1.0, 1.0, 1.0, 1.0, 1.0, 0.9999879598617554, 1.0, 1.0, 0.9926707148551941, 1.0, 1.0, 0.9996485710144043, 0.9983723163604736, 0.9999290108680725, 0.9983913898468018, 1.0, 0.009300708770751953, 0.9989482760429382, 1.0, 0.9893205165863037, 0.04731738567352295, 0.16758382320404053, 1.0, 0.008352041244506836, 0.0, 0.0, 0.00028383731842041016, 0.0, 0.0, 0.0, 0.0, 0.0, 7.098913192749023e-05, 0.0, 8.147954940795898e-05, 0.03699338436126709, 0.0, 0.0, 0.007523596286773682, 0.006058454513549805, 0.005184352397918701, 0.018460631370544434, 0.0, 0.9998711347579956, 0.0049079060554504395, 0.0, 0.02063363790512085, 0.9927963018417358, 0.9858438968658447, 0.0, 0.9999788403511047, 1.0, 1.0, 0.00028383731842041016, 0.0, 0.0, 0.0, 0.0, 0.0, 7.098913192749023e-05, 0.0, 8.147954940795898e-05, 0.03699338436126709, 0.0, 0.0, 0.007523596286773682, 0.006058454513549805, 0.005184352397918701, 0.018460631370544434, 0.0, 0.9998711347579956, 0.0049079060554504395, 0.0, 0.02063363790512085, 0.9927963018417358, 0.9858438968658447, 0.0, 0.9999788403511047, 1.0, 1.0]\n",
      "\tclue3d_to_sim:\tP: 0.998 R: 0.177 F: 0.518\n",
      "\ttarget_to_sim:\tP: 0.998 R: 0.562 F: 0.864\n",
      "\treco_to_sim:\tP: 0.978 R: 0.535 F: 0.839\n",
      "Event 10:\n",
      "\tNo data\n",
      "Event 11:\n",
      "[(0, 5), (1, 5), (2, 5), (3, 5), (4, 5), (5, 5), (6, 5), (7, 5), (8, 5), (9, 5), (10, 5), (11, 5), (12, 5), (13, 5), (14, 5), (15, 5), (16, 5), (17, 5), (18, 5), (19, 5), (20, 5), (21, 5), (22, 5), (23, 5), (24, 5), (25, 5), (26, 5), (27, 5), (28, 5), (0, 11), (1, 11), (2, 11), (3, 11), (4, 11), (5, 11), (6, 11), (7, 11), (8, 11), (9, 11), (10, 11), (11, 11), (12, 11), (13, 11), (14, 11), (15, 11), (16, 11), (17, 11), (18, 11), (19, 11), (20, 11), (21, 11), (22, 11), (23, 11), (24, 11), (25, 11), (26, 11), (27, 11), (28, 11)]\n",
      "[0.8278948068618774, 0.8278948068618774, 0.8278948068618774, 0.17874300479888916, 0.8278948068618774, 0.8278948068618774, 0.8278948068618774, 0.02002354897558689, 0.05179756507277489, 0.06024199351668358, 0.010089382529258728, 8.941002938023246e-10, 0.033042021095752716, 0.09935712069272995, 0.07082632184028625, 0.15413671731948853, 0.005760142579674721, 0.031186223030090332, 0.1669400930404663, 0.08621032536029816, 0.019671481102705002, 0.011124786920845509, 0.026718365028500557, 0.8278948068618774, 0.1699811965227127, 0.05792015790939331, 0.1674685925245285, 0.06996720284223557, 0.01480155810713768, 0.0004930472932755947, 0.009881283156573772, 0.01026728842407465, 0.7367967367172241, 0.008064310066401958, 4.6253209595725764e-11, 0.007303936406970024, 0.8278948068618774, 0.6183018684387207, 0.8136623501777649, 0.8278948068618774, 0.8278948068618774, 0.7940241098403931, 0.579430341720581, 0.8278948068618774, 0.0684543251991272, 0.8278948068618774, 0.8278948068618774, 0.8148638606071472, 0.5755475759506226, 0.24632517993450165, 0.02893313392996788, 0.05779258906841278, 0.005920137278735638, 0.7736366987228394, 0.5765107870101929, 0.8278948068618774, 0.6719340682029724, 0.3330480456352234]\n",
      "[1.0, 0.9300765991210938, 1.0, 0.44796842336654663, 0.9993448853492737, 0.9999999403953552, 1.0, 0.0, 0.0, 0.0, 0.0, 0.0005422830581665039, 0.0, 0.0, 0.0, 0.0, 0.0, 0.0, 0.0, 0.0, 0.0, 0.0, 0.0, 1.0, 0.0, 0.0, 0.0, 0.0, 0.0, 0.0, 0.06992340087890625, 0.0, 0.9275739192962646, 0.0036742687225341797, 0.0003323554992675781, 0.0, 1.0, 1.0, 1.0, 1.0, 0.9999997019767761, 1.0, 1.0, 1.0, 1.0, 1.0, 1.0, 1.0, 1.0, 1.0, 1.0, 1.0, 1.4901161193847656e-05, 1.0, 1.0, 1.0, 1.0, 1.0]\n",
      "\tclue3d_to_sim:\tP: 0.999 R: 0.524 F: 0.846\n",
      "\ttarget_to_sim:\tP: 0.999 R: 0.829 F: 0.960\n",
      "\treco_to_sim:\tP: 0.999 R: 0.804 F: 0.953\n",
      "Event 12:\n",
      "[(0, 2), (1, 2), (2, 2), (3, 2), (4, 2), (5, 2), (6, 2), (7, 2), (8, 2), (9, 2), (10, 2), (11, 2), (12, 2), (13, 2), (14, 2), (15, 2), (16, 2), (17, 2), (18, 2), (19, 2), (20, 2), (21, 2), (22, 2), (23, 2), (24, 2), (0, 8), (1, 8), (2, 8), (3, 8), (4, 8), (5, 8), (6, 8), (7, 8), (8, 8), (9, 8), (10, 8), (11, 8), (12, 8), (13, 8), (14, 8), (15, 8), (16, 8), (17, 8), (18, 8), (19, 8), (20, 8), (21, 8), (22, 8), (23, 8), (24, 8)]\n",
      "[0.7537932991981506, 0.7517315745353699, 0.8278948068618774, 0.7479487657546997, 0.8278948068618774, 0.8278948068618774, 0.7545155882835388, 0.8278948068618774, 0.003746073693037033, 0.5408288240432739, 0.7844899296760559, 0.28877368569374084, 0.6215373873710632, 0.8278948068618774, 0.6774018406867981, 0.712273120880127, 0.01722732000052929, 0.8093248009681702, 0.14221057295799255, 0.14287666976451874, 0.2109488695859909, 0.040706947445869446, 0.7096835374832153, 0.8085854053497314, 0.8278948068618774, 0.05861309543251991, 0.2561211884021759, 0.0466022752225399, 0.7473844289779663, 0.02083919197320938, 0.7542386651039124, 0.11529678851366043, 0.7932747602462769, 0.8278948068618774, 0.799961268901825, 0.13688378036022186, 0.8219423294067383, 0.8243244290351868, 0.23283015191555023, 0.8278948068618774, 0.6269990801811218, 0.7521370053291321, 0.8278948068618774, 0.10929746180772781, 0.8278948068618774, 0.7293875813484192, 0.6481901407241821, 0.277018278837204, 0.14852482080459595, 0.8278948068618774]\n",
      "[0.9892091751098633, 1.0, 0.9999995827674866, 0.2112467885017395, 0.9466701745986938, 0.8448162078857422, 1.0, 0.47984492778778076, 0.01631784439086914, 0.22606801986694336, 0.7093318700790405, 0.1905924677848816, 0.09543055295944214, 0.9294140338897705, 0.03600257635116577, 0.1717337965965271, 0.033228516578674316, 0.0, 0.07075214385986328, 0.003175020217895508, 0.0, 0.0, 0.9883641600608826, 0.0, 0.0023914575576782227, 0.019779741764068604, 0.0, 0.0, 0.9139471650123596, 0.07464319467544556, 0.43317437171936035, 0.0, 0.6757569313049316, 0.999884307384491, 0.9843405485153198, 0.38577425479888916, 0.9848004579544067, 0.9870503544807434, 0.3845546841621399, 0.9966968894004822, 0.9505044221878052, 0.991725504398346, 1.0, 0.9892235994338989, 0.9996533989906311, 1.0, 1.0, 0.023825764656066895, 1.0, 0.9996466040611267]\n",
      "\tclue3d_to_sim:\tP: 0.984 R: 0.277 F: 0.651\n",
      "\ttarget_to_sim:\tP: 0.975 R: 0.616 F: 0.873\n",
      "\treco_to_sim:\tP: 0.936 R: 0.575 F: 0.831\n",
      "Event 13:\n",
      "[(0, 1), (1, 1), (2, 1), (3, 1), (4, 1), (5, 1), (6, 1), (7, 1), (8, 1), (9, 1), (10, 1), (11, 1), (12, 1), (13, 1), (14, 1), (15, 1), (16, 1), (17, 1), (18, 1), (19, 1), (20, 1), (21, 1), (22, 1), (23, 1)]\n",
      "[0.5282759070396423, 0.8278948068618774, 0.43312641978263855, 3.911901148967445e-05, 0.7203025817871094, 0.2450181543827057, 0.7389161586761475, 0.37949538230895996, 0.2892996668815613, 0.6337839961051941, 0.3410426378250122, 0.8278948068618774, 0.8278948068618774, 0.5716935396194458, 0.06092080846428871, 0.6120825409889221, 0.8157300353050232, 0.7634808421134949, 0.8278948068618774, 0.8272388577461243, 0.2347005009651184, 0.2418399304151535, 0.6047239303588867, 0.8278948068618774]\n",
      "[1.0, 0.9999998211860657, 1.0, 0.0, 1.0, 1.0, 1.0, 1.0, 1.0, 1.0, 1.0, 1.0, 0.999999463558197, 0.9970752000808716, 1.0, 1.0, 1.0, 1.0, 1.0, 1.0, 1.0, 1.0, 1.0, 1.0]\n",
      "\tclue3d_to_sim:\tP: 1.000 R: 0.258 F: 0.635\n",
      "\ttarget_to_sim:\tP: 1.000 R: 0.757 F: 0.939\n",
      "\treco_to_sim:\tP: 1.000 R: 0.675 F: 0.912\n",
      "Event 14:\n",
      "[(0, 4), (1, 4), (2, 4), (3, 4), (4, 4), (5, 4), (6, 4), (7, 4), (8, 4), (9, 4), (10, 4), (11, 4), (12, 4), (13, 4), (14, 4), (15, 4), (16, 4), (17, 4), (18, 4), (19, 4), (20, 4), (21, 4), (22, 4), (23, 4), (24, 4), (25, 4), (26, 4), (27, 4), (28, 4), (29, 4)]\n",
      "[0.7776939868927002, 0.7290868759155273, 0.004008126445114613, 0.7263450026512146, 0.8278948068618774, 0.7414924502372742, 0.0964474305510521, 0.130429208278656, 0.7207854986190796, 0.8278948068618774, 0.8167375922203064, 0.46522974967956543, 0.8278948068618774, 0.014576070010662079, 0.033833473920822144, 0.2850651741027832, 0.8278948068618774, 0.7514165043830872, 0.8250964879989624, 0.02824188582599163, 0.8278948068618774, 0.32971277832984924, 0.5621662139892578, 0.5289303064346313, 0.807587742805481, 0.8278948068618774, 0.8278948068618774, 0.8278948068618774, 0.8012293577194214, 0.7314516305923462]\n",
      "[0.9977616667747498, 0.11193007230758667, 0.01647770404815674, 0.6399406790733337, 0.999813437461853, 0.9905589818954468, 0.01910322904586792, 0.9999061226844788, 1.0, 1.0, 0.979091465473175, 0.10418230295181274, 0.9955507516860962, 0.07312846183776855, 0.12417078018188477, 0.9694523811340332, 0.9347794055938721, 0.10747838020324707, 0.39360493421554565, 0.06571543216705322, 0.9994052648544312, 0.09879940748214722, 0.9989302754402161, 0.07241147756576538, 0.9969300627708435, 0.9999872446060181, 0.6368976831436157, 0.9999730587005615, 1.0, 1.0]\n",
      "\tclue3d_to_sim:\tP: 0.976 R: 0.155 F: 0.475\n",
      "\ttarget_to_sim:\tP: 0.969 R: 0.439 F: 0.780\n",
      "\treco_to_sim:\tP: 0.952 R: 0.426 F: 0.764\n",
      "Event 15:\n",
      "[(0, 2), (1, 2), (2, 2), (3, 2), (4, 2), (5, 2), (6, 2), (7, 2), (8, 2), (9, 2), (10, 2), (11, 2), (12, 2), (13, 2), (14, 2), (15, 2), (16, 2), (17, 2), (18, 2), (19, 2), (20, 2), (21, 2), (22, 2), (23, 2), (24, 2), (25, 2), (26, 2), (27, 2), (28, 2), (29, 2), (30, 2)]\n",
      "[0.004484542645514011, 0.0003099162713624537, 0.8278948068618774, 0.8278948068618774, 0.8278948068618774, 0.022670213133096695, 0.7573155164718628, 0.012311723083257675, 0.0051880585961043835, 0.012672757729887962, 0.15128526091575623, 0.013413896784186363, 0.018514325842261314, 0.8278948068618774, 0.15877573192119598, 0.763366162776947, 0.8278948068618774, 0.7743480205535889, 0.8278948068618774, 0.00321117602288723, 0.8278948068618774, 0.8278948068618774, 0.4050526022911072, 0.7944478392601013, 0.8087023496627808, 0.8278948068618774, 0.6594327688217163, 0.8278948068618774, 0.8278948068618774, 0.6093934774398804, 0.0027758649084717035]\n",
      "[0.0, 0.0, 0.9999996423721313, 1.0, 1.0, 0.0, 1.0, 0.0, 0.0, 0.0, 0.9976672530174255, 0.0, 0.0, 1.0, 0.992938756942749, 1.0, 0.9998971819877625, 1.0, 0.99998539686203, 0.0, 0.9997634291648865, 0.9999893307685852, 1.0, 1.0, 1.0, 1.0, 1.0, 1.0, 1.0, 1.0, 0.0]\n",
      "\tclue3d_to_sim:\tP: 0.996 R: 0.209 F: 0.568\n",
      "\ttarget_to_sim:\tP: 0.993 R: 0.600 F: 0.878\n",
      "\treco_to_sim:\tP: 0.996 R: 0.559 F: 0.862\n",
      "Event 16:\n",
      "\tNo data\n",
      "Event 17:\n",
      "[(0, 3), (1, 3), (2, 3), (3, 3), (4, 3), (5, 3), (6, 3), (7, 3), (8, 3), (9, 3), (10, 3), (11, 3), (12, 3), (13, 3), (14, 3), (15, 3), (16, 3), (17, 3), (18, 3), (19, 3), (20, 3), (21, 3), (22, 3), (23, 3), (24, 3), (25, 3), (26, 3), (27, 3), (28, 3), (29, 3), (30, 3), (31, 3), (32, 3), (33, 3), (34, 3), (35, 3), (36, 3), (37, 3), (38, 3), (39, 3), (0, 11), (1, 11), (2, 11), (3, 11), (4, 11), (5, 11), (6, 11), (7, 11), (8, 11), (9, 11), (10, 11), (11, 11), (12, 11), (13, 11), (14, 11), (15, 11), (16, 11), (17, 11), (18, 11), (19, 11), (20, 11), (21, 11), (22, 11), (23, 11), (24, 11), (25, 11), (26, 11), (27, 11), (28, 11), (29, 11), (30, 11), (31, 11), (32, 11), (33, 11), (34, 11), (35, 11), (36, 11), (37, 11), (38, 11), (39, 11)]\n",
      "[0.05928055942058563, 0.006250546779483557, 0.03071022219955921, 0.8278948068618774, 0.046885013580322266, 0.8057845234870911, 0.8164933919906616, 0.8278948068618774, 0.8278948068618774, 0.016217829659581184, 0.02534301020205021, 9.512077667750418e-06, 0.17017900943756104, 0.8278948068618774, 0.015206162817776203, 0.23448628187179565, 0.08208470791578293, 0.05226040631532669, 0.14834262430667877, 0.8278948068618774, 0.8278948068618774, 0.08217200636863708, 0.8278948068618774, 0.8278948068618774, 0.8170217871665955, 0.8278948068618774, 0.015854256227612495, 0.6975917816162109, 0.5182520747184753, 0.09113062918186188, 0.8186465501785278, 0.24819041788578033, 0.01879749819636345, 0.006960007362067699, 0.8278948068618774, 0.7522141337394714, 0.3807018995285034, 0.6682372689247131, 0.8278948068618774, 0.06971501559019089, 0.7548698782920837, 0.79091876745224, 0.8148792386054993, 5.829190286021912e-07, 0.8066952228546143, 0.8277362585067749, 0.4772869944572449, 0.0127944340929389, 0.03584863618016243, 0.7064450979232788, 0.7922232747077942, 0.8278948068618774, 0.8278948068618774, 0.38382789492607117, 0.4462222456932068, 0.6126512289047241, 0.8278948068618774, 0.7705569267272949, 0.7891160249710083, 0.014941006898880005, 0.03842081502079964, 0.8057124018669128, 0.10135468095541, 0.10113994032144547, 0.7434991002082825, 0.40629544854164124, 0.5437988638877869, 0.04038015380501747, 0.7510532736778259, 0.8079014420509338, 0.03235160931944847, 0.8051354289054871, 0.8232131600379944, 0.8278948068618774, 0.2083405703306198, 0.5412698984146118, 0.8278948068618774, 0.05035795643925667, 0.034971415996551514, 0.8278948068618774]\n",
      "[0.0, 0.0, 0.0, 0.9947341084480286, 0.0, 0.9244878888130188, 0.7901443243026733, 0.9999058842658997, 1.0, 0.0, 0.0, 0.008377254009246826, 0.0, 0.9939551949501038, 0.0, 0.0, 0.0, 0.01938849687576294, 0.0, 1.0, 1.0, 0.0, 0.7875877618789673, 0.3305398225784302, 0.9990615844726562, 0.9023739099502563, 0.05039125680923462, 0.9995483160018921, 0.1708287000656128, 0.0, 1.0, 0.08001577854156494, 0.0, 0.0, 0.9995365142822266, 0.7123972177505493, 0.8483374714851379, 0.8703303933143616, 1.0, 0.0, 1.0, 1.0, 0.9975887537002563, 0.05396527051925659, 1.0, 0.3237830400466919, 0.267508327960968, 0.0, 0.0, 0.999346911907196, 1.0, 0.9995784163475037, 0.9999949932098389, 0.07410454750061035, 1.0, 0.9990262389183044, 1.0, 0.992218554019928, 1.0, 0.0, 0.0, 1.0, 0.5567922592163086, 0.6694600582122803, 0.034849584102630615, 0.4033501148223877, 0.996803343296051, 0.0009238719940185547, 0.9790096879005432, 1.0, 0.0, 0.9881002306938171, 1.0, 1.0, 0.01072460412979126, 0.2876027822494507, 0.16691118478775024, 0.3283332586288452, 0.0, 1.0]\n",
      "\tclue3d_to_sim:\tP: 0.985 R: 0.268 F: 0.642\n",
      "\ttarget_to_sim:\tP: 0.982 R: 0.763 F: 0.929\n",
      "\treco_to_sim:\tP: 0.978 R: 0.755 F: 0.923\n",
      "Event 18:\n",
      "[(0, 0), (1, 0), (2, 0), (3, 0), (4, 0), (5, 0), (6, 0), (7, 0), (8, 0), (9, 0), (10, 0), (11, 0), (12, 0), (13, 0), (14, 0), (15, 0), (16, 0), (17, 0)]\n",
      "[0.8278948068618774, 0.7776808142662048, 0.8278948068618774, 0.8278948068618774, 0.1830616444349289, 0.787701427936554, 0.7685679793357849, 0.7984389662742615, 0.8219227194786072, 0.32892149686813354, 0.32860469818115234, 0.8278948068618774, 0.5284189581871033, 0.787621259689331, 0.5358918309211731, 0.8278948068618774, 0.5251668691635132, 0.7562344074249268]\n",
      "[1.0, 1.0, 1.0, 1.0, 0.9442231059074402, 1.0, 1.0, 1.0, 1.0, 0.9975069165229797, 0.07062399387359619, 1.0, 1.0, 0.9999867081642151, 0.1975034475326538, 0.17405283451080322, 0.0, 0.9842050671577454]\n",
      "\tclue3d_to_sim:\tP: 0.989 R: 0.317 F: 0.695\n",
      "\ttarget_to_sim:\tP: 0.987 R: 0.779 F: 0.937\n",
      "\treco_to_sim:\tP: 0.953 R: 0.752 F: 0.905\n",
      "Event 19:\n",
      "[(0, 2), (1, 2), (2, 2), (3, 2), (4, 2), (5, 2), (6, 2), (7, 2), (8, 2), (9, 2), (10, 2), (11, 2), (12, 2), (13, 2), (14, 2), (15, 2), (16, 2), (17, 2), (18, 2), (19, 2), (20, 2), (21, 2), (22, 2), (0, 6), (1, 6), (2, 6), (3, 6), (4, 6), (5, 6), (6, 6), (7, 6), (8, 6), (9, 6), (10, 6), (11, 6), (12, 6), (13, 6), (14, 6), (15, 6), (16, 6), (17, 6), (18, 6), (19, 6), (20, 6), (21, 6), (22, 6), (23, 6), (24, 6)]\n",
      "[0.727873682975769, 0.7441549897193909, 0.8278948068618774, 0.8278948068618774, 0.8278948068618774, 0.5209864974021912, 1.149175841419492e-05, 0.508957028388977, 0.7223754525184631, 0.8278948068618774, 0.5335937142372131, 0.7463265061378479, 0.8278948068618774, 0.8278948068618774, 0.02115919440984726, 0.8278948068618774, 0.7848414182662964, 0.6748383045196533, 0.8278948068618774, 0.5594554543495178, 0.26607993245124817, 0.5785233378410339, 0.8246465921401978, 0.10976330935955048, 0.6713843941688538, 0.000451193394837901, 0.8278948068618774, 0.10578330606222153, 0.019843462854623795, 0.8278948068618774, 0.3192446231842041, 0.011638076975941658, 0.8097720146179199, 0.8278948068618774, 0.5676048994064331, 0.18891622126102448, 0.08874306827783585, 0.8278948068618774, 0.136223703622818, 0.019513599574565887, 0.03506225720047951, 0.5061061978340149, 0.05678374320268631, 0.8278948068618774, 0.02593166008591652, 0.741227388381958, 0.5960344672203064, 0.8278948068618774]\n",
      "[1.0, 1.0, 0.9999513030052185, 0.8621556162834167, 0.9998484253883362, 1.0, 0.011540114879608154, 0.9986259341239929, 0.9999863505363464, 0.9912264347076416, 0.29452967643737793, 1.0, 1.0, 1.0, 0.0003203749656677246, 0.9809327125549316, 1.0, 1.0, 1.0, 1.0, 0.778028666973114, 1.0, 0.9891019463539124, 0.0, 0.0, 0.006219625473022461, 0.38356226682662964, 0.01856762170791626, 0.0, 0.9999179840087891, 0.0019469857215881348, 0.0009925365447998047, 0.09151530265808105, 0.9009285569190979, 0.0, 0.0, 0.0, 0.9996795654296875, 0.03529095649719238, 0.0, 0.0, 0.0, 0.0, 0.39787614345550537, 0.0, 0.010898053646087646, 0.0, 0.0]\n",
      "\tclue3d_to_sim:\tP: 0.991 R: 0.277 F: 0.654\n",
      "\ttarget_to_sim:\tP: 0.987 R: 0.494 F: 0.823\n",
      "\treco_to_sim:\tP: 0.988 R: 0.494 F: 0.823\n",
      "-----\n",
      "mean clue3d_to_sim:\tP: 0.993 R: 0.307 F: 0.665\n",
      "mean target_to_sim:\tP: 0.990 R: 0.704 F: 0.910\n",
      "mean reco_to_sim:\tP: 0.972 R: 0.679 F: 0.889\n"
     ]
    }
   ],
   "source": [
    "result = model_evaluation(\n",
    "    cluster_data,\n",
    "    trackster_data,\n",
    "    simtrackster_data,\n",
    "    assoc_data,\n",
    "    model,\n",
    "    decision_th=0.5,\n",
    "    radius=100,\n",
    "    max_events=20,\n",
    "    reco_to_target=False,\n",
    "    bigT_e_th=75,\n",
    "    graph=True,\n",
    ")"
   ]
  },
  {
   "cell_type": "markdown",
   "id": "328866f1-c862-4dfb-a201-91d2baa53d9f",
   "metadata": {},
   "source": [
    "## Results\n",
    "\n",
    "Using alpha=balance seems to converge faster (100 epochs rather than 200)\n",
    "- maybe just sticking to 0.25? (works just fine)\n",
    "\n",
    "Hyperparams\n",
    "- (64, 128, noskip), alpha=balance, roc_auc = 0.9733\n",
    "- (64, 128, 256fc, noskip, 200e), alpha=1-balance, roc_auc = 0.9771\n",
    "- (64, 128, 256fc, noskip, 200e), alpha=balance, roc_auc = 0.981\n",
    "- (64, 128, 256fc, noskip, 100e), alpha=0.25, roc_auc = 0.9796"
   ]
  },
  {
   "cell_type": "code",
   "execution_count": 17,
   "id": "69420f64-42b0-4a8b-b4dc-d88ae1242f51",
   "metadata": {},
   "outputs": [
    {
     "ename": "UnsupportedOperatorError",
     "evalue": "ONNX export failed on an operator with unrecognized namespace torch_cluster::knn. If you are trying to export a custom operator, make sure you registered it with the right domain and version.",
     "output_type": "error",
     "traceback": [
      "\u001b[0;31m---------------------------------------------------------------------------\u001b[0m",
      "\u001b[0;31mUnsupportedOperatorError\u001b[0m                  Traceback (most recent call last)",
      "Cell \u001b[0;32mIn[17], line 5\u001b[0m\n\u001b[1;32m      1\u001b[0m \u001b[39mimport\u001b[39;00m \u001b[39mtorch\u001b[39;00m\u001b[39m.\u001b[39;00m\u001b[39monnx\u001b[39;00m\n\u001b[1;32m      3\u001b[0m onnx_filepath \u001b[39m=\u001b[39m \u001b[39mf\u001b[39m\u001b[39m\"\u001b[39m\u001b[39monnx/TracksterGraphNet.mask.64.128.256.ns.\u001b[39m\u001b[39m{\u001b[39;00mepochs\u001b[39m}\u001b[39;00m\u001b[39me-\u001b[39m\u001b[39m{\u001b[39;00mds_name\u001b[39m}\u001b[39;00m\u001b[39m.\u001b[39m\u001b[39m{\u001b[39;00mds\u001b[39m.\u001b[39mRADIUS\u001b[39m}\u001b[39;00m\u001b[39m.\u001b[39m\u001b[39m{\u001b[39;00mds\u001b[39m.\u001b[39mSCORE_THRESHOLD\u001b[39m}\u001b[39;00m\u001b[39m.\u001b[39m\u001b[39m{\u001b[39;00mds\u001b[39m.\u001b[39mN_FILES\u001b[39m}\u001b[39;00m\u001b[39mf.onnx\u001b[39m\u001b[39m\"\u001b[39m\n\u001b[0;32m----> 5\u001b[0m torch\u001b[39m.\u001b[39;49monnx\u001b[39m.\u001b[39;49mexport(\n\u001b[1;32m      6\u001b[0m     model,                          \u001b[39m# model to be exported\u001b[39;49;00m\n\u001b[1;32m      7\u001b[0m     (ds[\u001b[39m0\u001b[39;49m]\u001b[39m.\u001b[39;49mx),    \u001b[39m# example input (add batch dimension)\u001b[39;49;00m\n\u001b[1;32m      8\u001b[0m     onnx_filepath,\n\u001b[1;32m      9\u001b[0m     export_params\u001b[39m=\u001b[39;49m\u001b[39mTrue\u001b[39;49;00m,\n\u001b[1;32m     10\u001b[0m     opset_version\u001b[39m=\u001b[39;49m\u001b[39m11\u001b[39;49m,\n\u001b[1;32m     11\u001b[0m     do_constant_folding\u001b[39m=\u001b[39;49m\u001b[39mTrue\u001b[39;49;00m,\n\u001b[1;32m     12\u001b[0m     input_names\u001b[39m=\u001b[39;49m[\u001b[39m'\u001b[39;49m\u001b[39mfeatures\u001b[39;49m\u001b[39m'\u001b[39;49m],      \u001b[39m# the model's input names\u001b[39;49;00m\n\u001b[1;32m     13\u001b[0m     output_names\u001b[39m=\u001b[39;49m[\u001b[39m'\u001b[39;49m\u001b[39moutput\u001b[39;49m\u001b[39m'\u001b[39;49m],    \u001b[39m# the model's output names\u001b[39;49;00m\n\u001b[1;32m     14\u001b[0m     dynamic_axes\u001b[39m=\u001b[39;49m{              \u001b[39m# variable length axes\u001b[39;49;00m\n\u001b[1;32m     15\u001b[0m         \u001b[39m'\u001b[39;49m\u001b[39mfeatures\u001b[39;49m\u001b[39m'\u001b[39;49m : {\u001b[39m0\u001b[39;49m : \u001b[39m'\u001b[39;49m\u001b[39mbatch_size\u001b[39;49m\u001b[39m'\u001b[39;49m},    \n\u001b[1;32m     16\u001b[0m         \u001b[39m'\u001b[39;49m\u001b[39moutput\u001b[39;49m\u001b[39m'\u001b[39;49m : {\u001b[39m0\u001b[39;49m : \u001b[39m'\u001b[39;49m\u001b[39mbatch_size\u001b[39;49m\u001b[39m'\u001b[39;49m}\n\u001b[1;32m     17\u001b[0m     }\n\u001b[1;32m     18\u001b[0m )\n",
      "File \u001b[0;32m~/devel/pattern-reco/ve/lib/python3.9/site-packages/torch/onnx/__init__.py:350\u001b[0m, in \u001b[0;36mexport\u001b[0;34m(model, args, f, export_params, verbose, training, input_names, output_names, operator_export_type, opset_version, do_constant_folding, dynamic_axes, keep_initializers_as_inputs, custom_opsets, export_modules_as_functions)\u001b[0m\n\u001b[1;32m     74\u001b[0m \u001b[39mr\u001b[39m\u001b[39m\"\"\"\u001b[39;00m\n\u001b[1;32m     75\u001b[0m \u001b[39mExports a model into ONNX format. If ``model`` is not a\u001b[39;00m\n\u001b[1;32m     76\u001b[0m \u001b[39m:class:`torch.jit.ScriptModule` nor a :class:`torch.jit.ScriptFunction`, this runs\u001b[39;00m\n\u001b[0;32m   (...)\u001b[0m\n\u001b[1;32m    345\u001b[0m \u001b[39m    model to the file ``f`` even if this is raised.\u001b[39;00m\n\u001b[1;32m    346\u001b[0m \u001b[39m\"\"\"\u001b[39;00m\n\u001b[1;32m    348\u001b[0m \u001b[39mfrom\u001b[39;00m \u001b[39mtorch\u001b[39;00m\u001b[39m.\u001b[39;00m\u001b[39monnx\u001b[39;00m \u001b[39mimport\u001b[39;00m utils\n\u001b[0;32m--> 350\u001b[0m \u001b[39mreturn\u001b[39;00m utils\u001b[39m.\u001b[39;49mexport(\n\u001b[1;32m    351\u001b[0m     model,\n\u001b[1;32m    352\u001b[0m     args,\n\u001b[1;32m    353\u001b[0m     f,\n\u001b[1;32m    354\u001b[0m     export_params,\n\u001b[1;32m    355\u001b[0m     verbose,\n\u001b[1;32m    356\u001b[0m     training,\n\u001b[1;32m    357\u001b[0m     input_names,\n\u001b[1;32m    358\u001b[0m     output_names,\n\u001b[1;32m    359\u001b[0m     operator_export_type,\n\u001b[1;32m    360\u001b[0m     opset_version,\n\u001b[1;32m    361\u001b[0m     do_constant_folding,\n\u001b[1;32m    362\u001b[0m     dynamic_axes,\n\u001b[1;32m    363\u001b[0m     keep_initializers_as_inputs,\n\u001b[1;32m    364\u001b[0m     custom_opsets,\n\u001b[1;32m    365\u001b[0m     export_modules_as_functions,\n\u001b[1;32m    366\u001b[0m )\n",
      "File \u001b[0;32m~/devel/pattern-reco/ve/lib/python3.9/site-packages/torch/onnx/utils.py:163\u001b[0m, in \u001b[0;36mexport\u001b[0;34m(model, args, f, export_params, verbose, training, input_names, output_names, operator_export_type, opset_version, do_constant_folding, dynamic_axes, keep_initializers_as_inputs, custom_opsets, export_modules_as_functions)\u001b[0m\n\u001b[1;32m    145\u001b[0m \u001b[39mdef\u001b[39;00m \u001b[39mexport\u001b[39m(\n\u001b[1;32m    146\u001b[0m     model,\n\u001b[1;32m    147\u001b[0m     args,\n\u001b[0;32m   (...)\u001b[0m\n\u001b[1;32m    160\u001b[0m     export_modules_as_functions\u001b[39m=\u001b[39m\u001b[39mFalse\u001b[39;00m,\n\u001b[1;32m    161\u001b[0m ):\n\u001b[0;32m--> 163\u001b[0m     _export(\n\u001b[1;32m    164\u001b[0m         model,\n\u001b[1;32m    165\u001b[0m         args,\n\u001b[1;32m    166\u001b[0m         f,\n\u001b[1;32m    167\u001b[0m         export_params,\n\u001b[1;32m    168\u001b[0m         verbose,\n\u001b[1;32m    169\u001b[0m         training,\n\u001b[1;32m    170\u001b[0m         input_names,\n\u001b[1;32m    171\u001b[0m         output_names,\n\u001b[1;32m    172\u001b[0m         operator_export_type\u001b[39m=\u001b[39;49moperator_export_type,\n\u001b[1;32m    173\u001b[0m         opset_version\u001b[39m=\u001b[39;49mopset_version,\n\u001b[1;32m    174\u001b[0m         do_constant_folding\u001b[39m=\u001b[39;49mdo_constant_folding,\n\u001b[1;32m    175\u001b[0m         dynamic_axes\u001b[39m=\u001b[39;49mdynamic_axes,\n\u001b[1;32m    176\u001b[0m         keep_initializers_as_inputs\u001b[39m=\u001b[39;49mkeep_initializers_as_inputs,\n\u001b[1;32m    177\u001b[0m         custom_opsets\u001b[39m=\u001b[39;49mcustom_opsets,\n\u001b[1;32m    178\u001b[0m         export_modules_as_functions\u001b[39m=\u001b[39;49mexport_modules_as_functions,\n\u001b[1;32m    179\u001b[0m     )\n",
      "File \u001b[0;32m~/devel/pattern-reco/ve/lib/python3.9/site-packages/torch/onnx/utils.py:1074\u001b[0m, in \u001b[0;36m_export\u001b[0;34m(model, args, f, export_params, verbose, training, input_names, output_names, operator_export_type, export_type, opset_version, do_constant_folding, dynamic_axes, keep_initializers_as_inputs, fixed_batch_size, custom_opsets, add_node_names, onnx_shape_inference, export_modules_as_functions)\u001b[0m\n\u001b[1;32m   1071\u001b[0m     dynamic_axes \u001b[39m=\u001b[39m {}\n\u001b[1;32m   1072\u001b[0m _validate_dynamic_axes(dynamic_axes, model, input_names, output_names)\n\u001b[0;32m-> 1074\u001b[0m graph, params_dict, torch_out \u001b[39m=\u001b[39m _model_to_graph(\n\u001b[1;32m   1075\u001b[0m     model,\n\u001b[1;32m   1076\u001b[0m     args,\n\u001b[1;32m   1077\u001b[0m     verbose,\n\u001b[1;32m   1078\u001b[0m     input_names,\n\u001b[1;32m   1079\u001b[0m     output_names,\n\u001b[1;32m   1080\u001b[0m     operator_export_type,\n\u001b[1;32m   1081\u001b[0m     val_do_constant_folding,\n\u001b[1;32m   1082\u001b[0m     fixed_batch_size\u001b[39m=\u001b[39;49mfixed_batch_size,\n\u001b[1;32m   1083\u001b[0m     training\u001b[39m=\u001b[39;49mtraining,\n\u001b[1;32m   1084\u001b[0m     dynamic_axes\u001b[39m=\u001b[39;49mdynamic_axes,\n\u001b[1;32m   1085\u001b[0m )\n\u001b[1;32m   1087\u001b[0m \u001b[39m# TODO: Don't allocate a in-memory string for the protobuf\u001b[39;00m\n\u001b[1;32m   1088\u001b[0m defer_weight_export \u001b[39m=\u001b[39m (\n\u001b[1;32m   1089\u001b[0m     export_type \u001b[39mis\u001b[39;00m \u001b[39mnot\u001b[39;00m torch\u001b[39m.\u001b[39monnx\u001b[39m.\u001b[39mExportTypes\u001b[39m.\u001b[39mPROTOBUF_FILE\n\u001b[1;32m   1090\u001b[0m )\n",
      "File \u001b[0;32m~/devel/pattern-reco/ve/lib/python3.9/site-packages/torch/onnx/utils.py:731\u001b[0m, in \u001b[0;36m_model_to_graph\u001b[0;34m(model, args, verbose, input_names, output_names, operator_export_type, do_constant_folding, _disable_torch_constant_prop, fixed_batch_size, training, dynamic_axes)\u001b[0m\n\u001b[1;32m    728\u001b[0m params_dict \u001b[39m=\u001b[39m _get_named_param_dict(graph, params)\n\u001b[1;32m    730\u001b[0m \u001b[39mtry\u001b[39;00m:\n\u001b[0;32m--> 731\u001b[0m     graph \u001b[39m=\u001b[39m _optimize_graph(\n\u001b[1;32m    732\u001b[0m         graph,\n\u001b[1;32m    733\u001b[0m         operator_export_type,\n\u001b[1;32m    734\u001b[0m         _disable_torch_constant_prop\u001b[39m=\u001b[39;49m_disable_torch_constant_prop,\n\u001b[1;32m    735\u001b[0m         fixed_batch_size\u001b[39m=\u001b[39;49mfixed_batch_size,\n\u001b[1;32m    736\u001b[0m         params_dict\u001b[39m=\u001b[39;49mparams_dict,\n\u001b[1;32m    737\u001b[0m         dynamic_axes\u001b[39m=\u001b[39;49mdynamic_axes,\n\u001b[1;32m    738\u001b[0m         input_names\u001b[39m=\u001b[39;49minput_names,\n\u001b[1;32m    739\u001b[0m         module\u001b[39m=\u001b[39;49mmodule,\n\u001b[1;32m    740\u001b[0m     )\n\u001b[1;32m    741\u001b[0m \u001b[39mexcept\u001b[39;00m \u001b[39mException\u001b[39;00m \u001b[39mas\u001b[39;00m e:\n\u001b[1;32m    742\u001b[0m     torch\u001b[39m.\u001b[39monnx\u001b[39m.\u001b[39mlog(\u001b[39m\"\u001b[39m\u001b[39mTorch IR graph at exception: \u001b[39m\u001b[39m\"\u001b[39m, graph)\n",
      "File \u001b[0;32m~/devel/pattern-reco/ve/lib/python3.9/site-packages/torch/onnx/utils.py:308\u001b[0m, in \u001b[0;36m_optimize_graph\u001b[0;34m(graph, operator_export_type, _disable_torch_constant_prop, fixed_batch_size, params_dict, dynamic_axes, input_names, module)\u001b[0m\n\u001b[1;32m    306\u001b[0m     _C\u001b[39m.\u001b[39m_jit_pass_onnx_set_dynamic_input_shape(graph, dynamic_axes, input_names)\n\u001b[1;32m    307\u001b[0m _C\u001b[39m.\u001b[39m_jit_pass_onnx_lint(graph)\n\u001b[0;32m--> 308\u001b[0m graph \u001b[39m=\u001b[39m _C\u001b[39m.\u001b[39;49m_jit_pass_onnx(graph, operator_export_type)\n\u001b[1;32m    309\u001b[0m _C\u001b[39m.\u001b[39m_jit_pass_onnx_lint(graph)\n\u001b[1;32m    310\u001b[0m _C\u001b[39m.\u001b[39m_jit_pass_lint(graph)\n",
      "File \u001b[0;32m~/devel/pattern-reco/ve/lib/python3.9/site-packages/torch/onnx/__init__.py:416\u001b[0m, in \u001b[0;36m_run_symbolic_function\u001b[0;34m(*args, **kwargs)\u001b[0m\n\u001b[1;32m    413\u001b[0m \u001b[39mdef\u001b[39;00m \u001b[39m_run_symbolic_function\u001b[39m(\u001b[39m*\u001b[39margs, \u001b[39m*\u001b[39m\u001b[39m*\u001b[39mkwargs):\n\u001b[1;32m    414\u001b[0m     \u001b[39mfrom\u001b[39;00m \u001b[39mtorch\u001b[39;00m\u001b[39m.\u001b[39;00m\u001b[39monnx\u001b[39;00m \u001b[39mimport\u001b[39;00m utils\n\u001b[0;32m--> 416\u001b[0m     \u001b[39mreturn\u001b[39;00m utils\u001b[39m.\u001b[39;49m_run_symbolic_function(\u001b[39m*\u001b[39;49margs, \u001b[39m*\u001b[39;49m\u001b[39m*\u001b[39;49mkwargs)\n",
      "File \u001b[0;32m~/devel/pattern-reco/ve/lib/python3.9/site-packages/torch/onnx/utils.py:1421\u001b[0m, in \u001b[0;36m_run_symbolic_function\u001b[0;34m(g, block, n, inputs, env, operator_export_type)\u001b[0m\n\u001b[1;32m   1417\u001b[0m         \u001b[39mreturn\u001b[39;00m g\u001b[39m.\u001b[39mat(  \u001b[39m# type: ignore[attr-defined]\u001b[39;00m\n\u001b[1;32m   1418\u001b[0m             op_name, \u001b[39m*\u001b[39minputs, overload_name\u001b[39m=\u001b[39m_get_aten_op_overload_name(n), \u001b[39m*\u001b[39m\u001b[39m*\u001b[39mattrs\n\u001b[1;32m   1419\u001b[0m         )\n\u001b[1;32m   1420\u001b[0m     \u001b[39melse\u001b[39;00m:\n\u001b[0;32m-> 1421\u001b[0m         \u001b[39mraise\u001b[39;00m symbolic_registry\u001b[39m.\u001b[39mUnsupportedOperatorError(\n\u001b[1;32m   1422\u001b[0m             domain, op_name, opset_version\n\u001b[1;32m   1423\u001b[0m         )\n\u001b[1;32m   1424\u001b[0m \u001b[39mexcept\u001b[39;00m \u001b[39mRuntimeError\u001b[39;00m:\n\u001b[1;32m   1425\u001b[0m     \u001b[39mif\u001b[39;00m operator_export_type \u001b[39m==\u001b[39m _C_onnx\u001b[39m.\u001b[39mOperatorExportTypes\u001b[39m.\u001b[39mONNX_FALLTHROUGH:\n",
      "\u001b[0;31mUnsupportedOperatorError\u001b[0m: ONNX export failed on an operator with unrecognized namespace torch_cluster::knn. If you are trying to export a custom operator, make sure you registered it with the right domain and version."
     ]
    }
   ],
   "source": [
    "import torch.onnx\n",
    "\n",
    "onnx_filepath = f\"onnx/TracksterGraphNet.mask.64.128.256.ns.{epochs}e-{ds_name}.{ds.RADIUS}.{ds.SCORE_THRESHOLD}.{ds.N_FILES}f.onnx\"\n",
    "\n",
    "torch.onnx.export(\n",
    "    model,                          # model to be exported\n",
    "    (ds[0].x),    # example input (add batch dimension)\n",
    "    onnx_filepath,\n",
    "    export_params=True,\n",
    "    opset_version=11,\n",
    "    do_constant_folding=True,\n",
    "    input_names=['features'],      # the model's input names\n",
    "    output_names=['output'],    # the model's output names\n",
    "    dynamic_axes={              # variable length axes\n",
    "        'features' : {0 : 'batch_size'},    \n",
    "        'output' : {0 : 'batch_size'}\n",
    "    }\n",
    ")"
   ]
  },
  {
   "cell_type": "code",
   "execution_count": null,
   "id": "9fb1c5e0",
   "metadata": {},
   "outputs": [],
   "source": []
  }
 ],
 "metadata": {
  "kernelspec": {
   "display_name": "Python 3.9.6 ('ve': venv)",
   "language": "python",
   "name": "python3"
  },
  "language_info": {
   "codemirror_mode": {
    "name": "ipython",
    "version": 3
   },
   "file_extension": ".py",
   "mimetype": "text/x-python",
   "name": "python",
   "nbconvert_exporter": "python",
   "pygments_lexer": "ipython3",
   "version": "3.9.6"
  },
  "vscode": {
   "interpreter": {
    "hash": "37c238d9819f69c2c770157eac01081978c120e64661e10d7fd52c4caf977dc9"
   }
  }
 },
 "nbformat": 4,
 "nbformat_minor": 5
}
