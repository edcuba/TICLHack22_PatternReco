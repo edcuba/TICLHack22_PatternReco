{
 "cells": [
  {
   "attachments": {},
   "cell_type": "markdown",
   "metadata": {},
   "source": [
    "## Dataset construction and forward pass comparison"
   ]
  },
  {
   "cell_type": "code",
   "execution_count": 8,
   "metadata": {},
   "outputs": [],
   "source": [
    "import numpy as np\n",
    "import matplotlib.pyplot as plt\n",
    "from matplotlib import rc\n",
    "rc('font',**{'family':'sans-serif','sans-serif':['DejaVu Sans'],'size': 12})\n",
    "rc('mathtext',**{'default':'regular'})\n",
    "%matplotlib inline\n",
    "%config InlineBackend.figure_format = 'retina'\n",
    "\n",
    "from reco.data import get_event_data\n",
    "from reco.datasetPU import get_event_pairs, get_event_graph"
   ]
  },
  {
   "cell_type": "code",
   "execution_count": 6,
   "metadata": {},
   "outputs": [],
   "source": [
    "ds_name = \"CloseByPion200PU\"\n",
    "data_root = \"data\"\n",
    "raw_dir = f\"/Users/ecuba/data/{ds_name}\"\n",
    "file_name = f\"{raw_dir}/new_ntuples_15643817_2.root\"\n",
    "cluster_data, trackster_data, simtrackster_data, assoc_data = get_event_data(file_name, pileup=True)"
   ]
  },
  {
   "cell_type": "code",
   "execution_count": 12,
   "metadata": {},
   "outputs": [
    {
     "name": "stdout",
     "output_type": "stream",
     "text": [
      "CPU times: user 53.7 s, sys: 454 ms, total: 54.1 s\n",
      "Wall time: 54.6 s\n"
     ]
    }
   ],
   "source": [
    "%%time\n",
    "for eid in range(20):\n",
    "    pairs = get_event_pairs(\n",
    "        cluster_data,\n",
    "        trackster_data,\n",
    "        assoc_data,\n",
    "        eid,\n",
    "        radius=15,\n",
    "        bigT_e_th=5,\n",
    "        pileup=True,\n",
    "    )\n",
    "    del pairs"
   ]
  },
  {
   "cell_type": "code",
   "execution_count": 13,
   "metadata": {},
   "outputs": [
    {
     "name": "stdout",
     "output_type": "stream",
     "text": [
      "CPU times: user 1min 16s, sys: 454 ms, total: 1min 16s\n",
      "Wall time: 1min 17s\n"
     ]
    }
   ],
   "source": [
    "%%time\n",
    "for eid in range(20):\n",
    "    graphs = get_event_graph(\n",
    "        cluster_data,\n",
    "        trackster_data,\n",
    "        assoc_data,\n",
    "        eid,\n",
    "        radius=15,\n",
    "        bigT_e_th=5,\n",
    "        pileup=True, \n",
    "        link_prediction=False,  \n",
    "    )\n",
    "    del graphs"
   ]
  },
  {
   "cell_type": "code",
   "execution_count": null,
   "metadata": {},
   "outputs": [],
   "source": [
    "%%timeit -n 3\n",
    "for eid in range(20):\n",
    "    graphs = get_event_graph(\n",
    "        cluster_data,\n",
    "        trackster_data,\n",
    "        assoc_data,\n",
    "        eid,\n",
    "        radius=15,\n",
    "        bigT_e_th=5,\n",
    "        pileup=True, \n",
    "        link_prediction=True,  \n",
    "    )\n",
    "    del graphs"
   ]
  }
 ],
 "metadata": {
  "kernelspec": {
   "display_name": "ve",
   "language": "python",
   "name": "python3"
  },
  "language_info": {
   "codemirror_mode": {
    "name": "ipython",
    "version": 3
   },
   "file_extension": ".py",
   "mimetype": "text/x-python",
   "name": "python",
   "nbconvert_exporter": "python",
   "pygments_lexer": "ipython3",
   "version": "3.9.6"
  },
  "orig_nbformat": 4,
  "vscode": {
   "interpreter": {
    "hash": "37c238d9819f69c2c770157eac01081978c120e64661e10d7fd52c4caf977dc9"
   }
  }
 },
 "nbformat": 4,
 "nbformat_minor": 2
}
