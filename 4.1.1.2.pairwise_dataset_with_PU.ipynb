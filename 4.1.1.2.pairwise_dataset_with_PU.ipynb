{
 "cells": [
  {
   "cell_type": "markdown",
   "id": "6c07744a",
   "metadata": {},
   "source": [
    "# Dataset: Trackster neighborhood with PU\n",
    "\n",
    "- select a trackster having at least 50% of the simtrackster energy (0.5 from the associator) and energy above 10GeV\n",
    "- connect its barycenter to (0,0,0), that gives the trackster axis\n",
    "- draw a cylinder along this axis, 10cm wide, going 3 layers (or 10cm) before and after the first/last layer-cluster\n",
    "- connect to all tracksters with a barycenter within this cone (star-like labels)\n",
    "- labels based on the associator score (can even be binary)\n",
    "- start with photons, 90% of them are fine, we just wanna fix the remaining 10%\n",
    "- if we are doing well here, we can go to pions which are much more fragmented\n",
    "- cut off at 0.2 but can include events with no edges too\n",
    "\n",
    "Physics evaluation\n",
    "- plug it into the CMSSW\n",
    "\n",
    "Method evaluation\n",
    "- based on precision and recall\n",
    "    - precision: 2 LC from RECO (within the cone?) also together in SIM\n",
    "        - how much mess I got in?\n",
    "    - recall: 2 LC from SIM together in RECO\n",
    "        - how good did I do on the connecting?\n"
   ]
  },
  {
   "cell_type": "code",
   "execution_count": 42,
   "id": "260b3597",
   "metadata": {},
   "outputs": [],
   "source": [
    "import uproot\n",
    "import numpy as np\n",
    "\n",
    "import matplotlib.pyplot as plt\n",
    "\n",
    "from torch_geometric.data import Data\n",
    "\n",
    "from reco.dataset import FEATURE_KEYS, build_pair_tensor\n",
    "\n",
    "ds_name = \"CloseByGamma200PU\"\n",
    "file_name = \"new_ntuples_15295178_20.root\"\n",
    "\n",
    "# data_root = \"/mnt/ceph/users/ecuba/processed\"\n",
    "# raw_dir = f\"/mnt/ceph/users/ecuba/{ds_name}\"\n",
    "\n",
    "data_root = \"data\"\n",
    "raw_dir = f\"/Users/ecuba/data/{ds_name}\"\n",
    "\n",
    "file_path = f\"{raw_dir}/{file_name}\"\n",
    "\n",
    "tracksters = uproot.open({file_path: \"ticlNtuplizer/tracksters\"})\n",
    "simtracksters = uproot.open({file_path: \"ticlNtuplizer/simtrackstersSC\"})\n",
    "associations = uproot.open({file_path: \"ticlNtuplizer/associations\"})\n",
    "graph = uproot.open({file_path: \"ticlNtuplizer/graph\"})\n",
    "\n",
    "\n",
    "reco2sim_index_ = associations[\"tsCLUE3D_recoToSim_SC\"].array()\n",
    "reco2sim_shared_ = associations[\"tsCLUE3D_recoToSim_SC_sharedE\"].array()\n",
    "reco2sim_score_ = associations[\"tsCLUE3D_recoToSim_SC_score\"].array()\n",
    "\n",
    "raw_energy_ = tracksters[\"raw_energy\"].array()\n",
    "sim_raw_energy_ = simtracksters[\"stsSC_raw_energy\"].array()\n",
    "\n",
    "barycenter_x_ = tracksters[\"barycenter_x\"].array()\n",
    "barycenter_y_ = tracksters[\"barycenter_y\"].array()\n",
    "barycenter_z_ = tracksters[\"barycenter_z\"].array()\n",
    "\n",
    "vertices_x_ = tracksters[\"vertices_x\"].array()\n",
    "vertices_y_ = tracksters[\"vertices_y\"].array()\n",
    "vertices_z_ = tracksters[\"vertices_z\"].array()\n",
    "vertices_energy_ = tracksters[\"vertices_energy\"].array()"
   ]
  },
  {
   "cell_type": "code",
   "execution_count": 43,
   "id": "3059e525",
   "metadata": {},
   "outputs": [],
   "source": [
    "def get_representative_points(bx, by, bz, min_z, max_z):\n",
    "    # take a line (0,0,0), (bx, by, bz) -> any point on the line is t*(bx, by, bz)\n",
    "    # compute the intersection with the min and max layer\n",
    "    # beginning of the line: (minx, miny, minz) = t*(bx, by, bz)\n",
    "    # minx = t*bx\n",
    "    # miny = t*by\n",
    "    # minz = t*bz : t = minz / bz\n",
    "    t_min = min_z / bz\n",
    "    t_max = max_z / bz\n",
    "    x1 = np.array((t_min * bx, t_min * by, min_z))\n",
    "    x2 = np.array((t_max * bx, t_max * by, max_z))\n",
    "    return x1, x2\n",
    "\n",
    "\n",
    "def get_tracksters_in_cone(x1, x2, barycentres, radius=15):\n",
    "    in_cone = []\n",
    "    for i, x0 in enumerate(barycentres):\n",
    "        # barycenter between the first and last layer\n",
    "        if x0[2] > x1[2] - radius and x0[2] < x2[2] + radius:\n",
    "            # distance from the particle axis less than 10cm\n",
    "            d = np.linalg.norm(np.cross(x0 - x1, x0 - x2)) / np.linalg.norm(x2 - x1)\n",
    "            if d < radius:\n",
    "                in_cone.append((i, d))\n",
    "    return in_cone\n",
    "\n",
    "def process_PU_event(\n",
    "    reco2sim,\n",
    "    sim_raw_energy,\n",
    "    score_threshold=0.3,\n",
    "):\n",
    "    # assuming only one simtrackster to keep things easy\n",
    "    big = None\n",
    "    little = []\n",
    "\n",
    "    for recoT_idx, (sim_indexes, shared_energies, scores) in enumerate(reco2sim):\n",
    "        for simT_idx, shared_energy, score in zip(sim_indexes, shared_energies, scores):\n",
    "            # 2 goals here: \n",
    "            # - find the trackster with >50% shared energy\n",
    "            # - find the tracksters with < 0.2 score\n",
    "            if score > score_threshold: continue\n",
    "\n",
    "            st_energy = sim_raw_energy[simT_idx]\n",
    "            st_fraction = shared_energy / st_energy\n",
    "\n",
    "            if st_fraction > 0.5:\n",
    "                big = recoT_idx\n",
    "            else:\n",
    "                little.append(recoT_idx)\n",
    "\n",
    "    return big, little"
   ]
  },
  {
   "cell_type": "code",
   "execution_count": 52,
   "id": "eb691b47",
   "metadata": {},
   "outputs": [],
   "source": [
    "dataset = []\n",
    "\n",
    "# starting pairwise\n",
    "for eid in range(len(vertices_z_)):\n",
    "    vertices_z = vertices_z_[eid]\n",
    "    barycenter_x = barycenter_x_[eid]\n",
    "    barycenter_y = barycenter_y_[eid]\n",
    "    barycenter_z = barycenter_z_[eid]\n",
    "\n",
    "    reco2sim_score = reco2sim_score_[eid]\n",
    "\n",
    "    bigT, smallTs = process_PU_event(\n",
    "        zip(reco2sim_index_[eid], reco2sim_shared_[eid], reco2sim_score),\n",
    "        sim_raw_energy_[eid],\n",
    "    )\n",
    "\n",
    "    if not bigT:\n",
    "        continue\n",
    "\n",
    "    min_z = min(vertices_z[bigT])\n",
    "    max_z = max(vertices_z[bigT])\n",
    "    \n",
    "    barycentres = np.array((barycenter_x, barycenter_y, barycenter_z)).T\n",
    "\n",
    "    x1, x2 = get_representative_points(\n",
    "        barycenter_x[bigT],\n",
    "        barycenter_y[bigT], \n",
    "        barycenter_z[bigT],\n",
    "        min_z,\n",
    "        max_z\n",
    "    )\n",
    "\n",
    "    in_cone = get_tracksters_in_cone(x1, x2, barycentres)\n",
    "\n",
    "    trackster_features = list([\n",
    "        tracksters[k].array()[eid] for k in FEATURE_KEYS\n",
    "    ])\n",
    "\n",
    "    for recoTxId, distance in in_cone:\n",
    "        # get features for each reco trackster... pairwise?\n",
    "        # graph-wise?\n",
    "        # start pairwise (look at BiPartite Graphs in Pytorch Geometric)\n",
    "        if recoTxId == bigT:\n",
    "            continue    # do not connect to itself\n",
    "\n",
    "        features = build_pair_tensor((bigT, recoTxId), trackster_features)\n",
    "        features.append(distance)\n",
    "        features.append(len(vertices_z[bigT]))\n",
    "        features.append(len(vertices_z[recoTxId]))\n",
    "\n",
    "        label = 1 - reco2sim_score[recoTxId][0]\n",
    "\n",
    "        dataset.append((features, label))"
   ]
  },
  {
   "cell_type": "code",
   "execution_count": 64,
   "id": "5976801e",
   "metadata": {},
   "outputs": [
    {
     "data": {
      "text/plain": [
       "18"
      ]
     },
     "execution_count": 64,
     "metadata": {},
     "output_type": "execute_result"
    }
   ],
   "source": [
    "#len(dataset)\n",
    "sum(np.array([d[1] for d in dataset]) > 0.5)"
   ]
  },
  {
   "cell_type": "code",
   "execution_count": 28,
   "id": "f85ed5fc",
   "metadata": {},
   "outputs": [
    {
     "data": {
      "image/png": "[encoded data removed]",
      "text/plain": [
       "<Figure size 1008x576 with 1 Axes>"
      ]
     },
     "metadata": {
      "needs_background": "light"
     },
     "output_type": "display_data"
    }
   ],
   "source": [
    "vertices_x = vertices_x_[eid]\n",
    "vertices_y = vertices_y_[eid]\n",
    "vertices_z = vertices_z_[eid]\n",
    "vertices_e = vertices_energy_[eid]\n",
    "\n",
    "fig = plt.figure(figsize=(14,8))\n",
    "ax = fig.add_subplot(111, projection='3d')\n",
    "ax.set_xlabel(\"x\")\n",
    "ax.set_ylabel(\"y\")\n",
    "ax.set_zlabel(\"z\")\n",
    "\n",
    "ax.scatter(vertices_x[bigT], vertices_y[bigT], vertices_z[bigT], s=vertices_e[bigT]*2, c=\"green\")\n",
    "\n",
    "for smallT in smallTs:\n",
    "    ax.scatter(vertices_x[smallT], vertices_y[smallT], vertices_z[smallT], s=vertices_e[smallT]*10)\n",
    "\n",
    "ax.view_init(45, 0, \"x\")\n",
    "plt.show()"
   ]
  },
  {
   "cell_type": "code",
   "execution_count": 6,
   "id": "d3489c2a",
   "metadata": {},
   "outputs": [
    {
     "data": {
      "text/plain": [
       "172.02716243571533"
      ]
     },
     "execution_count": 6,
     "metadata": {},
     "output_type": "execute_result"
    }
   ],
   "source": [
    "np.sqrt((42.27534103393555 - -43.609215)**2 + (26.828041076660156 - -122.22627)**2)"
   ]
  },
  {
   "cell_type": "code",
   "execution_count": null,
   "id": "63124886",
   "metadata": {},
   "outputs": [],
   "source": []
  }
 ],
 "metadata": {
  "kernelspec": {
   "display_name": "Python 3.8.9 ('ve': venv)",
   "language": "python",
   "name": "python3"
  },
  "language_info": {
   "codemirror_mode": {
    "name": "ipython",
    "version": 3
   },
   "file_extension": ".py",
   "mimetype": "text/x-python",
   "name": "python",
   "nbconvert_exporter": "python",
   "pygments_lexer": "ipython3",
   "version": "3.8.9"
  },
  "vscode": {
   "interpreter": {
    "hash": "75d0e37245d408f3d59eb152d126431f02f862b5012558b3df6d65a37ffc466c"
   }
  }
 },
 "nbformat": 4,
 "nbformat_minor": 5
}
