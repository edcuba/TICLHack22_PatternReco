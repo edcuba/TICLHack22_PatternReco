{
 "cells": [
  {
   "cell_type": "code",
   "execution_count": 1,
   "metadata": {},
   "outputs": [],
   "source": [
    "# TODO: explore EM shower profile\n",
    "import torch\n",
    "import numpy as np\n",
    "from utils.data_utils import HGCALTracksters\n",
    "from torch_geometric.loader import DataLoader"
   ]
  },
  {
   "cell_type": "code",
   "execution_count": 2,
   "metadata": {},
   "outputs": [],
   "source": [
    "import torch_geometric.transforms as T\n",
    "transform = T.Compose([T.NormalizeFeatures()])\n",
    "\n",
    "ds = HGCALTracksters(\"data\", kind=\"photon\", transform=transform)"
   ]
  },
  {
   "cell_type": "code",
   "execution_count": 3,
   "metadata": {},
   "outputs": [
    {
     "data": {
      "text/plain": [
       "HGCALTracksters(23673)"
      ]
     },
     "execution_count": 3,
     "metadata": {},
     "output_type": "execute_result"
    }
   ],
   "source": [
    "ds"
   ]
  },
  {
   "cell_type": "code",
   "execution_count": 24,
   "metadata": {},
   "outputs": [
    {
     "name": "stdout",
     "output_type": "stream",
     "text": [
      "16573 7100\n",
      "12200 2000\n"
     ]
    }
   ],
   "source": [
    "# balance the dataset\n",
    "pos = ds[ds.data.y == 1]\n",
    "neg = ds[ds.data.y == 0]\n",
    "print(len(pos), len(neg))\n",
    "len_neg = len(neg)\n",
    "len_pos = len(pos)\n",
    "shorter = min(len_neg, len_pos)\n",
    "\n",
    "test_set_class_size = 1000\n",
    "train_set = pos[:shorter - test_set_class_size] + neg[:shorter - test_set_class_size]\n",
    "test_set = pos[shorter - test_set_class_size:shorter] + neg[shorter - test_set_class_size:shorter]\n",
    "print(len(train_set), len(test_set))\n",
    "train_dl = DataLoader(train_set, batch_size=8, shuffle=True)\n",
    "test_dl = DataLoader(test_set, batch_size=8, shuffle=True)"
   ]
  },
  {
   "cell_type": "code",
   "execution_count": 25,
   "metadata": {},
   "outputs": [
    {
     "name": "stdout",
     "output_type": "stream",
     "text": [
      "PyTorch version: 1.13.0.dev20220622\n",
      "Using device: cpu\n"
     ]
    }
   ],
   "source": [
    "print(f\"PyTorch version: {torch.__version__}\")\n",
    "# Check PyTorch has access to MPS (Metal Performance Shader, Apple's GPU architecture)\n",
    "# print(f\"Is MPS (Metal Performance Shader) built? {torch.backends.mps.is_built()}\")\n",
    "# print(f\"Is MPS available? {torch.backends.mps.is_available()}\")\n",
    "# device = torch.device('cuda' if torch.cuda.is_available() else 'mps' if torch.backends.mps.is_available() else \"cpu\")\n",
    "\n",
    "device = torch.device('cuda' if torch.cuda.is_available() else \"cpu\")\n",
    "print(f\"Using device: {device}\")"
   ]
  },
  {
   "cell_type": "code",
   "execution_count": 26,
   "metadata": {},
   "outputs": [],
   "source": [
    "from torch_geometric.nn import GCNConv, global_mean_pool\n",
    "\n",
    "class TracksterClassifier(torch.nn.Module):\n",
    "    def __init__(self, in_channels, out_channels, **kwargs):\n",
    "        super(TracksterClassifier, self).__init__(**kwargs)\n",
    "\n",
    "        self.conv1 = GCNConv(in_channels, out_channels)\n",
    "        self.conv2 = GCNConv(out_channels, out_channels)\n",
    "        self.dense = torch.nn.Linear(out_channels, 1)\n",
    "\n",
    "    def forward(self, data):\n",
    "        x, edge_index, batch = data.x, data.edge_index, data.batch\n",
    "        x = self.conv1(x, edge_index)\n",
    "        x = self.conv2(x, edge_index)\n",
    "        x = global_mean_pool(x, batch)\n",
    "        x = self.dense(x)\n",
    "        return torch.sigmoid(x)"
   ]
  },
  {
   "cell_type": "code",
   "execution_count": 27,
   "metadata": {},
   "outputs": [],
   "source": [
    "loss_obj = torch.nn.BCELoss()\n",
    "\n",
    "def train(model, loader):\n",
    "    epoch_loss = 0\n",
    "    for batch in loader:\n",
    "        model.train()\n",
    "        batch = batch.to(device)\n",
    "        optimizer.zero_grad()\n",
    "        z = model(batch).reshape(-1)\n",
    "        loss = loss_obj(z, batch.y.type(torch.float))\n",
    "        epoch_loss += loss\n",
    "        loss.backward()\n",
    "        optimizer.step()\n",
    "    return float(epoch_loss)\n",
    "\n",
    "@torch.no_grad()\n",
    "def test(model, data):\n",
    "    total = 0\n",
    "    correct = 0\n",
    "    for batch in data:\n",
    "        model.eval()\n",
    "        prediction = (model(batch).reshape(-1) > 0.5).type(torch.int)\n",
    "        total += len(prediction) \n",
    "        correct += sum(prediction == batch.y)\n",
    "    return correct / total"
   ]
  },
  {
   "cell_type": "code",
   "execution_count": 29,
   "metadata": {},
   "outputs": [
    {
     "name": "stdout",
     "output_type": "stream",
     "text": [
      "Epoch: 0, loss: 939.2356, train acc: 0.7534, test acc: 0.7530\n",
      "Epoch: 5, loss: 564.5643, train acc: 0.8278, test acc: 0.8205\n",
      "Epoch: 10, loss: 547.2329, train acc: 0.8268, test acc: 0.8240\n",
      "Epoch: 15, loss: 535.6576, train acc: 0.8284, test acc: 0.8210\n",
      "Epoch: 20, loss: 539.4481, train acc: 0.8252, test acc: 0.8205\n",
      "Epoch: 25, loss: 530.6376, train acc: 0.8534, test acc: 0.8415\n",
      "Epoch: 30, loss: 525.0104, train acc: 0.8234, test acc: 0.8215\n",
      "Epoch: 35, loss: 529.8818, train acc: 0.8562, test acc: 0.8485\n",
      "Epoch: 40, loss: 530.4089, train acc: 0.8425, test acc: 0.8275\n",
      "Epoch: 45, loss: 524.0376, train acc: 0.8520, test acc: 0.8430\n",
      "Epoch: 50, loss: 521.8866, train acc: 0.8443, test acc: 0.8420\n",
      "Epoch: 55, loss: 524.4149, train acc: 0.8599, test acc: 0.8410\n",
      "Epoch: 60, loss: 525.6693, train acc: 0.8476, test acc: 0.8335\n",
      "Epoch: 65, loss: 522.4274, train acc: 0.8527, test acc: 0.8355\n",
      "Epoch: 70, loss: 521.7656, train acc: 0.8536, test acc: 0.8445\n",
      "Epoch: 75, loss: 515.0178, train acc: 0.8593, test acc: 0.8455\n",
      "Epoch: 80, loss: 517.2117, train acc: 0.8494, test acc: 0.8360\n",
      "Epoch: 85, loss: 516.5812, train acc: 0.8593, test acc: 0.8475\n",
      "Epoch: 90, loss: 514.9749, train acc: 0.8178, test acc: 0.8080\n",
      "Epoch: 95, loss: 520.3876, train acc: 0.8613, test acc: 0.8515\n",
      "Epoch: 100, loss: 518.8148, train acc: 0.8639, test acc: 0.8560\n"
     ]
    }
   ],
   "source": [
    "model = TracksterClassifier(ds.num_node_features, 128)\n",
    "model = model.to(device)\n",
    "optimizer = torch.optim.Adam(model.parameters(), lr=0.001)\n",
    "\n",
    "for epoch in range(101):\n",
    "    loss = train(model, train_dl)\n",
    "    train_acc = test(model, train_dl)\n",
    "    test_acc = test(model, test_dl)\n",
    "    if epoch % 5 == 0:\n",
    "        print(f'Epoch: {epoch}, loss: {loss:.4f}, train acc: {train_acc:.4f}, test acc: {test_acc:.4f}')"
   ]
  },
  {
   "cell_type": "code",
   "execution_count": null,
   "metadata": {},
   "outputs": [],
   "source": [
    "import matplotlib.pyplot as plt"
   ]
  },
  {
   "cell_type": "code",
   "execution_count": null,
   "metadata": {},
   "outputs": [],
   "source": [
    "def check_accuracy(predictions, loader):\n",
    "    energy = []\n",
    "    for b in loader:\n",
    "        energy.extend([en for en in b.energy])\n",
    "    e_nvertices = np.array([len(x) for i, x in enumerate(energy)])\n",
    "    e_sum = np.array([sum(x) for i, x in enumerate(energy)])\n",
    "\n",
    "    plt.figure(figsize=(10, 8))\n",
    "    mask = [bool(pred) for pred in predictions]\n",
    "    plt.scatter(e_nvertices[mask], e_sum[mask], c = 'dodgerblue', label = 'correct') \n",
    "    acc = len(e_nvertices[mask])\n",
    "    mask = [not bool(pred) for pred in predictions]\n",
    "    plt.scatter(e_nvertices[mask], e_sum[mask], c = 'red', label = 'incorrect') \n",
    "    print(f'accuracy: {(acc / (acc + len(e_nvertices[mask]))):.4f}')\n",
    "    plt.title(\"Number of vertices vs total energy\")\n",
    "    plt.xlabel(\"Number of vertices\")\n",
    "    plt.ylabel(\"Total energy\")\n",
    "    plt.legend()\n",
    "    return"
   ]
  },
  {
   "cell_type": "code",
   "execution_count": null,
   "metadata": {},
   "outputs": [],
   "source": []
  }
 ],
 "metadata": {
  "kernelspec": {
   "display_name": "Python 3.8.9 ('ve': venv)",
   "language": "python",
   "name": "python3"
  },
  "language_info": {
   "codemirror_mode": {
    "name": "ipython",
    "version": 3
   },
   "file_extension": ".py",
   "mimetype": "text/x-python",
   "name": "python",
   "nbconvert_exporter": "python",
   "pygments_lexer": "ipython3",
   "version": "3.8.9"
  },
  "orig_nbformat": 4,
  "vscode": {
   "interpreter": {
    "hash": "1903a8da8a80be3e00e24bd0fcb097c09e11062da66a97e6f0ab60aef4c2ceaa"
   }
  }
 },
 "nbformat": 4,
 "nbformat_minor": 2
}
