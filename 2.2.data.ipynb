{
 "cells": [
  {
   "cell_type": "markdown",
   "metadata": {},
   "source": [
    "# Data"
   ]
  },
  {
   "cell_type": "code",
   "execution_count": 6,
   "metadata": {},
   "outputs": [
    {
     "name": "stdout",
     "output_type": "stream",
     "text": [
      "name                 | typename                 | interpretation                \n",
      "---------------------+--------------------------+-------------------------------\n",
      "linked_inners        | std::vector<std::vect... | AsObjects(AsVector(True, As...\n",
      "linked_outers        | std::vector<std::vect... | AsObjects(AsVector(True, As...\n",
      "isRootTrackster      | std::vector<bool>        | AsJagged(AsDtype('bool'), h...\n"
     ]
    }
   ],
   "source": [
    "import uproot\n",
    "import awkward as ak\n",
    "import numpy as np\n",
    "from reco.plotting import plot_event\n",
    "from reco.energy import get_total_energy, get_energy_map\n",
    "from reco.evaluation import bcubed, f_score\n",
    "from reco.event import get_trackster_map\n",
    "\n",
    "# %matplotlib widget\n",
    "%matplotlib inline\n",
    "\n",
    "# file_name = \"~/data/close_by_two_photons/new_ntuples_14992861_331.root\"\n",
    "# file_name = \"~/data/multiparticle/new_ntuples_14132277_842.root\"\n",
    "# file_name = \"~/data/close_by_two_pions_15cm/new_ntuples_14955802_28.root\"\n",
    "file_name = \"~/Data/multi/new_ntuples_14992862_996.root\"\n",
    "\n",
    "\n",
    "tracksters = uproot.open({file_name: \"ticlNtuplizer/tracksters\"})\n",
    "simtracksters = uproot.open({file_name: \"ticlNtuplizer/simtrackstersSC\"})\n",
    "associations = uproot.open({file_name: \"ticlNtuplizer/associations\"})\n",
    "\n",
    "# simtracksters.show(name_width=40)"
   ]
  },
  {
   "cell_type": "markdown",
   "metadata": {},
   "source": [
    "Vertices in Tracksters and Simtracksters are in the same collection (with matching IDs).\n",
    "- Not all vertices are present in the reconstruction"
   ]
  }
 ],
 "metadata": {
  "kernelspec": {
   "display_name": "Python 3.8.9 ('ve': venv)",
   "language": "python",
   "name": "python3"
  },
  "language_info": {
   "codemirror_mode": {
    "name": "ipython",
    "version": 3
   },
   "file_extension": ".py",
   "mimetype": "text/x-python",
   "name": "python",
   "nbconvert_exporter": "python",
   "pygments_lexer": "ipython3",
   "version": "3.8.9"
  },
  "orig_nbformat": 4,
  "vscode": {
   "interpreter": {
    "hash": "75d0e37245d408f3d59eb152d126431f02f862b5012558b3df6d65a37ffc466c"
   }
  }
 },
 "nbformat": 4,
 "nbformat_minor": 2
}
