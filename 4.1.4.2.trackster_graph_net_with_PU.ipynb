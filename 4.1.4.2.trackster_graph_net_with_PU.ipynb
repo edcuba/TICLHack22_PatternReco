{
 "cells": [
  {
   "cell_type": "markdown",
   "id": "6c07744a",
   "metadata": {},
   "source": [
    "# Trackster-level graph net with PU\n",
    "\n",
    "Question: does including the neughbourhood provide benefir over pairwise classification?"
   ]
  },
  {
   "cell_type": "code",
   "execution_count": 1,
   "id": "e3962d51",
   "metadata": {},
   "outputs": [],
   "source": [
    "import numpy as np\n",
    "import torch\n",
    "import sys\n",
    "import torch.nn as nn\n",
    "from torch.optim import SGD\n",
    "from torch.optim.lr_scheduler import CosineAnnealingLR\n",
    "\n",
    "from torch.utils.data import random_split\n",
    "from torch_geometric.nn import DynamicEdgeConv\n",
    "from torch_geometric.loader import DataLoader\n",
    "import torch_geometric.transforms as T\n",
    "\n",
    "import sklearn.metrics as metrics\n",
    "\n",
    "from reco.training import train_edge_pred, test_edge_pred, precision_recall_curve\n",
    "from reco.loss import FocalLoss\n",
    "from reco.datasetPU import TracksterGraphPU\n",
    "\n",
    "\n",
    "ds_name = \"CloseByGamma200PUFull\"\n",
    "data_root = \"data\"\n",
    "raw_dir = f\"/Users/ecuba/data/{ds_name}\"\n",
    "\n",
    "# data_root = \"/mnt/ceph/users/ecuba/processed\"\n",
    "# ds_name = \"CloseByGamma200PUFull\"\n",
    "# raw_dir = f\"/mnt/ceph/users/ecuba/{ds_name}\""
   ]
  },
  {
   "cell_type": "code",
   "execution_count": 2,
   "id": "02f59304-76e4-4132-a379-978a46a042fd",
   "metadata": {},
   "outputs": [
    {
     "name": "stdout",
     "output_type": "stream",
     "text": [
      "Using device: cpu\n"
     ]
    }
   ],
   "source": [
    "# CUDA Setup\n",
    "device = torch.device('cuda' if torch.cuda.is_available() else \"cpu\")\n",
    "print(f\"Using device: {device}\")"
   ]
  },
  {
   "cell_type": "code",
   "execution_count": 3,
   "id": "ecf4c091",
   "metadata": {},
   "outputs": [
    {
     "name": "stderr",
     "output_type": "stream",
     "text": [
      "Processing...\n",
      "/Users/ecuba/data/CloseByGamma200PUFull/new_ntuples_15347783_82.root\n",
      "/Users/ecuba/data/CloseByGamma200PUFull/new_ntuples_15347783_83.root\n",
      "Done!\n"
     ]
    },
    {
     "data": {
      "text/plain": [
       "['TracksterGraphPU_CloseByGamma200PUFull_f2_r10_s0.2.pt']"
      ]
     },
     "execution_count": 3,
     "metadata": {},
     "output_type": "execute_result"
    }
   ],
   "source": [
    "transform = T.Compose([T.NormalizeScale()])\n",
    "\n",
    "ds = TracksterGraphPU(\n",
    "    ds_name,\n",
    "    data_root,\n",
    "    raw_dir,\n",
    "    # transform=transform,\n",
    "    N_FILES=2,\n",
    "    radius=10,\n",
    ")\n",
    "\n",
    "ds.processed_file_names"
   ]
  },
  {
   "cell_type": "code",
   "execution_count": 9,
   "id": "604298f4",
   "metadata": {},
   "outputs": [
    {
     "name": "stdout",
     "output_type": "stream",
     "text": [
      "Train graphs: 18, Test graphs: 2\n"
     ]
    }
   ],
   "source": [
    "ds_size = len(ds)\n",
    "test_set_size = ds_size // 10\n",
    "train_set_size = ds_size - test_set_size\n",
    "train_set, test_set = random_split(ds, [train_set_size, test_set_size])\n",
    "print(f\"Train graphs: {len(train_set)}, Test graphs: {len(test_set)}\")\n",
    "\n",
    "train_dl = DataLoader(train_set, batch_size=64, shuffle=True)\n",
    "test_dl = DataLoader(test_set, batch_size=64, shuffle=True)"
   ]
  },
  {
   "cell_type": "code",
   "execution_count": 10,
   "id": "7e9f24ba-0c3c-4793-ab31-e2b699e69a77",
   "metadata": {},
   "outputs": [
    {
     "name": "stdout",
     "output_type": "stream",
     "text": [
      "Labels (one per tracksters): 862\n"
     ]
    }
   ],
   "source": [
    "print(\"Labels (one per tracksters):\", len(ds.data.y))"
   ]
  },
  {
   "cell_type": "code",
   "execution_count": 11,
   "id": "1c217aff-c1a6-4fa9-9f17-2a03f9aa93bd",
   "metadata": {},
   "outputs": [
    {
     "name": "stdout",
     "output_type": "stream",
     "text": [
      "dataset balance: 0.122\n"
     ]
    }
   ],
   "source": [
    "balance = float(sum(ds.data.y) / len(ds.data.y))\n",
    "print(f\"dataset balance: {balance:.3f}\") "
   ]
  },
  {
   "cell_type": "code",
   "execution_count": 14,
   "id": "3f4a0b99-bef3-4c82-a0ac-d88e1521382b",
   "metadata": {},
   "outputs": [],
   "source": [
    "class EdgeConvBlock(nn.Module):\n",
    "\n",
    "    def __init__(self, input_dim, hidden_dim, aggr=\"add\", skip_link=False, k=8):\n",
    "        super(EdgeConvBlock, self).__init__()\n",
    "\n",
    "        convnetwork = nn.Sequential(\n",
    "            nn.Linear(2 * input_dim, hidden_dim),\n",
    "            nn.BatchNorm1d(hidden_dim),\n",
    "            nn.ReLU(),\n",
    "            nn.Linear(hidden_dim, hidden_dim),\n",
    "            nn.BatchNorm1d(hidden_dim),\n",
    "            nn.ReLU(),\n",
    "            nn.Linear(hidden_dim, hidden_dim),\n",
    "            nn.BatchNorm1d(hidden_dim),\n",
    "            nn.ReLU()\n",
    "        )\n",
    "\n",
    "        self.dynamicgraphconv = DynamicEdgeConv(nn=convnetwork, aggr=aggr, k=k)\n",
    "        self.skip_link = skip_link\n",
    "        \n",
    "    def forward(self, X, _=None):\n",
    "        H = self.dynamicgraphconv(X)\n",
    "\n",
    "        if self.skip_link:\n",
    "            return torch.hstack((H, X))\n",
    "\n",
    "        return H    \n",
    "\n",
    "\n",
    "class TracksterGraphNet(nn.Module):\n",
    "    def __init__(self, input_dim, output_dim=1, dropout=0.2, skip_link=False):\n",
    "        super(TracksterGraphNet, self).__init__()\n",
    "        \n",
    "        hdim1 = 64\n",
    "        in_dim2 = hdim1 + input_dim if skip_link else hdim1\n",
    "        \n",
    "        hdim2 = 64\n",
    "        in_dim3 = hdim2 + in_dim2 if skip_link else hdim2\n",
    "\n",
    "        hdim3 = 128\n",
    "\n",
    "        # EdgeConv\n",
    "        self.graphconv1 = EdgeConvBlock(input_dim, hdim1, skip_link=skip_link)\n",
    "        self.graphconv2 = EdgeConvBlock(in_dim2, hdim2, skip_link=skip_link)\n",
    "        \n",
    "        # Edge features from node embeddings for classification        \n",
    "        self.edgenetwork = nn.Sequential(\n",
    "            nn.Linear(in_dim3, hdim3),\n",
    "            nn.ReLU(),\n",
    "            nn.Dropout(dropout),\n",
    "            nn.Linear(hdim3, output_dim),\n",
    "            nn.Sigmoid()\n",
    "        )\n",
    "            \n",
    "    def forward(self, X, _=None):   \n",
    "        H = self.graphconv1(X)\n",
    "        H = self.graphconv2(H)\n",
    "        return self.edgenetwork(H).squeeze(-1)"
   ]
  },
  {
   "cell_type": "code",
   "execution_count": 20,
   "id": "2d3f1e82-74c5-4629-9b20-f05d7662aaf1",
   "metadata": {},
   "outputs": [
    {
     "name": "stderr",
     "output_type": "stream",
     "text": [
      "Epoch 0: \ttrain loss:1.20\ttrain bacc: 0.501 \t test loss:0.34 \t test bacc: 0.437\n",
      "Epoch 10: \ttrain loss:0.73\ttrain bacc: 0.556 \t test loss:0.15 \t test bacc: 0.500\n",
      "Epoch 20: \ttrain loss:0.57\ttrain bacc: 0.560 \t test loss:0.08 \t test bacc: 0.500\n",
      "Epoch 30: \ttrain loss:0.49\ttrain bacc: 0.568 \t test loss:0.08 \t test bacc: 0.500\n",
      "Epoch 40: \ttrain loss:0.43\ttrain bacc: 0.574 \t test loss:0.08 \t test bacc: 0.500\n",
      "Epoch 50: \ttrain loss:0.42\ttrain bacc: 0.575 \t test loss:0.08 \t test bacc: 0.500\n",
      "Epoch 60: \ttrain loss:0.40\ttrain bacc: 0.589 \t test loss:0.08 \t test bacc: 0.500\n",
      "Epoch 70: \ttrain loss:0.38\ttrain bacc: 0.596 \t test loss:0.08 \t test bacc: 0.500\n",
      "Epoch 80: \ttrain loss:0.38\ttrain bacc: 0.590 \t test loss:0.08 \t test bacc: 0.500\n",
      "Epoch 90: \ttrain loss:0.33\ttrain bacc: 0.596 \t test loss:0.08 \t test bacc: 0.500\n",
      "Epoch 100: \ttrain loss:0.35\ttrain bacc: 0.596 \t test loss:0.08 \t test bacc: 0.500\n"
     ]
    }
   ],
   "source": [
    "# %%script echo skipping\n",
    "\n",
    "model = TracksterGraphNet(input_dim=ds.data.x.shape[1], skip_link=False)\n",
    "epochs = 101\n",
    "\n",
    "# alpha - percentage of negative edges\n",
    "loss_func = FocalLoss(alpha=balance, gamma=2)\n",
    "\n",
    "model = model.to(device)\n",
    "optimizer = SGD(model.parameters(), lr=0.001, momentum=0.9, weight_decay=1e-4)\n",
    "scheduler = CosineAnnealingLR(optimizer, epochs, eta_min=1e-3)\n",
    "\n",
    "for epoch in range(epochs):\n",
    "\n",
    "    train_loss, train_true, train_pred = train_edge_pred(\n",
    "        model,\n",
    "        device,\n",
    "        optimizer,\n",
    "        loss_func,\n",
    "        train_dl\n",
    "    )\n",
    "    \n",
    "    train_acc = metrics.balanced_accuracy_score((train_true > 0.5).astype(int), (train_pred > 0.5).astype(int))\n",
    "    scheduler.step()\n",
    "\n",
    "    if epoch % 10 == 0:\n",
    "        test_loss, test_true, test_pred = test_edge_pred(model, device, loss_func, test_dl)\n",
    "        test_acc = metrics.balanced_accuracy_score((test_true > 0.5).astype(int), (test_pred > 0.5).astype(int))\n",
    "        print(\n",
    "            f\"Epoch {epoch}:\",\n",
    "            f\"\\ttrain loss:{train_loss:.2f}\\ttrain bacc: {train_acc:.3f}\",\n",
    "            f\"\\t test loss:{test_loss:.2f} \\t test bacc: {test_acc:.3f}\",\n",
    "            file=sys.stderr\n",
    "        )"
   ]
  },
  {
   "cell_type": "code",
   "execution_count": null,
   "id": "c9993b5b",
   "metadata": {},
   "outputs": [],
   "source": [
    "# torch.save(model.state_dict(), f\"models/LCGraphNet.64.128.128.ns.{epochs}e-{ds_name}.{ds.RADIUS}.{ds.SCORE_THRESHOLD}.{ds.N_FILES}f.pt\")"
   ]
  },
  {
   "cell_type": "code",
   "execution_count": 22,
   "id": "f2e14bc7-4d33-485b-9075-348fa0bd284e",
   "metadata": {},
   "outputs": [
    {
     "data": {
      "image/png": "[encoded data removed]",
      "text/plain": [
       "<Figure size 432x288 with 1 Axes>"
      ]
     },
     "metadata": {
      "needs_background": "light"
     },
     "output_type": "display_data"
    },
    {
     "name": "stdout",
     "output_type": "stream",
     "text": [
      "TP: 12, TN: 696, FP: 0, FN: 15\n",
      "TH: 0.91 precision: 1.000 recall: 0.444 fbeta: 0.800 b_acc: 0.722 acc: 0.979\n"
     ]
    }
   ],
   "source": [
    "precision_recall_curve(model, device, train_dl, step=2)"
   ]
  },
  {
   "cell_type": "code",
   "execution_count": null,
   "id": "e96c3278",
   "metadata": {},
   "outputs": [],
   "source": []
  }
 ],
 "metadata": {
  "kernelspec": {
   "display_name": "Python 3.8.9 ('ve': venv)",
   "language": "python",
   "name": "python3"
  },
  "language_info": {
   "codemirror_mode": {
    "name": "ipython",
    "version": 3
   },
   "file_extension": ".py",
   "mimetype": "text/x-python",
   "name": "python",
   "nbconvert_exporter": "python",
   "pygments_lexer": "ipython3",
   "version": "3.8.9"
  },
  "vscode": {
   "interpreter": {
    "hash": "75d0e37245d408f3d59eb152d126431f02f862b5012558b3df6d65a37ffc466c"
   }
  }
 },
 "nbformat": 4,
 "nbformat_minor": 5
}
