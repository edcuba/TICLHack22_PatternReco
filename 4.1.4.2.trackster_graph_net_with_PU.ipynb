{
 "cells": [
  {
   "cell_type": "markdown",
   "id": "6c07744a",
   "metadata": {},
   "source": [
    "# Trackster-level graph net with PU\n",
    "\n",
    "Question: does including the neughbourhood provide benefir over pairwise classification?"
   ]
  },
  {
   "cell_type": "code",
   "execution_count": 1,
   "id": "e3962d51",
   "metadata": {},
   "outputs": [],
   "source": [
    "import numpy as np\n",
    "import torch\n",
    "import sys\n",
    "\n",
    "import torch.nn as nn\n",
    "from torch.optim import SGD\n",
    "from torch.optim.lr_scheduler import CosineAnnealingLR\n",
    "\n",
    "from torch.utils.data import random_split\n",
    "from torch_geometric.nn import DynamicEdgeConv\n",
    "from torch_geometric.loader import DataLoader\n",
    "import torch_geometric.transforms as T\n",
    "\n",
    "import sklearn.metrics as metrics\n",
    "\n",
    "from reco.training import train_edge_pred, test_edge_pred, precision_recall_curve, roc_auc\n",
    "from reco.loss import FocalLoss\n",
    "from reco.datasetPU import TracksterGraphPU\n",
    "\n",
    "\n",
    "ds_name = \"CloseByGamma200PUFull\"\n",
    "\n",
    "# data_root = \"data\"\n",
    "# raw_dir = f\"/Users/ecuba/data/{ds_name}\"\n",
    "\n",
    "data_root = \"/mnt/ceph/users/ecuba/processed\"\n",
    "raw_dir = f\"/mnt/ceph/users/ecuba/{ds_name}\""
   ]
  },
  {
   "cell_type": "code",
   "execution_count": 2,
   "id": "02f59304-76e4-4132-a379-978a46a042fd",
   "metadata": {},
   "outputs": [
    {
     "name": "stdout",
     "output_type": "stream",
     "text": [
      "Using device: cuda\n"
     ]
    }
   ],
   "source": [
    "# CUDA Setup\n",
    "device = torch.device('cuda' if torch.cuda.is_available() else \"cpu\")\n",
    "print(f\"Using device: {device}\")"
   ]
  },
  {
   "cell_type": "code",
   "execution_count": 3,
   "id": "ecf4c091",
   "metadata": {},
   "outputs": [
    {
     "data": {
      "text/plain": [
       "['TracksterGraphPU_CloseByGamma200PUFull_f464_r10_s0.2.pt']"
      ]
     },
     "execution_count": 3,
     "metadata": {},
     "output_type": "execute_result"
    }
   ],
   "source": [
    "transform = T.Compose([T.NormalizeScale()])\n",
    "\n",
    "ds = TracksterGraphPU(\n",
    "    ds_name,\n",
    "    data_root,\n",
    "    raw_dir,\n",
    "    # transform=transform,\n",
    "    N_FILES=464,\n",
    "    radius=10,\n",
    ")\n",
    "\n",
    "ds.processed_file_names"
   ]
  },
  {
   "cell_type": "code",
   "execution_count": 30,
   "id": "604298f4",
   "metadata": {},
   "outputs": [
    {
     "name": "stdout",
     "output_type": "stream",
     "text": [
      "Train graphs: 4724, Test graphs: 524\n"
     ]
    }
   ],
   "source": [
    "ds_size = len(ds)\n",
    "test_set_size = ds_size // 10\n",
    "train_set_size = ds_size - test_set_size\n",
    "train_set, test_set = random_split(ds, [train_set_size, test_set_size])\n",
    "print(f\"Train graphs: {len(train_set)}, Test graphs: {len(test_set)}\")\n",
    "\n",
    "train_dl = DataLoader(train_set, batch_size=32, shuffle=True)\n",
    "test_dl = DataLoader(test_set, batch_size=32, shuffle=True)"
   ]
  },
  {
   "cell_type": "code",
   "execution_count": 31,
   "id": "7e9f24ba-0c3c-4793-ab31-e2b699e69a77",
   "metadata": {},
   "outputs": [
    {
     "name": "stdout",
     "output_type": "stream",
     "text": [
      "Labels (one per trackster): 180604\n",
      "Positive: 11832\n",
      "Negative: 168772\n"
     ]
    }
   ],
   "source": [
    "# the difference to the pairwise dataset is that\n",
    "# we have more labels in the graph\n",
    "# pairwise dataset doesn't contain labels for the main\n",
    "# trackster (only pairs)\n",
    "print(\"Labels (one per trackster):\", len(ds.data.y))\n",
    "print(\"Positive:\", int((ds.data.y > 0.8).type(torch.int).sum()))\n",
    "print(\"Negative:\", int((ds.data.y < 0.8).type(torch.int).sum()))"
   ]
  },
  {
   "cell_type": "code",
   "execution_count": 32,
   "id": "1c217aff-c1a6-4fa9-9f17-2a03f9aa93bd",
   "metadata": {},
   "outputs": [
    {
     "name": "stdout",
     "output_type": "stream",
     "text": [
      "dataset balance: 6.55%\n"
     ]
    }
   ],
   "source": [
    "balance = float(sum(ds.data.y > 0.8) / len(ds.data.y))\n",
    "print(f\"dataset balance: {balance * 100:.2f}%\") "
   ]
  },
  {
   "cell_type": "code",
   "execution_count": 33,
   "id": "3f4a0b99-bef3-4c82-a0ac-d88e1521382b",
   "metadata": {},
   "outputs": [],
   "source": [
    "class EdgeConvBlock(nn.Module):\n",
    "\n",
    "    def __init__(self, input_dim, hidden_dim, aggr=\"add\", skip_link=False, k=8):\n",
    "        super(EdgeConvBlock, self).__init__()\n",
    "\n",
    "        convnetwork = nn.Sequential(\n",
    "            nn.Linear(2 * input_dim, hidden_dim),\n",
    "            nn.BatchNorm1d(hidden_dim),\n",
    "            nn.ReLU(),\n",
    "            nn.Linear(hidden_dim, hidden_dim),\n",
    "            nn.BatchNorm1d(hidden_dim),\n",
    "            nn.ReLU(),\n",
    "            nn.Linear(hidden_dim, hidden_dim),\n",
    "            nn.BatchNorm1d(hidden_dim),\n",
    "            nn.ReLU()\n",
    "        )\n",
    "\n",
    "        self.dynamicgraphconv = DynamicEdgeConv(nn=convnetwork, aggr=aggr, k=k)\n",
    "        self.skip_link = skip_link\n",
    "        \n",
    "    def forward(self, X, _=None):\n",
    "        H = self.dynamicgraphconv(X)\n",
    "\n",
    "        if self.skip_link:\n",
    "            return torch.hstack((H, X))\n",
    "\n",
    "        return H    \n",
    "\n",
    "\n",
    "class TracksterGraphNet(nn.Module):\n",
    "    def __init__(self, input_dim, output_dim=1, dropout=0.2, skip_link=False):\n",
    "        super(TracksterGraphNet, self).__init__()\n",
    "        \n",
    "        hdim1 = 64\n",
    "        in_dim2 = hdim1 + input_dim if skip_link else hdim1\n",
    "        \n",
    "        hdim2 = 128\n",
    "        in_dim3 = hdim2 + in_dim2 if skip_link else hdim2\n",
    "\n",
    "        hdim3 = 256\n",
    "\n",
    "        # EdgeConv\n",
    "        self.graphconv1 = EdgeConvBlock(input_dim, hdim1, skip_link=skip_link)\n",
    "        self.graphconv2 = EdgeConvBlock(in_dim2, hdim2, skip_link=skip_link)\n",
    "        \n",
    "        # Edge features from node embeddings for classification        \n",
    "        self.edgenetwork = nn.Sequential(\n",
    "            nn.Linear(in_dim3, hdim3),\n",
    "            nn.ReLU(),\n",
    "            nn.Dropout(dropout),\n",
    "            nn.Linear(hdim3, output_dim),\n",
    "            nn.Sigmoid()\n",
    "        )\n",
    "            \n",
    "    def forward(self, X, _=None):   \n",
    "        H = self.graphconv1(X)\n",
    "        H = self.graphconv2(H)\n",
    "        return self.edgenetwork(H).squeeze(-1)"
   ]
  },
  {
   "cell_type": "code",
   "execution_count": 42,
   "id": "1ce36485",
   "metadata": {},
   "outputs": [],
   "source": [
    "model = TracksterGraphNet(input_dim=ds.data.x.shape[1], skip_link=False)\n",
    "epochs = 201\n",
    "model_path = f\"models/TracksterGraphNet.64.128.256.ns.{epochs}e-{ds_name}.{ds.RADIUS}.{ds.SCORE_THRESHOLD}.{ds.N_FILES}f.pt\""
   ]
  },
  {
   "cell_type": "code",
   "execution_count": 43,
   "id": "2d3f1e82-74c5-4629-9b20-f05d7662aaf1",
   "metadata": {},
   "outputs": [
    {
     "name": "stderr",
     "output_type": "stream",
     "text": [
      "Epoch 0 \ttrain loss:68.326\ttrain auc: 0.602 \t test loss:2.636 \t test auc: 0.768\n",
      "Epoch 10 \ttrain loss:15.586\ttrain auc: 0.902 \t test loss:1.505 \t test auc: 0.938\n",
      "Epoch 20 \ttrain loss:12.622\ttrain auc: 0.933 \t test loss:1.200 \t test auc: 0.955\n",
      "Epoch 30 \ttrain loss:10.701\ttrain auc: 0.948 \t test loss:1.091 \t test auc: 0.960\n",
      "Epoch 40 \ttrain loss:9.749\ttrain auc: 0.955 \t test loss:1.023 \t test auc: 0.965\n",
      "Epoch 50 \ttrain loss:9.191\ttrain auc: 0.960 \t test loss:0.896 \t test auc: 0.969\n",
      "Epoch 60 \ttrain loss:8.536\ttrain auc: 0.963 \t test loss:0.872 \t test auc: 0.970\n",
      "Epoch 70 \ttrain loss:8.235\ttrain auc: 0.965 \t test loss:0.862 \t test auc: 0.972\n",
      "Epoch 80 \ttrain loss:7.896\ttrain auc: 0.968 \t test loss:0.805 \t test auc: 0.973\n",
      "Epoch 90 \ttrain loss:7.686\ttrain auc: 0.968 \t test loss:0.774 \t test auc: 0.974\n",
      "Epoch 100 \ttrain loss:7.662\ttrain auc: 0.969 \t test loss:0.773 \t test auc: 0.975\n",
      "Epoch 110 \ttrain loss:7.538\ttrain auc: 0.971 \t test loss:0.773 \t test auc: 0.973\n",
      "Epoch 120 \ttrain loss:7.305\ttrain auc: 0.971 \t test loss:0.789 \t test auc: 0.975\n",
      "Epoch 130 \ttrain loss:7.254\ttrain auc: 0.971 \t test loss:0.749 \t test auc: 0.976\n",
      "Epoch 140 \ttrain loss:7.123\ttrain auc: 0.973 \t test loss:0.741 \t test auc: 0.977\n",
      "Epoch 150 \ttrain loss:7.019\ttrain auc: 0.973 \t test loss:0.739 \t test auc: 0.977\n",
      "Epoch 160 \ttrain loss:6.963\ttrain auc: 0.974 \t test loss:0.787 \t test auc: 0.976\n",
      "Epoch 170 \ttrain loss:7.071\ttrain auc: 0.973 \t test loss:0.733 \t test auc: 0.978\n",
      "Epoch 180 \ttrain loss:6.962\ttrain auc: 0.974 \t test loss:0.727 \t test auc: 0.977\n",
      "Epoch 190 \ttrain loss:6.880\ttrain auc: 0.974 \t test loss:0.715 \t test auc: 0.978\n",
      "Epoch 200 \ttrain loss:6.811\ttrain auc: 0.975 \t test loss:0.746 \t test auc: 0.977\n"
     ]
    }
   ],
   "source": [
    "# %%script echo skipping\n",
    "\n",
    "# alpha - percentage of negative edges\n",
    "loss_func = FocalLoss(alpha=1-balance, gamma=2)\n",
    "\n",
    "model = model.to(device)\n",
    "optimizer = SGD(model.parameters(), lr=0.001, momentum=0.9, weight_decay=1e-4)\n",
    "scheduler = CosineAnnealingLR(optimizer, epochs, eta_min=1e-3)\n",
    "\n",
    "for epoch in range(epochs):\n",
    "\n",
    "    train_loss, train_true, train_pred = train_edge_pred(\n",
    "        model,\n",
    "        device,\n",
    "        optimizer,\n",
    "        loss_func,\n",
    "        train_dl\n",
    "    )\n",
    "    \n",
    "    train_auc = metrics.roc_auc_score((train_true > 0.8).astype(int), train_pred)\n",
    "    scheduler.step()\n",
    "\n",
    "    if epoch % 10 == 0:\n",
    "        test_loss, test_true, test_pred = test_edge_pred(model, device, loss_func, test_dl)\n",
    "        test_auc = metrics.roc_auc_score((test_true > 0.8).astype(int), test_pred)\n",
    "        print(\n",
    "            f\"Epoch {epoch}\",\n",
    "            f\"\\ttrain loss:{train_loss:.3f}\\ttrain auc: {train_auc:.3f}\",\n",
    "            f\"\\t test loss:{test_loss:.3f} \\t test auc: {test_auc:.3f}\",\n",
    "            file=sys.stderr\n",
    "        )\n",
    "        \n",
    "torch.save(model.state_dict(), model_path)"
   ]
  },
  {
   "cell_type": "code",
   "execution_count": 44,
   "id": "0b9cbaa6",
   "metadata": {},
   "outputs": [
    {
     "name": "stdout",
     "output_type": "stream",
     "text": [
      "skipping\n"
     ]
    }
   ],
   "source": [
    "%%script echo skipping\n",
    "model.load_state_dict(torch.load(\n",
    "    model_path,\n",
    "    map_location=device\n",
    "))\n",
    "model = model.to(device)"
   ]
  },
  {
   "cell_type": "code",
   "execution_count": 45,
   "id": "f2e14bc7-4d33-485b-9075-348fa0bd284e",
   "metadata": {},
   "outputs": [
    {
     "data": {
      "image/png": "[encoded data removed]",
      "text/plain": [
       "<Figure size 640x480 with 1 Axes>"
      ]
     },
     "metadata": {},
     "output_type": "display_data"
    },
    {
     "name": "stdout",
     "output_type": "stream",
     "text": [
      "TP: 662, TN: 16358, FP: 56, FN: 522\n",
      "TH: 0.73 precision: 0.922 recall: 0.559 fbeta: 0.816 b_acc: 0.778 acc: 0.967\n"
     ]
    }
   ],
   "source": [
    "precision_recall_curve(model, device, test_dl, focus_metric=\"fbeta\", beta=0.5, step=2)"
   ]
  },
  {
   "cell_type": "code",
   "execution_count": 48,
   "id": "c86c98db-0ac0-4a0c-84fd-4c50df507528",
   "metadata": {},
   "outputs": [
    {
     "data": {
      "text/plain": [
       "0.9771120473541045"
      ]
     },
     "execution_count": 48,
     "metadata": {},
     "output_type": "execute_result"
    }
   ],
   "source": [
    "roc_auc(model, device, test_dl)"
   ]
  },
  {
   "cell_type": "markdown",
   "id": "328866f1-c862-4dfb-a201-91d2baa53d9f",
   "metadata": {},
   "source": [
    "## Results\n",
    "- (64, 128, noskip), alpha=balance, roc_auc = 0.9733\n",
    "- (64, 128, 256fc, noskip, 200e), alpha=1-balance, roc_auc = 0.9771"
   ]
  },
  {
   "cell_type": "code",
   "execution_count": null,
   "id": "69420f64-42b0-4a8b-b4dc-d88ae1242f51",
   "metadata": {},
   "outputs": [],
   "source": []
  }
 ],
 "metadata": {
  "kernelspec": {
   "display_name": "ve",
   "language": "python",
   "name": "ve"
  },
  "language_info": {
   "codemirror_mode": {
    "name": "ipython",
    "version": 3
   },
   "file_extension": ".py",
   "mimetype": "text/x-python",
   "name": "python",
   "nbconvert_exporter": "python",
   "pygments_lexer": "ipython3",
   "version": "3.9.12"
  },
  "vscode": {
   "interpreter": {
    "hash": "75d0e37245d408f3d59eb152d126431f02f862b5012558b3df6d65a37ffc466c"
   }
  }
 },
 "nbformat": 4,
 "nbformat_minor": 5
}
